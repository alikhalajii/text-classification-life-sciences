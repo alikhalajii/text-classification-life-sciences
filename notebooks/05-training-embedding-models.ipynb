{
 "cells": [
  {
   "cell_type": "code",
   "execution_count": 1,
   "id": "a8f01c8f",
   "metadata": {},
   "outputs": [],
   "source": [
    "%matplotlib inline\n",
    "\n",
    "from pathlib import Path\n",
    "import pandas as pd\n",
    "import numpy as np\n",
    "import matplotlib.pyplot as plt\n",
    "from IPython.display import display\n",
    "import seaborn as sns\n",
    "import joblib\n",
    "\n",
    "BASE_DIR = Path.cwd().parent\n",
    "\n",
    "# Random seed for reproducibility\n",
    "SEED = 42\n",
    "np.random.seed(SEED)"
   ]
  },
  {
   "cell_type": "markdown",
   "id": "ba879184",
   "metadata": {},
   "source": [
    "# 5. Text‐Embedding–Driven Classification\n",
    "\n",
    "Welcome back. In our previous notebook, we cleaned and explored a structured dataset sourced from Hugging Face, and built a feature-rich DataFrame (`tf-idf`) tailored for traditional classification models. If you missed it, you can revisit our baseline experiments [here](https://github.com/alikhalajii/text-classification-life-sciences/blob/master/notebooks/04-traning-baseline-models.ipynb).\n",
    "\n",
    "Now, we shift gears toward embedding-powered classification, where semantic representation meets predictive modeling. This notebook introduces three embedding strategies paired with logistic regression, each offering a distinct balance of speed, expressiveness, and domain adaptability:\n",
    "\n",
    "- **Word2Vec + LR**  \n",
    "  - _Fast & Frugal_: A mean-vector approach that’s lightning-fast to train and test.  \n",
    "  - _Semantic Baseline_: Captures basic word co-occurrence patterns; ideal for testing whether distributional meaning alone adds predictive value.\n",
    "\n",
    "- **FastText + LR**  \n",
    "  - _Subword-Aware_: Handles rare terms, typos, and morphological variants via character n-grams.  \n",
    "  - _Domain Coverage_: Especially useful for Life-Science texts, where specialized jargon often escapes traditional embeddings.\n",
    "\n",
    "- **SBERT + LR**  \n",
    "  - _Context-Rich_: Uses transformer-based sentence encoders to grasp word sense, syntax, and subtle linguistic cues.  \n",
    "  - _High-Quality Embeddings_: Offers deep semantic insight, though at a higher computational cost; serves as a benchmark for simpler models.\n",
    "\n",
    "Throughout this notebook, we’ll weigh the trade-offs between computational efficiency, vocabulary coverage, and semantic depth to guide our final pipeline design.\n"
   ]
  },
  {
   "cell_type": "markdown",
   "id": "e2d6f92a",
   "metadata": {},
   "source": [
    "## 5.1 Data Preparation & Tokenisation\n",
    "\n",
    "We begin by loading the annotated dataset of 500 app descriptions, then split it into training and test sets. Each document is tokenised using Gensim's `simple_preprocess`, with standard English stop-words removed to reduce noise.\n"
   ]
  },
  {
   "cell_type": "code",
   "execution_count": 2,
   "id": "073211d1",
   "metadata": {},
   "outputs": [],
   "source": [
    "from sklearn.model_selection import train_test_split\n",
    "from gensim.utils import simple_preprocess\n",
    "from sklearn.feature_extraction.text import ENGLISH_STOP_WORDS\n",
    "\n",
    "# Load the annotated dataset \n",
    "df_annotated_full = pd.read_csv(BASE_DIR / \"data/02_df_annotated_full.csv\")\n",
    "\n",
    "# Raw texts and labels from the 500 annotated apps\n",
    "texts  = df_annotated_full[\"all_text_label\"].tolist()\n",
    "labels = df_annotated_full[\"Label\"].tolist()\n",
    "\n",
    "# Split into train/test\n",
    "X_train_txt, X_test_txt, y_train_txt, y_test_txt = train_test_split(\n",
    "    texts, labels,\n",
    "    test_size=0.2,\n",
    "    stratify=labels,\n",
    "    random_state=SEED\n",
    ")\n",
    "\n",
    "# Define stop-words and tokenise\n",
    "stop_words   = set(ENGLISH_STOP_WORDS)\n",
    "train_tokens = [\n",
    "    [t for t in simple_preprocess(doc) if t not in stop_words]\n",
    "    for doc in X_train_txt\n",
    "]\n",
    "test_tokens  = [\n",
    "    [t for t in simple_preprocess(doc) if t not in stop_words]\n",
    "    for doc in X_test_txt\n",
    "]\n"
   ]
  },
  {
   "cell_type": "markdown",
   "id": "3bc23864",
   "metadata": {},
   "source": [
    "## 5.2 Word2Vec – Train & Build Document Embeddings\n",
    "\n",
    "We train a lightweight Word2Vec model on the tokenised training corpus, then create document embeddings by averaging word vectors. This yields fast, stable baselines for downstream classification without heavy compute.\n"
   ]
  },
  {
   "cell_type": "code",
   "execution_count": 3,
   "id": "2fe1e802",
   "metadata": {},
   "outputs": [],
   "source": [
    "from gensim.models import Word2Vec\n",
    "\n",
    "# Train Word2Vec on our tokenised training data\n",
    "w2v_model = Word2Vec(\n",
    "    sentences=train_tokens,\n",
    "    vector_size=100,\n",
    "    window=5,\n",
    "    min_count=2,\n",
    "    workers=4,\n",
    "    seed=SEED\n",
    ")\n",
    "\n",
    "# Helper to average word vectors into a single doc vector\n",
    "def w2v_doc_vector(tokens):\n",
    "    vecs = [w2v_model.wv[t] for t in tokens if t in w2v_model.wv]\n",
    "    return np.mean(vecs, axis=0) if vecs else np.zeros(w2v_model.vector_size)\n",
    "\n",
    "# Create embeddings for train and test sets\n",
    "X_train_w2v = np.vstack([w2v_doc_vector(toks) for toks in train_tokens])\n",
    "X_test_w2v  = np.vstack([w2v_doc_vector(toks) for toks in test_tokens])"
   ]
  },
  {
   "cell_type": "markdown",
   "id": "87adc48b",
   "metadata": {},
   "source": [
    "## 5.3 Word2Vec – Train & Evaluate Logistic Regression\n",
    "\n",
    "Here, you're pairing your Word2Vec document embeddings with a Logistic Regression classifier for a solid baseline:\n",
    "\n",
    "**Training**\n",
    "- `LogisticRegression` is initialized with `max_iter=500` to ensure convergence.\n",
    "- Model is trained on the averaged Word2Vec vectors (`X_train_w2v`) and labels (`y_train_txt`).\n",
    "\n",
    "**Saving Components**\n",
    "- Trained Word2Vec model and classifier are saved using `.gensim` and `joblib` respectively, great for reproducibility and future inference!\n",
    "\n",
    "**Evaluation**\n",
    "- Predictions are made on the test set (`X_test_w2v`), and metrics are generated via `compute_metrics`.\n",
    "- Metrics are printed cleanly in Markdown format.\n",
    "\n",
    "**Confusion Matrix**\n",
    "- A visualization is built using `ConfusionMatrixDisplay`, clearly distinguishing \"Relevant\" vs \"Irrelevant\" classes.\n",
    "- Final plot is saved as a high-res PNG for reporting or presentation.\n"
   ]
  },
  {
   "cell_type": "code",
   "execution_count": 4,
   "id": "6237cb14",
   "metadata": {},
   "outputs": [
    {
     "name": "stdout",
     "output_type": "stream",
     "text": [
      "| Model         |   Accuracy % |   Precision % |   Recall % |   F1-score % |\n",
      "|:--------------|-------------:|--------------:|-----------:|-------------:|\n",
      "| Word2Vec + LR |           92 |         97.73 |         86 |        91.49 |\n"
     ]
    },
    {
     "data": {
      "image/png": "[encoded data removed]",
      "text/plain": [
       "<Figure size 500x400 with 2 Axes>"
      ]
     },
     "metadata": {},
     "output_type": "display_data"
    }
   ],
   "source": [
    "from sklearn.linear_model import LogisticRegression\n",
    "from sklearn.metrics import accuracy_score, precision_score, recall_score, f1_score, confusion_matrix, ConfusionMatrixDisplay\n",
    "\n",
    "\n",
    "# Train classifier\n",
    "clf_w2v = LogisticRegression(max_iter=500, random_state=SEED)\n",
    "clf_w2v.fit(X_train_w2v, y_train_txt)\n",
    "\n",
    "w2v_model.save(str(BASE_DIR / \"checkpoints/word2vec_model.gensim\"))\n",
    "joblib.dump(clf_w2v, BASE_DIR / \"checkpoints/word2vec_lr.pkl\")\n",
    "\n",
    "# Predict and report metrics\n",
    "y_pred_w2v = clf_w2v.predict(X_test_w2v)\n",
    "\n",
    "def compute_metrics(y_true, y_pred, model_name):\n",
    "    \"\"\"Compute and return evaluation metrics for a given model.\"\"\"\n",
    "    return {\n",
    "        \"Model\": model_name,\n",
    "        \"Accuracy %\": round(accuracy_score(y_true, y_pred) * 100, 2),\n",
    "        \"Precision %\": round(precision_score(y_true, y_pred) * 100, 2),\n",
    "        \"Recall %\": round(recall_score(y_true, y_pred) * 100, 2),\n",
    "        \"F1-score %\": round(f1_score(y_true, y_pred) * 100, 2),\n",
    "    }\n",
    "\n",
    "metrics_w2v = [\n",
    "    compute_metrics(y_test_txt, y_pred_w2v, \"Word2Vec + LR\")\n",
    "]\n",
    "\n",
    "print(pd.DataFrame(metrics_w2v).to_markdown(index=False))\n",
    "\n",
    "# Confusion matrix\n",
    "cm = confusion_matrix(y_test_txt, y_pred_w2v, labels=[0,1])\n",
    "disp = ConfusionMatrixDisplay(cm, display_labels=[\"Irrelevant\",\"Relevant\"])\n",
    "fig, ax = plt.subplots(figsize=(5,4))\n",
    "disp.plot(ax=ax, cmap=\"Blues\", values_format=\"d\")\n",
    "ax.set_title(\"Confusion Matrix: Word2Vec + LR\")\n",
    "plt.tight_layout()\n",
    "plt.savefig(BASE_DIR / \"plots/confusion_matrix_word2vec_lr.png\", dpi=150)\n",
    "plt.show()\n"
   ]
  },
  {
   "cell_type": "markdown",
   "id": "767fb649",
   "metadata": {},
   "source": [
    "## 5.4 FastText – Train & Build Document Embeddings\n",
    "\n",
    "Next, we train a FastText model over our tokenised corpus. FastText improves on Word2Vec by using subword information, enabling it to handle rare domain terms and unseen tokens more robustly. We then average token vectors to obtain document-level embeddings for classification.\n"
   ]
  },
  {
   "cell_type": "code",
   "execution_count": 5,
   "id": "1a395cd8",
   "metadata": {},
   "outputs": [],
   "source": [
    "from gensim.models import FastText\n",
    "\n",
    "# Helper to average FastText vectors into a document vector\n",
    "def ft_doc_vector(tokens, model, vec_size=100):\n",
    "    vecs = [model.wv[t] for t in tokens if t in model.wv]\n",
    "    return np.mean(vecs, axis=0) if vecs else np.zeros(vec_size)\n",
    "\n",
    "# Train FastText\n",
    "ft_model = FastText(\n",
    "    sentences=train_tokens,\n",
    "    vector_size=100,\n",
    "    window=5,\n",
    "    min_count=2,\n",
    "    workers=4,\n",
    "    seed=SEED,\n",
    "    epochs=10\n",
    ")\n",
    "ft_model.save(str(BASE_DIR / \"checkpoints/fasttext_model.gensim\"))\n",
    "\n",
    "# Create embeddings for train and test sets\n",
    "X_train_ft = np.vstack([ft_doc_vector(toks, ft_model, vec_size=100) for toks in train_tokens])\n",
    "X_test_ft  = np.vstack([ft_doc_vector(toks, ft_model, vec_size=100) for toks in test_tokens])\n"
   ]
  },
  {
   "cell_type": "markdown",
   "id": "52192d49",
   "metadata": {},
   "source": [
    "## 5.5 FastText – Train & Evaluate Logistic Regression\n",
    "\n",
    "We train a Logistic Regression classifier using the FastText-generated document embeddings. This approach helps evaluate how well FastText representations work for text classification.\n"
   ]
  },
  {
   "cell_type": "code",
   "execution_count": 6,
   "id": "63bccdbb",
   "metadata": {},
   "outputs": [
    {
     "name": "stdout",
     "output_type": "stream",
     "text": [
      "| Model         |   Accuracy % |   Precision % |   Recall % |   F1-score % |\n",
      "|:--------------|-------------:|--------------:|-----------:|-------------:|\n",
      "| FastText + LR |           92 |         95.65 |         88 |        91.67 |\n"
     ]
    },
    {
     "data": {
      "image/png": "[encoded data removed]",
      "text/plain": [
       "<Figure size 500x400 with 2 Axes>"
      ]
     },
     "metadata": {},
     "output_type": "display_data"
    }
   ],
   "source": [
    "# Train FastText classifier\n",
    "clf_ft = LogisticRegression(max_iter=1000, random_state=SEED)\n",
    "clf_ft.fit(X_train_ft, y_train_txt)\n",
    "\n",
    "# Save LR model\n",
    "joblib.dump(clf_ft, BASE_DIR / \"checkpoints/fasttext_lr.pkl\")\n",
    "\n",
    "# Predict and report metrics\n",
    "y_pred_ft = clf_ft.predict(X_test_ft)\n",
    "\n",
    "metrics_ft = [\n",
    "    compute_metrics(y_test_txt, y_pred_ft, \"FastText + LR\")\n",
    "]\n",
    "print(pd.DataFrame(metrics_ft).to_markdown(index=False))\n",
    "\n",
    "# Visualizing Confusion Matrix\n",
    "cm_ft = confusion_matrix(y_test_txt, y_pred_ft, labels=[0,1])\n",
    "disp_ft = ConfusionMatrixDisplay(cm_ft, display_labels=[\"Irrelevant\",\"Relevant\"])\n",
    "fig, ax = plt.subplots(figsize=(5,4))\n",
    "disp_ft.plot(ax=ax, cmap=\"Greens\", values_format=\"d\")\n",
    "ax.set_title(\"Confusion Matrix: FastText + LR\")\n",
    "plt.tight_layout()\n",
    "plt.savefig(BASE_DIR / \"plots/confusion_matrix_fasttext_lr.png\", dpi=150)\n",
    "plt.show()\n"
   ]
  },
  {
   "cell_type": "markdown",
   "id": "809a29b5",
   "metadata": {},
   "source": [
    "## 5.6 SBERT + Logistic Regression\n",
    "\n",
    "In this section, we utilize **Sentence-BERT (SBERT)** to embed text descriptions into high-dimensional vector representations. These embeddings are then used to train a **Logistic Regression** classifier for binary relevance classification.\n",
    "\n"
   ]
  },
  {
   "cell_type": "markdown",
   "id": "7934209a",
   "metadata": {},
   "source": [
    "**Embedding Text with SBERT**\n"
   ]
  },
  {
   "cell_type": "code",
   "execution_count": 7,
   "id": "1622954a",
   "metadata": {},
   "outputs": [
    {
     "data": {
      "application/vnd.jupyter.widget-view+json": {
       "model_id": "ba874ebbb22c440b8e00e1aec5db9455",
       "version_major": 2,
       "version_minor": 0
      },
      "text/plain": [
       "Batches:   0%|          | 0/8 [00:00<?, ?it/s]"
      ]
     },
     "metadata": {},
     "output_type": "display_data"
    }
   ],
   "source": [
    "from sentence_transformers import SentenceTransformer\n",
    "\n",
    "sbert = SentenceTransformer(\"all-MiniLM-L6-v2\")\n",
    "docs = df_annotated_full[\"all_text_label\"].tolist()\n",
    "\n",
    "embs = sbert.encode(\n",
    "    docs,\n",
    "    batch_size=64,\n",
    "    show_progress_bar=True,\n",
    "    convert_to_numpy=True,\n",
    ")\n",
    "\n",
    "np.save(BASE_DIR / \"checkpoints/sbert_embeddings.npy\", embs)\n"
   ]
  },
  {
   "cell_type": "markdown",
   "id": "7658ede4",
   "metadata": {},
   "source": [
    "**Train/Test Split**"
   ]
  },
  {
   "cell_type": "code",
   "execution_count": 8,
   "id": "9129abcc",
   "metadata": {},
   "outputs": [],
   "source": [
    "y = df_annotated_full[\"Label\"]\n",
    "X_train_s, X_test_s, y_train_s, y_test_s = train_test_split(\n",
    "    embs, y, stratify=y, test_size=0.2, random_state=SEED\n",
    ")\n"
   ]
  },
  {
   "cell_type": "markdown",
   "id": "13933964",
   "metadata": {},
   "source": [
    "**Train Logistic Regression Model**"
   ]
  },
  {
   "cell_type": "code",
   "execution_count": 9,
   "id": "5edb49d3",
   "metadata": {},
   "outputs": [
    {
     "data": {
      "text/plain": [
       "['/home/khalaji/Coding/text-classification-life-sciences/checkpoints/sbert_lr.pkl']"
      ]
     },
     "execution_count": 9,
     "metadata": {},
     "output_type": "execute_result"
    }
   ],
   "source": [
    "clf_s = LogisticRegression(max_iter=500, random_state=SEED)\n",
    "clf_s.fit(X_train_s, y_train_s)\n",
    "\n",
    "joblib.dump(clf_s, BASE_DIR / \"checkpoints/sbert_lr.pkl\")\n"
   ]
  },
  {
   "cell_type": "markdown",
   "id": "2421d7f7",
   "metadata": {},
   "source": [
    "**Predict & Evaluate**"
   ]
  },
  {
   "cell_type": "code",
   "execution_count": 10,
   "id": "73eeabbf",
   "metadata": {},
   "outputs": [
    {
     "name": "stdout",
     "output_type": "stream",
     "text": [
      "| Model      |   Accuracy % |   Precision % |   Recall % |   F1-score % |\n",
      "|:-----------|-------------:|--------------:|-----------:|-------------:|\n",
      "| SBERT + LR |           90 |         91.67 |         88 |         89.8 |\n"
     ]
    }
   ],
   "source": [
    "y_pred_s = clf_s.predict(X_test_s)\n",
    "\n",
    "mettrics_sbert = [\n",
    "    compute_metrics(y_test_s, y_pred_s, \"SBERT + LR\")\n",
    "]\n",
    "\n",
    "print(pd.DataFrame(mettrics_sbert).to_markdown(index=False))\n"
   ]
  },
  {
   "cell_type": "markdown",
   "id": "d7c05ba6",
   "metadata": {},
   "source": [
    "**Confusion Matrix Visualization**"
   ]
  },
  {
   "cell_type": "code",
   "execution_count": 11,
   "id": "b677dfaf",
   "metadata": {},
   "outputs": [
    {
     "data": {
      "image/png": "[encoded data removed]",
      "text/plain": [
       "<Figure size 640x480 with 2 Axes>"
      ]
     },
     "metadata": {},
     "output_type": "display_data"
    }
   ],
   "source": [
    "cm = confusion_matrix(y_test_s, y_pred_s)\n",
    "sns.heatmap(cm, annot=True, fmt=\"d\", cmap=\"Blues\",\n",
    "            xticklabels=[\"Irrelevant\", \"Relevant\"],\n",
    "            yticklabels=[\"Irrelevant\", \"Relevant\"])\n",
    "plt.xlabel(\"Predicted label\")\n",
    "plt.ylabel(\"True label\")\n",
    "plt.title(\"Confusion Matrix — SBERT + LR\")\n",
    "plt.savefig(BASE_DIR / \"plots/confusion_matrix_sbert_lr.png\", dpi=150)\n",
    "plt.show()\n"
   ]
  },
  {
   "cell_type": "markdown",
   "id": "c62b1d4f",
   "metadata": {},
   "source": [
    "## 5.7 Visualizing Document Embeddings (PCA)\n",
    "\n",
    "This section illustrates how document embeddings generated by **Word2Vec** and **FastText** behave in a reduced 2D space using **Principal Component Analysis (PCA)**. Each document is plotted as a point, color-coded by its ground-truth label (Relevant or Irrelevant), providing insight into how well each model separates semantic classes.\n"
   ]
  },
  {
   "cell_type": "markdown",
   "id": "51ca30af",
   "metadata": {},
   "source": [
    "**Data Preparation & PCA Transformation**"
   ]
  },
  {
   "cell_type": "code",
   "execution_count": 12,
   "id": "15f7e3e9",
   "metadata": {},
   "outputs": [],
   "source": [
    "from sklearn.decomposition import PCA\n",
    "import plotly.express as px\n",
    "\n",
    "def make_df(embeddings, labels, model_name):\n",
    "    df = pd.DataFrame(embeddings, columns=[\"d1\",\"d2\"])\n",
    "    df[\"label\"] = np.where(labels==1, \"Relevant\", \"Irrelevant\")\n",
    "    df[\"model\"] = model_name\n",
    "    return df\n",
    "\n",
    "# Fit PCA on all embeddings\n",
    "pca = PCA(n_components=2, random_state=SEED)\n",
    "all_embs = np.vstack([X_train_w2v, X_test_w2v, X_train_ft, X_test_ft])\n",
    "pca.fit(all_embs)\n",
    "\n",
    "# Apply PCA transformation\n",
    "w2v_2d_train = pca.transform(X_train_w2v)\n",
    "w2v_2d_test  = pca.transform(X_test_w2v)\n",
    "ft_2d_train  = pca.transform(X_train_ft)\n",
    "ft_2d_test   = pca.transform(X_test_ft)"
   ]
  },
  {
   "cell_type": "markdown",
   "id": "34a355d7",
   "metadata": {},
   "source": [
    "**Build DataFrames for Plotting**"
   ]
  },
  {
   "cell_type": "code",
   "execution_count": 13,
   "id": "696b4183",
   "metadata": {},
   "outputs": [],
   "source": [
    "df_w2v = make_df(np.vstack([w2v_2d_train, w2v_2d_test]), np.hstack([y_train_txt, y_test_txt]), \"Word2Vec\")\n",
    "df_ft  = make_df(np.vstack([ft_2d_train,  ft_2d_test ]), np.hstack([y_train_txt, y_test_txt]), \"FastText\")\n",
    "df_plot = pd.concat([df_w2v, df_ft], ignore_index=True)"
   ]
  },
  {
   "cell_type": "markdown",
   "id": "32aebc84",
   "metadata": {},
   "source": [
    "**Interactive Embedding Visualization**"
   ]
  },
  {
   "cell_type": "code",
   "execution_count": 14,
   "id": "705e8111",
   "metadata": {},
   "outputs": [
    {
     "data": {
      "application/vnd.plotly.v1+json": {
       "config": {
        "plotlyServerURL": "https://plot.ly"
       },
       "data": [
        {
         "hovertemplate": "label=Relevant<br>model=Word2Vec<br>PC-1=%{x}<br>PC-2=%{y}<extra></extra>",
         "legendgroup": "Relevant",
         "marker": {
          "color": "#636efa",
          "opacity": 0.7,
          "symbol": "circle"
         },
         "mode": "markers",
         "name": "Relevant",
         "orientation": "v",
         "showlegend": true,
         "type": "scatter",
         "x": {
          "bdata": "DHI9wEZJV8CynUTAuspNwNibYMAIZjvAV3UIwH7NcMAK3jfA0GWBwP5LOsB6IjLAEZb4v/A2X8Dur0bAurBowBba978qWljAJKI3wAbMacBCx3DApNU7wLbECsAIUWjACkBCwAzJQ8CepELAIb8SwHTjUcBCw1/AGEY4wMR9bcC0A1bAqiVJwKDpS8DeDlXA3hJAwBj8CMCSvyDAJI9HwKafIsBE6UDAnlhkwOJ/TcBkbE3AdM1BwHLxUcCScEHA/Zjzv9ZOY8CSnVXA+ohJwNhJQ8DwWxDAIEdwwB68bcAWg2bAanNKwLR1RMDK0j3A/Ac0wJ6B57+oZEbAWg5AwEgDRsAYCWrAk6X1v2zWX8CYs1TA1AFJwNawZMDSh3LATJRKwJAFc8Bg00rAfjwDwGgVQsDa6kXA5Eo/wDAAZsCGKmrA3oxswDKFa8Bdrfq/LL9DwADDYMCbMwLAON1owGJ5BcBednPAtOc5wF/OC8CCDmnAVBNRwDT3YMB0CVvAAGduwKahN8A2BxrADnxOwLZobcAGZCTA2mRvwIjQZ8CkFAHA9NYywH6BN8A2eSvALqpKwHGv7L+OMGTAXGs6wLhYS8Arq/S/9E1kwGpyZcDipwbAsrEIwNo0QsAoJQLAej46wGz3L8D4QAXAMmY1wAwNUcD6RmXA3hRawOb9TMBSSGbAJGlDwAIlYMAAMT/A4iNrwDIEMcAElmTAWCZNwJ5VZ8AIRADAWllIwOasUsDaM1TAcibjv15uQsDrnfy/0l5VwMw9aMDWpzPA4nFMwCSPRsAkEwDA2GhkwHBDWsCiCTPAmElPwNIWS8D46EzAcnk3wORKa8AKzTLAwPlDwKBcRsDolXPAaPsCwMq6QsAspmzAnqxgwMhl4L85e++/GH5iwMSDAsB+UEDAaOhiwDJBS8BitjvAQMJqwGztZMCmzWbAprRVwDIZMcDEC3HAIGlCwNKWP8AoCgTAbJ9BwMjjZMAUqm7ABAt0wJAsYMBsnGHAJF5iwIxlT8BIgTfAtSYNwDria8DI7WjAfjspwNKAZcCwiErAmA5GwHZIc8Ckn1XAtuz8vxZ6FcA8WErAxn9PwBb5dcA8tHXAr3PrvyBPScDiF0TA9JNWwH4tUMAoW2jA3HlJwFJla8AqpVbAggd/wHZzasDgoTzA4JlvwF7vMsCe1WzAuJVTwIzJd8CS02HAOllEwObua8AcmUTALB1BwDqMKcCzi++/fnpNwAUV/79V7Ou//lw3wNzuTMDAF2/A4DI0wIzBScCCB3/AknddwPQ4RsCAtWjA8qpMwJhxdcDi11rA0MJIwI1mCMAGfmvAFl0LwA==",
          "dtype": "f4"
         },
         "xaxis": "x",
         "y": {
          "bdata": "wqujP0aZGkBIFtA/7PUHQLitJ0Ckj7A/xdhMv4ZOPECgJm8/eBZsQGjPez94v3o/GIk9v/rYIkDYPbY/HpUyQNCZmr+mFRZA+NB6P0gcPkDOnT9APHaPP+11Wb8iqzJAqL2hP5KRvT/e+tk/LxVnv3oIGUATpRxACE4IP4j8MUBiFeY/5AyuP7i18T8cgxdAfivAPxoPWb+gdDu+0NL0P1DpSj8GR6w/ZvAkQJy66j849ghABsysP0ik+j+QQrE/WnFKv/KWM0AQRwxABOi+Px6snz/UIje/8sFDQD7AN0ByWzxArOPbPwruzT8IqJI/WKhkP6X9WL9kdaw/vLpxPxjLpz/W0UBAQ7V4v8r0JECHlQpASsPrP3KaLkBCLTdAYtT3P1JxSECaP80/9hpYv05ixT9wErg/Yt6pP2qHK0Bu4TBAiE07QFqdNkADPVq/++YEQJSFJUDgcEy/jvAxQBiYNb+QDU5A0oOeP6zaib9uATFAGPD+Pw7wKEBiiiJAHqNDQFBCgj/ABXE+/ADpP8pKO0B4NTY/rCU/QJ5EQEB0D0G/hL2lP/R/tT9QgYk+Qm3hP/rnW79o5yZAsA+bPzzqyD8yHmi/LrcpQBJ9IEBvnVG/BuluvzR2kD8G/Fy/yESQP8zYAD8sEVO/BB+bP1If/z+QESlAbN0WQJR1zj8ioSpABAvWP240KEAA/cE/0hM1QCbBhj/WlTBAvKr6PwJYMUBCIXi/NGStP/S89D8MGBhAewNUv8ASqT97f1K/IlMjQKbPNkCcpo8/ch73P9wO4j8FaEa/CoMzQJrxIkCAPYs/cCAJQBqW8z94A/U/QNQpP7SrK0C8Xmo/jO6/P5jipz9SeD5AcbI4vxAmyj/UiDhAQi4rQAribb9+rlG/blYyQCgxZb8qA6U/rgE3QIZu8j80Jbw/7LU9QPAuLkBy2i9Af5IaQJDJgj+Uq0FAjOisP2RUpj8DcCG/OKLDP/b4KUDKeD9ATihEQLRsJ0B+/yBA5JYnQBSwBEAqQIw/he9WvwYxP0BehThAXLlMP8T3M0AQp/c/mGSPP/r3QEAkRwJA6h5iv4C+ALzEyrk/pHr9PzA0U0CuFlBAaulHv1pT9j98huc/vU4TQHpH9z+SOj1AjBvIP8acOkArUghAnu9YQKxAM0AIE7Q/MP1EQOJEgz/q1ztAQpsEQE4AUUBuJytAjjm5P0L2K0BgzLY/apCoP8jDaT5+xUy/Run5PwagY7/cZUK/OC1yP6C38z8ua0BA0HZtP7Rv6z+e71hAStwbQF7hvD+wOzVABqbtP5KeNUBaKghAJIy6Px4qXb96VEBAyI6Kvg==",
          "dtype": "f4"
         },
         "yaxis": "y"
        },
        {
         "hovertemplate": "label=Relevant<br>model=FastText<br>PC-1=%{x}<br>PC-2=%{y}<extra></extra>",
         "legendgroup": "Relevant",
         "marker": {
          "color": "#636efa",
          "opacity": 0.7,
          "symbol": "circle"
         },
         "mode": "markers",
         "name": "Relevant",
         "orientation": "v",
         "showlegend": false,
         "type": "scatter",
         "x": {
          "bdata": "9uhcQIR/nEBwEXtAjCGTQLKvokDuTGpA/KB5PxY6rkD0XkRAu3O9QKokSkDALk1AfKS0PzNEoUBYimtAC1uqQMy8rT+QyZdAYDtJQBFlsEAZuq9Agt1hQI1whD/gaqhAFNFbQBz2c0DGuoBA67WfPy6YnEAdK5xAiipnQO5opECCOpVAhpVrQHgoh0Da6ppA7nF6QPVulD8cmhhA0UuJQN7PQ0DWlGdATsyfQGjZg0AgXpRA0J5kQGiahkBkLG9AfXWQP+7Sq0BlepRAOoaMQKBneECtvIE/tAeyQOjZqECvaK9Ax5CBQBjGekCEQm9AdP1PQAmBnz9ACW5AJC9RQK6QhEA+GLNAH4iFP0DKn0BkU5NAdAGMQN7FpkCGhK9AWziJQNp/tUDwBnlAxux8Pwi4dkCYoWpAKPdkQO6wokAOSqdA0lGrQPM7qkA7E5I/ErWPQG6uo0D2YT8/EEeuQHFupj8KLLpAIK5aQDWr/j/kiadAQRWHQNbxokCqW55AiIO1QM5eTEASJxtA4OOCQPoYtUDwpj5Ai8iwQOARs0DUQa8/9MRoQHzJcUBM1UVAWJeJQC/yjD8W9qJAqvpjQHTXfkAK3ow/7LSlQBgunUATZYw/xq5jP95zb0B2PIk/DHtaQGzKJUDwsX4/ZN9hQGQZi0At/6JA6iiYQFKBeUDcP6RApJx+QD6co0BwWnlAK1yqQNSfUkD6RKpA3YiKQDSspkCZGuE/lH9sQBCahUDEV51AmWuDP6jBZkDolY8/VGGkQPwLrEDwAF1AlLCDQESth0B7SaE/PEarQLiMn0CItlRAsGSTQPjJh0AztYhAaAhlQHnCqUCWAE9A1JV3QPJdb0BO0rRAD4CeP4RtdUAi/6hAzh6oQB7Cdz8NjJc/d7umQH3usj9ySGFAld+sQN3Gg0BACXhA1k2wQILWpkDQ6aVA6hKdQEQcQEDqIrFA9MVnQOTMZEAxA8E/1pN0QJ5JpUBCLq9AYo2yQDrnqUDVo6BAtF+jQDTOjUAwEFVAJqaFPw75r0B2s6pA7rI+QFTlq0CnwIlAJLKDQAror0CMv4tA6oF2P/lE9j8c7G5ATOhxQNYVtECgVLNAVWGPPwkXiUCcpYRAln2YQI0uhECac6tA5gVvQI83pkB29IZAsPuwQEJEqEDiU25ADRqxQAZkTUCuiK9AmPCJQBw5u0BQoaFAIt9fQL5gnkC4eG5APAlnQFoAR0AzuaQ/SoOKQA1/oz/BU5c/2I9DQBJIhEAwMLFA1mxGQP5OhkDuiLBAPDGcQAA4bkBEY6hASw+GQJ7qoEBmN4xAgOSHQEcKjT9UuqhAg1jcPw==",
          "dtype": "f4"
         },
         "xaxis": "x2",
         "y": {
          "bdata": "tCQOPyZAAkDcbIo/rDnlP3muEUAcw0g/VNAHwGYfHEBgXmk90I5GQCAD7T1YG/I+8rakv86hCECwgjw/RsMbQKGe578c7fE/YKU+Ply/KUDopSJAgM25PoxpBsCSBBxAONQEP4AIZj9ICKI/hrwQwIubA0B83PQ/wJl6Pi2PDkBUb8A/OME3P0wtrz/4hP8/jHGaP66W/b8kmm6/4nK3P+TCsj5gIC4/OmEAQHSdnj9ay+o/iIM9P1oxhj8wol4/rM7Sv54kI0CqTdA/gLGhP6C/WD+cWhjAOjgrQJ6kEUCqyihACICUP0Z2lz+wBS8/nBzBPtOdwr/oxEQ/ALsUPggSfD/uTydAPoUJwGZ0BUBSSeI/rCrBPynWEEDWLiRA0ti7P6S9K0DorE0/qmgHwHBjWD+Y+jg/MLc9P84BDkA1zBVAlgAhQCHXFUBhyd6/cHTxP3LPD0BALCfAzuUgQAgZ1L98Rj1AgNT5PoKonb8R7hdAllmqP4aXEkCyjgtAagA2QDCyAj7YOMa+6F2KPxJBLEBQ2vo9/vEmQD7jLECsW82/OAtNP/CVbT8oxkO++hSiP1ud6L/rPhFA+H0pP/w5WD9U3PW/DosVQABdA0CCQwnAD+scwMAvMT+PDAPAHAESP/gdBb+0HwTAkPlMPyLnwD9jHQxAHB33P1j/ez9jihFAjNeNP61RFUB4snY/GG4WQMyfxD4qGyJAfB61PwwcFkCLJqa/iAo+P6Twgj+jeAhAGLXbv1jFLT8miui/1B4ZQEbIHkD0gDs/0FOXP6rosT/GuMe/UlUeQKN+BUDYP9E+1HDpPyQOxj80F68/kK+rPglXEEA8EJI+CH5YP8A3Sj9AUitA3uvUv3CFaz/nChVASsgWQNSu87/WzdG/djccQHq/7r/AiiE/poAlQPxWoz9sRI8/FrAmQMQAFUAmzhRAtJsEQPhkkT7grilAYMwsP/iHHj/75ba/IIZVPxxdEkCqCiJAiK0xQFclGkD0HgdAZhEPQMTrxz+4ZAY/mPMNwF5EKUBOOxpAqIsLPkIzH0Dcnbs/QL9gPwxwJEDSR7s/2p0CwELWgL/oK00/+BiDPyxnMkDEWzRA2CHMv9hcuz8mZKo/1Ff2P+SEqz90pB1AqCtQPzqJE0DeG6g/8ggtQMoIF0CUVVY/6rMtQMwprT72dSJA5PqxP3axPUAo9ApASMMyP1Ld/z9QNS4/kJcvP1D6J74vOLu/BOS0PySN37+Qcqu/AM+3vSqAmD/4eypAYFxAPZSPqz9sfC5AjBb7P3DNOT++wxNAyEGpP8iYDEBkVrQ/nqOTP0KiAcCw7BpAHmicvw==",
          "dtype": "f4"
         },
         "yaxis": "y2"
        },
        {
         "hovertemplate": "label=Irrelevant<br>model=Word2Vec<br>PC-1=%{x}<br>PC-2=%{y}<extra></extra>",
         "legendgroup": "Irrelevant",
         "marker": {
          "color": "#EF553B",
          "opacity": 0.7,
          "symbol": "circle"
         },
         "mode": "markers",
         "name": "Irrelevant",
         "orientation": "v",
         "showlegend": true,
         "type": "scatter",
         "x": {
          "bdata": "99oLwDNqAcAhb+S/PtYEwDzcBMAAMgXAN1X+v8DEC8BXJAfA+nEBwFuvAMAXC/G/kb3zv/r/A8D0owLAwgz2v6Wz5r88yxHAsSn4v4Z8BMBTWQPAI0QDwAEl9r99ZADADmcRwPwRAsB1LfS/jpr8vzjP8L/CfQjAGFv5v68S7b/z2eq/tEINwIHfBMAu4gfAyhkrwEiMBsDXYdS/qmv1v6DeCMArmwfACZYHwFWB9r/ERQPAmOPgv1OJ+L9+mA7AVnEGwLzs/b+jwfK/zVTtv+TrCsBBl++/N8Kov/wh7b+j4Pe/RFYFwH/WAsDSdgTAK6/5vxAaAMA7HLS/BH0AwOcOBcAZQ/a/bqsGwDpe+r8dRtu/zPEFwFVt4b9i9APADAbzv1K2578twu+/QIEKwO7u8b/mDeu/XVELwGx1BcDoWg3A3I3/v3Q4EcA7cte/caL3vx0o3r9OYAXAS9X9v1jiAcBK+v6/s8f4v8nb9b8O+AfAle4GwKsY9L8vDei/SJz+v1y0BcBwY9a/F3gLwPDK/L/gYgTAzBT+vwS1/b/KIOK/sT7nv0HhEMBAVRHA6hD+v3+K+b9vNOu/B9bxvzu587+HdeO/tSj6v06fC8CixQfAWHcWwHCSCsBI8A7AwOwHwK5uDsCkFQfAvfTavxkg+L8iHvO/Zw/+vw57CMAIZQbAI5rfv0dS8L8hRvq/ZtgRwF4yCcBgAN2/FrEQwEGd/b/5Hu2/ZN4FwI/W079Tg+u/B8f/v1mx5b93Cs6/GIMWwPuc4r9UVwPAEcrsvxQtAsAsfxPA9x8FwAIcEcB7zA3AjJsLwNYFBMDUsgLAI0ELwLF/DcCZZ+y/Xyzxv9L/7L+NMgnAjp0DwHlg9r/oNgzAV5DQvynv/79sSAXA40z9v8aVDMDJ+vm/VYrjv46JBsCSLgnAlnAHwITEBsC+OA3An2Dvv8iL3r9JNve/11bov5Ma9L/s3QHA0l8JwOE767/XNdq/aPoDwBnz8L+hou2/hrLlv47u9b+tLQbADo8CwIQFB8CetwDAyK/2vy8i3r/U3RfAp0T4v1LXD8Adn/6/BrIAwMLmBMDZnfG/8Lfgv8RVAsBSFArAmlUJwHqS+78MLAnA4lUGwPcmAMDBMvu/stkIwN1bAcBgJgjA3J0CwEIw+L+g0/S/hfLZv+fY/L9avQTAFisDwLKcAcBVMNu/QooCwP9N4L9/L+O/I8sHwCg3B8BqUQTAkt8LwF5qBcCVKP+/2Vv3v8R+C8B01QzAscsXwFdi6L9eqQDA5rkHwGSdAMCPUfC/bBDdv4dj+795jfa/vBUHwDagJMAQSQbADuIHwA==",
          "dtype": "f4"
         },
         "xaxis": "x",
         "y": {
          "bdata": "iKxfv5smWr+AHHm/NK7Gvojsor++Vla/q8gsvxighr+KDGC/hoJLv3sPXb+mTE+/jMdHvwW3Zr/EEUy/2Mhqv4SlYb/GToG/pMlbv4ynN79UNOC+lJNWv5kIb7+XU1y/mfonvxYoWr/1aUG/g+WFv9oKXb+APb2+UPFav7JDRb8YvVO/HPhAv+6LSL/aNwy/yGjbvqHJPb9LqGa/wWZUvyZOe78O+1i/Dkdgv2pkU7/iCEy/4k1XvyYUYr9ivhK/NvY/vyrbNb+UbU+/TPxOv3yQUb8pOVq/tVJTv0HUXr9dCm2/TeVNv5xCgr/QgV2/xwtLvyerV79Jr2e/ZThVv4Dt976Nu0+/AHtOv9MFjb+Mil6/jPJXv76jar+wXDO/baBov81zZr+dK1e/ySJMv1rllL9OqHK/HI2Vv4YjSr8IYEi/u3OEv3LzOr++0CC/aiOHvzJQa7+nU0C/D2Jav9ynQ7/ETo+/zwQ+v2CyYr/45VK/6JEQv73ySr8FFCK/mjaEv+Cz1r55LVK//+URvxbRb792nFK/VKREv1Eucr++nEy/jAdbv9WhO7/Kx0+/tJFMv3N0S78GQUi/Ya5Zv1RuYr+LjFG/xH1nv7dYSr/OPRC/WAYqv3CdT7/8Cz2/jsM+v8HfPL8imzW/4khov/SfX7+GQCq/GwtBvwQCgr96yDa/KRiEv3AHcL9EySK/boZzv8ZsUb84EU2/sHv3vlCDX793uV2/um08v1H+e7/2E1O/7nk7v12cXL+S9nW/6iAcvznZaL9UCZC/pHdUv0IASr/UGDW/lHI6v2Br5b5IN36+nBZav36GWb/pLyS/Bxswv0YfRb/0hWK/nAdZv12XUb94OVy/9Vsuv/W0W7/wKIK/vPlzv7aLKr+kHz+/AoVcvxg3hL8B21q/LlBZv6h1YL+Yk2G/D8Mgv6inU79ecVC/cL1Fv+vMOr/ygIG/Pj1tv7RrX7/Q/Zy/eBNQv5bRZb8V6XG/f9VQv9BPT7/aZH2/3thtv06mYb/0bFa/8hVqv4ZuI78oI6W+9rNVv3/hR78utyG/8Hd6v6BDoj3n11+/RO5Jv2wJR7/Ki1u/wYBkv2yuZr9H1Ue/1BRVv2oefr9SbnW/0n80vxu4Z7/u51a/fYVbv9ivRr+bwEG/0Wtpvz7th7+Q8We/j/FMv3BwX788udy+eIJkv6aCCL/4H2m/r5ZVv6JacL/Uv3S/NWJTvzCqPb+i3Di/CJ9Iv14lYL9ey0G/sLtovwXiNr+R9D2/IPFDP9OtXL985lq/4kdPvy3cXr9MiyO/tEtlv/soVb8gZ1y/5ptQvzxO5r7xjoC/Njwcvw==",
          "dtype": "f4"
         },
         "yaxis": "y"
        },
        {
         "hovertemplate": "label=Irrelevant<br>model=FastText<br>PC-1=%{x}<br>PC-2=%{y}<extra></extra>",
         "legendgroup": "Irrelevant",
         "marker": {
          "color": "#EF553B",
          "opacity": 0.7,
          "symbol": "circle"
         },
         "mode": "markers",
         "name": "Irrelevant",
         "orientation": "v",
         "showlegend": false,
         "type": "scatter",
         "x": {
          "bdata": "4jN4P/LSiT+OUWU/0w3YP3Us3j+Nm4o/8BukP3sbhz+FfMc/Qp6RP/SRPT91gI4/67ycPwehlT/V5os/9iNrP61EjT+Onow/Kd2EP5lmsj+7iZU/KLeFP7hooz8e4ns/u72OP8qVej/UmaQ/jFaSPyaXWT/1BeA/T7yLP5xalj8Oy3s/FkB6PzszgT8dU7A/vR6uP7nwmD8ACmk/on1xPy/Ltj8SPxg/AzykP3s+mT9hkIk/A8SmP+pDcj+hEZ8/TlJsPyE9mT9r/aU/Z6KVPzjNhT997Y0/8/yoP98RkD8WIkA/AVuSP4fDkj9mg1w/ceuCP/Igfz8nBYQ/dW6SP1kmvD8xCpo/lNh9P0ORuz8sLrc/NgBqP3LAcj9DcqI/TP1bPwz+cT/UP58/sq1JPxYObD/IEn8/xWv4P366cT8R4IQ/Bi1MP53wlD+K95c/ny6lPwZ6az9tl4g/c1+KP39FnT81Opg/iM2PPzturz/3jJY/LkydP4Hxkj87vcc/xipOPxEpkj9o8aU/5VebPy7Tgz/xy4s/c/OFP67hej9a65c/ECa2P1qdfD9vOpQ/i8eJP1C8jz83xKI/QQmGP1Izcz++hV8/r3SLP63Zjz//LKk/oeWPP0Y3aj95iYo/78+gPxWUhj/F6Jk/wXWQPwVnmz99Mq4/zDObP0+Ugz/OsI4/blqQPybpcj+HJLM/q5DSP8+ykD+gCDc/mX/YPwoKXD8eS54/NH+uP51sjj9CWJw/P12fPwDKkD9xv5Y/Hdu4PzRkhz/txsY/nkCSP1aWmT/pBb0/yeqLP2Wjqj8pOPc/QSukP0KwqT+jsKM/lEWiP7fmnz+tsow/rUSDP+BSfz8KXGM/jqycPwSDmT/FUYE/jSyMP0PvlT+5o5M/0f+RPxaoXj+JzIk/4imbPwJ+gj9J4pA/9XKeP19Njj9vrOY/k1SgP97ZuD8tT80/L86OP+d/hz9KZIc/soM8P0HcgD8dR4Y/PWSaPz12hj9NXZs/fiFtP9F1gT/gh5Q/cmJ0P2FBoz9HQNU/Ea2LPymnpT9n468/JJp0P+DkDUDQFWI/GLaOPzcBnj8lWI0/YxicP69QqT89e50/fq9NP720kz+dDIA/qSycP3GDlj92q5w/Nj5bP/O9ij9r5Iw/NkF0P4MMsT/qI3w/AcOsP9Rvpz9EXZg/M/KJP09+pz9is2g/vympP1Y/bT+Z+84/xrV+P3wXbj9BWa4/u8ScP5CNcD+jGYc/xnhpP7X1jj8xYcU/2MQbQAlbuD8515I/D7eGP3dyiT/rUeM/7CliPx56qj/RGYE/vzeAP5Ylpz/uz7w/aq2lPw==",
          "dtype": "f4"
         },
         "xaxis": "x2",
         "y": {
          "bdata": "qcwGwLQk8r8W1+O/6kOUvz9Dyr+D1O+/fI23v+evD8CePse/Y0XsvwLKJMAhdMi/K+3Fv0JBBsBh++m/boYEwCqP579QPg3AsJDmv6jlwr9Rmvy/bgX2v+8Kx79P8w7AKOnpv3XjD8Akt7S/TNcDwOg2FcCqN2G/mtPyvzZMvr/yifS/ND4HwJ2OBcDxk6S/d+7av0KA8795/u+/JP3/v+Ze6L+duELALXbiv3gfvr+HyADAFQyav+eN8r8CwfS/wAMAwNDUyr9Rl7i/kVLev3E3/L9nC9y/TlSev/GE5L/gRwnAHmv4v+4nCsAyPgvAOnvuvyO5DMAcUsS/4S7iv4SAmb8b1tq/JsIDwP4k2r/co5i/wA8VwNrH/79zZcK/JnUFwAkp5r8EpKy/WCsdwFNaD8Ajp/2/517Qv//7CMA4K/6/PAcYwA6K1b9/RKS/avsFwOoD8r8cq/u/fAzpv+i70L/bzwDApa7Rv6ecwr/vFv2/kGngv34mzL+iYYC/CIAWwKQ4BsAL9rG/e/gCwAee/L+a6eO/SL4AwCIWA8Cm7L2/xHi2v1xnC8AJSQ3A4Jfzvx4M5r+a88O/j5DlvzAO+b/Pr9+/TcfpvzAs7b81+66/uCELwFsPDMComADA8DjkvyJsCMCt99a/cTvCv3cp0L8nkqW/2VrPv81uGsBGYeC/ONTIv4aJB8C9Prq/z4/pvyaQ8b+6Xdq/mdeBv8yrB8AafNW/6uG5v61Z2L9qase/CQi8v4Dewb93ir+/Mq3hvy5c6r9oF9y/mpfJv+7Q0r9gd9y/gzfuv2eSsb92a1e/bvDtvyCEyb/aJLm/NxHYv8ZE0r8mUui/6wLxv+BO9r9LZxXA/HrAv+VFy7+0KQjA0+3hv1xR77+0hdi/tLbpvwKdIMBtRgLAltHQv3xc9L+6nem/uTTVv+Ps9r/jtLO/+8eMvyaio7/YhKu/fZ3jv7mk6L9e5xzAlaQewC4F7r9qxNy/DNTZvzOZ7L9FOs2/5qDSv1QwAcAiWOu/8HEXwLoZ0b9HEVC/jIfuv6dlmb8DnNG/Gm4GwJy30L7XKQnALIe0vz6O678og9O/WMfAv0xo2L+Im9W/j94IwFjh9L/unAvABm6rvyec578N4tq/XxgUwDm83b/HTvq/+TsXwFYR378p0vq/1eicv7AP2L+cSvu/6nH3v5gIqL9IT/G/qwnGv0tu8L8KtK+/M7EBwNAzAMD2XrW/0pMAwHa2CMCKM/+/WNz+v39y6r/5FMy/yNsSPqgVr79SztG/fIT7v9rRBsAc7JK/6u7Wv/d8wL9yw+2/SGgBwCkEwr8gNee/WHPdvw==",
          "dtype": "f4"
         },
         "yaxis": "y2"
        }
       ],
       "layout": {
        "annotations": [
         {
          "font": {},
          "showarrow": false,
          "text": "Word2Vec",
          "x": 0.245,
          "xanchor": "center",
          "xref": "paper",
          "y": 1,
          "yanchor": "bottom",
          "yref": "paper"
         },
         {
          "font": {},
          "showarrow": false,
          "text": "FastText",
          "x": 0.755,
          "xanchor": "center",
          "xref": "paper",
          "y": 1,
          "yanchor": "bottom",
          "yref": "paper"
         }
        ],
        "legend": {
         "title": {
          "text": "Label"
         },
         "tracegroupgap": 0
        },
        "margin": {
         "b": 20,
         "l": 20,
         "r": 20,
         "t": 60
        },
        "template": {
         "data": {
          "bar": [
           {
            "error_x": {
             "color": "#2a3f5f"
            },
            "error_y": {
             "color": "#2a3f5f"
            },
            "marker": {
             "line": {
              "color": "#E5ECF6",
              "width": 0.5
             },
             "pattern": {
              "fillmode": "overlay",
              "size": 10,
              "solidity": 0.2
             }
            },
            "type": "bar"
           }
          ],
          "barpolar": [
           {
            "marker": {
             "line": {
              "color": "#E5ECF6",
              "width": 0.5
             },
             "pattern": {
              "fillmode": "overlay",
              "size": 10,
              "solidity": 0.2
             }
            },
            "type": "barpolar"
           }
          ],
          "carpet": [
           {
            "aaxis": {
             "endlinecolor": "#2a3f5f",
             "gridcolor": "white",
             "linecolor": "white",
             "minorgridcolor": "white",
             "startlinecolor": "#2a3f5f"
            },
            "baxis": {
             "endlinecolor": "#2a3f5f",
             "gridcolor": "white",
             "linecolor": "white",
             "minorgridcolor": "white",
             "startlinecolor": "#2a3f5f"
            },
            "type": "carpet"
           }
          ],
          "choropleth": [
           {
            "colorbar": {
             "outlinewidth": 0,
             "ticks": ""
            },
            "type": "choropleth"
           }
          ],
          "contour": [
           {
            "colorbar": {
             "outlinewidth": 0,
             "ticks": ""
            },
            "colorscale": [
             [
              0,
              "#0d0887"
             ],
             [
              0.1111111111111111,
              "#46039f"
             ],
             [
              0.2222222222222222,
              "#7201a8"
             ],
             [
              0.3333333333333333,
              "#9c179e"
             ],
             [
              0.4444444444444444,
              "#bd3786"
             ],
             [
              0.5555555555555556,
              "#d8576b"
             ],
             [
              0.6666666666666666,
              "#ed7953"
             ],
             [
              0.7777777777777778,
              "#fb9f3a"
             ],
             [
              0.8888888888888888,
              "#fdca26"
             ],
             [
              1,
              "#f0f921"
             ]
            ],
            "type": "contour"
           }
          ],
          "contourcarpet": [
           {
            "colorbar": {
             "outlinewidth": 0,
             "ticks": ""
            },
            "type": "contourcarpet"
           }
          ],
          "heatmap": [
           {
            "colorbar": {
             "outlinewidth": 0,
             "ticks": ""
            },
            "colorscale": [
             [
              0,
              "#0d0887"
             ],
             [
              0.1111111111111111,
              "#46039f"
             ],
             [
              0.2222222222222222,
              "#7201a8"
             ],
             [
              0.3333333333333333,
              "#9c179e"
             ],
             [
              0.4444444444444444,
              "#bd3786"
             ],
             [
              0.5555555555555556,
              "#d8576b"
             ],
             [
              0.6666666666666666,
              "#ed7953"
             ],
             [
              0.7777777777777778,
              "#fb9f3a"
             ],
             [
              0.8888888888888888,
              "#fdca26"
             ],
             [
              1,
              "#f0f921"
             ]
            ],
            "type": "heatmap"
           }
          ],
          "histogram": [
           {
            "marker": {
             "pattern": {
              "fillmode": "overlay",
              "size": 10,
              "solidity": 0.2
             }
            },
            "type": "histogram"
           }
          ],
          "histogram2d": [
           {
            "colorbar": {
             "outlinewidth": 0,
             "ticks": ""
            },
            "colorscale": [
             [
              0,
              "#0d0887"
             ],
             [
              0.1111111111111111,
              "#46039f"
             ],
             [
              0.2222222222222222,
              "#7201a8"
             ],
             [
              0.3333333333333333,
              "#9c179e"
             ],
             [
              0.4444444444444444,
              "#bd3786"
             ],
             [
              0.5555555555555556,
              "#d8576b"
             ],
             [
              0.6666666666666666,
              "#ed7953"
             ],
             [
              0.7777777777777778,
              "#fb9f3a"
             ],
             [
              0.8888888888888888,
              "#fdca26"
             ],
             [
              1,
              "#f0f921"
             ]
            ],
            "type": "histogram2d"
           }
          ],
          "histogram2dcontour": [
           {
            "colorbar": {
             "outlinewidth": 0,
             "ticks": ""
            },
            "colorscale": [
             [
              0,
              "#0d0887"
             ],
             [
              0.1111111111111111,
              "#46039f"
             ],
             [
              0.2222222222222222,
              "#7201a8"
             ],
             [
              0.3333333333333333,
              "#9c179e"
             ],
             [
              0.4444444444444444,
              "#bd3786"
             ],
             [
              0.5555555555555556,
              "#d8576b"
             ],
             [
              0.6666666666666666,
              "#ed7953"
             ],
             [
              0.7777777777777778,
              "#fb9f3a"
             ],
             [
              0.8888888888888888,
              "#fdca26"
             ],
             [
              1,
              "#f0f921"
             ]
            ],
            "type": "histogram2dcontour"
           }
          ],
          "mesh3d": [
           {
            "colorbar": {
             "outlinewidth": 0,
             "ticks": ""
            },
            "type": "mesh3d"
           }
          ],
          "parcoords": [
           {
            "line": {
             "colorbar": {
              "outlinewidth": 0,
              "ticks": ""
             }
            },
            "type": "parcoords"
           }
          ],
          "pie": [
           {
            "automargin": true,
            "type": "pie"
           }
          ],
          "scatter": [
           {
            "fillpattern": {
             "fillmode": "overlay",
             "size": 10,
             "solidity": 0.2
            },
            "type": "scatter"
           }
          ],
          "scatter3d": [
           {
            "line": {
             "colorbar": {
              "outlinewidth": 0,
              "ticks": ""
             }
            },
            "marker": {
             "colorbar": {
              "outlinewidth": 0,
              "ticks": ""
             }
            },
            "type": "scatter3d"
           }
          ],
          "scattercarpet": [
           {
            "marker": {
             "colorbar": {
              "outlinewidth": 0,
              "ticks": ""
             }
            },
            "type": "scattercarpet"
           }
          ],
          "scattergeo": [
           {
            "marker": {
             "colorbar": {
              "outlinewidth": 0,
              "ticks": ""
             }
            },
            "type": "scattergeo"
           }
          ],
          "scattergl": [
           {
            "marker": {
             "colorbar": {
              "outlinewidth": 0,
              "ticks": ""
             }
            },
            "type": "scattergl"
           }
          ],
          "scattermap": [
           {
            "marker": {
             "colorbar": {
              "outlinewidth": 0,
              "ticks": ""
             }
            },
            "type": "scattermap"
           }
          ],
          "scattermapbox": [
           {
            "marker": {
             "colorbar": {
              "outlinewidth": 0,
              "ticks": ""
             }
            },
            "type": "scattermapbox"
           }
          ],
          "scatterpolar": [
           {
            "marker": {
             "colorbar": {
              "outlinewidth": 0,
              "ticks": ""
             }
            },
            "type": "scatterpolar"
           }
          ],
          "scatterpolargl": [
           {
            "marker": {
             "colorbar": {
              "outlinewidth": 0,
              "ticks": ""
             }
            },
            "type": "scatterpolargl"
           }
          ],
          "scatterternary": [
           {
            "marker": {
             "colorbar": {
              "outlinewidth": 0,
              "ticks": ""
             }
            },
            "type": "scatterternary"
           }
          ],
          "surface": [
           {
            "colorbar": {
             "outlinewidth": 0,
             "ticks": ""
            },
            "colorscale": [
             [
              0,
              "#0d0887"
             ],
             [
              0.1111111111111111,
              "#46039f"
             ],
             [
              0.2222222222222222,
              "#7201a8"
             ],
             [
              0.3333333333333333,
              "#9c179e"
             ],
             [
              0.4444444444444444,
              "#bd3786"
             ],
             [
              0.5555555555555556,
              "#d8576b"
             ],
             [
              0.6666666666666666,
              "#ed7953"
             ],
             [
              0.7777777777777778,
              "#fb9f3a"
             ],
             [
              0.8888888888888888,
              "#fdca26"
             ],
             [
              1,
              "#f0f921"
             ]
            ],
            "type": "surface"
           }
          ],
          "table": [
           {
            "cells": {
             "fill": {
              "color": "#EBF0F8"
             },
             "line": {
              "color": "white"
             }
            },
            "header": {
             "fill": {
              "color": "#C8D4E3"
             },
             "line": {
              "color": "white"
             }
            },
            "type": "table"
           }
          ]
         },
         "layout": {
          "annotationdefaults": {
           "arrowcolor": "#2a3f5f",
           "arrowhead": 0,
           "arrowwidth": 1
          },
          "autotypenumbers": "strict",
          "coloraxis": {
           "colorbar": {
            "outlinewidth": 0,
            "ticks": ""
           }
          },
          "colorscale": {
           "diverging": [
            [
             0,
             "#8e0152"
            ],
            [
             0.1,
             "#c51b7d"
            ],
            [
             0.2,
             "#de77ae"
            ],
            [
             0.3,
             "#f1b6da"
            ],
            [
             0.4,
             "#fde0ef"
            ],
            [
             0.5,
             "#f7f7f7"
            ],
            [
             0.6,
             "#e6f5d0"
            ],
            [
             0.7,
             "#b8e186"
            ],
            [
             0.8,
             "#7fbc41"
            ],
            [
             0.9,
             "#4d9221"
            ],
            [
             1,
             "#276419"
            ]
           ],
           "sequential": [
            [
             0,
             "#0d0887"
            ],
            [
             0.1111111111111111,
             "#46039f"
            ],
            [
             0.2222222222222222,
             "#7201a8"
            ],
            [
             0.3333333333333333,
             "#9c179e"
            ],
            [
             0.4444444444444444,
             "#bd3786"
            ],
            [
             0.5555555555555556,
             "#d8576b"
            ],
            [
             0.6666666666666666,
             "#ed7953"
            ],
            [
             0.7777777777777778,
             "#fb9f3a"
            ],
            [
             0.8888888888888888,
             "#fdca26"
            ],
            [
             1,
             "#f0f921"
            ]
           ],
           "sequentialminus": [
            [
             0,
             "#0d0887"
            ],
            [
             0.1111111111111111,
             "#46039f"
            ],
            [
             0.2222222222222222,
             "#7201a8"
            ],
            [
             0.3333333333333333,
             "#9c179e"
            ],
            [
             0.4444444444444444,
             "#bd3786"
            ],
            [
             0.5555555555555556,
             "#d8576b"
            ],
            [
             0.6666666666666666,
             "#ed7953"
            ],
            [
             0.7777777777777778,
             "#fb9f3a"
            ],
            [
             0.8888888888888888,
             "#fdca26"
            ],
            [
             1,
             "#f0f921"
            ]
           ]
          },
          "colorway": [
           "#636efa",
           "#EF553B",
           "#00cc96",
           "#ab63fa",
           "#FFA15A",
           "#19d3f3",
           "#FF6692",
           "#B6E880",
           "#FF97FF",
           "#FECB52"
          ],
          "font": {
           "color": "#2a3f5f"
          },
          "geo": {
           "bgcolor": "white",
           "lakecolor": "white",
           "landcolor": "#E5ECF6",
           "showlakes": true,
           "showland": true,
           "subunitcolor": "white"
          },
          "hoverlabel": {
           "align": "left"
          },
          "hovermode": "closest",
          "mapbox": {
           "style": "light"
          },
          "paper_bgcolor": "white",
          "plot_bgcolor": "#E5ECF6",
          "polar": {
           "angularaxis": {
            "gridcolor": "white",
            "linecolor": "white",
            "ticks": ""
           },
           "bgcolor": "#E5ECF6",
           "radialaxis": {
            "gridcolor": "white",
            "linecolor": "white",
            "ticks": ""
           }
          },
          "scene": {
           "xaxis": {
            "backgroundcolor": "#E5ECF6",
            "gridcolor": "white",
            "gridwidth": 2,
            "linecolor": "white",
            "showbackground": true,
            "ticks": "",
            "zerolinecolor": "white"
           },
           "yaxis": {
            "backgroundcolor": "#E5ECF6",
            "gridcolor": "white",
            "gridwidth": 2,
            "linecolor": "white",
            "showbackground": true,
            "ticks": "",
            "zerolinecolor": "white"
           },
           "zaxis": {
            "backgroundcolor": "#E5ECF6",
            "gridcolor": "white",
            "gridwidth": 2,
            "linecolor": "white",
            "showbackground": true,
            "ticks": "",
            "zerolinecolor": "white"
           }
          },
          "shapedefaults": {
           "line": {
            "color": "#2a3f5f"
           }
          },
          "ternary": {
           "aaxis": {
            "gridcolor": "white",
            "linecolor": "white",
            "ticks": ""
           },
           "baxis": {
            "gridcolor": "white",
            "linecolor": "white",
            "ticks": ""
           },
           "bgcolor": "#E5ECF6",
           "caxis": {
            "gridcolor": "white",
            "linecolor": "white",
            "ticks": ""
           }
          },
          "title": {
           "x": 0.05
          },
          "xaxis": {
           "automargin": true,
           "gridcolor": "white",
           "linecolor": "white",
           "ticks": "",
           "title": {
            "standoff": 15
           },
           "zerolinecolor": "white",
           "zerolinewidth": 2
          },
          "yaxis": {
           "automargin": true,
           "gridcolor": "white",
           "linecolor": "white",
           "ticks": "",
           "title": {
            "standoff": 15
           },
           "zerolinecolor": "white",
           "zerolinewidth": 2
          }
         }
        },
        "title": {
         "text": "Document Embeddings: Word2Vec vs. FastText (PCA-2D)"
        },
        "xaxis": {
         "anchor": "y",
         "domain": [
          0,
          0.49
         ],
         "title": {
          "text": "PC-1"
         }
        },
        "xaxis2": {
         "anchor": "y2",
         "domain": [
          0.51,
          1
         ],
         "matches": "x",
         "title": {
          "text": "PC-1"
         }
        },
        "yaxis": {
         "anchor": "x",
         "domain": [
          0,
          1
         ],
         "title": {
          "text": "PC-2"
         }
        },
        "yaxis2": {
         "anchor": "x2",
         "domain": [
          0,
          1
         ],
         "matches": "y",
         "showticklabels": false
        }
       }
      },
      "image/png": "[encoded data removed]"
     },
     "metadata": {},
     "output_type": "display_data"
    }
   ],
   "source": [
    "fig = px.scatter(\n",
    "    df_plot,\n",
    "    x=\"d1\", y=\"d2\",\n",
    "    color=\"label\",\n",
    "    facet_col=\"model\",\n",
    "    opacity=0.7,\n",
    "    title=\"Document Embeddings: Word2Vec vs. FastText (PCA-2D)\",\n",
    "    labels={\"d1\":\"PC-1\", \"d2\":\"PC-2\"}\n",
    ")\n",
    "fig.update_layout(margin=dict(l=20,r=20,t=60,b=20), legend_title=\"Label\")\n",
    "fig.for_each_annotation(lambda a: a.update(text=a.text.split(\"=\")[-1]))\n",
    "fig.write_html(BASE_DIR / \"reports/document_EmbeddingsWord2Vecvs.FastText.html\", include_plotlyjs=\"cdn\")\n",
    "fig.show()"
   ]
  },
  {
   "cell_type": "markdown",
   "id": "952a7adb",
   "metadata": {},
   "source": [
    "## 5.8 Embedding Comparison via UMAP\n",
    "\n",
    "To better visualize the structure and distribution of document embeddings from different models, we apply **UMAP**—a non-linear dimensionality reduction technique optimized for preserving both global and local data relationships.\n",
    "\n",
    "**Models Compared**\n",
    "- Word2Vec + Mean Pooling\n",
    "- FastText + Mean Pooling\n",
    "- SBERT (Sentence-BERT)\n",
    "\n",
    "All three models were trained on **500 manually-labeled samples**, with identical train/test splits. UMAP parameters were carefully tuned (`metric=\"cosine\"`, `n_neighbors=30`, `min_dist=0.1`) to highlight semantic clustering.\n"
   ]
  },
  {
   "cell_type": "markdown",
   "id": "439452e1",
   "metadata": {},
   "source": [
    "**UMAP Visualization Code**"
   ]
  },
  {
   "cell_type": "code",
   "execution_count": 15,
   "id": "fc32a228",
   "metadata": {},
   "outputs": [
    {
     "name": "stderr",
     "output_type": "stream",
     "text": [
      "/home/khalaji/Coding/text-classification-life-sciences/.venv_lf/lib/python3.12/site-packages/umap/umap_.py:1952: UserWarning:\n",
      "\n",
      "n_jobs value 1 overridden to 1 by setting random_state. Use no seed for parallelism.\n",
      "\n"
     ]
    }
   ],
   "source": [
    "import umap.umap_ as umap\n",
    "\n",
    "def embed2df(emb, labels, name):\n",
    "    df = pd.DataFrame(emb, columns=[\"x\", \"y\"])\n",
    "    df[\"Label\"] = np.where(labels==1, \"Relevant\", \"Irrelevant\")\n",
    "    df[\"Model\"] = name\n",
    "    return df\n",
    "\n",
    "# Initialize UMAP with cosine metric\n",
    "um = umap.UMAP(n_neighbors=30, min_dist=0.1, metric=\"cosine\", random_state=SEED)\n",
    "\n",
    "# Stack train/test embeddings for all models\n",
    "emb_dict = {\n",
    "    \"Word2Vec\": np.vstack([X_train_w2v, X_test_w2v]),\n",
    "    \"FastText\": np.vstack([X_train_ft, X_test_ft]),\n",
    "    \"SBERT\": np.vstack([X_train_s, X_test_s])\n",
    "}\n",
    "labels_all = np.hstack([y_train_txt, y_test_txt])\n",
    "\n",
    "# Transform embeddings and build DataFrames\n",
    "dfs = []\n",
    "for name, emb in emb_dict.items():\n",
    "    coords = um.fit_transform(emb)\n",
    "    dfs.append(embed2df(coords, labels_all, name))\n",
    "\n",
    "df_plot = pd.concat(dfs, ignore_index=True)"
   ]
  },
  {
   "cell_type": "markdown",
   "id": "f32c7e70",
   "metadata": {},
   "source": [
    "**UMAP Scatterplot (Faceted)**"
   ]
  },
  {
   "cell_type": "code",
   "execution_count": 16,
   "id": "e39721a5",
   "metadata": {},
   "outputs": [
    {
     "data": {
      "application/vnd.plotly.v1+json": {
       "config": {
        "plotlyServerURL": "https://plot.ly"
       },
       "data": [
        {
         "hovertemplate": "Label=Relevant<br>Model=Word2Vec<br>UMAP-1=%{x}<br>UMAP-2=%{y}<extra></extra>",
         "legendgroup": "Relevant",
         "marker": {
          "color": "#636efa",
          "opacity": 0.7,
          "size": 5,
          "symbol": "circle"
         },
         "mode": "markers",
         "name": "Relevant",
         "showlegend": true,
         "type": "scattergl",
         "x": {
          "bdata": "5q4gQEGUJcAn8my9rzYlwCglGsDdGZA+5+BfQUN7LMBFiItAihn6v2gsi0C5JWtAZZEaQaJBLcAFY0dABWkXwPVBfEGxwyLAoFOIQH9l87++/v2/g9aHQO7qdkEhphDAXh1qQAwLCEBqgIy/yGNwQYdU3r8oqxfAf0i+QK4dIcAds3lAEEp2QMu+mL98qRfAQTNKPh3gekGI/dVA0y/Yv7QGOEDNOTdANTYgwO9OCL6JXhzAibImQJQ4Kb8vWR1AUN0kQQEd6r+Qbda/Z/mEQMfQikA05ldBZY7hvzSwL8D1o/u/s7/QPf+2UD2vxIlAHgCNQBzgJ0EAsHJAJh2bQCJQi0BWkvu/PfBzQSy3MMBq5NS/RZ5mv/OiBcAcnhbAlyDNv/nq5r8VJgpAD7BpQZKIrD0PEzdAxMc7QMBeLMB1VCjAOOXcvxQaE8B102FBS8YAwHckKsCAe05BCNwQwPvTMEGDHPS/iagUQKRTfUH0jzTAvWaNv1qpEcBc4gbAa3brv3ybhkDdqKxArDPbvMn2C8CDjoFAaLbsv9O8979il1FB+SabvRJK5L5cTMZA4ez6voSrSEGsLiTA+KBFQANMMEBEHGFB+OcqwKgnwb9VomlBM918QXi3kkAUQ2tBWIhuQBHKr0ChmGdByCYeQGBkob+pWiPA86YfwHIcD0AE8ybA5V4Tv0bFBcCtJrg71CkgwCcBGkCBz+C/vK2wv8f0DsCro3lBZbt3QHasIb53H/2/6+caQQjDSkAxklZBu9/1v8Rv5L/PnixA4bisvyo7Ob9EfzZBUobgv5PO4796vBlALV4jwAwVeL/qb4e/CAS4QFNMGMBQ2oxApLQWQI4ndEAYNhXA/x0qQc9daT2UKQ/ACEbiv+arSkHq2ShBWFLlvzw3bUEuU01AJzz9v/x5lr/bn7G9JSvmv+3EDcB8xhrAlr7yv8qfP0DrG+i/h7tDQB0JP0Bd+k1B9pxQPm8/KMDFT+K/Sm0DwKpdC8AKWxzAO9cowL9q0b8ngC1AQ9F4QWU75b9YGeW/hwJ6QBfd4b8yaNW/ARWRQLN7GMApY0u/mu9tQb5200D682lAZbqZv6A3AMArjvS/icMYQVtl2L8jHNy/RzopwNN1Mr/+Lv+/VgwLQGBk5b/vG4u/4C7fvytSNMDIVK0+Z8rsvyv+J0CPLu6/i3itv2Z67r+Acv6/FooxQCZREcDTuBNAo0hGQFbpw0A5xSVBTymrv5CGbkFNIA9Bp0iJQI32kr8Abe6/oniJQJ80kb8ZuNy/QdsjwMrMEEAnj/G/f3lRvzaQ27/qEkG/hPODQArMd0G6L++/bLrfQA==",
          "dtype": "f4"
         },
         "xaxis": "x",
         "y": {
          "bdata": "J+MlPdEj5UDWXQVANybFQLQ690AMv98/wc0SPzSA6kB40Aq/Ukg2QelHGr9GFIW+WFw7v9zR3EDc2aa9UH/1QGffdED6m8RAlvIUv72sL0FZnQdBFpbUu9Dcqr4ItP9At8FMvi0Hzz51tz5AhFlBQI83JEEUO7lADLb2vguLwUDgDV0+lc8GvtpJSEAHy/hAWanmP4DzPTyLY+y+0d+JQPlSDj1S+yG4Pm2/QEESBkA3AdRAXYbEPfUYJ0B0Cb0+/90IvztuK0Ei9ohAkcsRPswDkTzxdwM/ytkiQblA6EAR2DZB/8n1P4FE7D/TZAQ9ZLgMvug+R78+SSG+8UEiv1T3cj2GyTVBlgeuvmz56UBrE4dAjnc3QFQ1BEFJTMlAXJWBQHjRJUHhKKw+oe3/vlzw+D/kFAw9ygcXPb8C3EBYcdhAWNoOQceY/kBRQfO+FqQMQWVX3UCtQ4M+zozpQORzH7+hcDVBubWrPf9VeUDZYeVA7HFBQDLK/kBieAVBLo4rQZoODL/M0Ci/HtgCQDt+7UCK4P++n50MQchUNkGvARVAimwFQOlFGkDoXAu/naoeQN7xpD/m8cdACOsVPml5xz74FCU/7eXdQH4BfEDBIcC8TxKdPpwGIL1y0QU9r6GCvhb9Jr9vsoW8OUdoPiGpTUC/SstAqHm/QLVwqj4o3NBALCYiQEsvBEGa2gBALEDwQO2AMb3s2BFBnrlcQKQBAEEfsG1APRZHvoAGC0CGmgdBMxIlv7zUir1w3gJAb0Y2QfneFkGaiAo+yeVWQDJwLkDNxK2+S9gkQfYnFEFVl4W9g7bAQFoAP0BtbD9AOPTKvlSvxECza/a9U1HkPmZ+D76z8uJA+KLqvkIr+z/5i/9AqgkRQRSVpz/wZB+/NkoqQQxwQkAqwv29Ppk2QWViR0CovAdA4qkoQR2ZAEFQB/lAC8wJQX1AMT2ZDQ9B2SxlvbBa2L1XQSNAb1npPwKp10CuxxNBIu8FQdEo6kCGdcBAlYnfQImIhEDwODu+zHVQvnNCKEESEhdB4tTevqUTHUEpAINA55+qvAEl9kBLayxAJlvwvi5bVr8TRi69RPBJQOb6NkFcDTJB44QXv5HUhkB1SYNAcsbDQLTFKUBoSTNBBGrDPh/gEkFaa0VAGgMkQZ466UA/yNg/5uYpQWh+l77y+Q1BaCtVQCGiLEGAZAdBkJckPgF3r0DJbFM+zV7vvJtyA79fayq9WYlVQITYRkC2MU+/KxwWv6z+Q0CEqBRBb8HOvj7sQ0BVdiRBwn++QFh4jT7X8glBGM8vQKlnhkDQWitAgJtHPtENrr6uCy1BQ4hYvw==",
          "dtype": "f4"
         },
         "yaxis": "y"
        },
        {
         "hovertemplate": "Label=Relevant<br>Model=FastText<br>UMAP-1=%{x}<br>UMAP-2=%{y}<extra></extra>",
         "legendgroup": "Relevant",
         "marker": {
          "color": "#636efa",
          "opacity": 0.7,
          "size": 5,
          "symbol": "circle"
         },
         "mode": "markers",
         "name": "Relevant",
         "showlegend": false,
         "type": "scattergl",
         "x": {
          "bdata": "EBo2QdpVXUE3R0ZB1eNcQTz/d0H3DEJB5aTMwG5FcEG3TTJB3LiDQUkDMkF4kSRBQWfMwJD9b0Hqvh9BqKBzQTjXY8DZwGlBJKc4QZmTgUFuanVBGs4rQQUMFcFeMX1BadkdQeJROkHvUUVBqxe3wARncUEDQWtBSmMnQbBBcUEH2C1Bs7wbQUSFTkFZWm9BFn5NQWHqF8G8E2DAmzFbQT7zNkHSpyNBC0hmQeAFR0GN6VdBbhBCQVq1OEG5uTdBSzDhwDgMgEG2x05BKbAqQWkiLEHfwsnAVwiBQajQbUFhk4JBxbVFQWFeTUFoES1BrSIsQQy7vsDpQBxBvMkyQcY1LUFg+XZBtNEZwYEQakE4FWNBvohEQRgwc0HB12pBDt1PQdeEdUHyhztBAnkWwWqvN0FK3B9BAYMfQRHNcUGyh3VBX6F/QYdfb0FI9RbBPq91QfoibUFPSwXBsZdrQeItAcH5qINBhQ08QXwSWsAiiXhBX+xEQYgQekEHKnlBv/KDQVmzOEF6LTVBTD5GQcxXa0HnfDBBiHd8QaAHgEFH7pbAY+NDQe9mRUFRhSZBWD04QXDD0cAU021BMS0sQfvVMEFB/gLBZU15QdtbcEHfhQvBh5EGwfq2KkHeWwzBZGwlQTk8j8D/LQ3BxZFFQaW7SEFizG9B4ipqQTT8O0HVbW9BTRo/Qe2MfkFvJjxBKwJwQdz/O0Fn8YBBH/9MQSvVd0G/2F3AY5kbQX0nOEEoG3ZBfCLawMIXH0GSc7LA0tSAQc8/eEG4J0RBdH1LQSLbQkGUDQfBBr56QUgja0HuqzlB/71gQVvqVEGTBkZB8gooQQH/akF9UStBCy43QQiwGkH7J21BxTPqwHxYOkGtXnBBGWVzQWs8t8C4c9rALpyAQf5wd8DlgB9BPZKAQYzyQ0ECpkRBp7V9QW5xdkGwyXZBukJvQYqrK0HptoBBYR0jQUvzJEHjF5TAU09AQUQab0ErhHVBNJaDQTeia0ET2GhBFy1zQW0WT0HKHThBrxoVwWyjfkH7TXVByTQxQdvteUGtCU9BviAqQeqPd0EIF0VB0q4ZwYjh48DC1hpBIFhGQRhzg0FZVYRB8Y7nwOiMZ0GHz0xBUHxfQVXfTUHEHnlBO044QWFqZUEjQERBWkqDQTwNdUHzyUJBkC2EQSGJO0HJPXhBOrRMQfWqgkFUqHBBnd8cQbp6b0FlvDdBBxQkQWY6J0EHF+XAyjFNQUruisCus87A1qEyQRTRQUEFHYFBGXgxQTyZS0Fau4NB3b5oQTSGOEGhTHJBRYtNQRGQeUHoUkdB0IMsQS9YD8FrSXpBTYPlwA==",
          "dtype": "f4"
         },
         "xaxis": "x2",
         "y": {
          "bdata": "UW3NQDmpu0CUW8tAR6W6QEGl5kCW5rRAwKikQEYcyUAPpcVAKnDLQA2b0kBPhr9AowTuQO6v3kBuv7hAC9foQOKjbUCOrfBAtoKzQL9I0kCpD71Aqw8CQaGm0kA6lMBA+L63QON50EBr+uJAZoKWQNa66EC4sNVAZFkGQbpp10CMVwBBCfm7QJr3tkD6e99ADo6/QJeM5kDWEYBAKJ3AQMWq20CZ+rtAQtnDQDkrt0DumLlAN+qwQIZK2EC1Cu1ATQ/UQItgwEDnxbRACXQDQZsHAkEwt6BAO3DOQAy2xEAnOM5AzWauQHf8wUB09wBB9NUCQV6JvEDTArxA2prJQIr0AEEZ++RAlSjdQK2gw0CH2L9ADVTjQPMw1EDJHftAOgC6QJtvvEB3xMdAwP3aQDWI5UBLD7dAHT23QL394UCBCOZAzzrAQCIuvkABZ9pAyQO/QODW9kAeDqlAwhr5QKvz10AfQcdAGUSwQDCkfUBU3dRAIZzjQNFA2kAsZ9xAPCDPQLz2tkC0QbVAT7i2QGzf+kCet8VAlK29QB7d2kBHSpdAMv26QMsZuEC1GwdBKRHtQISJskBnOPJA+cLKQJab+UBSN8ZAPV7eQMkovUDzYr9ATsmwQIN1A0FCacFAcdS/QKAGuUBD8cBAPNCwQGUY5EAoHeZAvUXvQESY2ECFRvFA07PkQAiGwEB0MttAzKPSQE9+tUCyvMNA7FS3QNOSzkAKxHpAc4a7QAlp1kDwIMdAMJzEQIKNt0ArCpNA0kbXQC6p0UDnBrFABC+1QKQE5EBUjN5AjufAQPdyzUD2G7JA2zW9QM0ov0Cq5NNAIcwFQc+/+ED9DQJBruXoQDzyuUAT0PdASCDYQDZU1kDLPMtApgjQQJlzkUDOU8xA9wHWQCpDb0DazrVAePPAQIcu4UC14d9AaDnUQISG1ECNGc1A6aDGQGD0xECUO9VAZPC6QGLNvEAKDp1Axv+yQDtx8UBZZcFAIlrHQEN1+kAVMPBAQVvdQI0TuUCjfuRA6kLGQKvfvkBFIthAg/3CQL2vvUCxybdA3vwDQQ1k40BL7uFAg+vkQDEw7ECT2LxAyvnLQNIZzEC+qMpA6gfsQKTtx0AMv79A0pC6QDotv0BHhtJAi9DaQCfBu0BjkNdAdqfKQNkjwUDDtrdAtzDOQM2ts0DoCtNAz8u0QGWr00BdE9FAbQC6QE2Dz0DsMtBA7My8QMJuBkEG/+RAHpC6QIijh0DAzfFA9hq+QKji2kDQZdhAU/XXQL7iw0DaesZAweHGQOaL0kBhQ9tAvfO+QAV04kBA7c1ACLwBQZOmw0DSzeBAt07pQA==",
          "dtype": "f4"
         },
         "yaxis": "y2"
        },
        {
         "hovertemplate": "Label=Relevant<br>Model=SBERT<br>UMAP-1=%{x}<br>UMAP-2=%{y}<extra></extra>",
         "legendgroup": "Relevant",
         "marker": {
          "color": "#636efa",
          "opacity": 0.7,
          "size": 5,
          "symbol": "circle"
         },
         "mode": "markers",
         "name": "Relevant",
         "showlegend": false,
         "type": "scattergl",
         "x": {
          "bdata": "012gQUeWpUH8EqFB5BGiQZ2EnUEJ0pVBJV5/QUQ4pEHZDphBT46kQddijkGWE5FBibSVQWZanUGbPZFBkvaWQfYxjkHqippBxYiOQbPsp0Go66VBHMyPQUBwhUG+EJpB9eaOQfpMl0FNP5tBaJl5QQAjo0HG55lBQZyPQe5BmkHIMJJBAvKRQe63nEGG2ZNBkhOnQWUDjEH48ItBWsSfQexllkGMipNBjSOiQWkqoEHvvKdBGKGoQVccmUEPBo9B5bV0QVGInEGk6aJBW9iPQZ5CjUE7NX1BdJ2kQWAKpUGoBKBBNuqkQc1epkGnXJJB2Q2NQa4+ekHwS5FBOq6OQT3VkEF+qKRBEVN4QSuroUHWWaBBcTiVQQyFo0HZ/KFBZKWeQcIwnkFmCaJBRXqBQQMwl0GoSJFBXd6PQVAYokGRR6VBA46YQWiJm0FaV4FBHsKnQdURokFxSG5BKiihQc93g0F7I6RBX5iRQXaCikEeI6FBqOqeQUDApkEZrqRBtmulQYJFn0FBUY5BxJeeQdLdokHXA5BBucqhQWGopUEWGohBRUSUQYNrkkFH1IhBSkWRQQ/7d0EmPKJBHCaVQTcyj0GlrHJBnpGeQeCypkFa3IFB/0eDQZhWj0FX/IRB8bSRQZD4iUHLWoJBWh2SQeytm0Hb0ZxBM2WgQSBMlUEGGJtBsWiSQX+jm0F3p5xBVSeiQYoFkUHQZ5xB3yeeQX4xpUGP/oRBj7mRQSKXmUELrqNBuGCJQThLkEFG/H9BVuClQfTXn0HfK5JBSPKgQfsPmEGJ4YNBJ1CnQeISn0FpJY9BqviiQbuQqEFRI5dBKpeIQSPInEFYsJFBpfGTQeACkkFMn6JB80eDQaZXmUEcG6NBf7alQQD+c0HPtIBBWgqlQR1bf0EnHI9BSC6mQWXoj0EChY5BADejQVkbo0HvUaRBScmiQX9+kUEVj6RBOUyTQW4ElEHl5IdBrCafQWnNmkEJaZtBkn6iQRIooUGNKJtBQCmaQQ5ypEGfqo5B5EV5QWo6okEE/KNBaqORQRtFp0FRnJxByYWPQc81n0GcAJ5BAmd+QaiJjkFrs5FBQ3qVQWlsoEFYuKdBPE9/QUQxoUHNyKFBTw6iQRDYp0HzEadBC7+VQSw7oUE9PJxBAkuiQf5vo0GTbJRBBCWmQYkikkFGhaZBDlGhQY4RokGpR6BBrO6PQcLFoEEICJlB2DyUQbz+iEEdK4hBLd+dQSdYfUECCYBBKh+XQcOLl0EPKJxBEMuTQSPxoEHJw6JB/FWhQatql0GWSJtBtIOgQeGEoUGQ95hBPjuSQVj1h0FAoaVBH4qPQQ==",
          "dtype": "f4"
         },
         "xaxis": "x3",
         "y": {
          "bdata": "r7zUQCtF10CRQtJAC4fMQJkm/EDhf7hAd1b3QLNY6UBSCwlB5aT8QENf6UC0BdFAAaXHQKZyCEE69dZAvWjhQEdGCUEwIQdBBAqkQOG39EBT6uZA9scDQYGD10Ckl+pAkdXYQO5lCUG2NwlBYi/mQGrc40AnkO5A4G4IQd5t6UA41AtBUezSQDLV0kAk7+pAyCnbQGhzhkDuXgdB027uQMw5yUBt5dVA30vhQLEk3UCVndlAuQbiQAee60DKd/dAXc2LQFec7kDRtONATycKQXYqDEFi5gVB4uf0QB9B4kBTwuZABvHaQCV+1kBoewhB6OsHQfj39kA2JdtAmG+7QGa/BkEAmvFAopOaQAwm8kDs7ddApYXiQH1J5kASlQdBJt/VQOv290DHpN5AtsSSQFlB/0DKB9tA5TjYQLUP1kD5qe9AObS4QJbe/UDXoKdAliPbQBLnAkGQLM1AE6UEQSIwp0DhHvlAUpuoQJmYCEHaXOVA8AkCQfJJ8kAErPFAr80AQUY1yEDW/JlAByLxQBpCBUGGVtNAr7rqQPVg8UAHGQFBcfewQD+xy0A1WQxBR+H4QLrG2EA7jgFBORfwQEQ7AkH3Z6JAF/TqQCmB9kBPyc5AIHS1QHAAC0EQKOVAQLXSQAf7AkGSotdAH1CoQCsKAEF5ofVAft8BQaNW9EAmpQtBjgXRQIlf7EDQSdxAm13sQHllo0C2/OxA7ojUQO6H4kC+pwdB623hQAPz6UDQxNZAo3+KQNE12kBQZehAiYX8QIcM90BPLKhA0571QKmd9UBL9KJADkP0QM5w6EDD7aVAK2LSQKnv2ECat/JA99oLQctmAkFefAhB7mEAQZ/s3UDiggVBNd3PQAo+CEEzePxAYzblQAYI/kCmzq1AO0n0QF48AUE3X9lAEH33QLL98kCyvvJA3PPLQHg8/kCY6/FADfnlQLfTyUD9cwBBdFLVQMnu1UAqjQ1BRJ/cQB3ZDEEbdgdBc2HrQCw3BUHUywFBmVzvQHzg4kAtF/tAztWVQOne70Dtc91AIy7GQDkb4EDZztVAArILQctnA0G0C91A2VGPQCAwo0CjKNtANAe7QPmUBUGAgfNAwI+CQEO39UD/9chAXirJQInR2EAAPu9A0YAEQeVi60C7FPFADZHoQPdPA0Ea87BAiGnfQN17pkArS/5Al5TLQJKKAkG70NdABdLWQAAaB0H9pQhBJVDaQCi4C0EoJYRAHu7YQIxS20A4ttxAENPoQDpCB0GoYgRBJQT7QLpcx0D0+ONACYjGQLaqCUHvxAxBZ4DGQBEm0UC62AhBZCcKQTOS3UDGLf9Ap62iQA==",
          "dtype": "f4"
         },
         "yaxis": "y3"
        },
        {
         "hovertemplate": "Label=Irrelevant<br>Model=Word2Vec<br>UMAP-1=%{x}<br>UMAP-2=%{y}<extra></extra>",
         "legendgroup": "Irrelevant",
         "marker": {
          "color": "#EF553B",
          "opacity": 0.7,
          "size": 5,
          "symbol": "circle"
         },
         "mode": "markers",
         "name": "Irrelevant",
         "showlegend": true,
         "type": "scattergl",
         "x": {
          "bdata": "vUpmQZruaEGuUGpBfUnmQPAKfkFRcl9BlNAUQc0RdEF1MnZB4T5UQXtjbEEbqChB+fkkQZcrZUH7bVJBjJduQYPVREGCHoBBYWhUQRxlUkG/QulA9hdkQbxudEH3nmFBBghDQYJKY0GDehtBsA9zQUqoRUFSq+ZAgtdaQYVhGUFYhShBqVJsQZL4R0E7sw1B2O0xQT8wQEHZph1BzzVEQYjleEH5jXJBgShtQfxfREHywVFBWEcbQRwWZkHSEBRBMe9JQdE9HEEzHitB3twmQdCrb0GnnzxBEurLQH70RUESFHNBQnxgQd5XdEFcBnJBxx4vQasoYUH1CelAJbNMQUv9CUFivDNB4WdtQdYtfEFIjCBBbJFhQal7SEGNnSNBf8doQbyXT0F0bTJB7D5kQQNdf0Evv21Bxrh9QQleWEGSh2VB1bF/Qe+JaEFP+d1A3cB4QbN9OkFWij9BwW5jQYeyTUEvwXlBDMAcQYanaEE8vG1BTyMNQQvoJ0HOdOpAGZ59QRXz60CFCwlBThMXQdpPZUHCil9BefIvQZZ0fEE9mRVBGX4rQcG4YkFM9mVBk1ZCQVg2NUFdExpBqSBHQWWkWkEOdhpBFgdwQcN3bEE1wgpBoQtEQfFabEGIy2BBI2U/QWKxbkE+0jFBUv4sQTymXEEVZwdBYwFQQX8HgEFJMC9BB2J1QRy8ZEFbfAtBV5p7Qdi0YUFGqRZBLlANQQ28cEE0hD9BfE1TQY+qTkHKBCtB5UEfQQJHNUGntStBfERTQV0DQUEn4n1BarwpQWgWVEEpqFlBA20wQWxoEkF18eFA4ONrQQQdbkER9BRB7hQ5QXvaaUHgaUZB1D48QazuJ0ERNGxBRk0eQcJ2S0HJxX5BagMwQVBRFUGOsz5BMhNeQVoOgEH+x05BWJsgQTgCeEHICXxBA5kYQSJIbkFF8XZBMQsWQQZ9CEFmh3hBhMBZQRlDWkESiHZB+lNsQfImXUGDFElBdLtaQRKpKkHFs3ZBe/tTQXlFYEHL1mBB6hZ4QRQLIEGjENpACvtJQXvjCUGl+VJButZ+QYdSrUB5wWVB2mJEQYZ7RUEn8EZB8dZCQcWDb0GX2GZBLmhxQSbpdUErQoBBvtAvQV/QbUHokUxBLCJ5QQWIOkHeoFpB2413QWbIeUEPA2tBg4IIQcxQXUGn7+tAq3t7QYDS/kBTUjFBTrtpQeceUEG1fHJBrMlpQWBwSkFUkChBhwleQSmSfEEeNC5BLcltQQ5MS0GKd1lBZjaMPhUDUkHIlV5BF7thQadxYkEnzNtAZJgtQZURVkHCnE5BfileQbpcLEGvzHpBSzUWQQ==",
          "dtype": "f4"
         },
         "xaxis": "x",
         "y": {
          "bdata": "stIHQBvXeL76eIk+oi0zv2pde0AG7Q9ADRZfvrxoPUBIUmJAjp7BO+hoGL7srEm/AlsgvteHCUBdVtM/n20Av9ilcD/IJfs+sFoHPsZOJUAWOUK/y9e+PXlqkz728vg++i8wPhR7Bj91VeG+7LNFQEPtSD9ny0y/CyGgu0mOsL5NZkA+N3HlPqRYpT5Dm0i/X9kpv8sX8j63k3u+APRAP8+1aEC0km++uwo/QClBAz9EVUo+Y8tVv1YR4b7y5mu/gmAtP31fKr9A9Q+/So5+PTMjLL4VaCi+ij9Hvz6XFD+Tx+m+azb4PBLMCUCdqBc/e+J1vnh6iL61ejy/WTyYP45NUr/4vze9FCV5vk+5cUCe2KK9v/ULQPVUkD+f1+C+ViW+vnhtnT/6YpA89PjgPgJZNj9+Xgk/wZB6QO+VBz7MBxk+kkkSPyDZx75M7T2/xXBoQGNQwjxfKna9sTH6vt/g3D9UmWVA7z6+vueOKj+I1CW/qH1Hv9GnD78rrTq/zL7yPm+JM7+AewG/3dSWvsJgFEBMzzY/ukquO/LFDj1yuja+MC4JPSi3UL6zNiRA8pkXPy4+sb2WtIK9zWGBP76IFj7qza48Pme7Ph7gs75hWBm/na2DvpVx1DzA3sW9/GR8vu0n9j5CpRe9gO40vzWQB0ChWAe/nOsgQNgLMT+j8M0+MQYiP9Aulj/Zr8++gJxyQAWJEEBeSrq9lRVFv02yH76nQyA/dZAoQN7P9z5ZHJi9F188v6fEJT8s1KA8dpUmQKVgCz5vNXtA7QxGv6zUI0AQ2BtAlQVFv2PFOL480VO/iP03QFsKQkCv7rS+/b2qvp2AGr8fjAs+FT/oO1FaGj6hSX0/37pev/ep/Dyn+Eg/zx07v+9xUb75ELa9XDnzPo8vJj+kpZs/tdtQv6Lqbz6DGBU+vsT0vvZChz40fmxABi9Ov61+V7/V8WhAwFH6PxKCcL2or0xAwUOOPTz5kb676VI/uksDQGa5TL1pDhY/J143P6LBzb1bNRZAs8p3vngHPz10wEe/vxI9P45zB7/fYOw/ePVtPk6TK7+7DCA/p3nePsXwBj9RAFc/44uTP0pMSUAVdgW/GwqWPhmLXUBnFak+XLkqvq8YQ0A2pCU+PUWSvhJun70XnQpAEniKvgMObEA6I8m9DrQEv9YYAUBZ1ku/WrKCPdrLHr+yhsy9H74YPxMDjT//qVZA3Im9Pe/CMD9mvzS/+6ADQM/ffj3A0IE9xJ3rPoEArj//GOk/edbhP3lMJ0DeqAxAT8mmP+UVPz9rXuO+xRH2PWBEI0CUmc4++ZUCQPC3wj4ZKXBAF4crvw==",
          "dtype": "f4"
         },
         "yaxis": "y"
        },
        {
         "hovertemplate": "Label=Irrelevant<br>Model=FastText<br>UMAP-1=%{x}<br>UMAP-2=%{y}<extra></extra>",
         "legendgroup": "Irrelevant",
         "marker": {
          "color": "#EF553B",
          "opacity": 0.7,
          "size": 5,
          "symbol": "circle"
         },
         "mode": "markers",
         "name": "Irrelevant",
         "showlegend": false,
         "type": "scattergl",
         "x": {
          "bdata": "sfWvwP4+EMGAP+7AXx/QwMR/VcBzVZ7A03jewJVklcCrm4bAU80TwUYrCMFmt9PA1JfhwMfthsBSMdrA1kEawb2T58DG5wrBZEj0wHs7h8CjNb3ARCnfwA/Oy8D9jQfBO27xwLQWBsFepozArdqTwHZX5MAFhpLAO4ARwVR5ncAzgNjAV2LPwCpV6MC6EpTAfP3FwEBx08DGdsDAAz7LwD2kfsACvAfBFvOQwLQF18CiePPAuAbbwILME8EOPfHAdG7iwO5b1sB3xObA4CD9wHp2GsGt6vzAcNa0wEcuBMEe1BfBFRUDwXk7lMADr9fAKSvrwGRgFsF3b8rAv+qZwASolcDsFBLBYrkUwdh0ZsAk+9TA4KDQwLbQDcFLarzAY/QXwfCv1sDsq97AB1zywONFqcARMOjAVklXwLLX2sB/iwjBaLftwI6iEsEvJsvAAWWDwGKn78A/IO/AJBYQwUFRmMAHIn3AWUTiwLt5y8BHRBnB3OYAwT1H48AQ6pbA1QfrwDYD08BcuNPAWi7dwLvVrMApffHAAvkHwUNJGMEpBOjAPP7kwNE6EMGyGI3A8nfqwJhHEsE8Q9PAmYi8wMjpCMHtJtHAYhkHwdlhGMGqRdPAS0gGwRetBcGMgRXB/GYDwdC0CsEP5gLBF37jwOOcqcAhw8vA/jWPwDDCocAiYsPA0oClwKoR2MBRO9bAeRtewFdjscBH0+XA1QLOwMwYGMHc2IHAvrVqwDD45cA8U+TAtQLfwJ8WrcCVq9HAFjXYwAd4A8FfKFvA227CwJlyccBEu43Akh7swN//jcDogsjATP+vwNmffMD7otvAwT4DwRKjGcGoPd3AzMEKwepF2cB0e+nA7t3fwI7Lw8Bj8ZTAokLhwFL5vsCQxNbAlqsEwfRL/cDyBZ7A8NTdwB8y+cD19ALBFQ+3wI44/sATLGnAqcqSwOWj2sCyjXzAYMm7wIJtBME3+YbAht4JwbprEMHVG9nAElGHwGpr7cBEXsHAVYDmwEaiEsF0eJzA2ZsJwWjp9sCutzNB66HhwATm0cCL7LPAMbwJwRhDN0FCeOzAIiXYwH2izsBasubA1+6awM6bfMBkKxrBM03vwKDBh8CgWRjB12HdwDbYhMDR1urAhRUWwTqrAMGsDLjABAkJwVeqbMBlQBDB7cPNwB5GbsB5J8PAiQwXwaKP08Cvt/bAwpjNwMATBMGfYpHA1+0VwSzY4MCHAKHAXhCUwMHXGMGBkgjBwsn3wM3CvcBTP9XAn/xJQeRDj8AqCaTA7S+0wIbp4MD8mX/A8CvhwEtejsAlM+vAa/e+wH1iuMCbuV3A6Gb2wA==",
          "dtype": "f4"
         },
         "xaxis": "x2",
         "y": {
          "bdata": "iBmMQLbW5kCY87xAw+H1QG5ZckAWPIdAakP8QGz6cEDa+5BAVgXpQLuxq0DQtNxAoNbvQM7XbEAOSLBABSrbQDG7r0ABleZAT2K8QPNjkkCVo5NA2zW4QFha1kAWnLVAgcHYQOKdskB0sJpAG/dzQJf6l0A8bbZAJN7TQL9OpEDFeqpA1J+hQJdYm0CMtqpAar22QJkirkCvtplAexWVQEmnd0DDbKtA29+JQBUgzUC4XqtAosH7QF4r2UDv87lAERGuQOB74UCbTudA82DPQPs01kAF7d9Aaau9QKUc3kDmYtZAhVvIQPPZbkBJXJRA/s+xQPsiz0CEzM5A9LKHQD3ZrkAqpttA4OzpQHgxb0BfkflAgkCXQG0/5UCb7rZA6bjTQGCgvkBggeRAmY+TQMQac0BAbKFA74BvQC4do0BchclAz8iPQLEV60ARvslAH+NzQG0SrkC7T7NAcm7aQIc9mkBJx2dAvTrRQNum3EC/LdZA+ODQQN0E8ECGmblAz7OPQChZlUDtF/RAoqSkQBAyjkDr3b5A7uXCQBA/6kCPqORAxmrnQPsJ4kCmaWtAdeOuQLRs3kCaD8pA/b6eQA8E2UAXhbBAQH3hQO1a1kAm3fRAqh3BQGw6uUCotdFAlnrQQBO+3UAwEtpAi1/3QC5FpUBKq+1AnnSSQDvrbkCne7RAKLeqQDeMmkCVUu9ApXJrQN8zmUBVns9AkbX4QBFW60D7aoVANZ2GQFpM0UDyNN1Aep38QH6GskBq2NNAS+/JQLDd30BY/W9AA/LPQKVkg0CPh4ZA896vQEGVmED6a/lAGB+YQOP4jUDUlf5AvnfQQGeS2ECclLNAEUTVQOltrUDfkJBAQ9T0QKZL0kBcx2tAsuvGQMs1n0Dv4NVAuCDVQGg1nEB43HdAHCrQQHM24ECJzeVAG1e5QEs0vUCssoVAvZGyQHD1/kASdpBAC2GiQF/210BMk2ZAwwSxQKZJ30D5dcVAc6mHQFHjtEAh+8hAv8HNQKOXzEC7eIRAL4y6QBtp0UAohbtAVb+tQFjJ+UB7G6xA1KHjQLymuEA1S5ZAgR/TQHjTsEA6cNRABa2iQB+DeEBwO9dAVN6QQL0lgkC/3OpAkcX8QK3AiECavdhAAfbGQDEw40Ds4pZApqO5QNQ4bkAmTc9AS5z2QK7TeEBX7JZAbrPqQOi240DJIMhAYAXfQFRYwUAHYZ1A8qzYQAl0qUCa/bBAxkhxQAcP6kBgMsNAxlqrQCcwkUCFAsZAFSTEQOx2nUA2OZ9A0mGYQCXGoUDE+JJAOovEQJ0BmUAmJK9AGZGWQGLDs0AJRmtA/ivOQA==",
          "dtype": "f4"
         },
         "yaxis": "y2"
        },
        {
         "hovertemplate": "Label=Irrelevant<br>Model=SBERT<br>UMAP-1=%{x}<br>UMAP-2=%{y}<extra></extra>",
         "legendgroup": "Irrelevant",
         "marker": {
          "color": "#EF553B",
          "opacity": 0.7,
          "size": 5,
          "symbol": "circle"
         },
         "mode": "markers",
         "name": "Irrelevant",
         "showlegend": false,
         "type": "scattergl",
         "x": {
          "bdata": "r9WFQUlWgUGbrYpBQD14QR6xgUFCf3lBUZCGQaGTgkFkgYJBZfOKQbtibkG5xolB17l2QQZUfEE1dHRBpLt8QSNfe0GEfYtB9aB1QY8zgkFw9pdBx1GBQSI7jEEtU3ZB0KKJQXGldkG2PYpBDPp8QUaCekHSJIxBcXSCQTeFiEEBB3BBsgCXQY7fdEHS+opBaCeEQdX3gUHQinJBatN/QalLgUH9RG1BzTOAQaV9ikEJDm9BOimOQZdceUE8JHxBWlhuQRWuikGoYohBIU56QRgmgEGIAIJBpiqJQUSEgEHa235Bbzt1QayBhEFHeHNBFC6JQTp3eEFrfJhBYml9QUrVi0HJC4FB4NGLQYGfiUHUqHVBDhVwQVlbbUFcyoRBS4GFQdGdjkHWlIpBbs1yQYsrkUE+K25BP/uGQfl0bEF8G4RBZpN3QQ6TiEEvuXNBlfOAQTLocEE/GHJBvjB6Qf9+i0FSdn9BFdVsQeT+g0GjuH9BQhWYQfmSgEEa0o5B6MV4QTxNmEHLgHtBJk5xQbtPfUEbH4RB4IJrQZt2i0Faj5JBTXeMQRHwfkEoO4BB/5GBQcJJjEHei29B/faIQXNKhkGEoH1BgbeHQfkCgEEtc4ZBwViBQdExgUFgmnpBRoeCQag5dUGPQ4RBQtR/QQf+g0FmC39BFrSBQR1jeEF/EHxBIK2NQXxFcEHAnHBBYS+GQd/VgUHfjYZB6ZiEQQq8i0GXVYpB+1OJQZnldEGmtYlByiyFQU0hgUFVPIZB95eCQZsIgkH8UINBML+LQQziiEEC/YdB7t2AQRathUGrcqJBnKyBQSjmiEEyLoZBxXCAQcJSf0HQ14BBX198QUFIcEG2WXRBkkqAQY5ojEHgEYVBclWJQRRfnEGsdZNBpD6BQR5JdkEOcXZBteqCQYdTikG7eohB4QZ+Qfr1b0G/I4VBJ1CGQSDvhEFQv31BVGx3QeqHgUHij4ZBWPxwQTtYf0E+5IVB+GqFQZcch0ExhYxBmAuMQYq3hUFEM4VB9xhxQbDhd0G/NJFB226DQTxNikHixJFBfeWJQQWxn0FnV35BaA+LQYaugkEIoIVBhMlwQXpVfkG32X1Bxbd2QVPQekE2vIxBTtCJQUt4iEE+i3NBvniIQcL/gUEraGtBxP5wQdxzhEEZaIZBdtWGQUsIiUEhqphBswSLQbktnUHvZ3RByzlsQeL7hUFg8INBg0B6QU2nbEEQbJVBJq56QTI6jEGNhmxBVFVxQVKFfkFjn4ZBF9+pQS8Rh0GSuYFBZpeAQd0bd0He9IdBbgl1QSOqfUEVrnNBOXV4QTd3gkFVvX1BNxuaQQ==",
          "dtype": "f4"
         },
         "xaxis": "x3",
         "y": {
          "bdata": "CCP+QDr+j0DWz4pAaAvFQOWTCUFzY/BAunWjQKyeA0FO9fdAWI+UQGCK0UBbJr5AcyWqQDIJAEGDZdVAfzORQHZhAEHXrbRAUvDBQIjd7UAcoOpA+znWQFlykUBj8ZxAoKy1QEvon0Ag+QVBHYbwQKFtBUFE3vRAv8udQNLN00A/v5RAYi3EQKre10DPSABBAX7RQKouCUFSXfZAknoBQagY/UARXsxAEWX0QADIi0AX6a1ATf3DQN76lUC56gRBZlmUQNFHuUCS5ohAs/3FQOWJhED+iKdAaBXPQD02hUCGB5ZAWgCeQImQBEEHv41Aq/2RQML0k0BorcZA0lb8QJGl/kAbsKlAprqBQAYcCEHnp7NA437UQEpE3UCEdtxAqkqVQI7Bz0B+NMhAViSgQKDQukD5E9VAaKYIQZv2l0Dk4KJA91nhQFQlq0CrNLdANckBQYlKsECfyqRAAHqTQKJL/EBzpwNB4a6TQF3K+kBE2JNA8tEFQSBrwkDWz/JAsqDkQNSF6UAMkMpAp5/ZQJAyBEFnBJlAq6vXQK8pgkBftNBA/tmFQO8To0CYngFB/A3KQDAvnEA1dr5A5c/uQBo5mkDvUZlA/VqUQI5ihUBS6qRA9yy9QIqogkBxs59AQzqhQBfIjUD2HZ9AnQO3QDpp7kCeB/BAykrJQPLx9ECUbc1AdM3kQBHM5EAqxqhA2IEJQTVsCkGkjJZAh9nZQJe4g0BG7wFB5Z8IQckXykDi8odArammQJYhCkFAxNtAEkHCQNSbhUC/MgpB/275QKCGB0EtPfhA/0feQKte2kDELwFBk7roQCgdB0FVOaVA5+iyQNacl0DOW7tAqCqmQDsjkkDl+txAVy/WQLmD+kDP8PpAztLkQEjYxEAXWrlAhJOHQIi200Cbv+dA/DS1QMd1tEAN7rZAHLfqQNThoUB1ZQNByK/JQCqxw0Bt9OdAxO0DQbLPj0A7IQJBaSSeQGBnnUAJPohABqAJQZoOt0AQ7d1AKFjOQBNpi0BpxvxA3QCjQIOww0Cm96xAsiy2QPspjUBuKe5ANVa3QAxTxkACy8BA2InKQFaN4kAzAJtAAEXzQImGAkEwXJtAB3HgQBsxBUElXINAB5vJQFWWBUFzMdZAFzaeQCL+jEDI6p5AobOiQGngB0E5D4dAD7CwQPX4/UBuX+hAqnKAQN3Kw0Cp1rFAvAnZQA9biEAy8edAPVKeQA6xl0CVBvRAxjYBQQQqgUCWNNZABziRQIVr7EAN/utA/IXeQPHNAUEPq+RATnT0QKGj+EDvEwhBA9y9QBB740DCMMBAu0TrQEbr3EA9NghBanQCQQ==",
          "dtype": "f4"
         },
         "yaxis": "y3"
        }
       ],
       "layout": {
        "annotations": [
         {
          "font": {},
          "showarrow": false,
          "text": "Word2Vec",
          "x": 0.15999999999999998,
          "xanchor": "center",
          "xref": "paper",
          "y": 1,
          "yanchor": "bottom",
          "yref": "paper"
         },
         {
          "font": {},
          "showarrow": false,
          "text": "FastText",
          "x": 0.49999999999999994,
          "xanchor": "center",
          "xref": "paper",
          "y": 1,
          "yanchor": "bottom",
          "yref": "paper"
         },
         {
          "font": {},
          "showarrow": false,
          "text": "SBERT",
          "x": 0.8399999999999999,
          "xanchor": "center",
          "xref": "paper",
          "y": 1,
          "yanchor": "bottom",
          "yref": "paper"
         }
        ],
        "height": 350,
        "legend": {
         "title": {
          "text": "Label"
         },
         "tracegroupgap": 0
        },
        "margin": {
         "b": 20,
         "l": 20,
         "r": 20,
         "t": 60
        },
        "template": {
         "data": {
          "bar": [
           {
            "error_x": {
             "color": "#2a3f5f"
            },
            "error_y": {
             "color": "#2a3f5f"
            },
            "marker": {
             "line": {
              "color": "#E5ECF6",
              "width": 0.5
             },
             "pattern": {
              "fillmode": "overlay",
              "size": 10,
              "solidity": 0.2
             }
            },
            "type": "bar"
           }
          ],
          "barpolar": [
           {
            "marker": {
             "line": {
              "color": "#E5ECF6",
              "width": 0.5
             },
             "pattern": {
              "fillmode": "overlay",
              "size": 10,
              "solidity": 0.2
             }
            },
            "type": "barpolar"
           }
          ],
          "carpet": [
           {
            "aaxis": {
             "endlinecolor": "#2a3f5f",
             "gridcolor": "white",
             "linecolor": "white",
             "minorgridcolor": "white",
             "startlinecolor": "#2a3f5f"
            },
            "baxis": {
             "endlinecolor": "#2a3f5f",
             "gridcolor": "white",
             "linecolor": "white",
             "minorgridcolor": "white",
             "startlinecolor": "#2a3f5f"
            },
            "type": "carpet"
           }
          ],
          "choropleth": [
           {
            "colorbar": {
             "outlinewidth": 0,
             "ticks": ""
            },
            "type": "choropleth"
           }
          ],
          "contour": [
           {
            "colorbar": {
             "outlinewidth": 0,
             "ticks": ""
            },
            "colorscale": [
             [
              0,
              "#0d0887"
             ],
             [
              0.1111111111111111,
              "#46039f"
             ],
             [
              0.2222222222222222,
              "#7201a8"
             ],
             [
              0.3333333333333333,
              "#9c179e"
             ],
             [
              0.4444444444444444,
              "#bd3786"
             ],
             [
              0.5555555555555556,
              "#d8576b"
             ],
             [
              0.6666666666666666,
              "#ed7953"
             ],
             [
              0.7777777777777778,
              "#fb9f3a"
             ],
             [
              0.8888888888888888,
              "#fdca26"
             ],
             [
              1,
              "#f0f921"
             ]
            ],
            "type": "contour"
           }
          ],
          "contourcarpet": [
           {
            "colorbar": {
             "outlinewidth": 0,
             "ticks": ""
            },
            "type": "contourcarpet"
           }
          ],
          "heatmap": [
           {
            "colorbar": {
             "outlinewidth": 0,
             "ticks": ""
            },
            "colorscale": [
             [
              0,
              "#0d0887"
             ],
             [
              0.1111111111111111,
              "#46039f"
             ],
             [
              0.2222222222222222,
              "#7201a8"
             ],
             [
              0.3333333333333333,
              "#9c179e"
             ],
             [
              0.4444444444444444,
              "#bd3786"
             ],
             [
              0.5555555555555556,
              "#d8576b"
             ],
             [
              0.6666666666666666,
              "#ed7953"
             ],
             [
              0.7777777777777778,
              "#fb9f3a"
             ],
             [
              0.8888888888888888,
              "#fdca26"
             ],
             [
              1,
              "#f0f921"
             ]
            ],
            "type": "heatmap"
           }
          ],
          "histogram": [
           {
            "marker": {
             "pattern": {
              "fillmode": "overlay",
              "size": 10,
              "solidity": 0.2
             }
            },
            "type": "histogram"
           }
          ],
          "histogram2d": [
           {
            "colorbar": {
             "outlinewidth": 0,
             "ticks": ""
            },
            "colorscale": [
             [
              0,
              "#0d0887"
             ],
             [
              0.1111111111111111,
              "#46039f"
             ],
             [
              0.2222222222222222,
              "#7201a8"
             ],
             [
              0.3333333333333333,
              "#9c179e"
             ],
             [
              0.4444444444444444,
              "#bd3786"
             ],
             [
              0.5555555555555556,
              "#d8576b"
             ],
             [
              0.6666666666666666,
              "#ed7953"
             ],
             [
              0.7777777777777778,
              "#fb9f3a"
             ],
             [
              0.8888888888888888,
              "#fdca26"
             ],
             [
              1,
              "#f0f921"
             ]
            ],
            "type": "histogram2d"
           }
          ],
          "histogram2dcontour": [
           {
            "colorbar": {
             "outlinewidth": 0,
             "ticks": ""
            },
            "colorscale": [
             [
              0,
              "#0d0887"
             ],
             [
              0.1111111111111111,
              "#46039f"
             ],
             [
              0.2222222222222222,
              "#7201a8"
             ],
             [
              0.3333333333333333,
              "#9c179e"
             ],
             [
              0.4444444444444444,
              "#bd3786"
             ],
             [
              0.5555555555555556,
              "#d8576b"
             ],
             [
              0.6666666666666666,
              "#ed7953"
             ],
             [
              0.7777777777777778,
              "#fb9f3a"
             ],
             [
              0.8888888888888888,
              "#fdca26"
             ],
             [
              1,
              "#f0f921"
             ]
            ],
            "type": "histogram2dcontour"
           }
          ],
          "mesh3d": [
           {
            "colorbar": {
             "outlinewidth": 0,
             "ticks": ""
            },
            "type": "mesh3d"
           }
          ],
          "parcoords": [
           {
            "line": {
             "colorbar": {
              "outlinewidth": 0,
              "ticks": ""
             }
            },
            "type": "parcoords"
           }
          ],
          "pie": [
           {
            "automargin": true,
            "type": "pie"
           }
          ],
          "scatter": [
           {
            "fillpattern": {
             "fillmode": "overlay",
             "size": 10,
             "solidity": 0.2
            },
            "type": "scatter"
           }
          ],
          "scatter3d": [
           {
            "line": {
             "colorbar": {
              "outlinewidth": 0,
              "ticks": ""
             }
            },
            "marker": {
             "colorbar": {
              "outlinewidth": 0,
              "ticks": ""
             }
            },
            "type": "scatter3d"
           }
          ],
          "scattercarpet": [
           {
            "marker": {
             "colorbar": {
              "outlinewidth": 0,
              "ticks": ""
             }
            },
            "type": "scattercarpet"
           }
          ],
          "scattergeo": [
           {
            "marker": {
             "colorbar": {
              "outlinewidth": 0,
              "ticks": ""
             }
            },
            "type": "scattergeo"
           }
          ],
          "scattergl": [
           {
            "marker": {
             "colorbar": {
              "outlinewidth": 0,
              "ticks": ""
             }
            },
            "type": "scattergl"
           }
          ],
          "scattermap": [
           {
            "marker": {
             "colorbar": {
              "outlinewidth": 0,
              "ticks": ""
             }
            },
            "type": "scattermap"
           }
          ],
          "scattermapbox": [
           {
            "marker": {
             "colorbar": {
              "outlinewidth": 0,
              "ticks": ""
             }
            },
            "type": "scattermapbox"
           }
          ],
          "scatterpolar": [
           {
            "marker": {
             "colorbar": {
              "outlinewidth": 0,
              "ticks": ""
             }
            },
            "type": "scatterpolar"
           }
          ],
          "scatterpolargl": [
           {
            "marker": {
             "colorbar": {
              "outlinewidth": 0,
              "ticks": ""
             }
            },
            "type": "scatterpolargl"
           }
          ],
          "scatterternary": [
           {
            "marker": {
             "colorbar": {
              "outlinewidth": 0,
              "ticks": ""
             }
            },
            "type": "scatterternary"
           }
          ],
          "surface": [
           {
            "colorbar": {
             "outlinewidth": 0,
             "ticks": ""
            },
            "colorscale": [
             [
              0,
              "#0d0887"
             ],
             [
              0.1111111111111111,
              "#46039f"
             ],
             [
              0.2222222222222222,
              "#7201a8"
             ],
             [
              0.3333333333333333,
              "#9c179e"
             ],
             [
              0.4444444444444444,
              "#bd3786"
             ],
             [
              0.5555555555555556,
              "#d8576b"
             ],
             [
              0.6666666666666666,
              "#ed7953"
             ],
             [
              0.7777777777777778,
              "#fb9f3a"
             ],
             [
              0.8888888888888888,
              "#fdca26"
             ],
             [
              1,
              "#f0f921"
             ]
            ],
            "type": "surface"
           }
          ],
          "table": [
           {
            "cells": {
             "fill": {
              "color": "#EBF0F8"
             },
             "line": {
              "color": "white"
             }
            },
            "header": {
             "fill": {
              "color": "#C8D4E3"
             },
             "line": {
              "color": "white"
             }
            },
            "type": "table"
           }
          ]
         },
         "layout": {
          "annotationdefaults": {
           "arrowcolor": "#2a3f5f",
           "arrowhead": 0,
           "arrowwidth": 1
          },
          "autotypenumbers": "strict",
          "coloraxis": {
           "colorbar": {
            "outlinewidth": 0,
            "ticks": ""
           }
          },
          "colorscale": {
           "diverging": [
            [
             0,
             "#8e0152"
            ],
            [
             0.1,
             "#c51b7d"
            ],
            [
             0.2,
             "#de77ae"
            ],
            [
             0.3,
             "#f1b6da"
            ],
            [
             0.4,
             "#fde0ef"
            ],
            [
             0.5,
             "#f7f7f7"
            ],
            [
             0.6,
             "#e6f5d0"
            ],
            [
             0.7,
             "#b8e186"
            ],
            [
             0.8,
             "#7fbc41"
            ],
            [
             0.9,
             "#4d9221"
            ],
            [
             1,
             "#276419"
            ]
           ],
           "sequential": [
            [
             0,
             "#0d0887"
            ],
            [
             0.1111111111111111,
             "#46039f"
            ],
            [
             0.2222222222222222,
             "#7201a8"
            ],
            [
             0.3333333333333333,
             "#9c179e"
            ],
            [
             0.4444444444444444,
             "#bd3786"
            ],
            [
             0.5555555555555556,
             "#d8576b"
            ],
            [
             0.6666666666666666,
             "#ed7953"
            ],
            [
             0.7777777777777778,
             "#fb9f3a"
            ],
            [
             0.8888888888888888,
             "#fdca26"
            ],
            [
             1,
             "#f0f921"
            ]
           ],
           "sequentialminus": [
            [
             0,
             "#0d0887"
            ],
            [
             0.1111111111111111,
             "#46039f"
            ],
            [
             0.2222222222222222,
             "#7201a8"
            ],
            [
             0.3333333333333333,
             "#9c179e"
            ],
            [
             0.4444444444444444,
             "#bd3786"
            ],
            [
             0.5555555555555556,
             "#d8576b"
            ],
            [
             0.6666666666666666,
             "#ed7953"
            ],
            [
             0.7777777777777778,
             "#fb9f3a"
            ],
            [
             0.8888888888888888,
             "#fdca26"
            ],
            [
             1,
             "#f0f921"
            ]
           ]
          },
          "colorway": [
           "#636efa",
           "#EF553B",
           "#00cc96",
           "#ab63fa",
           "#FFA15A",
           "#19d3f3",
           "#FF6692",
           "#B6E880",
           "#FF97FF",
           "#FECB52"
          ],
          "font": {
           "color": "#2a3f5f"
          },
          "geo": {
           "bgcolor": "white",
           "lakecolor": "white",
           "landcolor": "#E5ECF6",
           "showlakes": true,
           "showland": true,
           "subunitcolor": "white"
          },
          "hoverlabel": {
           "align": "left"
          },
          "hovermode": "closest",
          "mapbox": {
           "style": "light"
          },
          "paper_bgcolor": "white",
          "plot_bgcolor": "#E5ECF6",
          "polar": {
           "angularaxis": {
            "gridcolor": "white",
            "linecolor": "white",
            "ticks": ""
           },
           "bgcolor": "#E5ECF6",
           "radialaxis": {
            "gridcolor": "white",
            "linecolor": "white",
            "ticks": ""
           }
          },
          "scene": {
           "xaxis": {
            "backgroundcolor": "#E5ECF6",
            "gridcolor": "white",
            "gridwidth": 2,
            "linecolor": "white",
            "showbackground": true,
            "ticks": "",
            "zerolinecolor": "white"
           },
           "yaxis": {
            "backgroundcolor": "#E5ECF6",
            "gridcolor": "white",
            "gridwidth": 2,
            "linecolor": "white",
            "showbackground": true,
            "ticks": "",
            "zerolinecolor": "white"
           },
           "zaxis": {
            "backgroundcolor": "#E5ECF6",
            "gridcolor": "white",
            "gridwidth": 2,
            "linecolor": "white",
            "showbackground": true,
            "ticks": "",
            "zerolinecolor": "white"
           }
          },
          "shapedefaults": {
           "line": {
            "color": "#2a3f5f"
           }
          },
          "ternary": {
           "aaxis": {
            "gridcolor": "white",
            "linecolor": "white",
            "ticks": ""
           },
           "baxis": {
            "gridcolor": "white",
            "linecolor": "white",
            "ticks": ""
           },
           "bgcolor": "#E5ECF6",
           "caxis": {
            "gridcolor": "white",
            "linecolor": "white",
            "ticks": ""
           }
          },
          "title": {
           "x": 0.05
          },
          "xaxis": {
           "automargin": true,
           "gridcolor": "white",
           "linecolor": "white",
           "ticks": "",
           "title": {
            "standoff": 15
           },
           "zerolinecolor": "white",
           "zerolinewidth": 2
          },
          "yaxis": {
           "automargin": true,
           "gridcolor": "white",
           "linecolor": "white",
           "ticks": "",
           "title": {
            "standoff": 15
           },
           "zerolinecolor": "white",
           "zerolinewidth": 2
          }
         }
        },
        "title": {
         "text": "Document Embeddings: Word2Vec vs. FastText vs. SBERT (UMAP)"
        },
        "width": 1000,
        "xaxis": {
         "anchor": "y",
         "domain": [
          0,
          0.31999999999999995
         ],
         "range": [
          -9.441047601699829,
          20.796477298736573
         ],
         "title": {
          "text": "UMAP-1"
         }
        },
        "xaxis2": {
         "anchor": "y2",
         "domain": [
          0.33999999999999997,
          0.6599999999999999
         ],
         "matches": "x",
         "range": [
          -9.441047601699829,
          20.796477298736573
         ],
         "title": {
          "text": "UMAP-1"
         }
        },
        "xaxis3": {
         "anchor": "y3",
         "domain": [
          0.6799999999999999,
          0.9999999999999999
         ],
         "matches": "x",
         "range": [
          -9.441047601699829,
          20.796477298736573
         ],
         "title": {
          "text": "UMAP-1"
         }
        },
        "yaxis": {
         "anchor": "x",
         "domain": [
          0,
          1
         ],
         "range": [
          -0.7803137391805649,
          10.6438308429718
         ],
         "title": {
          "text": "UMAP-2"
         }
        },
        "yaxis2": {
         "anchor": "x2",
         "domain": [
          0,
          1
         ],
         "matches": "y",
         "range": [
          -0.7803137391805649,
          10.6438308429718
         ],
         "showticklabels": false
        },
        "yaxis3": {
         "anchor": "x3",
         "domain": [
          0,
          1
         ],
         "matches": "y",
         "range": [
          -0.7803137391805649,
          10.6438308429718
         ],
         "showticklabels": false
        }
       }
      },
      "image/png": "[encoded data removed]"
     },
     "metadata": {},
     "output_type": "display_data"
    }
   ],
   "source": [
    "# Axis scaling for comparability\n",
    "x_min, x_max = df_plot[\"x\"].quantile([0.01, 0.99])\n",
    "y_min, y_max = df_plot[\"y\"].quantile([0.01, 0.99])\n",
    "\n",
    "fig = px.scatter(\n",
    "    df_plot,\n",
    "    x=\"x\", y=\"y\",\n",
    "    color=\"Label\",\n",
    "    facet_col=\"Model\",\n",
    "    opacity=0.7,\n",
    "    title=\"Document Embeddings: Word2Vec vs. FastText vs. SBERT (UMAP)\",\n",
    "    labels={\"x\": \"UMAP-1\", \"y\": \"UMAP-2\"},\n",
    "    width=1000, height=350\n",
    ")\n",
    "fig.for_each_annotation(lambda a: a.update(text=a.text.split(\"=\")[-1]))\n",
    "fig.update_traces(marker=dict(size=5))\n",
    "fig.update_xaxes(range=[x_min, x_max])\n",
    "fig.update_yaxes(range=[y_min, y_max])\n",
    "fig.update_layout(margin=dict(l=20, r=20, t=60, b=20), legend_title=\"Label\")\n",
    "\n",
    "fig.write_html(BASE_DIR / \"reports/embeddings_umap_comparison.html\", include_plotlyjs=\"cdn\")\n",
    "display(fig)\n"
   ]
  },
  {
   "cell_type": "markdown",
   "id": "5be526da",
   "metadata": {},
   "source": [
    "- ***Word2Vec*** shows tighter clusters than PCA, with modest class separation.\n",
    "- ***FastText*** maintains structural clarity and benefits from subword modeling.\n",
    "- ***SBERT*** reveals highly compact clusters, reflecting powerful semantic compression."
   ]
  },
  {
   "cell_type": "markdown",
   "id": "d9ec5cc3",
   "metadata": {},
   "source": [
    "## 5.9 Summary: Comparing Embedding Models\n",
    "\n",
    "We evaluated three embedding approaches with logistic regression:\n",
    "- **Word2Vec**\n",
    "- **FastText**\n",
    "- **SBERT**\n",
    "\n",
    "**Insights from our results and model behavior:**\n",
    "\n",
    "- **Word2Vec** is simple and fast. It performs reliably and gives decent accuracy, but it lacks deep understanding of rare or out-of-vocabulary terms. Its PCA and UMAP plots showed loose clusters, meaning its representations are more spread out and less precise.\n",
    "\n",
    "- **FastText** improves on Word2Vec by using subword information. That helps with rare tokens and domain-specific words. It achieved the **highest F1 score**, meaning it's well-balanced for precision and recall. Its visual clusters were tighter than Word2Vec, especially under UMAP.\n",
    "\n",
    "- **SBERT** doesn't rely on local context or subword tricks; it builds meaning at a sentence level using deep transformers. It produced **the most compact and clear clusters**, indicating strong semantic compression. Despite its lower dimensionality, it performed competitively, showing that deeper models can encode more meaning with fewer features.\n",
    "\n",
    "- **PCA** gave a rough outline of how embeddings separate classes. **UMAP** gave more detailed insight into how documents relate semantically. SBERT’s tight clusters in both views suggest it builds more consistent meaning across samples.\n",
    "\n",
    "**Overall takeaway:**  \n",
    "FastText stands out as a balanced option for strong performance on text classification. SBERT provides deep and efficient semantic mapping,great for tasks where meaning matters more than speed. Word2Vec is still useful for lightweight applications, but it shows limits in expressiveness.\n",
    "\n"
   ]
  },
  {
   "cell_type": "markdown",
   "id": "8533fc64",
   "metadata": {},
   "source": [
    "In the [next notebook](https://github.com/alikhalajii/text-classification-life-sciences/blob/master/notebooks/06-ensemble-full-dataset-prediction.ipynb), we take the models trained here and run predictions on the full dataset (~14k rows). The goal is simple: apply our best embeddings and classifiers at scale, compare outputs, and prepare for an ensemble that blends their strengths.\n"
   ]
  }
 ],
 "metadata": {
  "kernelspec": {
   "display_name": "Python 3 (ipykernel)",
   "language": "python",
   "name": "python3"
  },
  "language_info": {
   "codemirror_mode": {
    "name": "ipython",
    "version": 3
   },
   "file_extension": ".py",
   "mimetype": "text/x-python",
   "name": "python",
   "nbconvert_exporter": "python",
   "pygments_lexer": "ipython3",
   "version": "3.12.3"
  }
 },
 "nbformat": 4,
 "nbformat_minor": 5
}
