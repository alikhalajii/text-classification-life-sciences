{
 "cells": [
  {
   "cell_type": "code",
   "execution_count": 2,
   "id": "a8f01c8f",
   "metadata": {},
   "outputs": [],
   "source": [
    "%matplotlib inline\n",
    "\n",
    "from pathlib import Path\n",
    "import pandas as pd\n",
    "import numpy as np\n",
    "import matplotlib.pyplot as plt\n",
    "from IPython.display import display\n",
    "import seaborn as sns\n",
    "import joblib\n",
    "\n",
    "BASE_DIR = Path.cwd().parent\n",
    "\n",
    "# Random seed for reproducibility\n",
    "SEED = 42\n",
    "np.random.seed(SEED)"
   ]
  },
  {
   "cell_type": "markdown",
   "id": "ba879184",
   "metadata": {},
   "source": [
    "# 5. Text‐Embedding–Driven Classification\n",
    "\n",
    "Welcome back. In our previous notebook, we cleaned and explored a structured dataset sourced from Hugging Face, and built a feature-rich DataFrame (`tf-idf`) tailored for traditional classification models. If you missed it, you can revisit our baseline experiments [here](https://github.com/alikhalajii/text-classification-life-sciences/blob/master/notebooks/04-traning-baseline-models.ipynb).\n",
    "\n",
    "Now, we shift gears toward embedding-powered classification, where semantic representation meets predictive modeling. This notebook introduces three embedding strategies paired with logistic regression, each offering a distinct balance of speed, expressiveness, and domain adaptability:\n",
    "\n",
    "- **Word2Vec + LR**  \n",
    "  - _Fast & Frugal_: A mean-vector approach that’s lightning-fast to train and test.  \n",
    "  - _Semantic Baseline_: Captures basic word co-occurrence patterns; ideal for testing whether distributional meaning alone adds predictive value.\n",
    "\n",
    "- **FastText + LR**  \n",
    "  - _Subword-Aware_: Handles rare terms, typos, and morphological variants via character n-grams.  \n",
    "  - _Domain Coverage_: Especially useful for Life-Science texts, where specialized jargon often escapes traditional embeddings.\n",
    "\n",
    "- **SBERT + LR**  \n",
    "  - _Context-Rich_: Uses transformer-based sentence encoders to grasp word sense, syntax, and subtle linguistic cues.  \n",
    "  - _High-Quality Embeddings_: Offers deep semantic insight, though at a higher computational cost; serves as a benchmark for simpler models.\n",
    "\n",
    "Throughout this notebook, we’ll weigh the trade-offs between computational efficiency, vocabulary coverage, and semantic depth to guide our final pipeline design.\n"
   ]
  },
  {
   "cell_type": "markdown",
   "id": "e2d6f92a",
   "metadata": {},
   "source": [
    "## 5.1 Data Preparation & Tokenisation\n",
    "\n",
    "We begin by loading the annotated dataset of 500 app descriptions, then split it into training and test sets. Each document is tokenised using Gensim's `simple_preprocess`, with standard English stop-words removed to reduce noise.\n"
   ]
  },
  {
   "cell_type": "code",
   "execution_count": 3,
   "id": "073211d1",
   "metadata": {},
   "outputs": [],
   "source": [
    "from sklearn.model_selection import train_test_split\n",
    "from gensim.utils import simple_preprocess\n",
    "from sklearn.feature_extraction.text import ENGLISH_STOP_WORDS\n",
    "\n",
    "# Load the annotated dataset \n",
    "df_annotated_full = pd.read_csv(BASE_DIR / \"data/02_df_annotated_full.csv\")\n",
    "\n",
    "# Raw texts and labels from the 500 annotated apps\n",
    "texts  = df_annotated_full[\"all_text_label\"].tolist()\n",
    "labels = df_annotated_full[\"Label\"].tolist()\n",
    "\n",
    "# Split into train/test\n",
    "X_train_txt, X_test_txt, y_train_txt, y_test_txt = train_test_split(\n",
    "    texts, labels,\n",
    "    test_size=0.2,\n",
    "    stratify=labels,\n",
    "    random_state=SEED\n",
    ")\n",
    "\n",
    "# Define stop-words and tokenise\n",
    "stop_words   = set(ENGLISH_STOP_WORDS)\n",
    "train_tokens = [\n",
    "    [t for t in simple_preprocess(doc) if t not in stop_words]\n",
    "    for doc in X_train_txt\n",
    "]\n",
    "test_tokens  = [\n",
    "    [t for t in simple_preprocess(doc) if t not in stop_words]\n",
    "    for doc in X_test_txt\n",
    "]\n"
   ]
  },
  {
   "cell_type": "markdown",
   "id": "3bc23864",
   "metadata": {},
   "source": [
    "## 5.2 Word2Vec – Train & Build Document Embeddings\n",
    "\n",
    "We train a lightweight Word2Vec model on the tokenised training corpus, then create document embeddings by averaging word vectors. This yields fast, stable baselines for downstream classification without heavy compute.\n"
   ]
  },
  {
   "cell_type": "code",
   "execution_count": 4,
   "id": "2fe1e802",
   "metadata": {},
   "outputs": [],
   "source": [
    "from gensim.models import Word2Vec\n",
    "\n",
    "# Train Word2Vec on our tokenised training data\n",
    "w2v_model = Word2Vec(\n",
    "    sentences=train_tokens,\n",
    "    vector_size=100,\n",
    "    window=5,\n",
    "    min_count=2,\n",
    "    workers=4,\n",
    "    seed=SEED\n",
    ")\n",
    "\n",
    "# Helper to average word vectors into a single doc vector\n",
    "def w2v_doc_vector(tokens):\n",
    "    vecs = [w2v_model.wv[t] for t in tokens if t in w2v_model.wv]\n",
    "    return np.mean(vecs, axis=0) if vecs else np.zeros(w2v_model.vector_size)\n",
    "\n",
    "# Create embeddings for train and test sets\n",
    "X_train_w2v = np.vstack([w2v_doc_vector(toks) for toks in train_tokens])\n",
    "X_test_w2v  = np.vstack([w2v_doc_vector(toks) for toks in test_tokens])"
   ]
  },
  {
   "cell_type": "markdown",
   "id": "87adc48b",
   "metadata": {},
   "source": [
    "## 5.3 Word2Vec – Train & Evaluate Logistic Regression\n",
    "\n",
    "Here, you're pairing your Word2Vec document embeddings with a Logistic Regression classifier for a solid baseline:\n",
    "\n",
    "**Training**\n",
    "- `LogisticRegression` is initialized with `max_iter=500` to ensure convergence.\n",
    "- Model is trained on the averaged Word2Vec vectors (`X_train_w2v`) and labels (`y_train_txt`).\n",
    "\n",
    "**Saving Components**\n",
    "- Trained Word2Vec model and classifier are saved using `.gensim` and `joblib` respectively, great for reproducibility and future inference!\n",
    "\n",
    "**Evaluation**\n",
    "- Predictions are made on the test set (`X_test_w2v`), and metrics are generated via `compute_metrics`.\n",
    "- Metrics are printed cleanly in Markdown format.\n",
    "\n",
    "**Confusion Matrix**\n",
    "- A visualization is built using `ConfusionMatrixDisplay`, clearly distinguishing \"Relevant\" vs \"Irrelevant\" classes.\n",
    "- Final plot is saved as a high-res PNG for reporting or presentation.\n"
   ]
  },
  {
   "cell_type": "code",
   "execution_count": 5,
   "id": "6237cb14",
   "metadata": {},
   "outputs": [
    {
     "name": "stdout",
     "output_type": "stream",
     "text": [
      "| Model         |   Accuracy % |   Precision % |   Recall % |   F1-score % |\n",
      "|:--------------|-------------:|--------------:|-----------:|-------------:|\n",
      "| Word2Vec + LR |           92 |         97.73 |         86 |        91.49 |\n"
     ]
    },
    {
     "data": {
      "image/png": "[encoded data removed]",
      "text/plain": [
       "<Figure size 500x400 with 2 Axes>"
      ]
     },
     "metadata": {},
     "output_type": "display_data"
    }
   ],
   "source": [
    "from sklearn.linear_model import LogisticRegression\n",
    "from sklearn.metrics import accuracy_score, precision_score, recall_score, f1_score, confusion_matrix, ConfusionMatrixDisplay\n",
    "\n",
    "\n",
    "# Train classifier\n",
    "clf_w2v = LogisticRegression(max_iter=500, random_state=SEED)\n",
    "clf_w2v.fit(X_train_w2v, y_train_txt)\n",
    "\n",
    "w2v_model.save(str(BASE_DIR / \"checkpoints/word2vec_model.gensim\"))\n",
    "joblib.dump(clf_w2v, BASE_DIR / \"checkpoints/word2vec_lr.pkl\")\n",
    "\n",
    "# Predict and report metrics\n",
    "y_pred_w2v = clf_w2v.predict(X_test_w2v)\n",
    "\n",
    "def compute_metrics(y_true, y_pred, model_name):\n",
    "    \"\"\"Compute and return evaluation metrics for a given model.\"\"\"\n",
    "    return {\n",
    "        \"Model\": model_name,\n",
    "        \"Accuracy %\": round(accuracy_score(y_true, y_pred) * 100, 2),\n",
    "        \"Precision %\": round(precision_score(y_true, y_pred) * 100, 2),\n",
    "        \"Recall %\": round(recall_score(y_true, y_pred) * 100, 2),\n",
    "        \"F1-score %\": round(f1_score(y_true, y_pred) * 100, 2),\n",
    "    }\n",
    "\n",
    "metrics_w2v = [\n",
    "    compute_metrics(y_test_txt, y_pred_w2v, \"Word2Vec + LR\")\n",
    "]\n",
    "\n",
    "print(pd.DataFrame(metrics_w2v).to_markdown(index=False))\n",
    "\n",
    "# Confusion matrix\n",
    "cm = confusion_matrix(y_test_txt, y_pred_w2v, labels=[0,1])\n",
    "disp = ConfusionMatrixDisplay(cm, display_labels=[\"Irrelevant\",\"Relevant\"])\n",
    "fig, ax = plt.subplots(figsize=(5,4))\n",
    "disp.plot(ax=ax, cmap=\"Blues\", values_format=\"d\")\n",
    "ax.set_title(\"Confusion Matrix: Word2Vec + LR\")\n",
    "plt.tight_layout()\n",
    "plt.savefig(BASE_DIR / \"plots/confusion_matrix_word2vec_lr.png\", dpi=150)\n",
    "plt.show()\n"
   ]
  },
  {
   "cell_type": "markdown",
   "id": "767fb649",
   "metadata": {},
   "source": [
    "## 5.4 FastText – Train & Build Document Embeddings\n",
    "\n",
    "Next, we train a FastText model over our tokenised corpus. FastText improves on Word2Vec by using subword information, enabling it to handle rare domain terms and unseen tokens more robustly. We then average token vectors to obtain document-level embeddings for classification.\n"
   ]
  },
  {
   "cell_type": "code",
   "execution_count": 6,
   "id": "1a395cd8",
   "metadata": {},
   "outputs": [],
   "source": [
    "from gensim.models import FastText\n",
    "\n",
    "# Helper to average FastText vectors into a document vector\n",
    "def ft_doc_vector(tokens, model, vec_size=100):\n",
    "    vecs = [model.wv[t] for t in tokens if t in model.wv]\n",
    "    return np.mean(vecs, axis=0) if vecs else np.zeros(vec_size)\n",
    "\n",
    "# Train FastText\n",
    "ft_model = FastText(\n",
    "    sentences=train_tokens,\n",
    "    vector_size=100,\n",
    "    window=5,\n",
    "    min_count=2,\n",
    "    workers=4,\n",
    "    seed=SEED,\n",
    "    epochs=10\n",
    ")\n",
    "ft_model.save(str(BASE_DIR / \"checkpoints/fasttext_model.gensim\"))\n",
    "\n",
    "# Create embeddings for train and test sets\n",
    "X_train_ft = np.vstack([ft_doc_vector(toks, ft_model, vec_size=100) for toks in train_tokens])\n",
    "X_test_ft  = np.vstack([ft_doc_vector(toks, ft_model, vec_size=100) for toks in test_tokens])\n"
   ]
  },
  {
   "cell_type": "markdown",
   "id": "52192d49",
   "metadata": {},
   "source": [
    "## 5.5 FastText – Train & Evaluate Logistic Regression\n",
    "\n",
    "We train a Logistic Regression classifier using the FastText-generated document embeddings. This approach helps evaluate how well FastText representations work for text classification.\n"
   ]
  },
  {
   "cell_type": "code",
   "execution_count": 7,
   "id": "63bccdbb",
   "metadata": {},
   "outputs": [
    {
     "name": "stdout",
     "output_type": "stream",
     "text": [
      "| Model         |   Accuracy % |   Precision % |   Recall % |   F1-score % |\n",
      "|:--------------|-------------:|--------------:|-----------:|-------------:|\n",
      "| FastText + LR |           92 |         95.65 |         88 |        91.67 |\n"
     ]
    },
    {
     "data": {
      "image/png": "[encoded data removed]",
      "text/plain": [
       "<Figure size 500x400 with 2 Axes>"
      ]
     },
     "metadata": {},
     "output_type": "display_data"
    }
   ],
   "source": [
    "# Train FastText classifier\n",
    "clf_ft = LogisticRegression(max_iter=1000, random_state=SEED)\n",
    "clf_ft.fit(X_train_ft, y_train_txt)\n",
    "\n",
    "# Save LR model\n",
    "joblib.dump(clf_ft, BASE_DIR / \"checkpoints/fasttext_lr.pkl\")\n",
    "\n",
    "# Predict and report metrics\n",
    "y_pred_ft = clf_ft.predict(X_test_ft)\n",
    "\n",
    "metrics_ft = [\n",
    "    compute_metrics(y_test_txt, y_pred_ft, \"FastText + LR\")\n",
    "]\n",
    "print(pd.DataFrame(metrics_ft).to_markdown(index=False))\n",
    "\n",
    "# Visualizing Confusion Matrix\n",
    "cm_ft = confusion_matrix(y_test_txt, y_pred_ft, labels=[0,1])\n",
    "disp_ft = ConfusionMatrixDisplay(cm_ft, display_labels=[\"Irrelevant\",\"Relevant\"])\n",
    "fig, ax = plt.subplots(figsize=(5,4))\n",
    "disp_ft.plot(ax=ax, cmap=\"Greens\", values_format=\"d\")\n",
    "ax.set_title(\"Confusion Matrix: FastText + LR\")\n",
    "plt.tight_layout()\n",
    "plt.savefig(BASE_DIR / \"plots/confusion_matrix_fasttext_lr.png\", dpi=150)\n",
    "plt.show()\n"
   ]
  },
  {
   "cell_type": "markdown",
   "id": "809a29b5",
   "metadata": {},
   "source": [
    "## 5.6 SBERT + Logistic Regression\n",
    "\n",
    "In this section, we utilize **Sentence-BERT (SBERT)** to embed text descriptions into high-dimensional vector representations. These embeddings are then used to train a **Logistic Regression** classifier for binary relevance classification.\n",
    "\n"
   ]
  },
  {
   "cell_type": "markdown",
   "id": "7934209a",
   "metadata": {},
   "source": [
    "**Embedding Text with SBERT**\n"
   ]
  },
  {
   "cell_type": "code",
   "execution_count": 8,
   "id": "1622954a",
   "metadata": {},
   "outputs": [
    {
     "data": {
      "application/vnd.jupyter.widget-view+json": {
       "model_id": "5d68978c67674e8d8835298e6c01188f",
       "version_major": 2,
       "version_minor": 0
      },
      "text/plain": [
       "Batches:   0%|          | 0/8 [00:00<?, ?it/s]"
      ]
     },
     "metadata": {},
     "output_type": "display_data"
    }
   ],
   "source": [
    "from sentence_transformers import SentenceTransformer\n",
    "\n",
    "sbert = SentenceTransformer(\"all-MiniLM-L6-v2\")\n",
    "docs = df_annotated_full[\"all_text_label\"].tolist()\n",
    "\n",
    "embs = sbert.encode(\n",
    "    docs,\n",
    "    batch_size=64,\n",
    "    show_progress_bar=True,\n",
    "    convert_to_numpy=True,\n",
    ")\n",
    "\n",
    "np.save(BASE_DIR / \"checkpoints/sbert_embeddings.npy\", embs)\n"
   ]
  },
  {
   "cell_type": "markdown",
   "id": "7658ede4",
   "metadata": {},
   "source": [
    "**Train/Test Split**"
   ]
  },
  {
   "cell_type": "code",
   "execution_count": 9,
   "id": "9129abcc",
   "metadata": {},
   "outputs": [],
   "source": [
    "y = df_annotated_full[\"Label\"]\n",
    "X_train_s, X_test_s, y_train_s, y_test_s = train_test_split(\n",
    "    embs, y, stratify=y, test_size=0.2, random_state=SEED\n",
    ")\n"
   ]
  },
  {
   "cell_type": "markdown",
   "id": "13933964",
   "metadata": {},
   "source": [
    "**Train Logistic Regression Model**"
   ]
  },
  {
   "cell_type": "code",
   "execution_count": 10,
   "id": "5edb49d3",
   "metadata": {},
   "outputs": [
    {
     "data": {
      "text/plain": [
       "['/home/khalaji/Coding/text-classification-life-sciences/checkpoints/sbert_lr.pkl']"
      ]
     },
     "execution_count": 10,
     "metadata": {},
     "output_type": "execute_result"
    }
   ],
   "source": [
    "clf_s = LogisticRegression(max_iter=500, random_state=SEED)\n",
    "clf_s.fit(X_train_s, y_train_s)\n",
    "\n",
    "joblib.dump(clf_s, BASE_DIR / \"checkpoints/sbert_lr.pkl\")\n"
   ]
  },
  {
   "cell_type": "markdown",
   "id": "2421d7f7",
   "metadata": {},
   "source": [
    "**Predict & Evaluate**"
   ]
  },
  {
   "cell_type": "code",
   "execution_count": 11,
   "id": "73eeabbf",
   "metadata": {},
   "outputs": [
    {
     "name": "stdout",
     "output_type": "stream",
     "text": [
      "| Model      |   Accuracy % |   Precision % |   Recall % |   F1-score % |\n",
      "|:-----------|-------------:|--------------:|-----------:|-------------:|\n",
      "| SBERT + LR |           90 |         91.67 |         88 |         89.8 |\n"
     ]
    }
   ],
   "source": [
    "y_pred_s = clf_s.predict(X_test_s)\n",
    "\n",
    "mettrics_sbert = [\n",
    "    compute_metrics(y_test_s, y_pred_s, \"SBERT + LR\")\n",
    "]\n",
    "\n",
    "print(pd.DataFrame(mettrics_sbert).to_markdown(index=False))\n"
   ]
  },
  {
   "cell_type": "markdown",
   "id": "d7c05ba6",
   "metadata": {},
   "source": [
    "**Confusion Matrix Visualization**"
   ]
  },
  {
   "cell_type": "code",
   "execution_count": 12,
   "id": "b677dfaf",
   "metadata": {},
   "outputs": [
    {
     "data": {
      "image/png": "[encoded data removed]",
      "text/plain": [
       "<Figure size 640x480 with 2 Axes>"
      ]
     },
     "metadata": {},
     "output_type": "display_data"
    }
   ],
   "source": [
    "cm = confusion_matrix(y_test_s, y_pred_s)\n",
    "sns.heatmap(cm, annot=True, fmt=\"d\", cmap=\"Blues\",\n",
    "            xticklabels=[\"Irrelevant\", \"Relevant\"],\n",
    "            yticklabels=[\"Irrelevant\", \"Relevant\"])\n",
    "plt.xlabel(\"Predicted label\")\n",
    "plt.ylabel(\"True label\")\n",
    "plt.title(\"Confusion Matrix — SBERT + LR\")\n",
    "plt.savefig(BASE_DIR / \"plots/confusion_matrix_sbert_lr.png\", dpi=150)\n",
    "plt.show()\n"
   ]
  },
  {
   "cell_type": "markdown",
   "id": "c62b1d4f",
   "metadata": {},
   "source": [
    "## 5.7 Visualizing Document Embeddings (PCA)\n",
    "\n",
    "This section illustrates how document embeddings generated by **Word2Vec** and **FastText** behave in a reduced 2D space using **Principal Component Analysis (PCA)**. Each document is plotted as a point, color-coded by its ground-truth label (Relevant or Irrelevant), providing insight into how well each model separates semantic classes.\n"
   ]
  },
  {
   "cell_type": "markdown",
   "id": "51ca30af",
   "metadata": {},
   "source": [
    "**Data Preparation & PCA Transformation**"
   ]
  },
  {
   "cell_type": "code",
   "execution_count": 24,
   "id": "15f7e3e9",
   "metadata": {},
   "outputs": [],
   "source": [
    "from sklearn.decomposition import PCA\n",
    "import plotly.express as px\n",
    "\n",
    "def make_df(embeddings, labels, model_name):\n",
    "    df = pd.DataFrame(embeddings, columns=[\"d1\",\"d2\"])\n",
    "    df[\"label\"] = np.where(labels==1, \"Relevant\", \"Irrelevant\")\n",
    "    df[\"model\"] = model_name\n",
    "    return df\n",
    "\n",
    "# Fit PCA on all embeddings\n",
    "pca = PCA(n_components=2, random_state=SEED)\n",
    "all_embs = np.vstack([X_train_w2v, X_test_w2v, X_train_ft, X_test_ft])\n",
    "pca.fit(all_embs)\n",
    "\n",
    "# Apply PCA transformation\n",
    "w2v_2d_train = pca.transform(X_train_w2v)\n",
    "w2v_2d_test  = pca.transform(X_test_w2v)\n",
    "ft_2d_train  = pca.transform(X_train_ft)\n",
    "ft_2d_test   = pca.transform(X_test_ft)"
   ]
  },
  {
   "cell_type": "markdown",
   "id": "34a355d7",
   "metadata": {},
   "source": [
    "**Build DataFrames for Plotting**"
   ]
  },
  {
   "cell_type": "code",
   "execution_count": 25,
   "id": "696b4183",
   "metadata": {},
   "outputs": [],
   "source": [
    "df_w2v = make_df(np.vstack([w2v_2d_train, w2v_2d_test]), np.hstack([y_train_txt, y_test_txt]), \"Word2Vec\")\n",
    "df_ft  = make_df(np.vstack([ft_2d_train,  ft_2d_test ]), np.hstack([y_train_txt, y_test_txt]), \"FastText\")\n",
    "df_plot = pd.concat([df_w2v, df_ft], ignore_index=True)"
   ]
  },
  {
   "cell_type": "markdown",
   "id": "32aebc84",
   "metadata": {},
   "source": [
    "**Interactive Embedding Visualization**"
   ]
  },
  {
   "cell_type": "code",
   "execution_count": 27,
   "id": "705e8111",
   "metadata": {},
   "outputs": [
    {
     "data": {
      "application/vnd.plotly.v1+json": {
       "config": {
        "plotlyServerURL": "https://plot.ly"
       },
       "data": [
        {
         "hovertemplate": "label=Relevant<br>model=Word2Vec<br>PC-1=%{x}<br>PC-2=%{y}<extra></extra>",
         "legendgroup": "Relevant",
         "marker": {
          "color": "#636efa",
          "opacity": 0.7,
          "symbol": "circle"
         },
         "mode": "markers",
         "name": "Relevant",
         "orientation": "v",
         "showlegend": true,
         "type": "scatter",
         "x": {
          "bdata": "qjBBwE8xV8BbKEfAIxlNwCeMX8DeRD7Ap50QwB2Sb8AatTzAt6t/wCKAPsBHOjbA3HkBwF6uXsCCZUvAg85nwF++B8C67FfAjOU7wLjcZ8AF8G/AKw4/wL7tE8B5YmfAoSpHwGFlRsBmREPAeLcdwOCMUMAZImDA8k5CwKi9bMAGbFrADahOwDCcTMBblFTA1zVCwLPzEcCpDinAOKdIwDqwJMB5ZUXAU6JkwFMuT8A9kE7A1mhEwKweU8An8EPAAVcBwEEyYsC3tlXAAcNOwBmtSMC2HRnA7GduwHIMbcDeM2TAYf9LwH02RsClskLABdU3wOw48r93m0vAy79FwCyhS8ANr2fAUIIDwEV+XsC5zlTAJdpKwCV9Y8Bz+3LAHeNKwKshccDgW03AuzQMwPhZQ8BYWkrAaYNDwE2FZcD1cWnAtSlrwHa1asBqiwXAktNDwFshYMCn4gvAmmJowEt0DcAxNXHAd5s8wBdjGcApDmjAyZ1RwEydX8C1B1rAnkhswD03O8CIsR7AUu5PwDEZbcArjCfAqcBtwOHVZcCAqgfA06A0wLIhOcD+bjTAf/xLwNrm979lgmPAKc09wNlHTcA/DgHAG7pjwKi2ZcBegg3ALjYSwB8YR8C7CQrAs2g+wDtENcDu1A3A9Qo3wNpQUcA0lWTA42pZwJSJT8ArzWXA6BVFwCUlX8DlNEHAAJ9qwODvMsBzqWPAQ+dNwB3fZcDk2grAEcRNwLMuVMDfH1PAfJjvv3MgR8AHUAXAm2dTwJ3SZsD9ezXAQpVNwMdUSMAV3AjA8HpjwDInWcAedDXAGExOwGPYTMB+sU3A2VA/wHpja8BS/TXAA71FwKHNS8CkMHPAx28IwP55Q8BaMGvAx2RfwILU67/CVv2/d81gwL/OCcDI2kTAn9dgwENwS8BN8DzATbRowEWWY8B8I2bAyTRUwFmRNMCNgW/ALBRHwKAhRMDwIQzAvnhDwPheZMBC1GzAtStywH8tYMCBHmHA56BhwO9CT8A45znAr8QVwCX0acDAnGfACe8swLcAZcBly0rA76tNwGNIcsC5slbAPX4FwGTgGsAPf0/AXvBQwBeZc8BMrnPAitP2v1ltScBl40XAEdNVwFr3UcAmCmbAM7lMwC5AasCmXFfAorV8wJv9aMBeKD7AuCptwG1yNcABiGvAV2pTwIAsdsC9A2HAuYJIwImka8AkpUfAa9tFwJAPM8CWRv2/bHROwOKACMCUTfW/Eic7wBnFTcDoaG3As8M3wNd1S8CitXzA7zpdwCPISMCkO2fAYsJOwGeldcBFf1zA1sFNwCOrEMDLu2nAVusRwA==",
          "dtype": "f4"
         },
         "xaxis": "x",
         "y": {
          "bdata": "432kP5r9GkBhC9I/xjgHQGKTKEDlbLE/wK5Iv8RLPUAWF3U/mB1tQJVcgD8SnH4/g/09vwDaI0BbA7o/kKQzQLQlmr8WVxZAeuh7P+zIPkDejEBAEQqSP5w+Vr+gOjRAy+GkP9kDwD85s9k/UtRmvwg1GUBWKh5AanIHP9wfM0C7Kug/xYyzP0W88D/cXRhAkwrCP1hgTL+QMjq+sZD1P0ZUSj87yLA/wnQmQGMc7j/seglAVdCqP20L/D85X7M/14ZHv5KLNEDKgAxAmSq/P8Xvnz+RQi+/GGpEQLA5OUBo4TxASZrbP+0pzD9p/5I/XlxiP9C1Vr/dDrE/g1WGP0E1qj/khEFA4Jd+v1bYJUDAjAtASd3tPyzmLkAMLThAX5D2P2DHSUAX1s4/QWlWv/Wbxj8Rj7w/LeSsP/isK0BU+TFAtLo7QJpEN0AkT1i/2N4EQAZjJkCcTEa/tPAxQMXzM7+Ks05AqfydP4CWir+k+zFAEoUAQETaKUBQayNAbIdEQFHfhD9Q8YA+/6rqPwCnO0DK1zU/tBJAQGweQUCdez2/cxmmPzH/tD98/oI+YzXjP1b5XL/uXidAg7OcPxWtyz+Tame/0PAqQIxUIED+cFS/E29tv5EMkT98Vly/GQWSP16FBj9UFlO/uz6bPyLxAEDeqClAzh4XQNFa0T+ANyxAUU3YP2KFKUBT0MI/YFw2QKXMhj9ILzJACQP6PzBwMUBuZ32/z3GyP6kj9j+YPRhA/x5TvwmGrD/yZFC/BFkjQDByN0Atz48/aZr5PyPh4z+mwUW/7pM0QBw4I0CJRos/jk4IQKNg9D/bP/Y/io8mP6gYLEDanGk/GS3CP8OKrD8keT5AfJo/v4V2yj+AUjlAiCgsQGQQcb/23FO/AOYyQJPEZL+Fcag/gO02QI2S8j/lCr4/ypU+QJyILkAayDBANFQaQGEjgj+YeEJAxc2xP/PFqj+UnSO/CQ7DP2CyK0DU0D9A3BhFQCRHJ0AyHiJALqUoQNTfBEBrso4/4/FQvwS0P0CIqTlAAmdOP2zcNEC9jfY/QRmRP9CeQUCS4wJAfJNnvwCEg7xFwb4/K5v+P4opVEAo7VBAuNxLv9mu9T814+g/8lETQFmq9z8AyT1A6XvLP+YcO0Au3ghAsg5aQE73M0BXXrM/dGVFQHV1hD84WT1ABpcEQGxEUkCweyxAXbe8P8zRLEDdmbk/leGsPziiXz6QsEy/6TH5P9o2Z79LL0a/PuJ2PzXU9D80TEFAcl1zP1Em6z+yDlpAdJkdQAXNvj8kDDZAm3vtP1xVNkCS4AlA5eu6P8K1Xr/QFUFAmE+Gvg==",
          "dtype": "f4"
         },
         "yaxis": "y"
        },
        {
         "hovertemplate": "label=Relevant<br>model=FastText<br>PC-1=%{x}<br>PC-2=%{y}<extra></extra>",
         "legendgroup": "Relevant",
         "marker": {
          "color": "#636efa",
          "opacity": 0.7,
          "symbol": "circle"
         },
         "mode": "markers",
         "name": "Relevant",
         "orientation": "v",
         "showlegend": false,
         "type": "scatter",
         "x": {
          "bdata": "eylkQA9InUD5sn9AuBOVQAjho0BLAW5ATgKHP+zNr0CBMUpAiie+QDV0UECwJ1FAQOW6P29IokDxv3FANFyrQJZ7uj9KfZlA73hRQLtmsUDgB7FAeTFnQBislz/XBalAVfNhQF12eECqsoJArBuqP6xvnUAa7JxAyUJsQBjupEDEwpZARadvQBp4iECcNJxAMa98QHRJqz8Vtx9AnjqLQO3MRkD7o2tAkrWhQARQh0APSZVAGVxmQLQxiEC5AHRABH2cP6TCrEDE55VAwO+NQHewe0BUK5E/KhKzQDqpqkBrVrBADc2CQFOJfUChl3NAMZNUQHqIoz8Bs3FAN4lYQAhMhkCOSbRAOnOYPx62oEAoB5VArD2NQHiup0CcRrBAQsGKQJUWtkCRKX9A1GOTP1FzekDjiHBAUW9qQBIJpECAo6hAIamsQHiWq0BMsaM/4miQQF7cpEDxXlY/COGuQABDsD9kkLpAfXxhQNjPA0B6IqhAyJOIQN4RpUCcbqBAt0O2QJJmTkDRWiJA+FKFQEn0tUBZX0NA3e6xQBlDtEA0drw/5WdsQD8zdUDnUUlAeWuLQEw3lT9i/6NA+TJnQCiTgUAmdpU/0MemQGOtnUAyXpo/oL2IP21Qc0Au1pc/W6deQG9oLUAo8Yo/y95kQB+QjUAZcKRA5reZQDflfEAeB6VArsOBQFhKpEAzH35AZBysQMfJWEDD06pAoI2MQHavp0CAjuY/T0RwQDtch0CXZJ5AciCPP5kabEBEuZk/eoalQGw1rUBxW2BA1o+FQOJJiUDEf64/sWasQKDPoECf+lpANtmUQKBliEBHVIlApetnQCKtqkBtvlNAW5d6QKt8c0DrorVAKF6mP/lgeUCsDKpAnvioQMTphz++k50/SGeoQNqRvD8jCWdApNStQDe6hUAVW3pAb5yxQHj9p0CthqdAgG+eQBImREC6W7JAF81rQL0IaUD2fck/P614QAwdpkDIULBAQMWyQBaaqkDw76FAtPejQKj5jkD18lpAFjSWP9KdsEDnq6tAicVDQCITrUDuP4tAIEKFQDrPsEA2DI5AetWOP2OpBEDhuXJAl6h0QAsrtUApI7RA2uuYP1OhikAQCYdAYb6ZQAphhUDg56xAl1FzQJmbp0Cva4hAbEqxQA0nqUAptnJAIvmxQHObU0CxzLBA9oSLQJv0u0AdSKNArRllQDIin0DrnHNAEY1qQHcnSkD+0q8/on+MQB4hqz96eJ4/PuhHQPDghkAwGbJAJXhKQD1biEDO7bBATLCdQIXsckBkhalARAqIQJhmokAQQ45AeWOJQETInD8186lAhnntPw==",
          "dtype": "f4"
         },
         "xaxis": "x2",
         "y": {
          "bdata": "yswqP1BiBUDVTpE/WfXsP7gxFEDemk8/tAEKwEhGH0AAWOo95GFJQFjtHT6EDfs+OB26vwL8C0AylE0/3IsdQJZ64r+NGfo/oIx3PtZkLEAqWiVAhPjVPlSBBcBuuRxAYtMWPyq8dT9FQKo/XHETwHoRBUBxevQ/gCnBPs6sDkAtosk/anlAPzEnsD9+YwJAnQOeP4lc+r9rsFW/sfC8P4j7oT6iji8/EpECQAP7qj8lDPA/LhY6P1nmhD+uR2o/u7/VvwTgJUC1cdQ/OYWrP0oNaT9bhhPAkI4tQJQTFUAEmStAoVeVPwWyoD8a8UY/1Gb7Prbjyr8Coko/KOEhPsU/iD+aRytARj4GwF62BUDHvOU/Ay/HP1g8EkAMdyZAefy/PxhjLUCSl2g/IOIGwBILWT/ODkY/SrhMP4rREEB28BhAkP0jQND+F0BeQuC/sWT1P56LEkCC8i7AwnciQCw73r+6GD9AKjQGP6awlL9G9RhA9X6xPzSzF0CIKRBA+Bg4QJC38D2IjZ6+DeWPP9QPL0Boqy4+PrEoQHg2MEAHxs+/UoVRP5JRdT+wpOe9DRKqPxRp87+qgRNA8lcvP56UYD+Hyfi/wOwXQFi7A0AAywrAZDgiwBKwQz8UVAPAMgAVP9Rk+75GSgXANp9YP9Grxj8iIg9AsQX/PyYpfD8qtxJA6zmWP/p2FUCXBII/tFYaQGSj0z6GICNASXW5PyjoF0Bva6a/nhJEPxlxgT+68ApAZ9Tbv6p9OT/M0O6/7N4bQIijIEAaokc/RZeZP5k6tz9cS8y/eN4gQA6ACEBE+Oc+2/7uP2/NyD91Qqo/1A7UPpjLEUCMoLE+sgVZP6ouUT84oy1AMpbcv3r4cT8axhZAIKMXQHYR+L8O/d6/rL0fQBZS9L/y9C4/yKgnQKXCqj89CZA/ar8qQNzPF0D4sBhAasgFQOAWoT6c7ixA2oovP1JBID/I2ri/WmdZP4TgE0AcZyRAbNEyQCK6G0AE8AlAKO4OQAM4zD+KTxc/ZusQwLgKK0AUCBxAuHFBPmSNIUD3jb4/Ovl1P7g/JkATyME/Xbf+v5Zjer+u0lM/xUOHPyaoNUDq1zZAum3Svzn4vT8hM7M/cXT7P7W2sT/6ySBACmFbP5C9FkDZ0Ks/3LQuQIoGGECS72A/VIUwQDD5vj7C6yNA+SO0P2gkQEAmRg5A5u1APw69AEAKTD0/nkYvPwDbqL15Rr+/E465P2xI5r9jx7e/ANn2vQVyoj+QTi1AQJTHPCvZsj+CNzBAha79P67aQz9ufhZALdWwP/wJEUCxObo/GXaeP2XNBsCArBxAkDWZvw==",
          "dtype": "f4"
         },
         "yaxis": "y2"
        },
        {
         "hovertemplate": "label=Irrelevant<br>model=Word2Vec<br>PC-1=%{x}<br>PC-2=%{y}<extra></extra>",
         "legendgroup": "Irrelevant",
         "marker": {
          "color": "#EF553B",
          "opacity": 0.7,
          "symbol": "circle"
         },
         "mode": "markers",
         "name": "Irrelevant",
         "orientation": "v",
         "showlegend": true,
         "type": "scatter",
         "x": {
          "bdata": "lJMUwDMBCsCamPG/Bw0KwBIGFMDPtAvAE80FwOkXF8D4uBDA9lAJwA5wCMCc4/m/Y3AAwGeYC8A9SgrAwXACwLgE8L8XEB7ApIUCwA1hC8DSzAfALscKwLjZAcDPyAfACKsZwG6ZCcCc+vy/ixMIwL4a/b/Nvw7Aea8DwGxf979W3Pi/IeoVwHq4C8DN4A3AY/wywCREDcCUnt+/vgUAwJRwE8C2MBDAoWoQwNhvAsA4ggnAkEXsv/32AsB4+hTAJA0QwP/jA8ByQ/6/7H76vx+9EsDQv/q/EJGuv4QD+r9MjwLAwl0MwBRvDcD65AzAmK8DwKM9BsC3xb6/BkwFwMufCcAS+ALA6toOwHkvCMAmdua/4IwOwOJE779voQvAKvX/vyDR+L9Ibfy/kTcTwJs/AsDUEfy/adsbwKz8D8D1ahfAHkUJwIaCHMCmut+/UCkHwDwV67/RBw3AHtkFwKN3CMBGIgrAdbQDwBKfAMCHyA/ARK8NwAnOAMD6YPO/RK0IwJGHCsDiCty/SaESwCn5BsA+nwzAuF0GwC4+B8BIfe6/dhzxvxB6GsDBIxjA7/0EwFCmAsAs1vy/DsX+v5tgAMDGM+6/574EwPtCE8A5Fg7AHIIdwCCeEsCcphjAZHYQwPSeFsBW0w/AmvTivw7xAsDkX/6/AQ8HwIKMEcBFRQzAIr/svwB6/r88cQPA6yQewIgUFMBafee/UNUUwLVsBsDooPi/TTQMwDR+37/Ga/W/MpgGwHhJ8b/qSte/Y/sgwLSU7r9g8w/AlOn4v05UCMBd3xrA3rUMwP+OF8DaGBTAbFkVwMnvDMBSzAnADWITwJZXFsBu7fa/3j3+vxpH+79xKhHAABIKwI8ZAcA4WhXA5PLXv+8XCMCgawvAVi4GwMxiFsCgxQLA7ATuvwVVDsA0zhHA3uwNwIrjDcD7NhfAFuP9vxTi579wJgXAOmzyv+Ag/r+oagrAWQwQwJDN97/GW+S/WUwJwOCs+b9MxPm/NDDzvyjrAcCb0AzAw9oKwNlqDsCetwXAxwYCwHJA5r8u6SDAO8MEwPMzFMDZ5AbAluEGwAFJDMCpTADAQtfrv300CsAc1BLA8OARwAA1BsCBlxPAxI0NwE7rB8AxsgTArIgQwLTrB8CedhDAXOUKwCM7B8B+owHACnLkvxfDBMBshgnABnILwKyXB8CcUua/ipwKwAA867/IGfG/WOoQwFfPEMAGyArAeEMUwGyeDcDS9QbAwJ8EwBURFMBn2RXATGoZwEy/9L/4gwfAwu4PwBjkB8BC5fy/HLflvx9xBcC6UQLAqWINwIUPLMAFKhLA5ZkOwA==",
          "dtype": "f4"
         },
         "xaxis": "x",
         "y": {
          "bdata": "9AFcvz0uVb+vfHa/YHu8vh9Ko7/w9VS/pJAlv3X8gb8a4Ge/iuo/vz/YW7/RsVS/rh9EvxdLZL9sYEu/oDpsv0BBY7+Mj1u/Q8FXv0BhPL9k6NK+Am1TvyckZL+gQVm/0ZUev0YJV7+rIke/DIKFv7oJYL9QDrO+s/hcv1C5Sr93vFq/uGNCvyRvRr94xQi/AHHIvtHrN7+c/Wa/HP5ZvyQjfr9IH1m/EVNjv7ggUb/ZRU2/DLZYv17eZb+ywxG/yEpAv/cMM78cmlG/sZJLv66cU7/MQ1q/pBZbv/IQY7+TLne/z0JUv9w1f798Flu/8pBJv9ZKXL/WKW6/IsBVv5SO9L6kKVO/BylIv5bwjb/kG1i/VOJRv84faL/W6y+/RFhrv1+Sab/kX1m/7tdNv9zijb+q92u/8NKXv7ZRQ7/XVUW/oeF7v07OLL/Wyye/i6SGv74vb7+O0D6/OCdbv1ezQL/2aI+/5jQ+v05MYr819k6//jsRv679Sr/8FCW/ZIt8v9hsyL5WNVi/cqEPv5wmZb81CkW/OhFDvyRqZr8iW1K/hOphvzysPr/Cykq/JMpOv/BQTb90GES/lChTv6yzX79tpVK/H1xhv5DdSL+6/gq/yBovv3UAUL+wEzy/dO09vxYLO7882C2/Ct5uv4IIZL/gMSm/TKpDvxwjbb/9pTG/oAuCv5hsbL8NDSC/9LRyv/gHR78aikW//IsHvxhMWr8cU12/b6o/v9B5gL8WaVS/8P09v+QnXr8oQHy/SVEcv9BXbL+48JG/8s9NvwG1Tr8G1DG/ppM4v0z07L5sQ4C+4jlWv8iRV78iEBy/GdMwvxC7Q7/jOWi/OFJYvzkZWb+tEli/mloxv1T6T786l36/YJB7v6bWJr8WVTS/eyVav0Xmd7+Rg1m/Ds9cv1xIUr/yxlG/fnggv4yvTr8COVO/xaA6vxbGR7+WMYO/v29xv5b9Xr8IKJm/qCZSv1gcbL8e9G6/bKRXvy5yVL+A1H2/OWByv7QvXb9jeFC/0bFmv7GiIb+o9Ju+/jVZvypKSr+Cyxi/Ni5fvyDiNj1/zWC/gnxNv/6KRb+kcla/UBJnv94CaL9NYUW/msBJvwMmgr9EI1+/wrg5v2xrZL81plK/b3Vev+hfSb82TT+/pHxmvwbRib+kYWG/sRVTv9H9W7+gB86+uPlYv6DaB7/ECnG/XztLv8DacL/023u/2jxTv9vBPb9CTzW/drdEv6I8Vb+U1T+/AKFjv2QUMb9K1jm/qsM9P1hvWr+Ue12/5tdHv7TtXL8SGS2/MwJqv5BFWb9GIlu/YG5Tv+g+7L4Qr32/ntgZvw==",
          "dtype": "f4"
         },
         "yaxis": "y"
        },
        {
         "hovertemplate": "label=Irrelevant<br>model=FastText<br>PC-1=%{x}<br>PC-2=%{y}<extra></extra>",
         "legendgroup": "Irrelevant",
         "marker": {
          "color": "#EF553B",
          "opacity": 0.7,
          "symbol": "circle"
         },
         "mode": "markers",
         "name": "Irrelevant",
         "orientation": "v",
         "showlegend": false,
         "type": "scatter",
         "x": {
          "bdata": "fguOP9AYnD/HJ3k/IJTfP6gk5z8Q2Iw/xGGpP9SBlj9KLMw/ngqkP2fFVz/AFZw/RN6nP3y2nz/64ZY/ivGIPxCimD9AYak/tqOOP7pQuz8mqZw/EFaOP1gCrT+qYI4/Qh2dP87tjT/yFK0/Hk2eP1dyaz8g6Os/pg2TP5pjoT/8OIs/jniJP85Niz/m5r8/PCm5P7zBoj+TzHU/vAuDP5Kuvz8xjTk/uiqsP0AkoT90oZk/XmqsP87/hz+ojKU/eKSGP8SfoD+qq68/8JybP5Yvjz+Kapg/nICsPz6Cmz+DN1o/FKyeP9x7qD+2FIE/PriOPxJ6jz+YPIg/cG6XP9Ayyj/uo6U/mqORPy6kxD82i74/e/J/P0Dngj9ieak/SpCBP0DMhz/0L6g/VbFrP+I6kD9AyIo/P/ABQP6xiD/CBpA/UV9zP34Spz/K8Js/8O+yP94KgT90q5Y/VDGWP07hqz8oTqM/DoOYPxSIvT9YP6c/dLWmP4Bjmz/Kqcw/A3NzP1qzmT/a6ac/MPKlP2Ymjj/sNZ0/6B+PP0xZlj9w758/yrPFP6aAij/OBaQ/qI+SP7gipD+mna0/ckmPP4rJhT8UloA/ikSeP6JlmD/WQq4/ECuaPzBngD/ImZY/bEmsPzDknz+mjKk/tAWZP/CMoT8M5rI/hAyjP1xilT+EU5w/ksyhP0ofhD9YYbc/EiTeP2pnlz9V2FI/EMnZP7ywhT/6qKs/UqO6P64plz+Euqk/QD2nP/CtmT8SHZk/ztzJP8Z1lD8ecM4/ftmdP5RQpz/O98M/1jKTP/RTsD8iyfc/wGyvP1Krtz8uiKg/tpSpPzattD/0Wpo/NFaPP7wZjT8z33k/jEilP3rRqD8i95I/sueYP1Tcoz+cPZ4/0nOfP8RDgT88pZM/nFijP7pRkj9STJ0/ZlWqP47omD9CevI/jK+rP+L4vT+obtQ/EnSVP+SclD+ERp0/Ez5gP4Ytjz8cIJM/SuujPyKvkD9kFaw/4CmEP+IlkD8q350/MBeFP/ycqz9Y594/nFqSPzKWqT/yKrs/hkqSP7Y2DUBDyX0/AEWWP3Bhpj/KkZg/LqCkP2oysj+Gpq8/j/luP/q8nT+G96E/HtaiP044pT/wgKI/d/V6P86Plz8qIJc/+M+EP8IcuT9+N40/gFCwP5QItD/W354/qF2eP3DVrD8XeXk/fm6uP2uHfj9iadU/3EyNP5Llhz+4cbY/HF+oP5KHkD9MDJA/xmmCPzTfkT+u99I/M2cYQIJgvT+y6Jg/yhqTP85XkT8ONOs/q5ZtPyLJsD/mUYk/YF+IPzwitT8OjcM/bDSxPw==",
          "dtype": "f4"
         },
         "xaxis": "x2",
         "y": {
          "bdata": "f48FwB4J87/Km+u/f2+Yv66tw7/EDwPAvnXFv7yQEMBZys6/kKHqv0OzLcDDe8m/9dzRv/IyD8D4yPe/mY8EwDMF+L/8PQ7A8v3vvxRBw79TNQrAdOj+vwhD1L/NjQvA9D7tvxs4DMAdfLS/5DwIwILMGsAWDmG/9kL8vzqhw79sK+6/GMoHwA/yDcDk76G/DWjZv18X/L/9aP2/4j8CwKGT6L+GM0zApvTov1NwxL/aTgXA9reiv2in9r/b7QLAmKHyvznW17/WJ7y/OnntvyrMAsC7dt2/dMqhvwk36L84wgfAiq/7v1dGDcDg5wrAMdLqv2guEMAxTsi/A2j1v9pBnb8GiNy/nIL9v1WB2r/o36K/akkewMyECMDcIMi/WGoGwLAd4L+6ebO/4FEcwIjSF8B/XQfAjX3Cv4SQCMANjATAGNoawGb61L89L66/KckCwBQM+78u3Pm/Er31vy26z7+MTgPADvLYvwRBz7/SKP+/dRzivygn0L+kdoe/jAwawC66EsBUVL+/vyUNwFzQA8AUVtu/4OEHwNJT+L+oLMO/vNq2v5t+DMDYvQ3AKp34v0eZ4b8+D8e/Off0v/CLAsAATti/Rhztvwxw+L9wQL+/IDYMwHbTE8ADlf+/gOfnv4n0BsDtc9K/h2fJv0/D2r8E87O/Hu7Pv4yMJcDijt6/jX/Kv6tyDsDaCMm/PD3kv4jl/L80fdC/WUWWv7vHAMBoodW/gji1vxSa4b/Trca//LfFv0mpw7/u2c2/qJbcv+DF878mVte/ufbSv0Myzb+fW+y/60f6vzBzwL9LmIC/kKbpv2N0xb/DK8i/P5/bv8BA0L9xJua/asf2v0s88L/AjxzAO3zOv4q40r8VhA/A3nLev9zA7L8AZ+m/xdHrvw1LKcBIbAjA7gPYvyhQ+7/6c/u/Mujav+hBAsBYG6+/QtmPv5dFtL919K6/pCvwv1Yl779scyDA0+0bwF5K7r+4nOC/K1Dgv8qe9b8Qsta/glDUv1CfAsD4tPW/Ip4ZwPLO2L+E1U+/xDv5v6C+pb/Lm9O/yisKwPhFBr8G9QrAzRy7v0Ji97+5pde/Q5nLv9BX3L9E3tW/iqkLwM45+r8iXwDAW6u2vwgG5b+KtfC/L40XwCPV4r8szADAFqQZwEn73b84Xvu/ntqpv29c279ovAnAvozyvxXKsb+0t/e/Xd3Wv+rL+L++TK2/e0n/vzR+8b9yYLm/7L0GwMMmA8B5zgbAXQQBwKfW/r/5Qsu/UCazPQmWtr/dlty/8Hj6v91hDsArT5K/1oLfvxQ0yL8/tP2//8QIwKGFur/AB+u/MLjhvw==",
          "dtype": "f4"
         },
         "yaxis": "y2"
        }
       ],
       "layout": {
        "annotations": [
         {
          "font": {},
          "showarrow": false,
          "text": "Word2Vec",
          "x": 0.245,
          "xanchor": "center",
          "xref": "paper",
          "y": 1,
          "yanchor": "bottom",
          "yref": "paper"
         },
         {
          "font": {},
          "showarrow": false,
          "text": "FastText",
          "x": 0.755,
          "xanchor": "center",
          "xref": "paper",
          "y": 1,
          "yanchor": "bottom",
          "yref": "paper"
         }
        ],
        "legend": {
         "title": {
          "text": "Label"
         },
         "tracegroupgap": 0
        },
        "margin": {
         "b": 20,
         "l": 20,
         "r": 20,
         "t": 60
        },
        "template": {
         "data": {
          "bar": [
           {
            "error_x": {
             "color": "#2a3f5f"
            },
            "error_y": {
             "color": "#2a3f5f"
            },
            "marker": {
             "line": {
              "color": "#E5ECF6",
              "width": 0.5
             },
             "pattern": {
              "fillmode": "overlay",
              "size": 10,
              "solidity": 0.2
             }
            },
            "type": "bar"
           }
          ],
          "barpolar": [
           {
            "marker": {
             "line": {
              "color": "#E5ECF6",
              "width": 0.5
             },
             "pattern": {
              "fillmode": "overlay",
              "size": 10,
              "solidity": 0.2
             }
            },
            "type": "barpolar"
           }
          ],
          "carpet": [
           {
            "aaxis": {
             "endlinecolor": "#2a3f5f",
             "gridcolor": "white",
             "linecolor": "white",
             "minorgridcolor": "white",
             "startlinecolor": "#2a3f5f"
            },
            "baxis": {
             "endlinecolor": "#2a3f5f",
             "gridcolor": "white",
             "linecolor": "white",
             "minorgridcolor": "white",
             "startlinecolor": "#2a3f5f"
            },
            "type": "carpet"
           }
          ],
          "choropleth": [
           {
            "colorbar": {
             "outlinewidth": 0,
             "ticks": ""
            },
            "type": "choropleth"
           }
          ],
          "contour": [
           {
            "colorbar": {
             "outlinewidth": 0,
             "ticks": ""
            },
            "colorscale": [
             [
              0,
              "#0d0887"
             ],
             [
              0.1111111111111111,
              "#46039f"
             ],
             [
              0.2222222222222222,
              "#7201a8"
             ],
             [
              0.3333333333333333,
              "#9c179e"
             ],
             [
              0.4444444444444444,
              "#bd3786"
             ],
             [
              0.5555555555555556,
              "#d8576b"
             ],
             [
              0.6666666666666666,
              "#ed7953"
             ],
             [
              0.7777777777777778,
              "#fb9f3a"
             ],
             [
              0.8888888888888888,
              "#fdca26"
             ],
             [
              1,
              "#f0f921"
             ]
            ],
            "type": "contour"
           }
          ],
          "contourcarpet": [
           {
            "colorbar": {
             "outlinewidth": 0,
             "ticks": ""
            },
            "type": "contourcarpet"
           }
          ],
          "heatmap": [
           {
            "colorbar": {
             "outlinewidth": 0,
             "ticks": ""
            },
            "colorscale": [
             [
              0,
              "#0d0887"
             ],
             [
              0.1111111111111111,
              "#46039f"
             ],
             [
              0.2222222222222222,
              "#7201a8"
             ],
             [
              0.3333333333333333,
              "#9c179e"
             ],
             [
              0.4444444444444444,
              "#bd3786"
             ],
             [
              0.5555555555555556,
              "#d8576b"
             ],
             [
              0.6666666666666666,
              "#ed7953"
             ],
             [
              0.7777777777777778,
              "#fb9f3a"
             ],
             [
              0.8888888888888888,
              "#fdca26"
             ],
             [
              1,
              "#f0f921"
             ]
            ],
            "type": "heatmap"
           }
          ],
          "histogram": [
           {
            "marker": {
             "pattern": {
              "fillmode": "overlay",
              "size": 10,
              "solidity": 0.2
             }
            },
            "type": "histogram"
           }
          ],
          "histogram2d": [
           {
            "colorbar": {
             "outlinewidth": 0,
             "ticks": ""
            },
            "colorscale": [
             [
              0,
              "#0d0887"
             ],
             [
              0.1111111111111111,
              "#46039f"
             ],
             [
              0.2222222222222222,
              "#7201a8"
             ],
             [
              0.3333333333333333,
              "#9c179e"
             ],
             [
              0.4444444444444444,
              "#bd3786"
             ],
             [
              0.5555555555555556,
              "#d8576b"
             ],
             [
              0.6666666666666666,
              "#ed7953"
             ],
             [
              0.7777777777777778,
              "#fb9f3a"
             ],
             [
              0.8888888888888888,
              "#fdca26"
             ],
             [
              1,
              "#f0f921"
             ]
            ],
            "type": "histogram2d"
           }
          ],
          "histogram2dcontour": [
           {
            "colorbar": {
             "outlinewidth": 0,
             "ticks": ""
            },
            "colorscale": [
             [
              0,
              "#0d0887"
             ],
             [
              0.1111111111111111,
              "#46039f"
             ],
             [
              0.2222222222222222,
              "#7201a8"
             ],
             [
              0.3333333333333333,
              "#9c179e"
             ],
             [
              0.4444444444444444,
              "#bd3786"
             ],
             [
              0.5555555555555556,
              "#d8576b"
             ],
             [
              0.6666666666666666,
              "#ed7953"
             ],
             [
              0.7777777777777778,
              "#fb9f3a"
             ],
             [
              0.8888888888888888,
              "#fdca26"
             ],
             [
              1,
              "#f0f921"
             ]
            ],
            "type": "histogram2dcontour"
           }
          ],
          "mesh3d": [
           {
            "colorbar": {
             "outlinewidth": 0,
             "ticks": ""
            },
            "type": "mesh3d"
           }
          ],
          "parcoords": [
           {
            "line": {
             "colorbar": {
              "outlinewidth": 0,
              "ticks": ""
             }
            },
            "type": "parcoords"
           }
          ],
          "pie": [
           {
            "automargin": true,
            "type": "pie"
           }
          ],
          "scatter": [
           {
            "fillpattern": {
             "fillmode": "overlay",
             "size": 10,
             "solidity": 0.2
            },
            "type": "scatter"
           }
          ],
          "scatter3d": [
           {
            "line": {
             "colorbar": {
              "outlinewidth": 0,
              "ticks": ""
             }
            },
            "marker": {
             "colorbar": {
              "outlinewidth": 0,
              "ticks": ""
             }
            },
            "type": "scatter3d"
           }
          ],
          "scattercarpet": [
           {
            "marker": {
             "colorbar": {
              "outlinewidth": 0,
              "ticks": ""
             }
            },
            "type": "scattercarpet"
           }
          ],
          "scattergeo": [
           {
            "marker": {
             "colorbar": {
              "outlinewidth": 0,
              "ticks": ""
             }
            },
            "type": "scattergeo"
           }
          ],
          "scattergl": [
           {
            "marker": {
             "colorbar": {
              "outlinewidth": 0,
              "ticks": ""
             }
            },
            "type": "scattergl"
           }
          ],
          "scattermap": [
           {
            "marker": {
             "colorbar": {
              "outlinewidth": 0,
              "ticks": ""
             }
            },
            "type": "scattermap"
           }
          ],
          "scattermapbox": [
           {
            "marker": {
             "colorbar": {
              "outlinewidth": 0,
              "ticks": ""
             }
            },
            "type": "scattermapbox"
           }
          ],
          "scatterpolar": [
           {
            "marker": {
             "colorbar": {
              "outlinewidth": 0,
              "ticks": ""
             }
            },
            "type": "scatterpolar"
           }
          ],
          "scatterpolargl": [
           {
            "marker": {
             "colorbar": {
              "outlinewidth": 0,
              "ticks": ""
             }
            },
            "type": "scatterpolargl"
           }
          ],
          "scatterternary": [
           {
            "marker": {
             "colorbar": {
              "outlinewidth": 0,
              "ticks": ""
             }
            },
            "type": "scatterternary"
           }
          ],
          "surface": [
           {
            "colorbar": {
             "outlinewidth": 0,
             "ticks": ""
            },
            "colorscale": [
             [
              0,
              "#0d0887"
             ],
             [
              0.1111111111111111,
              "#46039f"
             ],
             [
              0.2222222222222222,
              "#7201a8"
             ],
             [
              0.3333333333333333,
              "#9c179e"
             ],
             [
              0.4444444444444444,
              "#bd3786"
             ],
             [
              0.5555555555555556,
              "#d8576b"
             ],
             [
              0.6666666666666666,
              "#ed7953"
             ],
             [
              0.7777777777777778,
              "#fb9f3a"
             ],
             [
              0.8888888888888888,
              "#fdca26"
             ],
             [
              1,
              "#f0f921"
             ]
            ],
            "type": "surface"
           }
          ],
          "table": [
           {
            "cells": {
             "fill": {
              "color": "#EBF0F8"
             },
             "line": {
              "color": "white"
             }
            },
            "header": {
             "fill": {
              "color": "#C8D4E3"
             },
             "line": {
              "color": "white"
             }
            },
            "type": "table"
           }
          ]
         },
         "layout": {
          "annotationdefaults": {
           "arrowcolor": "#2a3f5f",
           "arrowhead": 0,
           "arrowwidth": 1
          },
          "autotypenumbers": "strict",
          "coloraxis": {
           "colorbar": {
            "outlinewidth": 0,
            "ticks": ""
           }
          },
          "colorscale": {
           "diverging": [
            [
             0,
             "#8e0152"
            ],
            [
             0.1,
             "#c51b7d"
            ],
            [
             0.2,
             "#de77ae"
            ],
            [
             0.3,
             "#f1b6da"
            ],
            [
             0.4,
             "#fde0ef"
            ],
            [
             0.5,
             "#f7f7f7"
            ],
            [
             0.6,
             "#e6f5d0"
            ],
            [
             0.7,
             "#b8e186"
            ],
            [
             0.8,
             "#7fbc41"
            ],
            [
             0.9,
             "#4d9221"
            ],
            [
             1,
             "#276419"
            ]
           ],
           "sequential": [
            [
             0,
             "#0d0887"
            ],
            [
             0.1111111111111111,
             "#46039f"
            ],
            [
             0.2222222222222222,
             "#7201a8"
            ],
            [
             0.3333333333333333,
             "#9c179e"
            ],
            [
             0.4444444444444444,
             "#bd3786"
            ],
            [
             0.5555555555555556,
             "#d8576b"
            ],
            [
             0.6666666666666666,
             "#ed7953"
            ],
            [
             0.7777777777777778,
             "#fb9f3a"
            ],
            [
             0.8888888888888888,
             "#fdca26"
            ],
            [
             1,
             "#f0f921"
            ]
           ],
           "sequentialminus": [
            [
             0,
             "#0d0887"
            ],
            [
             0.1111111111111111,
             "#46039f"
            ],
            [
             0.2222222222222222,
             "#7201a8"
            ],
            [
             0.3333333333333333,
             "#9c179e"
            ],
            [
             0.4444444444444444,
             "#bd3786"
            ],
            [
             0.5555555555555556,
             "#d8576b"
            ],
            [
             0.6666666666666666,
             "#ed7953"
            ],
            [
             0.7777777777777778,
             "#fb9f3a"
            ],
            [
             0.8888888888888888,
             "#fdca26"
            ],
            [
             1,
             "#f0f921"
            ]
           ]
          },
          "colorway": [
           "#636efa",
           "#EF553B",
           "#00cc96",
           "#ab63fa",
           "#FFA15A",
           "#19d3f3",
           "#FF6692",
           "#B6E880",
           "#FF97FF",
           "#FECB52"
          ],
          "font": {
           "color": "#2a3f5f"
          },
          "geo": {
           "bgcolor": "white",
           "lakecolor": "white",
           "landcolor": "#E5ECF6",
           "showlakes": true,
           "showland": true,
           "subunitcolor": "white"
          },
          "hoverlabel": {
           "align": "left"
          },
          "hovermode": "closest",
          "mapbox": {
           "style": "light"
          },
          "paper_bgcolor": "white",
          "plot_bgcolor": "#E5ECF6",
          "polar": {
           "angularaxis": {
            "gridcolor": "white",
            "linecolor": "white",
            "ticks": ""
           },
           "bgcolor": "#E5ECF6",
           "radialaxis": {
            "gridcolor": "white",
            "linecolor": "white",
            "ticks": ""
           }
          },
          "scene": {
           "xaxis": {
            "backgroundcolor": "#E5ECF6",
            "gridcolor": "white",
            "gridwidth": 2,
            "linecolor": "white",
            "showbackground": true,
            "ticks": "",
            "zerolinecolor": "white"
           },
           "yaxis": {
            "backgroundcolor": "#E5ECF6",
            "gridcolor": "white",
            "gridwidth": 2,
            "linecolor": "white",
            "showbackground": true,
            "ticks": "",
            "zerolinecolor": "white"
           },
           "zaxis": {
            "backgroundcolor": "#E5ECF6",
            "gridcolor": "white",
            "gridwidth": 2,
            "linecolor": "white",
            "showbackground": true,
            "ticks": "",
            "zerolinecolor": "white"
           }
          },
          "shapedefaults": {
           "line": {
            "color": "#2a3f5f"
           }
          },
          "ternary": {
           "aaxis": {
            "gridcolor": "white",
            "linecolor": "white",
            "ticks": ""
           },
           "baxis": {
            "gridcolor": "white",
            "linecolor": "white",
            "ticks": ""
           },
           "bgcolor": "#E5ECF6",
           "caxis": {
            "gridcolor": "white",
            "linecolor": "white",
            "ticks": ""
           }
          },
          "title": {
           "x": 0.05
          },
          "xaxis": {
           "automargin": true,
           "gridcolor": "white",
           "linecolor": "white",
           "ticks": "",
           "title": {
            "standoff": 15
           },
           "zerolinecolor": "white",
           "zerolinewidth": 2
          },
          "yaxis": {
           "automargin": true,
           "gridcolor": "white",
           "linecolor": "white",
           "ticks": "",
           "title": {
            "standoff": 15
           },
           "zerolinecolor": "white",
           "zerolinewidth": 2
          }
         }
        },
        "title": {
         "text": "Document Embeddings: Word2Vec vs. FastText (PCA-2D)"
        },
        "xaxis": {
         "anchor": "y",
         "domain": [
          0,
          0.49
         ],
         "title": {
          "text": "PC-1"
         }
        },
        "xaxis2": {
         "anchor": "y2",
         "domain": [
          0.51,
          1
         ],
         "matches": "x",
         "title": {
          "text": "PC-1"
         }
        },
        "yaxis": {
         "anchor": "x",
         "domain": [
          0,
          1
         ],
         "title": {
          "text": "PC-2"
         }
        },
        "yaxis2": {
         "anchor": "x2",
         "domain": [
          0,
          1
         ],
         "matches": "y",
         "showticklabels": false
        }
       }
      }
     },
     "metadata": {},
     "output_type": "display_data"
    }
   ],
   "source": [
    "fig = px.scatter(\n",
    "    df_plot,\n",
    "    x=\"d1\", y=\"d2\",\n",
    "    color=\"label\",\n",
    "    facet_col=\"model\",\n",
    "    opacity=0.7,\n",
    "    title=\"Document Embeddings: Word2Vec vs. FastText (PCA-2D)\",\n",
    "    labels={\"d1\":\"PC-1\", \"d2\":\"PC-2\"}\n",
    ")\n",
    "fig.update_layout(margin=dict(l=20,r=20,t=60,b=20), legend_title=\"Label\")\n",
    "fig.for_each_annotation(lambda a: a.update(text=a.text.split(\"=\")[-1]))\n",
    "fig.write_html(BASE_DIR / \"reports/document_EmbeddingsWord2Vecvs.FastText.html\")\n",
    "display(fig)"
   ]
  },
  {
   "cell_type": "markdown",
   "id": "952a7adb",
   "metadata": {},
   "source": [
    "## 5.8 Embedding Comparison via UMAP\n",
    "\n",
    "To better visualize the structure and distribution of document embeddings from different models, we apply **UMAP**—a non-linear dimensionality reduction technique optimized for preserving both global and local data relationships.\n",
    "\n",
    "**Models Compared**\n",
    "- Word2Vec + Mean Pooling\n",
    "- FastText + Mean Pooling\n",
    "- SBERT (Sentence-BERT)\n",
    "\n",
    "All three models were trained on **500 manually-labeled samples**, with identical train/test splits. UMAP parameters were carefully tuned (`metric=\"cosine\"`, `n_neighbors=30`, `min_dist=0.1`) to highlight semantic clustering.\n"
   ]
  },
  {
   "cell_type": "markdown",
   "id": "439452e1",
   "metadata": {},
   "source": [
    "**UMAP Visualization Code**"
   ]
  },
  {
   "cell_type": "code",
   "execution_count": 21,
   "id": "fc32a228",
   "metadata": {},
   "outputs": [
    {
     "name": "stderr",
     "output_type": "stream",
     "text": [
      "/home/khalaji/Coding/text-classification-life-sciences/.venv_lf/lib/python3.12/site-packages/umap/umap_.py:1952: UserWarning:\n",
      "\n",
      "n_jobs value 1 overridden to 1 by setting random_state. Use no seed for parallelism.\n",
      "\n"
     ]
    }
   ],
   "source": [
    "import umap.umap_ as umap\n",
    "\n",
    "def embed2df(emb, labels, name):\n",
    "    df = pd.DataFrame(emb, columns=[\"x\", \"y\"])\n",
    "    df[\"Label\"] = np.where(labels==1, \"Relevant\", \"Irrelevant\")\n",
    "    df[\"Model\"] = name\n",
    "    return df\n",
    "\n",
    "# Initialize UMAP with cosine metric\n",
    "um = umap.UMAP(n_neighbors=30, min_dist=0.1, metric=\"cosine\", random_state=SEED)\n",
    "\n",
    "# Stack train/test embeddings for all models\n",
    "emb_dict = {\n",
    "    \"Word2Vec\": np.vstack([X_train_w2v, X_test_w2v]),\n",
    "    \"FastText\": np.vstack([X_train_ft, X_test_ft]),\n",
    "    \"SBERT\": np.vstack([X_train_s, X_test_s])\n",
    "}\n",
    "labels_all = np.hstack([y_train_txt, y_test_txt])\n",
    "\n",
    "# Transform embeddings and build DataFrames\n",
    "dfs = []\n",
    "for name, emb in emb_dict.items():\n",
    "    coords = um.fit_transform(emb)\n",
    "    dfs.append(embed2df(coords, labels_all, name))\n",
    "\n",
    "df_plot = pd.concat(dfs, ignore_index=True)"
   ]
  },
  {
   "cell_type": "markdown",
   "id": "f32c7e70",
   "metadata": {},
   "source": [
    "**UMAP Scatterplot (Faceted)**"
   ]
  },
  {
   "cell_type": "code",
   "execution_count": 22,
   "id": "e39721a5",
   "metadata": {},
   "outputs": [
    {
     "data": {
      "application/vnd.plotly.v1+json": {
       "config": {
        "plotlyServerURL": "https://plot.ly"
       },
       "data": [
        {
         "hovertemplate": "Label=Relevant<br>Model=Word2Vec<br>UMAP-1=%{x}<br>UMAP-2=%{y}<extra></extra>",
         "legendgroup": "Relevant",
         "marker": {
          "color": "#636efa",
          "opacity": 0.7,
          "size": 5,
          "symbol": "circle"
         },
         "mode": "markers",
         "name": "Relevant",
         "showlegend": true,
         "type": "scattergl",
         "x": {
          "bdata": "skSVQG+9xcAC7BlAu+6jwBIS0MBxDVNAxBn1QJuqy8AXrKxAhNgHwezzrEAdi6tAo+sCQVMyusDJ1ZxABw/PwDzlQkH+pKjA3OKqQGmBA8H4W9vAwtXAQIMIt0DXU9fABS6pQIABakCajIM/bOMwQdW5+8AYJ6HAToDnQL/2o8CUSsFAYBuwQDuHgz8OTtDAxS0yQF7kw0AENe9AGdPmPYfjkUAg75VA3byhwNClBUB5xq3ATSuSQEBgxD9ZAIFAVswEQXVD/sAqhmk9UwbEQOOexUCzYf5AcL36wO7Px8CzlAfBHa0pQGxsK0AVtcNAlG/EQOv2AEE5y69AX/2tQLokyEClZgfBaD6zQJ7izMCw9t09nb2ZP5QI2cCxXarAsTnMPrvB/cDBg3RAFbSyQCyNF0B/ApdA+NmRQP51scC0CLjArobkwOU4z8Am0blA3fHZwDbzvsCIGfBAsA60wNoS8UAmrgbBM2CQQEVaQ0EjDMTAaatpP3US28AJ99/AQT8BwcFgqkAbReBACLoSQHvmtsCTNapAru7mwKpkCMFjkhxBIAkRQDihBEAzQulAFv62P0E8D0HdQq3ACqSaQEJUgkCn1etA0US+wEBjqD47975ApmPLQH1/x0BbRrxAPumrQMqM4UAmN8NAdbNtQLk7KT+37q/AiVulwNTgd0Dk37bA+Xe7P+mb3sAAiBtA0wbIwHqij0CD6uvA3V4gP4Dz1sCYqD5BLVewQDLuDUBQctzAQJMEQRm4nkBHARlB1EgIwYSO7sAatIxAkMIXPx3uoj8CsupA1q36wMa268BmbJJArXShwFcmmj/ogIM/ZFHiQB2mpsCF779AtEtkQLi7sEBrhLLAsj0CQZOKEkCav9jAFvDswJ+0C0GbVwRBEJH/wANdLUHyvZ5AZdsGwUDxRz8lBgdAvYz+wHrx2cD+n8/AUd7hwBIdn0AD/ObAGwiaQJPVmUCarx9Bsxc7QM9BvcB5huvADqDhwOhbtcBWGaXA1lTAwLHlLD04hZVAciKzQMmg/8DWvu/AlHyqQMya7cDpR8k+7NrJQEl8ysCMQb0/Qy6yQPqm60Ccbq5AemtqP267B8E9PAXBSEgEQRUiFD5kxNc+OQGkwL/a2D/hiwbBiCV3QJd96MAH934/9jP8wM/bycDysUhA/LoAwbhnl0B5v+vAhFgnP9DIAcFXkeHApTqQQM3FncBPPoRAWd6bQNgK6kBxVwhB63A+P1N3L0HOcwFBEiCsQBt9WD+zJPHAE5SxQJPGrz+zV/3ANumhwKf9fUBIQOXAGc3vP+LK2z3o8Mk/ekXCQJclskCgpQLBAAz0QA==",
          "dtype": "f4"
         },
         "xaxis": "x",
         "y": {
          "bdata": "3e2zP6sEpUDJw4Q/VoiFQG4DqEDZ9Jg/yb4rQeK4nkCfgiJArrMJQaJGIUBNXQJA+0/fQO40k0DwdtU/SDSnQCKANUHi1YpAw2MmQE2kAkE+8rJAbzEYQNgDQUHOw65AqpQCQDEFoz/otaM/AdYzQSIZ8EDLcYZAqGtwQFoih0AdIRFATiUCQKJxmz+AnaNArY2NPzZlPkEcCYBAobTXP96p0j8EkNA/tFKFQNe8gD/1colAPRayPyL/iz9corU/W4r1QFPc9UD1Ctg/YI4WQDj9G0DuPyJBn3buQNSlm0DUZQlBM4CEP4DQij8fOhtAK2khQJgR6UB+Jvc/lUQpQBmpH0BgIAlBmZA/QegKoECyM98/oOmYPwhYsED8C5NAus7DP9BU9EBFNqI/4sM0QWlfkj/+U8Y/SA3IP7RzjED1CJVA+RjFQC3zoUDNBy9B8Va+QP8lmUCtKSBBrkCcQBMGBkFwowdB67amP0VnNUHC2phATrKnP1asuUCKv79A7yAAQf20HECAnoJA3u14P95xnkAxmhVAprbJQM+MCkF8OBxBq/qBP5DygD88bXRASNWYPzpxFkEKIYtAyYbgP4Qdvz82zi9B0uqWQF010T/g4DhBfyFHQTuxIUAIojhBenQFQJxZgUCcNzhBKpmaP2acsT8kSIxACGOJQCMkrD9XE5JAr8GPP3Y7uUDaQYc/DWyeQP2enj+jZdBAyTG6P4DfrUBlZjRB4WoAQNW/hj/2bLhAZEHgQGW01z95BiJBfS0KQRxd1UABrLA/2wO7P+1qnz9akhBB65zuQOZL0UCJUqA/+x+FQGK1tD+JPaw/bdhkQOmlj0CD5h1A1S+sP2CN/j8wJ5lATWAIQSEpej88JrBAt/bQQG1VH0EWsANBQvT3QBh6L0FDe9s/53EIQQuXsD8Ik3s/Hz33QLsmsUAnhKRAe4fAQFmv2z+Z0MlAgIPUP9ftyD9MehtBmCCQP1j9lUCgZtBAvF/AQOlXnkDgOolAZcaZQHeQ1D9f/54/Q5w/QbVj90BjPdhAo8oSQHto00DE0cI/uxMkQMieokABJow/4mQ4QZ29j0Ao3+8/4/eoPyWSCUG98gVBub/gQN2b1D/tu8I/gU+GQDRFlD8X6wdBp82lP8V6y0BXl54/RVjyQA41m0DdbpQ/x6r8QPgTpT/Ejs9ANwS1P+X5/0Be1rxA3J/EP5IPhUBtVak/pQDTP51fekBJA/pAP7apP703MEG77c1AczMhQEkyoT85AdpAL90UQCHzjD+x0/NAWpCFQG+Ipj+YMMdA0WaDP1Aa2D8w0H8/hwgVQAMlQUECcAFBDIiZQA==",
          "dtype": "f4"
         },
         "yaxis": "y"
        },
        {
         "hovertemplate": "Label=Relevant<br>Model=FastText<br>UMAP-1=%{x}<br>UMAP-2=%{y}<extra></extra>",
         "legendgroup": "Relevant",
         "marker": {
          "color": "#636efa",
          "opacity": 0.7,
          "size": 5,
          "symbol": "circle"
         },
         "mode": "markers",
         "name": "Relevant",
         "showlegend": false,
         "type": "scattergl",
         "x": {
          "bdata": "P7unv3W3XcCFywnAnlZrwNXhhsD+VwXAt7VYQYiFh8B7JYG/NButwOG7c78tlTq+0KBBQXm7aMD8UoI8gkVzwNUpTkGDXVLAJV3dv0/hpcD355bAfr5BPsq4ckGq9ZzAZyk7PfvOvL/Bpvm/HhFXQUMzb8ASjmTAWBMjP34ugMBMNlA+j2+oPmNALsBrB37A+/UuwBm+bEEyJUlBRDtcwJsPlb9kTYS+lj52wLhkHsDYkFPA/HEDwGEkqL9I/zS/kQ9RQdbrpsC06DPA7EiTPiZCYT44EFVBhJqjwOUfhMAYxKXAo98TwI07JcC/MSE+veuTPpAlTUFLoqY+3I+Rv+ChkT4FQ4LAgr9wQWLif8CE9HbAFdPRv7GYgcCf2E/A8Io1wDE2mMAOrsW/4mRuQYRrjr/OCuu8ulHKPCAncsAzzH/Adu+jwPgtisB/kmdBoVmawJ7ZV8AKWnBB/HVSwILCXUGy/67Aj6riv4/FSkHgyIvApgn4v/xalcC9RYzAYOCowIhevr+jSrS/iqMSwEJGVsBw+Wq/d2iewJR9m8B/0ElBJ4cLwDaPF8AZ8yA/abBfv6iZXUEHFFzAMCMnv2jjhr5v0mFBRUCRwOb8icB1m2xB/NhtQbNArT5wKWxBhHOYvv++PEHAJm1B3+sUwFFuBsB3hHDAgAJRwGV/vb8lWlzAXrbCv1lDncBQBsq/wnyBwJTS7b8XMaTAc3AswDxYi8CmpklB8B2iPmHGqL8gLpDAzvRQQY7+0bzMwFpBnSmawK4cjsA8jQ/AqaIewBK9yL+U6l9B1MCawPvve8Btauu/Sw9vwFeNO8CgDfu/UFYfPxHwTMBNEX8++8l/v6ilqD516VbA80dOQVB6vr9OqoLAD9SLwN74WkE9H09BXUqcwIzHVEFZaj49i+mmwAck4L8Zzui/igKewOCbi8AzvpHAk86EwHIfGr+mdp7A7FWmvlXIdb6kmkxBAi8EwOk+YMDq1pHAyGWvwKodTsAw1EvA3/SAwDYhO8DJmYW/CFlsQYVRo8Cyy4nAm8l+v8Vhm8DOazbAEAToPmh/hcBAd+y/Hb5wQURxS0EP5qg+wWkHwNb+q8BYGazA2b5HQdLYbMAI1yrAyDJxwMlRKMA7EJDAglGVv0EpfsB1IPC/Dq6swG22j8CcMwzANN+qwGWB6r/Ex4vAMhImwEoRp8AAFojATGtqPE29dcCoFqS/qLyovum3Kj+lqkxB9rsuwHy0UUHl0UFBrPeRv6Uy7r9edp7ATuZ5v5HcJsCfpq3AIKl5wJ7lmb+2qHjAy0AjwBFCicAGyhHAVVGJPjBUbUE7conAYhFMQQ==",
          "dtype": "f4"
         },
         "xaxis": "x2",
         "y": {
          "bdata": "TDNAQQt+R0Eua0RBfKJIQd/jZUEXMTdBwhb/QDr+W0FsKDlBqghmQfYFPEFv8y9BQf8aQQz2Y0HBrixBg7RoQYdErUCOhGNBQ70yQca6ZUFwfFRBfr9MQc+tL0HQc1lBNz4sQZAyQkHbUFJBv3fsQOjlZ0FTIVdBfipMQVZJXEEKN01B5nUoQTXyPkHjcmNBDw1CQWIjO0F4MbZA1ilMQWSkQUHwvDBBcANSQfEYO0HqaUVBqcs1QdWXQUEr0UlBuR4bQX/YXEGd5D1BYiZNQalzTEFpcfxA9TFkQTIwU0HR5GVB1m43QRjMQkG5hExBUZdNQUwaBUFoiShBY9g5QSZhTEE9FGdBVrQ5QUF/UUEwMFBBzfdNQf2sWkEaPmlBk5VBQTSMVEHXP0BBWYczQbjHREEgZy1BfnksQdoIY0HEUGdB9mtaQbfuUUEtSzpB9fhUQSawZ0FFuhdBk0hoQZuSKEEgnGNB0g0yQeU2sEBJxl5BwiBQQYLFZEGgb2VBpTBnQaF3NEGW8jFBtWE4QaaHaUHLdDhBlhhZQSCIZ0GNCtxAat87QWjCOEG5XkxBIGZKQdrXCEFOH2VBPno4QcTWSkE7byFBAQBmQYfqU0GY7CJBDzwbQZDvS0E1CiJBLKAxQQgl7EDXXiRBdjE6Qeo/UUFmNmRBsN5kQSaPREFDd2hBqw5MQT5iWkFhV0RB9TlhQbb6MkHUq11BYg5AQT3dWkFsoLJAJKsoQfJuP0E1w1pBmIoUQbFVLUHxieRA+vRnQaarX0FhtzhB2/46QRYITUGSozVBQfdaQZgYV0FS5jNBjOpJQbOWREGjjUdB2wZNQZZIaEHt7kxBBe1GQWp6KEEZXGpBLOsaQSiqREGMBFZBaoxZQavP60C/xBFBZJxmQdkTtUBUOixBz41cQYhUTUEK4ktB0+VkQevHYEFdvl1BmL1UQQmANkEb9WZB92ExQWl6MEFJbd5Azcg0QfQJaUFNTlZBkXBiQaNtaUEy0mNBMc1cQYV5QUEK/UZB6zkxQY23WkGujGBBkV44QdMeVkGpR0BBZpVMQTAsZ0GrVU1BnrY4QRW/LUFMoChBCR1HQfpeZUH7VmZBTIcjQZzmUkF9aUNBcBhKQdQ3Q0FvwGJB2dRDQXsbS0FTGklBbS5jQZeVV0Fl0DZBEOBmQT1BM0FvZ1xBPtg7QRB0aUHwHVxB97osQY43W0HZmUBBAeExQWC4S0Fo0SlB34I/QYuG0EDLnhxBIfM1QWcQSUEfX2lBP6o8QeY2Q0FD/mNBKExUQS46QUF7W2BBkwlEQWyuZUHng0RBpBhNQfrtJUEjQ2VBOogsQQ==",
          "dtype": "f4"
         },
         "yaxis": "y2"
        },
        {
         "hovertemplate": "Label=Relevant<br>Model=SBERT<br>UMAP-1=%{x}<br>UMAP-2=%{y}<extra></extra>",
         "legendgroup": "Relevant",
         "marker": {
          "color": "#636efa",
          "opacity": 0.7,
          "size": 5,
          "symbol": "circle"
         },
         "mode": "markers",
         "name": "Relevant",
         "showlegend": false,
         "type": "scattergl",
         "x": {
          "bdata": "012gQUeWpUH8EqFB5BGiQZ2EnUEJ0pVBJV5/QUQ4pEHZDphBT46kQddijkGWE5FBibSVQWZanUGbPZFBkvaWQfYxjkHqippBxYiOQbPsp0Go66VBHMyPQUBwhUG+EJpB9eaOQfpMl0FNP5tBaJl5QQAjo0HG55lBQZyPQe5BmkHIMJJBAvKRQe63nEGG2ZNBkhOnQWUDjEH48ItBWsSfQexllkGMipNBjSOiQWkqoEHvvKdBGKGoQVccmUEPBo9B5bV0QVGInEGk6aJBW9iPQZ5CjUE7NX1BdJ2kQWAKpUGoBKBBNuqkQc1epkGnXJJB2Q2NQa4+ekHwS5FBOq6OQT3VkEF+qKRBEVN4QSuroUHWWaBBcTiVQQyFo0HZ/KFBZKWeQcIwnkFmCaJBRXqBQQMwl0GoSJFBXd6PQVAYokGRR6VBA46YQWiJm0FaV4FBHsKnQdURokFxSG5BKiihQc93g0F7I6RBX5iRQXaCikEeI6FBqOqeQUDApkEZrqRBtmulQYJFn0FBUY5BxJeeQdLdokHXA5BBucqhQWGopUEWGohBRUSUQYNrkkFH1IhBSkWRQQ/7d0EmPKJBHCaVQTcyj0GlrHJBnpGeQeCypkFa3IFB/0eDQZhWj0FX/IRB8bSRQZD4iUHLWoJBWh2SQeytm0Hb0ZxBM2WgQSBMlUEGGJtBsWiSQX+jm0F3p5xBVSeiQYoFkUHQZ5xB3yeeQX4xpUGP/oRBj7mRQSKXmUELrqNBuGCJQThLkEFG/H9BVuClQfTXn0HfK5JBSPKgQfsPmEGJ4YNBJ1CnQeISn0FpJY9BqviiQbuQqEFRI5dBKpeIQSPInEFYsJFBpfGTQeACkkFMn6JB80eDQaZXmUEcG6NBf7alQQD+c0HPtIBBWgqlQR1bf0EnHI9BSC6mQWXoj0EChY5BADejQVkbo0HvUaRBScmiQX9+kUEVj6RBOUyTQW4ElEHl5IdBrCafQWnNmkEJaZtBkn6iQRIooUGNKJtBQCmaQQ5ypEGfqo5B5EV5QWo6okEE/KNBaqORQRtFp0FRnJxByYWPQc81n0GcAJ5BAmd+QaiJjkFrs5FBQ3qVQWlsoEFYuKdBPE9/QUQxoUHNyKFBTw6iQRDYp0HzEadBC7+VQSw7oUE9PJxBAkuiQf5vo0GTbJRBBCWmQYkikkFGhaZBDlGhQY4RokGpR6BBrO6PQcLFoEEICJlB2DyUQbz+iEEdK4hBLd+dQSdYfUECCYBBKh+XQcOLl0EPKJxBEMuTQSPxoEHJw6JB/FWhQatql0GWSJtBtIOgQeGEoUGQ95hBPjuSQVj1h0FAoaVBH4qPQQ==",
          "dtype": "f4"
         },
         "xaxis": "x3",
         "y": {
          "bdata": "r7zUQCtF10CRQtJAC4fMQJkm/EDhf7hAd1b3QLNY6UBSCwlB5aT8QENf6UC0BdFAAaXHQKZyCEE69dZAvWjhQEdGCUEwIQdBBAqkQOG39EBT6uZA9scDQYGD10Ckl+pAkdXYQO5lCUG2NwlBYi/mQGrc40AnkO5A4G4IQd5t6UA41AtBUezSQDLV0kAk7+pAyCnbQGhzhkDuXgdB027uQMw5yUBt5dVA30vhQLEk3UCVndlAuQbiQAee60DKd/dAXc2LQFec7kDRtONATycKQXYqDEFi5gVB4uf0QB9B4kBTwuZABvHaQCV+1kBoewhB6OsHQfj39kA2JdtAmG+7QGa/BkEAmvFAopOaQAwm8kDs7ddApYXiQH1J5kASlQdBJt/VQOv290DHpN5AtsSSQFlB/0DKB9tA5TjYQLUP1kD5qe9AObS4QJbe/UDXoKdAliPbQBLnAkGQLM1AE6UEQSIwp0DhHvlAUpuoQJmYCEHaXOVA8AkCQfJJ8kAErPFAr80AQUY1yEDW/JlAByLxQBpCBUGGVtNAr7rqQPVg8UAHGQFBcfewQD+xy0A1WQxBR+H4QLrG2EA7jgFBORfwQEQ7AkH3Z6JAF/TqQCmB9kBPyc5AIHS1QHAAC0EQKOVAQLXSQAf7AkGSotdAH1CoQCsKAEF5ofVAft8BQaNW9EAmpQtBjgXRQIlf7EDQSdxAm13sQHllo0C2/OxA7ojUQO6H4kC+pwdB623hQAPz6UDQxNZAo3+KQNE12kBQZehAiYX8QIcM90BPLKhA0571QKmd9UBL9KJADkP0QM5w6EDD7aVAK2LSQKnv2ECat/JA99oLQctmAkFefAhB7mEAQZ/s3UDiggVBNd3PQAo+CEEzePxAYzblQAYI/kCmzq1AO0n0QF48AUE3X9lAEH33QLL98kCyvvJA3PPLQHg8/kCY6/FADfnlQLfTyUD9cwBBdFLVQMnu1UAqjQ1BRJ/cQB3ZDEEbdgdBc2HrQCw3BUHUywFBmVzvQHzg4kAtF/tAztWVQOne70Dtc91AIy7GQDkb4EDZztVAArILQctnA0G0C91A2VGPQCAwo0CjKNtANAe7QPmUBUGAgfNAwI+CQEO39UD/9chAXirJQInR2EAAPu9A0YAEQeVi60C7FPFADZHoQPdPA0Ea87BAiGnfQN17pkArS/5Al5TLQJKKAkG70NdABdLWQAAaB0H9pQhBJVDaQCi4C0EoJYRAHu7YQIxS20A4ttxAENPoQDpCB0GoYgRBJQT7QLpcx0D0+ONACYjGQLaqCUHvxAxBZ4DGQBEm0UC62AhBZCcKQTOS3UDGLf9Ap62iQA==",
          "dtype": "f4"
         },
         "yaxis": "y3"
        },
        {
         "hovertemplate": "Label=Irrelevant<br>Model=Word2Vec<br>UMAP-1=%{x}<br>UMAP-2=%{y}<extra></extra>",
         "legendgroup": "Irrelevant",
         "marker": {
          "color": "#EF553B",
          "opacity": 0.7,
          "size": 5,
          "symbol": "circle"
         },
         "mode": "markers",
         "name": "Irrelevant",
         "showlegend": true,
         "type": "scattergl",
         "x": {
          "bdata": "w2ccQeioyUA//NpA5QL0QFFbQ0HJFR1BM1UIQeHWMkEnPjpBBzL0QEhcwkAvV/9A7A8GQefeHkHhIBBBBGuvQOXwCEFJecVATi7tQFf1IEG/KPVA6+TWQI8Jz0AIgutARPf6QHtZ6UD1ww9B5CAzQaQ2AkFnQPRA4jTgQKVEC0ExzAVBsITcQMXe+UBjkwFBeorvQL47CEHF+whBb18DQYEHP0Gx0rRAXVcvQXFo+kAUq+tAXvQAQYHRtkC+IQFBO4b1QMqdA0GklABB4XcJQeRtuUB3ROxANILrQAQj+0CEUbJAmxfAQMieKkHyX91Alz0DQXFawUB4nvxAT6AKQQXUAEFuDu9AkA7HQHWXQ0F/cgdB0AQcQaqUBkHUtgdBI464QB7hBEFaw/1ApvzoQCwe1EDMKN9Ah1BDQUcM5kBfMMlAMezKQFPCzEDd1/JAg5A+QT6G70B1yetAkS+6QGfsE0Hl5T5BT6QGQXnl4EDLzrJAUYsBQXP5A0HW7fdAdYbKQMFP8kDP+AVBAxILQeIyH0GOov9ALpICQX3KwEAkjAhBRjQBQQTEv0AU+CVBiVgEQRzm9kCAOwpBewoLQZYi50CtewtBkonXQJJkwEAQBQRBFJDJQNDnv0BPob1AxRXoQCLZ2UAsIf5ADrb8QGEvHUH8VgRBncEhQTT71kBkmgdBALbbQMNr9kD3zQZBBF9BQSmoHkHIfAdB+d0CQfZ9xUCbZA5BrJ0iQZMY6UDOBAJB2YMBQXOPDkH0JwdBlnoiQbN87UC/P0RB/cEBQT6vI0E/LSFByfHuQLY9DUH8b/VAQz0rQU/HLEE4FgdB5QnpQLIEsUDB8vJA08ryQEA7BUEGje1AKOD9QLch9UDjCdRAT/rxQAwnC0EgiPNASz7qQMAFzkBhvgpBHAQBQbz8zkDafMZAmDUJQaRR0UCR1jxBEn4CQU7FAUEUAD5Btk4bQcJ85kDdjjZBQiHAQDNjukBg/QVBjvweQQ9NBUHt69hAjxXZQG8x4EBCSCFBLz2zQPqzCUE5De5AARD8QH1sBUE6rhJBdHrHQEGS5UB0qulAHUv7QDWWAUHRGQhBIrAOQYiGMEG3K7VAp7bPQNjtOEEtlL9AU8jzQFmiLUGfUPBAr22yQDVS7UAneR1BdOOzQNw8P0G+W9dAPQ8HQVimG0Hgw/dAyxPFQFY/AkGbBvhAtFLnQIslBkF+6jZBD/XAQIuz9UBGkwRBs4AcQeGHwED6IgRB6U/bQPCEDkF2ZhRBzmVWQKTjIUHanR1BM6MIQfr760AqnPVAQLcEQcvoIkHmRfhAAjIdQZ9XBkGDyT9B2VsDQQ==",
          "dtype": "f4"
         },
         "xaxis": "x",
         "y": {
          "bdata": "H58vQXEmMEF9AjJBqL2ZQBtNNUGzfCxBamPLQEDWNEGPcDJBPTwPQTGZN0FMmgBBdFXqQOueLkFjMyJB9pE5QYrAEUH/WEZB0jIeQV1tH0EuSZtAa7kvQVhMNkHeUi5BhRcMQTP8L0Gt6AVBfPkzQYPGHkGeZJpAiCwpQYq14EAzwxJBoVg4Qba+HEFHFcdAWS4DQZahB0FbZOVASdMbQdvLNEFvPD9BRzsxQbOpEEHECCNBiMThQK97M0GTddZA+iYkQUVU2kDFuQFB74vzQE+lO0Hgvg5BabCPQAyMH0FAGkBBNGM1QQimNUEmezxBs04DQSj9MkG8baZAdlMdQSm+vUAd4BZBwzQ1QXVnNkEMz9hAyMYsQWgHFUHHDPJACFo0QfKhJUFCdA9B5KI0QfUkR0E6/jNBvq41Qce3JkGbZDhBi0lHQeCiL0FYnJdAAps1QfN9GEHakBNBoFowQSPeFkFe3zZB3FvsQOGJMUGaNzdB5ofNQFSf/0D/d5tAL1BHQXUJmEBr0MBABFDcQGmhLEH7Ox5B+rYKQW5gQEFTv+RA9wALQTE9N0EpDyxBNS8aQZEDDUGG8edAqHYPQS+FJEFYP+BAkN41QQZfNUElk8FAXocvQYmjOEE0+DBBO70TQWLKOUG7GAVBxswDQcLRK0Eat71Aj0sfQVuKRUG76gZBG/k+QRg5MUEphcJACcs0QdegLEGs+8JAw1HPQEBpOUFHRgtBn58gQa33JkFOuvhAH4n4QLI7E0GMOw5ByNshQQEvGkHfBDZBdi/qQMPDJEGU0yZBwi8GQT4R1kC98ptAm8EvQXiFLkGRHs5AbRwSQbVbNkG4Qx9B6QsRQUl5E0H/oDVBWibuQOWpBEEZIUhBq18FQZdD2UDATQNB5WIqQXDRSEGsmh5Bc4/yQJqFOEEwAT5B4zXdQAKCOEHrUzNBmILMQCwwyEDt/DRB/5sqQWYiHkH7ZzZBxNM7QWdQMEGm4Q1BPM4nQapyAUFYDEJB/1wsQYFUJEEl6yhBWRJAQRu86kAdRZJAgAYhQewPv0AwzB1BKGc9QZhEiUDxTTJBMJcZQTaVHEEbQhNBPfYVQWgAMEHzkjJB9rUzQa2+M0ELckNB+8cQQdnDMEHCeBpBDKVBQTRiFEEESyhB48lAQbQxNUFoWitBpkHCQJiSKEGb2ZxAIe89Qanzs0DothNBDiMqQZNSIUGbMzBB0Ew4QdPWIkFRB/hADPIpQcxVQEHyAwlB3Ak4QZv9GkGcnydBcBCcP3pxH0Ep7itBSbMoQawLMkGVfYdAUZoHQa0uJkHJ5R9B2JUtQb1/DEF8DTVB0tzbQA==",
          "dtype": "f4"
         },
         "yaxis": "y"
        },
        {
         "hovertemplate": "Label=Irrelevant<br>Model=FastText<br>UMAP-1=%{x}<br>UMAP-2=%{y}<extra></extra>",
         "legendgroup": "Irrelevant",
         "marker": {
          "color": "#EF553B",
          "opacity": 0.7,
          "size": 5,
          "symbol": "circle"
         },
         "mode": "markers",
         "name": "Irrelevant",
         "showlegend": false,
         "type": "scattergl",
         "x": {
          "bdata": "suRdQWGaZ0ENL1xBEuk/QUL9TEECplpB2hVEQc27WkHIwE1BqUFoQWWZcEG150dBdVRFQeZ5V0HbCl9BlOFwQVlFYUHeiGRBD/ldQSdUSkEN5l9BjzBaQS+yUEHGymlB7hlVQYzla0HTwkdBue9XQY1MaEGCRT1BvitxQT5qR0Ho21ZBbAhZQYoeZ0Hyh0JB68tOQYGwVkHa8ldBZu5cQchgUkFu8HFBDgNSQVWuTkFU515BO3NBQTh9aUFOomBBbkZYQTv2RkH350xBIW9fQYtiakGw11RB0fpIQUTnWkHUQHJBoDNiQQHYW0EJnGVBgMNdQQ4HcEFL0klBLLVZQWILQkFaqGVBYFZwQdGLUEF09D5BxstjQer/bEGmPkxB4r9vQXB9U0FXdUlBJu1rQVZLakEZ+WdBMbBNQTI8YEHDwWVBtPRrQfwrZEE5dk1BUGNQQcMXYkGmYF5BTTRpQfPDR0F2u1RBCdZQQZxmSEFY4WpBhxBfQUrCRUFk/0BBqyprQR5dY0Eg2kJBIfxpQSzKXEF0NUtBNklsQR6IcEEYxU5BiL5LQdQtckE2DFlB82ZhQVQlZ0FtIU1B6M5eQXxWZEGMLU9BiAxfQSZbaUEDi0BB5qlnQTAkaUFWMXJBVwVhQa5RYkEVSlZBuFNEQWWCT0HkQkFBH3xNQZhKYkEqh05B35hFQVl6ZEGFnERBn8tNQSP6VUFhAVBBsXg/QZQWcUFkP09B6/5JQfUyUkEgIk9B3bRDQVxfS0HBektBAANPQWT0XEHMc01BtPRFQWuQS0EszFVBKA9hQZXpSkGOPD1ByEpRQZ+8SUEbzkRBqCBgQZqEaEFqxVNBmwVoQScBV0HNfGpBsEZMQV2eRkHw9VtBjOhQQQAMVUGheFlBI5xaQf0lbkE+21xBKOZKQfBuWEGlFGFBDp9NQdKnYEGG30lB1dI+QYRHQUGjx0hBu0dWQQs6XUH9z1dBkzhvQVUMaUHgRFFBF8hQQVGaXUED4EVBTEZQQeVLbkEBAFhBBnVrQdxUWEFLmJW/KLFdQRErP0Ee9E5Bx1xjQXb8rr/hOGpBWwdOQfObVkFoulFBvq5KQQLQUkGEKWdBzaFsQTZZUUGPuW9BAT1DQfNvTEGq1VxBmPVvQdAFWUGPC1xBSb1rQcPoUEFL8nBBvAU/QUE9UUHsP2JBmxNtQa75Q0EueGBBJiRHQQKRakF4TUpBfoRwQYyOV0Far0dBGURcQVpqcUGNhmxBTKRkQUx4XEHx3E5BNoUFwJEBSkHQVlBB0mNUQSItZUEKdUdBqgtSQWsGS0E/vmFBZpJXQSmYS0F52U5B00dYQQ==",
          "dtype": "f4"
         },
         "xaxis": "x2",
         "y": {
          "bdata": "cl/pQAi3MkFFlBhBKxwbQYyMq0DgLdtAlEkmQb27zkBr9M1AvUw3QUOMHEEsmhxBvlsjQfyJw0Cq9gpBSjs3QaHaD0Eg7TFBEncaQRki0UCx0/dAwSMMQcWYG0GPURpB+C4eQd65GkGyh9VAXbzLQBKTB0GiMe1A9sswQcfq6UAHjw1BqMABQTGVCUFKkONA7VgFQbAnBkEP4vpAfjPzQE4juUDrvhpBLMXRQG2rHUFo0xZBD1AlQa+RM0GftBRBm/wOQShoH0E3XCtB9PsjQUYhOUGYUipBoIQEQaSQLEF8ZzNBhVciQUzEy0BlpgNBA2AUQbX2L0Fl3xFBUAzUQPyj50BibjZBVdk0QR5as0B55SFBu4IEQdDwJkHu8wJBmpUyQbkfEUE7rydBzm0IQbbt+ECS5wlBziGsQNl2B0GH6SZBR1wEQdogOUHdWwxB/UC0QIjhEEHCyBNBRUEyQQon3EAh5bpA2VgZQSC+GUFVQDpB4donQV/SIUEaQ/RAM34EQdFwAkFpyB5BtL8SQdZz50Bf7RpBGjQfQfnjOkH7XypBNdosQRW/K0Emo79Ai2AQQUnKNkHVCw5Bi7PwQCkrJ0Fm+QpB110uQcamN0ExJSFBXi4iQdaBHEHzpTFBWJwpQf8tL0G/2C5B7BsnQXmu70C04BlBVdnYQGao3EBcZgVBw2X+QI1eBkEyFR9BQcWrQApy7UA1gR9B0EcZQXcUOkGJAMlA/fO9QF7qGkGsxiZBfG4mQYBn/EBEohNB0ZscQX6QKUFcfKpA9mgSQQdSvUCQGsxAAq8RQa/520CACh1BODDkQLkExkDhgidBWkApQSgmO0F5YgxBzoAtQSuGDEEgxAZBxYkjQXQDF0HuE8xApx0WQe5a80CM5RpBvtIoQZkDEkF+wtJA94kWQQOPH0HvIixBVXz7QM6SHUFKqblAn1/qQGBnJUEwZcZA8TH4QDHgJ0EVObxAopUeQbU4M0GX9A1BEvnIQMd7FUGz4xJBq3QiQenbL0Gu4NZAx3EhQef3IUEF5DRBVYQKQXKpIEEYLvNAUFkxQa0WNUEGaQlB+tweQT1sB0EoeR1BsYbmQOqXv0DhNDtBoRoHQfd+xUAkVDxBHvMnQfwtx0AyAR1BirMpQeY6K0H+nfJAJbMfQaSesUBaUi1BGIQfQbCauEBzTP1AM7M5QUHMHUFb9R1BuxMcQajkGUEH9t1ASlYzQVtDD0H6Xe9A2tTKQDxuO0FPjCBBWfkRQfi680ASOA9BMHNAQahK2UA3HutA9WjmQNAXCkFVxchAFMoSQVDM2kAb0BFB25X1QE3SAUFF76pAjBkiQQ==",
          "dtype": "f4"
         },
         "yaxis": "y2"
        },
        {
         "hovertemplate": "Label=Irrelevant<br>Model=SBERT<br>UMAP-1=%{x}<br>UMAP-2=%{y}<extra></extra>",
         "legendgroup": "Irrelevant",
         "marker": {
          "color": "#EF553B",
          "opacity": 0.7,
          "size": 5,
          "symbol": "circle"
         },
         "mode": "markers",
         "name": "Irrelevant",
         "showlegend": false,
         "type": "scattergl",
         "x": {
          "bdata": "r9WFQUlWgUGbrYpBQD14QR6xgUFCf3lBUZCGQaGTgkFkgYJBZfOKQbtibkG5xolB17l2QQZUfEE1dHRBpLt8QSNfe0GEfYtB9aB1QY8zgkFw9pdBx1GBQSI7jEEtU3ZB0KKJQXGldkG2PYpBDPp8QUaCekHSJIxBcXSCQTeFiEEBB3BBsgCXQY7fdEHS+opBaCeEQdX3gUHQinJBatN/QalLgUH9RG1BzTOAQaV9ikEJDm9BOimOQZdceUE8JHxBWlhuQRWuikGoYohBIU56QRgmgEGIAIJBpiqJQUSEgEHa235Bbzt1QayBhEFHeHNBFC6JQTp3eEFrfJhBYml9QUrVi0HJC4FB4NGLQYGfiUHUqHVBDhVwQVlbbUFcyoRBS4GFQdGdjkHWlIpBbs1yQYsrkUE+K25BP/uGQfl0bEF8G4RBZpN3QQ6TiEEvuXNBlfOAQTLocEE/GHJBvjB6Qf9+i0FSdn9BFdVsQeT+g0GjuH9BQhWYQfmSgEEa0o5B6MV4QTxNmEHLgHtBJk5xQbtPfUEbH4RB4IJrQZt2i0Faj5JBTXeMQRHwfkEoO4BB/5GBQcJJjEHei29B/faIQXNKhkGEoH1BgbeHQfkCgEEtc4ZBwViBQdExgUFgmnpBRoeCQag5dUGPQ4RBQtR/QQf+g0FmC39BFrSBQR1jeEF/EHxBIK2NQXxFcEHAnHBBYS+GQd/VgUHfjYZB6ZiEQQq8i0GXVYpB+1OJQZnldEGmtYlByiyFQU0hgUFVPIZB95eCQZsIgkH8UINBML+LQQziiEEC/YdB7t2AQRathUGrcqJBnKyBQSjmiEEyLoZBxXCAQcJSf0HQ14BBX198QUFIcEG2WXRBkkqAQY5ojEHgEYVBclWJQRRfnEGsdZNBpD6BQR5JdkEOcXZBteqCQYdTikG7eohB4QZ+Qfr1b0G/I4VBJ1CGQSDvhEFQv31BVGx3QeqHgUHij4ZBWPxwQTtYf0E+5IVB+GqFQZcch0ExhYxBmAuMQYq3hUFEM4VB9xhxQbDhd0G/NJFB226DQTxNikHixJFBfeWJQQWxn0FnV35BaA+LQYaugkEIoIVBhMlwQXpVfkG32X1Bxbd2QVPQekE2vIxBTtCJQUt4iEE+i3NBvniIQcL/gUEraGtBxP5wQdxzhEEZaIZBdtWGQUsIiUEhqphBswSLQbktnUHvZ3RByzlsQeL7hUFg8INBg0B6QU2nbEEQbJVBJq56QTI6jEGNhmxBVFVxQVKFfkFjn4ZBF9+pQS8Rh0GSuYFBZpeAQd0bd0He9IdBbgl1QSOqfUEVrnNBOXV4QTd3gkFVvX1BNxuaQQ==",
          "dtype": "f4"
         },
         "xaxis": "x3",
         "y": {
          "bdata": "CCP+QDr+j0DWz4pAaAvFQOWTCUFzY/BAunWjQKyeA0FO9fdAWI+UQGCK0UBbJr5AcyWqQDIJAEGDZdVAfzORQHZhAEHXrbRAUvDBQIjd7UAcoOpA+znWQFlykUBj8ZxAoKy1QEvon0Ag+QVBHYbwQKFtBUFE3vRAv8udQNLN00A/v5RAYi3EQKre10DPSABBAX7RQKouCUFSXfZAknoBQagY/UARXsxAEWX0QADIi0AX6a1ATf3DQN76lUC56gRBZlmUQNFHuUCS5ohAs/3FQOWJhED+iKdAaBXPQD02hUCGB5ZAWgCeQImQBEEHv41Aq/2RQML0k0BorcZA0lb8QJGl/kAbsKlAprqBQAYcCEHnp7NA437UQEpE3UCEdtxAqkqVQI7Bz0B+NMhAViSgQKDQukD5E9VAaKYIQZv2l0Dk4KJA91nhQFQlq0CrNLdANckBQYlKsECfyqRAAHqTQKJL/EBzpwNB4a6TQF3K+kBE2JNA8tEFQSBrwkDWz/JAsqDkQNSF6UAMkMpAp5/ZQJAyBEFnBJlAq6vXQK8pgkBftNBA/tmFQO8To0CYngFB/A3KQDAvnEA1dr5A5c/uQBo5mkDvUZlA/VqUQI5ihUBS6qRA9yy9QIqogkBxs59AQzqhQBfIjUD2HZ9AnQO3QDpp7kCeB/BAykrJQPLx9ECUbc1AdM3kQBHM5EAqxqhA2IEJQTVsCkGkjJZAh9nZQJe4g0BG7wFB5Z8IQckXykDi8odArammQJYhCkFAxNtAEkHCQNSbhUC/MgpB/275QKCGB0EtPfhA/0feQKte2kDELwFBk7roQCgdB0FVOaVA5+iyQNacl0DOW7tAqCqmQDsjkkDl+txAVy/WQLmD+kDP8PpAztLkQEjYxEAXWrlAhJOHQIi200Cbv+dA/DS1QMd1tEAN7rZAHLfqQNThoUB1ZQNByK/JQCqxw0Bt9OdAxO0DQbLPj0A7IQJBaSSeQGBnnUAJPohABqAJQZoOt0AQ7d1AKFjOQBNpi0BpxvxA3QCjQIOww0Cm96xAsiy2QPspjUBuKe5ANVa3QAxTxkACy8BA2InKQFaN4kAzAJtAAEXzQImGAkEwXJtAB3HgQBsxBUElXINAB5vJQFWWBUFzMdZAFzaeQCL+jEDI6p5AobOiQGngB0E5D4dAD7CwQPX4/UBuX+hAqnKAQN3Kw0Cp1rFAvAnZQA9biEAy8edAPVKeQA6xl0CVBvRAxjYBQQQqgUCWNNZABziRQIVr7EAN/utA/IXeQPHNAUEPq+RATnT0QKGj+EDvEwhBA9y9QBB740DCMMBAu0TrQEbr3EA9NghBanQCQQ==",
          "dtype": "f4"
         },
         "yaxis": "y3"
        }
       ],
       "layout": {
        "annotations": [
         {
          "font": {},
          "showarrow": false,
          "text": "Word2Vec",
          "x": 0.15999999999999998,
          "xanchor": "center",
          "xref": "paper",
          "y": 1,
          "yanchor": "bottom",
          "yref": "paper"
         },
         {
          "font": {},
          "showarrow": false,
          "text": "FastText",
          "x": 0.49999999999999994,
          "xanchor": "center",
          "xref": "paper",
          "y": 1,
          "yanchor": "bottom",
          "yref": "paper"
         },
         {
          "font": {},
          "showarrow": false,
          "text": "SBERT",
          "x": 0.8399999999999999,
          "xanchor": "center",
          "xref": "paper",
          "y": 1,
          "yanchor": "bottom",
          "yref": "paper"
         }
        ],
        "height": 350,
        "legend": {
         "title": {
          "text": "Label"
         },
         "tracegroupgap": 0
        },
        "margin": {
         "b": 20,
         "l": 20,
         "r": 20,
         "t": 60
        },
        "template": {
         "data": {
          "bar": [
           {
            "error_x": {
             "color": "#2a3f5f"
            },
            "error_y": {
             "color": "#2a3f5f"
            },
            "marker": {
             "line": {
              "color": "#E5ECF6",
              "width": 0.5
             },
             "pattern": {
              "fillmode": "overlay",
              "size": 10,
              "solidity": 0.2
             }
            },
            "type": "bar"
           }
          ],
          "barpolar": [
           {
            "marker": {
             "line": {
              "color": "#E5ECF6",
              "width": 0.5
             },
             "pattern": {
              "fillmode": "overlay",
              "size": 10,
              "solidity": 0.2
             }
            },
            "type": "barpolar"
           }
          ],
          "carpet": [
           {
            "aaxis": {
             "endlinecolor": "#2a3f5f",
             "gridcolor": "white",
             "linecolor": "white",
             "minorgridcolor": "white",
             "startlinecolor": "#2a3f5f"
            },
            "baxis": {
             "endlinecolor": "#2a3f5f",
             "gridcolor": "white",
             "linecolor": "white",
             "minorgridcolor": "white",
             "startlinecolor": "#2a3f5f"
            },
            "type": "carpet"
           }
          ],
          "choropleth": [
           {
            "colorbar": {
             "outlinewidth": 0,
             "ticks": ""
            },
            "type": "choropleth"
           }
          ],
          "contour": [
           {
            "colorbar": {
             "outlinewidth": 0,
             "ticks": ""
            },
            "colorscale": [
             [
              0,
              "#0d0887"
             ],
             [
              0.1111111111111111,
              "#46039f"
             ],
             [
              0.2222222222222222,
              "#7201a8"
             ],
             [
              0.3333333333333333,
              "#9c179e"
             ],
             [
              0.4444444444444444,
              "#bd3786"
             ],
             [
              0.5555555555555556,
              "#d8576b"
             ],
             [
              0.6666666666666666,
              "#ed7953"
             ],
             [
              0.7777777777777778,
              "#fb9f3a"
             ],
             [
              0.8888888888888888,
              "#fdca26"
             ],
             [
              1,
              "#f0f921"
             ]
            ],
            "type": "contour"
           }
          ],
          "contourcarpet": [
           {
            "colorbar": {
             "outlinewidth": 0,
             "ticks": ""
            },
            "type": "contourcarpet"
           }
          ],
          "heatmap": [
           {
            "colorbar": {
             "outlinewidth": 0,
             "ticks": ""
            },
            "colorscale": [
             [
              0,
              "#0d0887"
             ],
             [
              0.1111111111111111,
              "#46039f"
             ],
             [
              0.2222222222222222,
              "#7201a8"
             ],
             [
              0.3333333333333333,
              "#9c179e"
             ],
             [
              0.4444444444444444,
              "#bd3786"
             ],
             [
              0.5555555555555556,
              "#d8576b"
             ],
             [
              0.6666666666666666,
              "#ed7953"
             ],
             [
              0.7777777777777778,
              "#fb9f3a"
             ],
             [
              0.8888888888888888,
              "#fdca26"
             ],
             [
              1,
              "#f0f921"
             ]
            ],
            "type": "heatmap"
           }
          ],
          "histogram": [
           {
            "marker": {
             "pattern": {
              "fillmode": "overlay",
              "size": 10,
              "solidity": 0.2
             }
            },
            "type": "histogram"
           }
          ],
          "histogram2d": [
           {
            "colorbar": {
             "outlinewidth": 0,
             "ticks": ""
            },
            "colorscale": [
             [
              0,
              "#0d0887"
             ],
             [
              0.1111111111111111,
              "#46039f"
             ],
             [
              0.2222222222222222,
              "#7201a8"
             ],
             [
              0.3333333333333333,
              "#9c179e"
             ],
             [
              0.4444444444444444,
              "#bd3786"
             ],
             [
              0.5555555555555556,
              "#d8576b"
             ],
             [
              0.6666666666666666,
              "#ed7953"
             ],
             [
              0.7777777777777778,
              "#fb9f3a"
             ],
             [
              0.8888888888888888,
              "#fdca26"
             ],
             [
              1,
              "#f0f921"
             ]
            ],
            "type": "histogram2d"
           }
          ],
          "histogram2dcontour": [
           {
            "colorbar": {
             "outlinewidth": 0,
             "ticks": ""
            },
            "colorscale": [
             [
              0,
              "#0d0887"
             ],
             [
              0.1111111111111111,
              "#46039f"
             ],
             [
              0.2222222222222222,
              "#7201a8"
             ],
             [
              0.3333333333333333,
              "#9c179e"
             ],
             [
              0.4444444444444444,
              "#bd3786"
             ],
             [
              0.5555555555555556,
              "#d8576b"
             ],
             [
              0.6666666666666666,
              "#ed7953"
             ],
             [
              0.7777777777777778,
              "#fb9f3a"
             ],
             [
              0.8888888888888888,
              "#fdca26"
             ],
             [
              1,
              "#f0f921"
             ]
            ],
            "type": "histogram2dcontour"
           }
          ],
          "mesh3d": [
           {
            "colorbar": {
             "outlinewidth": 0,
             "ticks": ""
            },
            "type": "mesh3d"
           }
          ],
          "parcoords": [
           {
            "line": {
             "colorbar": {
              "outlinewidth": 0,
              "ticks": ""
             }
            },
            "type": "parcoords"
           }
          ],
          "pie": [
           {
            "automargin": true,
            "type": "pie"
           }
          ],
          "scatter": [
           {
            "fillpattern": {
             "fillmode": "overlay",
             "size": 10,
             "solidity": 0.2
            },
            "type": "scatter"
           }
          ],
          "scatter3d": [
           {
            "line": {
             "colorbar": {
              "outlinewidth": 0,
              "ticks": ""
             }
            },
            "marker": {
             "colorbar": {
              "outlinewidth": 0,
              "ticks": ""
             }
            },
            "type": "scatter3d"
           }
          ],
          "scattercarpet": [
           {
            "marker": {
             "colorbar": {
              "outlinewidth": 0,
              "ticks": ""
             }
            },
            "type": "scattercarpet"
           }
          ],
          "scattergeo": [
           {
            "marker": {
             "colorbar": {
              "outlinewidth": 0,
              "ticks": ""
             }
            },
            "type": "scattergeo"
           }
          ],
          "scattergl": [
           {
            "marker": {
             "colorbar": {
              "outlinewidth": 0,
              "ticks": ""
             }
            },
            "type": "scattergl"
           }
          ],
          "scattermap": [
           {
            "marker": {
             "colorbar": {
              "outlinewidth": 0,
              "ticks": ""
             }
            },
            "type": "scattermap"
           }
          ],
          "scattermapbox": [
           {
            "marker": {
             "colorbar": {
              "outlinewidth": 0,
              "ticks": ""
             }
            },
            "type": "scattermapbox"
           }
          ],
          "scatterpolar": [
           {
            "marker": {
             "colorbar": {
              "outlinewidth": 0,
              "ticks": ""
             }
            },
            "type": "scatterpolar"
           }
          ],
          "scatterpolargl": [
           {
            "marker": {
             "colorbar": {
              "outlinewidth": 0,
              "ticks": ""
             }
            },
            "type": "scatterpolargl"
           }
          ],
          "scatterternary": [
           {
            "marker": {
             "colorbar": {
              "outlinewidth": 0,
              "ticks": ""
             }
            },
            "type": "scatterternary"
           }
          ],
          "surface": [
           {
            "colorbar": {
             "outlinewidth": 0,
             "ticks": ""
            },
            "colorscale": [
             [
              0,
              "#0d0887"
             ],
             [
              0.1111111111111111,
              "#46039f"
             ],
             [
              0.2222222222222222,
              "#7201a8"
             ],
             [
              0.3333333333333333,
              "#9c179e"
             ],
             [
              0.4444444444444444,
              "#bd3786"
             ],
             [
              0.5555555555555556,
              "#d8576b"
             ],
             [
              0.6666666666666666,
              "#ed7953"
             ],
             [
              0.7777777777777778,
              "#fb9f3a"
             ],
             [
              0.8888888888888888,
              "#fdca26"
             ],
             [
              1,
              "#f0f921"
             ]
            ],
            "type": "surface"
           }
          ],
          "table": [
           {
            "cells": {
             "fill": {
              "color": "#EBF0F8"
             },
             "line": {
              "color": "white"
             }
            },
            "header": {
             "fill": {
              "color": "#C8D4E3"
             },
             "line": {
              "color": "white"
             }
            },
            "type": "table"
           }
          ]
         },
         "layout": {
          "annotationdefaults": {
           "arrowcolor": "#2a3f5f",
           "arrowhead": 0,
           "arrowwidth": 1
          },
          "autotypenumbers": "strict",
          "coloraxis": {
           "colorbar": {
            "outlinewidth": 0,
            "ticks": ""
           }
          },
          "colorscale": {
           "diverging": [
            [
             0,
             "#8e0152"
            ],
            [
             0.1,
             "#c51b7d"
            ],
            [
             0.2,
             "#de77ae"
            ],
            [
             0.3,
             "#f1b6da"
            ],
            [
             0.4,
             "#fde0ef"
            ],
            [
             0.5,
             "#f7f7f7"
            ],
            [
             0.6,
             "#e6f5d0"
            ],
            [
             0.7,
             "#b8e186"
            ],
            [
             0.8,
             "#7fbc41"
            ],
            [
             0.9,
             "#4d9221"
            ],
            [
             1,
             "#276419"
            ]
           ],
           "sequential": [
            [
             0,
             "#0d0887"
            ],
            [
             0.1111111111111111,
             "#46039f"
            ],
            [
             0.2222222222222222,
             "#7201a8"
            ],
            [
             0.3333333333333333,
             "#9c179e"
            ],
            [
             0.4444444444444444,
             "#bd3786"
            ],
            [
             0.5555555555555556,
             "#d8576b"
            ],
            [
             0.6666666666666666,
             "#ed7953"
            ],
            [
             0.7777777777777778,
             "#fb9f3a"
            ],
            [
             0.8888888888888888,
             "#fdca26"
            ],
            [
             1,
             "#f0f921"
            ]
           ],
           "sequentialminus": [
            [
             0,
             "#0d0887"
            ],
            [
             0.1111111111111111,
             "#46039f"
            ],
            [
             0.2222222222222222,
             "#7201a8"
            ],
            [
             0.3333333333333333,
             "#9c179e"
            ],
            [
             0.4444444444444444,
             "#bd3786"
            ],
            [
             0.5555555555555556,
             "#d8576b"
            ],
            [
             0.6666666666666666,
             "#ed7953"
            ],
            [
             0.7777777777777778,
             "#fb9f3a"
            ],
            [
             0.8888888888888888,
             "#fdca26"
            ],
            [
             1,
             "#f0f921"
            ]
           ]
          },
          "colorway": [
           "#636efa",
           "#EF553B",
           "#00cc96",
           "#ab63fa",
           "#FFA15A",
           "#19d3f3",
           "#FF6692",
           "#B6E880",
           "#FF97FF",
           "#FECB52"
          ],
          "font": {
           "color": "#2a3f5f"
          },
          "geo": {
           "bgcolor": "white",
           "lakecolor": "white",
           "landcolor": "#E5ECF6",
           "showlakes": true,
           "showland": true,
           "subunitcolor": "white"
          },
          "hoverlabel": {
           "align": "left"
          },
          "hovermode": "closest",
          "mapbox": {
           "style": "light"
          },
          "paper_bgcolor": "white",
          "plot_bgcolor": "#E5ECF6",
          "polar": {
           "angularaxis": {
            "gridcolor": "white",
            "linecolor": "white",
            "ticks": ""
           },
           "bgcolor": "#E5ECF6",
           "radialaxis": {
            "gridcolor": "white",
            "linecolor": "white",
            "ticks": ""
           }
          },
          "scene": {
           "xaxis": {
            "backgroundcolor": "#E5ECF6",
            "gridcolor": "white",
            "gridwidth": 2,
            "linecolor": "white",
            "showbackground": true,
            "ticks": "",
            "zerolinecolor": "white"
           },
           "yaxis": {
            "backgroundcolor": "#E5ECF6",
            "gridcolor": "white",
            "gridwidth": 2,
            "linecolor": "white",
            "showbackground": true,
            "ticks": "",
            "zerolinecolor": "white"
           },
           "zaxis": {
            "backgroundcolor": "#E5ECF6",
            "gridcolor": "white",
            "gridwidth": 2,
            "linecolor": "white",
            "showbackground": true,
            "ticks": "",
            "zerolinecolor": "white"
           }
          },
          "shapedefaults": {
           "line": {
            "color": "#2a3f5f"
           }
          },
          "ternary": {
           "aaxis": {
            "gridcolor": "white",
            "linecolor": "white",
            "ticks": ""
           },
           "baxis": {
            "gridcolor": "white",
            "linecolor": "white",
            "ticks": ""
           },
           "bgcolor": "#E5ECF6",
           "caxis": {
            "gridcolor": "white",
            "linecolor": "white",
            "ticks": ""
           }
          },
          "title": {
           "x": 0.05
          },
          "xaxis": {
           "automargin": true,
           "gridcolor": "white",
           "linecolor": "white",
           "ticks": "",
           "title": {
            "standoff": 15
           },
           "zerolinecolor": "white",
           "zerolinewidth": 2
          },
          "yaxis": {
           "automargin": true,
           "gridcolor": "white",
           "linecolor": "white",
           "ticks": "",
           "title": {
            "standoff": 15
           },
           "zerolinecolor": "white",
           "zerolinewidth": 2
          }
         }
        },
        "title": {
         "text": "Document Embeddings: Word2Vec vs. FastText vs. SBERT (UMAP)"
        },
        "width": 1000,
        "xaxis": {
         "anchor": "y",
         "domain": [
          0,
          0.31999999999999995
         ],
         "range": [
          -7.988949828147888,
          20.796477298736573
         ],
         "title": {
          "text": "UMAP-1"
         }
        },
        "xaxis2": {
         "anchor": "y2",
         "domain": [
          0.33999999999999997,
          0.6599999999999999
         ],
         "matches": "x",
         "range": [
          -7.988949828147888,
          20.796477298736573
         ],
         "title": {
          "text": "UMAP-1"
         }
        },
        "xaxis3": {
         "anchor": "y3",
         "domain": [
          0.6799999999999999,
          0.9999999999999999
         ],
         "matches": "x",
         "range": [
          -7.988949828147888,
          20.796477298736573
         ],
         "title": {
          "text": "UMAP-1"
         }
        },
        "yaxis": {
         "anchor": "x",
         "domain": [
          0,
          1
         ],
         "range": [
          1.1011071062088014,
          14.457353324890137
         ],
         "title": {
          "text": "UMAP-2"
         }
        },
        "yaxis2": {
         "anchor": "x2",
         "domain": [
          0,
          1
         ],
         "matches": "y",
         "range": [
          1.1011071062088014,
          14.457353324890137
         ],
         "showticklabels": false
        },
        "yaxis3": {
         "anchor": "x3",
         "domain": [
          0,
          1
         ],
         "matches": "y",
         "range": [
          1.1011071062088014,
          14.457353324890137
         ],
         "showticklabels": false
        }
       }
      }
     },
     "metadata": {},
     "output_type": "display_data"
    }
   ],
   "source": [
    "# Axis scaling for comparability\n",
    "x_min, x_max = df_plot[\"x\"].quantile([0.01, 0.99])\n",
    "y_min, y_max = df_plot[\"y\"].quantile([0.01, 0.99])\n",
    "\n",
    "fig = px.scatter(\n",
    "    df_plot,\n",
    "    x=\"x\", y=\"y\",\n",
    "    color=\"Label\",\n",
    "    facet_col=\"Model\",\n",
    "    opacity=0.7,\n",
    "    title=\"Document Embeddings: Word2Vec vs. FastText vs. SBERT (UMAP)\",\n",
    "    labels={\"x\": \"UMAP-1\", \"y\": \"UMAP-2\"},\n",
    "    width=1000, height=350\n",
    ")\n",
    "fig.for_each_annotation(lambda a: a.update(text=a.text.split(\"=\")[-1]))\n",
    "fig.update_traces(marker=dict(size=5))\n",
    "fig.update_xaxes(range=[x_min, x_max])\n",
    "fig.update_yaxes(range=[y_min, y_max])\n",
    "fig.update_layout(margin=dict(l=20, r=20, t=60, b=20), legend_title=\"Label\")\n",
    "\n",
    "fig.write_html(BASE_DIR / \"reports/embeddings_umap_comparison.html\")\n",
    "display(fig)"
   ]
  },
  {
   "cell_type": "markdown",
   "id": "5be526da",
   "metadata": {},
   "source": [
    "- ***Word2Vec*** shows tighter clusters than PCA, with modest class separation.\n",
    "- ***FastText*** maintains structural clarity and benefits from subword modeling.\n",
    "- ***SBERT*** reveals highly compact clusters, reflecting powerful semantic compression."
   ]
  },
  {
   "cell_type": "markdown",
   "id": "d9ec5cc3",
   "metadata": {},
   "source": [
    "## 5.9 Summary: Comparing Embedding Models\n",
    "\n",
    "We evaluated three embedding approaches with logistic regression:\n",
    "- **Word2Vec**\n",
    "- **FastText**\n",
    "- **SBERT**\n",
    "\n",
    "**Insights from our results and model behavior:**\n",
    "\n",
    "- **Word2Vec** is simple and fast. It performs reliably and gives decent accuracy, but it lacks deep understanding of rare or out-of-vocabulary terms. Its PCA and UMAP plots showed loose clusters, meaning its representations are more spread out and less precise.\n",
    "\n",
    "- **FastText** improves on Word2Vec by using subword information. That helps with rare tokens and domain-specific words. It achieved the **highest F1 score**, meaning it's well-balanced for precision and recall. Its visual clusters were tighter than Word2Vec, especially under UMAP.\n",
    "\n",
    "- **SBERT** doesn't rely on local context or subword tricks; it builds meaning at a sentence level using deep transformers. It produced **the most compact and clear clusters**, indicating strong semantic compression. Despite its lower dimensionality, it performed competitively, showing that deeper models can encode more meaning with fewer features.\n",
    "\n",
    "- **PCA** gave a rough outline of how embeddings separate classes. **UMAP** gave more detailed insight into how documents relate semantically. SBERT’s tight clusters in both views suggest it builds more consistent meaning across samples.\n",
    "\n",
    "**Overall takeaway:**  \n",
    "FastText stands out as a balanced option for strong performance on text classification. SBERT provides deep and efficient semantic mapping,great for tasks where meaning matters more than speed. Word2Vec is still useful for lightweight applications, but it shows limits in expressiveness.\n",
    "\n"
   ]
  },
  {
   "cell_type": "markdown",
   "id": "8533fc64",
   "metadata": {},
   "source": [
    "In the [next notebook](https://github.com/alikhalajii/text-classification-life-sciences/blob/master/notebooks/06-ensemble-full-dataset-prediction.ipynb), we take the models trained here and run predictions on the full dataset (~14k rows). The goal is simple: apply our best embeddings and classifiers at scale, compare outputs, and prepare for an ensemble that blends their strengths.\n"
   ]
  }
 ],
 "metadata": {
  "kernelspec": {
   "display_name": ".venv_lf",
   "language": "python",
   "name": "python3"
  },
  "language_info": {
   "codemirror_mode": {
    "name": "ipython",
    "version": 3
   },
   "file_extension": ".py",
   "mimetype": "text/x-python",
   "name": "python",
   "nbconvert_exporter": "python",
   "pygments_lexer": "ipython3",
   "version": "3.12.3"
  }
 },
 "nbformat": 4,
 "nbformat_minor": 5
}
