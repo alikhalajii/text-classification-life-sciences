{
 "cells": [
  {
   "cell_type": "code",
   "execution_count": 1,
   "id": "6d60fc34",
   "metadata": {},
   "outputs": [],
   "source": [
    "%matplotlib inline\n",
    "\n",
    "from pathlib import Path\n",
    "import pandas as pd\n",
    "import numpy as np\n",
    "import matplotlib.pyplot as plt\n",
    "import seaborn as sns"
   ]
  },
  {
   "cell_type": "code",
   "execution_count": 2,
   "id": "d24b3669",
   "metadata": {},
   "outputs": [],
   "source": [
    "BASE_DIR = Path.cwd().parent\n",
    "\n",
    "# Random seed for reproducibility\n",
    "SEED = 42\n",
    "np.random.seed(SEED)"
   ]
  },
  {
   "cell_type": "markdown",
   "id": "4e575393",
   "metadata": {},
   "source": [
    "# 4. Model Training\n",
    "\n",
    "In this notebook, we build our first models using **Logistic Regression** and **Random Forest**, two widely used algorithms for classification tasks.\n"
   ]
  },
  {
   "cell_type": "markdown",
   "id": "bb954fae",
   "metadata": {},
   "source": [
    "## 4.1 Stratified Train/Test Split\n",
    "\n",
    "To ensure robust evaluation, we split the final dataset (`df_final`) into training and test sets using an 80/20 ratio. Importantly, we apply **stratification** to preserve the class distribution across both subsets, which is crucial for imbalanced datasets.\n"
   ]
  },
  {
   "cell_type": "code",
   "execution_count": 3,
   "id": "7c72021f",
   "metadata": {},
   "outputs": [],
   "source": [
    "df_final = pd.read_csv(\n",
    "    BASE_DIR / \"data/03_df_final.csv\",\n",
    "    encoding='utf-8',\n",
    "    keep_default_na=False,  # <— don’t treat empty strings as NaN\n",
    "    na_values=[]            # <— no additional “missing” tokens\n",
    ")\n"
   ]
  },
  {
   "cell_type": "code",
   "execution_count": 4,
   "id": "1cd2d7a8",
   "metadata": {},
   "outputs": [
    {
     "name": "stdout",
     "output_type": "stream",
     "text": [
      "Train shape: (400, 88)\n",
      "Test shape:  (100, 88)\n"
     ]
    }
   ],
   "source": [
    "from sklearn.model_selection import train_test_split\n",
    "\n",
    "# Extract features and target\n",
    "X = df_final.drop(columns=[\"pre_label\", \"Label\"])  # nur Features\n",
    "y = df_final['Label']\n",
    "\n",
    "# Stratified split to keep class balance\n",
    "X_train, X_test, y_train, y_test = train_test_split(\n",
    "    X, y,\n",
    "    test_size=0.2,\n",
    "    stratify=y,\n",
    "    random_state=SEED\n",
    ")\n",
    "\n",
    "# Combine back for inspection\n",
    "train_df = X_train.assign(Label=y_train)\n",
    "test_df  = X_test.assign(Label=y_test)\n",
    "\n",
    "print(\"Train shape:\", train_df.shape)\n",
    "print(\"Test shape: \", test_df.shape)\n"
   ]
  },
  {
   "cell_type": "markdown",
   "id": "08106503",
   "metadata": {},
   "source": [
    "- **Stratified Sampling** ensures that both training and test sets reflect the original class proportions.\n",
    "- `train_df` and `test_df` are now ready for model fitting and evaluation.\n",
    "- Shapes printed above confirm the split and allow for quick sanity checks.\n"
   ]
  },
  {
   "cell_type": "markdown",
   "id": "1305c14a",
   "metadata": {},
   "source": [
    "## 4.2 Prepare Numeric Feature Matrix for Modeling\n",
    "\n",
    "Before fitting classifiers, we must ensure that **all input features are numeric**.  \n",
    "This step filters out any remaining non-numeric columns (e.g., raw text or categorical labels), leaving only numerical and embedding-based features suitable for model training.\n"
   ]
  },
  {
   "cell_type": "code",
   "execution_count": 5,
   "id": "4396836e",
   "metadata": {},
   "outputs": [
    {
     "name": "stdout",
     "output_type": "stream",
     "text": [
      "Numeric train shape: (400, 53)\n",
      "Numeric test shape:  (100, 53)\n"
     ]
    }
   ],
   "source": [
    "import numpy as np\n",
    "\n",
    "# Select only numeric columns\n",
    "X_train_num = X_train.select_dtypes(include=[np.number])\n",
    "X_test_num  = X_test.select_dtypes(include=[np.number])\n",
    "\n",
    "print(\"Numeric train shape:\", X_train_num.shape)\n",
    "print(\"Numeric test shape: \", X_test_num.shape)\n"
   ]
  },
  {
   "cell_type": "markdown",
   "id": "9d14f23b",
   "metadata": {},
   "source": [
    "## 4.3 Train Baseline Classifiers\n",
    "\n",
    "#### Why Start with Logistic Regression and Random Forest?\n",
    "\n",
    "Before diving into deep learning or complex embeddings, we begin with two stalwarts of tabular modeling: **Logistic Regression** and **Random Forest**. These models aren’t just convenient; they offer complementary perspectives on the problem space.\n",
    "\n",
    "Logistic Regression gives us a transparent, linear lens into the latent semantic structure extracted via SVD. Its coefficients are interpretable, its training fast, and its decision boundaries clean. It’s the kind of model that tells you what it’s thinking.\n",
    "\n",
    "Random Forest, on the other hand, brings non-linear muscle. It thrives in mixed-type environments, capturing interactions between structured metadata and compressed text features without needing elaborate preprocessing. Its feature importance scores offer a different kind of interpretability; ne rooted in decision trees and ensemble wisdom.\n",
    "\n",
    "Together, these models form a baseline duo: one linear, one tree-based. Their performance sets the floor for what we expect from more advanced pipelines. And later, they may even serve as ensemble partners to our embedding-based classifiers.\n",
    "\n",
    "We train both using 5-fold cross-validation on the numeric feature matrix, measuring accuracy to establish a first benchmark.\n"
   ]
  },
  {
   "cell_type": "code",
   "execution_count": 6,
   "id": "54956ee6",
   "metadata": {},
   "outputs": [
    {
     "name": "stdout",
     "output_type": "stream",
     "text": [
      "LogisticRegression: 0.920 ± 0.023\n",
      "RandomForest: 0.910 ± 0.018\n"
     ]
    }
   ],
   "source": [
    "from sklearn.model_selection import cross_val_score\n",
    "from sklearn.linear_model import LogisticRegression\n",
    "from sklearn.ensemble import RandomForestClassifier\n",
    "\n",
    "# Define models\n",
    "models = {\n",
    "    \"LogisticRegression\": LogisticRegression(max_iter=1000, random_state=SEED),\n",
    "    \"RandomForest\": RandomForestClassifier(n_estimators=100, random_state=SEED)\n",
    "}\n",
    "\n",
    "# 5-fold CV on numeric features only\n",
    "cv_results = {}\n",
    "for name, clf in models.items():\n",
    "    scores = cross_val_score(clf, X_train_num, y_train, cv=5, scoring=\"accuracy\")\n",
    "    cv_results[name] = (scores.mean(), scores.std())\n",
    "\n",
    "# Display CV results\n",
    "for name, (mean_acc, std_acc) in cv_results.items():\n",
    "    print(f\"{name}: {mean_acc:.3f} ± {std_acc:.3f}\")\n"
   ]
  },
  {
   "cell_type": "markdown",
   "id": "509fd74d",
   "metadata": {},
   "source": [
    "## 4.4 Hyperparameter Tuning\n",
    "\n",
    "**Refining Logistic Regression for Maximum Accuracy**\n",
    "\n",
    "Even simple models deserve careful attention. Here, we tune **Logistic Regression** using a focused grid search across regularization strengths and solver algorithms. The goal: to squeeze every bit of performance from our baseline by calibrating its bias–variance tradeoff.\n",
    "\n",
    "We use **stratified 5-fold cross-validation** on the numeric feature matrix to ensure class balance during evaluation. This tuning step isn’t just procedural; it’s foundational. A well-optimized baseline gives us a trustworthy benchmark and a fair comparison point for more complex models down the line.\n"
   ]
  },
  {
   "cell_type": "code",
   "execution_count": 7,
   "id": "c40f8993",
   "metadata": {},
   "outputs": [
    {
     "name": "stdout",
     "output_type": "stream",
     "text": [
      "Best params: {'C': 0.01, 'penalty': 'l2', 'solver': 'lbfgs'}\n",
      "Best CV accuracy: 0.9199999999999999\n"
     ]
    }
   ],
   "source": [
    "from sklearn.model_selection import GridSearchCV\n",
    "from sklearn.linear_model import LogisticRegression\n",
    "\n",
    "# Hyperparameter tuning via GridSearchCV\n",
    "param_grid = {\n",
    "    \"C\": [0.01, 0.1, 1, 10, 100], # Regularization strength\n",
    "    \"penalty\": [\"l2\"], # Regularization type\n",
    "    \"solver\": [\"lbfgs\", \"saga\"] # Optimization algorithm\n",
    "}\n",
    "\n",
    "lr = LogisticRegression(max_iter=5000, random_state=SEED)\n",
    "grid = GridSearchCV(\n",
    "    lr,\n",
    "    param_grid,\n",
    "    cv=5,\n",
    "    scoring=\"accuracy\",\n",
    "    n_jobs=-1\n",
    ")\n",
    "\n",
    "grid.fit(X_train_num, y_train)\n",
    "\n",
    "print(\"Best params:\", grid.best_params_)\n",
    "print(\"Best CV accuracy:\", grid.best_score_)\n"
   ]
  },
  {
   "cell_type": "markdown",
   "id": "2572e553",
   "metadata": {},
   "source": [
    "**Optimal Logistic Regression Configuration**  \n",
    "- **Best Hyperparameters**:  \n",
    "  - Regularization strength `C = 0.01`  \n",
    "  - Penalty type `l2`  \n",
    "  - Solver `lbfgs`  \n",
    "\n",
    "- **Cross-Validated Accuracy**: ~0.92  \n",
    "\n",
    "With this tuning, our LR model strikes the right balance between bias and variance on the numeric feature set. We’ll now lock in these settings for the final hold-out evaluation.\n"
   ]
  },
  {
   "cell_type": "markdown",
   "id": "847d6e51",
   "metadata": {},
   "source": [
    "### Hyperparameter Tuning for Random Forest\n",
    "\n",
    "**Optimizing Random Forest for Imbalanced Classification**\n",
    "\n",
    "Random Forests are powerful out of the box, but tuning them unlocks their full potential. Here, we perform a grid search across key hyperparameters:\n",
    "- tree depth,\n",
    "- number of estimators, \n",
    "- and leaf size.\n",
    "We also activate `class_weight=\"balanced\"` to ensure the model treats minority classes with equal attention.\n",
    "\n",
    "Unlike Logistic Regression, our scoring metric here is **F1-score**, which better reflects performance under class imbalance. The tuning is done via **5-fold cross-validation** on the numeric feature matrix, ensuring robustness across splits.\n"
   ]
  },
  {
   "cell_type": "code",
   "execution_count": 8,
   "id": "00e53c81",
   "metadata": {},
   "outputs": [
    {
     "name": "stdout",
     "output_type": "stream",
     "text": [
      "Best RF params: {'class_weight': 'balanced', 'max_depth': None, 'min_samples_leaf': 10, 'n_estimators': 100}\n",
      "Best CV F1-score: 0.9045981045981046\n"
     ]
    }
   ],
   "source": [
    "from sklearn.ensemble import RandomForestClassifier\n",
    "from sklearn.model_selection import GridSearchCV\n",
    "\n",
    "param_grid_rf = {\n",
    "    \"n_estimators\": [100, 300, 500],\n",
    "    \"max_depth\": [None, 10, 20],\n",
    "    \"min_samples_leaf\": [1, 5, 10],\n",
    "    \"class_weight\": [\"balanced\"]\n",
    "}\n",
    "\n",
    "rf = RandomForestClassifier(random_state=SEED)\n",
    "grid_rf = GridSearchCV(\n",
    "    rf,\n",
    "    param_grid_rf,\n",
    "    cv=5,\n",
    "    scoring=\"f1\",\n",
    "    n_jobs=-1,\n",
    "    verbose=0\n",
    ")\n",
    "\n",
    "grid_rf.fit(X_train_num, y_train)\n",
    "\n",
    "print(\"Best RF params:\", grid_rf.best_params_)\n",
    "print(\"Best CV F1-score:\", grid_rf.best_score_)\n"
   ]
  },
  {
   "cell_type": "markdown",
   "id": "abf8e0a1",
   "metadata": {},
   "source": [
    "* This Random Forest setup with deep trees (max_depth=None), balanced class weighting, and a minimum of 10 samples per leaf, strikes a strong balance between complexity and generalization, yielding a solid F1-score of 0.905 despite class imbalance, which suggests the model captures meaningful structure in both text and metadata without overfitting."
   ]
  },
  {
   "cell_type": "markdown",
   "id": "3f4dedd7",
   "metadata": {},
   "source": [
    "## 4.5 Model Evaluation\n",
    "\n",
    "### Evaluate Tuned Logistic Regression and Random Forest\n",
    "\n",
    "We now fit both tuned classifiers on the full training split and evaluate them on the hold-out test set. This mirrors the methodology used earlier in our exploratory case study and allows us to quantify generalization performance.\n",
    "\n",
    "- **Random Forest** is configured using the optimal parameters obtained through grid search (`class_weight='balanced'`, `max_depth=None`, `min_samples_leaf=10`, `n_estimators=100`), ensuring effective handling of class imbalance and deep feature interactions.\n",
    "- **Logistic Regression** is locked with its tuned hyperparameters (`C=0.01`, `penalty='l2'`, `solver='lbfgs'`), offering a regularized, interpretable linear decision surface over the latent semantic space.\n",
    "\n",
    "For both models, we report core classification metrics: **Accuracy**, **Precision**, **Recall**, and **F1-score**, and present their confusion matrices to inspect prediction fidelity across classes.\n"
   ]
  },
  {
   "cell_type": "markdown",
   "id": "dc6fce71",
   "metadata": {},
   "source": [
    "* To preserve the finalized models and ensure reproducibility, we serialize both the tuned Random Forest and Logistic Regression classifiers using joblib. These versions reflect the optimal parameter settings identified during hyperparameter tuning and are trained on the entire training data. Additionally, we store the list of selected numerical feature columns to maintain consistency in future inference tasks. This safeguards our pipeline and enables seamless deployment or further analysis without retraining from scratch."
   ]
  },
  {
   "cell_type": "code",
   "execution_count": 9,
   "id": "d375d3ad",
   "metadata": {},
   "outputs": [
    {
     "name": "stdout",
     "output_type": "stream",
     "text": [
      "| Model               |   Accuracy % |   Precision % |   Recall % |   F1-score % |\n",
      "|:--------------------|-------------:|--------------:|-----------:|-------------:|\n",
      "| Random Forest       |           93 |         97.78 |         88 |        92.63 |\n",
      "| Logistic Regression |           94 |        100    |         88 |        93.62 |\n"
     ]
    }
   ],
   "source": [
    "from sklearn.metrics import accuracy_score, precision_score, recall_score, f1_score\n",
    "import joblib\n",
    "\n",
    "# Retrieve best models from GridSearchCV\n",
    "best_rf = grid_rf.best_estimator_\n",
    "best_lr = grid.best_estimator_\n",
    "\n",
    "# Fit models\n",
    "best_rf.fit(X_train_num, y_train)\n",
    "best_lr.fit(X_train_num, y_train)\n",
    "\n",
    "# Save the final models\n",
    "joblib.dump(best_rf, BASE_DIR / \"checkpoints/random_forest_final_model.pkl\")\n",
    "joblib.dump(best_lr, BASE_DIR / \"checkpoints/logreg_final_model.pkl\")\n",
    "# Save the final feature columns\n",
    "X_train_num = X_train.select_dtypes(include=[np.number])\n",
    "joblib.dump(X_train_num.columns.tolist(), BASE_DIR / \"checkpoints/final_features_columns.pkl\")\n",
    "\n",
    "\n",
    "# Make predictions\n",
    "y_pred_rf = best_rf.predict(X_test_num)\n",
    "y_pred_lr = best_lr.predict(X_test_num)\n",
    "\n",
    "def compute_metrics(y_true, y_pred, model_name):\n",
    "    \"\"\"Compute and return evaluation metrics for a given model.\"\"\"\n",
    "    return {\n",
    "        \"Model\": model_name,\n",
    "        \"Accuracy %\": round(accuracy_score(y_true, y_pred) * 100, 2),\n",
    "        \"Precision %\": round(precision_score(y_true, y_pred) * 100, 2),\n",
    "        \"Recall %\": round(recall_score(y_true, y_pred) * 100, 2),\n",
    "        \"F1-score %\": round(f1_score(y_true, y_pred) * 100, 2),\n",
    "    }\n",
    "\n",
    "# Compute metrics for both models\n",
    "metrics = [\n",
    "    compute_metrics(y_test, y_pred_rf, \"Random Forest\"),\n",
    "    compute_metrics(y_test, y_pred_lr, \"Logistic Regression\"),\n",
    "]\n",
    "\n",
    "print(pd.DataFrame(metrics).to_markdown(index=False))"
   ]
  },
  {
   "cell_type": "markdown",
   "id": "7228034d",
   "metadata": {},
   "source": [
    "### Confusion Matrices\n",
    "\n",
    "To analyze classification performance beyond aggregate metrics, we visualize **confusion matrices** for both the tuned Random Forest and Logistic Regression models. This offers deeper insight into how well each model distinguishes between the positive and negative classes on the unseen test data.\n",
    "\n",
    "The matrices display:\n",
    "\n",
    "| tn | fp |\n",
    "\n",
    "| fn | tp |\n",
    "\n",
    "If you're new to confusion matrices and curious about what these terms mean, you may find [this tutorial](https://medium.com/data-science/taking-the-confusion-out-of-confusion-matrices-c1ce054b3d3e) helpful.\n",
    "\n",
    "We plot them side by side using seaborn heatmaps for quick visual comparison:\n"
   ]
  },
  {
   "cell_type": "code",
   "execution_count": 10,
   "id": "20fc1cfa",
   "metadata": {},
   "outputs": [
    {
     "data": {
      "image/png": "[encoded data removed]",
      "text/plain": [
       "<Figure size 1200x500 with 2 Axes>"
      ]
     },
     "metadata": {},
     "output_type": "display_data"
    }
   ],
   "source": [
    "from sklearn.metrics import confusion_matrix\n",
    "\n",
    "# Plot confusion matrices side by side\n",
    "models = [(\"Random Forest\", y_pred_rf, \"Blues\"), (\"Logistic Regression\", y_pred_lr, \"Greens\")]\n",
    "\n",
    "fig, axes = plt.subplots(1, 2, figsize=(12, 5))\n",
    "\n",
    "for ax, (title, y_pred, cmap) in zip(axes, models):\n",
    "    cm = confusion_matrix(y_test, y_pred)  # ✅ use y_pred from loop\n",
    "    df_cm = pd.DataFrame(cm,\n",
    "        index=[\"Actual Negative\", \"Actual Positive\"],\n",
    "        columns=[\"Predicted Negative\", \"Predicted Positive\"]\n",
    "    )\n",
    "    sns.heatmap(df_cm, annot=True, fmt=\"d\", cmap=cmap, cbar=False,\n",
    "                ax=ax, linewidths=0.5, linecolor='gray')\n",
    "    ax.set_title(f\"{title} Confusion Matrix\")\n",
    "    ax.set_xlabel(\"Predicted\")\n",
    "    ax.set_ylabel(\"Actual\")\n",
    "\n",
    "plt.tight_layout()\n",
    "plt.savefig(BASE_DIR / \"plots/confusion_matrices_side_by_side.png\", dpi=150)\n",
    "plt.show()\n"
   ]
  },
  {
   "cell_type": "markdown",
   "id": "79327d16",
   "metadata": {},
   "source": [
    "* Logistic Regression edges out Random Forest with perfect precision, zero false positives, making it the safer bet for regulated Life-Science recommendations. Both models retrieve relevant apps equally well (88% recall), but Random Forest’s slight dip in precision suggests a looser filter. The trade-off is clear: interpretability and reliability with Logistic Regression versus flexibility and pattern depth with Random Forest. In high-stakes domains, precision wins."
   ]
  },
  {
   "cell_type": "markdown",
   "id": "b62c1ed9",
   "metadata": {},
   "source": [
    "## 4.6. Feature Importance Analysis"
   ]
  },
  {
   "cell_type": "markdown",
   "id": "dae3abe2",
   "metadata": {},
   "source": [
    "### Visualizing Feature Importances with Random Forest\n",
    "\n",
    "To better understand which features most influenced the Random Forest model, we calculate and visualize their importances using the **Mean Decrease in Impurity (MDI)** method. This technique measures the total reduction of the criterion (e.g., Gini impurity) brought by each feature across all trees in the ensemble.\n",
    "\n",
    "We use [`feature_importances_`](https://scikit-learn.org/stable/auto_examples/inspection/plot_permutation_importance.html)  from the fitted Random Forest to compute the scores and plot a bar chart that includes the standard deviation across the trees, offering insight into feature stability.\n",
    "\n"
   ]
  },
  {
   "cell_type": "code",
   "execution_count": 11,
   "id": "7f8b1d8d",
   "metadata": {},
   "outputs": [
    {
     "name": "stderr",
     "output_type": "stream",
     "text": [
      "/tmp/ipykernel_1019528/2927888925.py:11: FutureWarning: Series.__getitem__ treating keys as positions is deprecated. In a future version, integer keys will always be treated as labels (consistent with DataFrame behavior). To access a value by position, use `ser.iloc[pos]`\n",
      "  sorted_importances = forest_importances[sorted_idx]\n"
     ]
    },
    {
     "data": {
      "image/png": "[encoded data removed]",
      "text/plain": [
       "<Figure size 1000x600 with 1 Axes>"
      ]
     },
     "metadata": {},
     "output_type": "display_data"
    }
   ],
   "source": [
    "# Extract importances and compute standard deviation\n",
    "importances = best_rf.feature_importances_\n",
    "std = np.std([tree.feature_importances_ for tree in best_rf.estimators_], axis=0)\n",
    "\n",
    "# Use actual feature names\n",
    "feature_names = X_train_num.columns.tolist()\n",
    "forest_importances = pd.Series(importances, index=feature_names)\n",
    "\n",
    "# Sort features by importance for better readability\n",
    "sorted_idx = forest_importances.argsort()\n",
    "sorted_importances = forest_importances[sorted_idx]\n",
    "sorted_std = std[sorted_idx]\n",
    "\n",
    "# Plotting\n",
    "fig, ax = plt.subplots(figsize=(10, 6))\n",
    "sorted_importances.plot.barh(xerr=sorted_std, ax=ax, color='skyblue')\n",
    "ax.set_title(\"Feature Importances Using Mean Decrease in Impurity (MDI)\")\n",
    "ax.set_xlabel(\"Importance Score\")\n",
    "ax.set_ylabel(\"Features\")\n",
    "fig.tight_layout()\n",
    "fig.savefig(BASE_DIR / \"plots/feature_importances.png\", dpi=300)\n"
   ]
  },
  {
   "cell_type": "markdown",
   "id": "723a4d94",
   "metadata": {},
   "source": [
    "###  Top-5 Permutation Importances\n",
    "\n",
    "To pinpoint which features truly matter, we shuffled each input and measured the resulting accuracy drop. The top-5 features for **Logistic Regression** reflect direct, stable signals—ideal for interpretable decision-making. In contrast, **Random Forest** surfaces features that drive complex, non-linear splits across trees.\n",
    "\n",
    "The divergence in rankings reveals how each model \"sees\" the data: Logistic Regression favors clarity, Random Forest rewards interaction. Together, they offer complementary lenses on what drives relevance.\n"
   ]
  },
  {
   "cell_type": "code",
   "execution_count": 12,
   "id": "0c35d626",
   "metadata": {},
   "outputs": [
    {
     "name": "stdout",
     "output_type": "stream",
     "text": [
      "**Top-5 Permutation Importances — Logistic Regression**\n",
      "| feature           |   importance |\n",
      "|:------------------|-------------:|\n",
      "| svd_0             |   0.371333   |\n",
      "| GTMLoBName_freq   |   0.0373333  |\n",
      "| PFDBIndustry_freq |   0.0326667  |\n",
      "| svd_5             |   0.0173333  |\n",
      "| svd_1             |   0.00266667 |\n",
      "\n",
      "**Top-5 Permutation Importances — Random Forest**\n",
      "| feature          |   importance |\n",
      "|:-----------------|-------------:|\n",
      "| svd_0            |   0.268667   |\n",
      "| svd_32           |   0.00333333 |\n",
      "| GTMLoBName_freq  |   0          |\n",
      "| Information_freq |   0          |\n",
      "| svd_3            |   0          |\n"
     ]
    }
   ],
   "source": [
    "from sklearn.inspection import permutation_importance\n",
    "\n",
    "# compute importances\n",
    "lr_res = permutation_importance(best_lr, X_test_num, y_test,\n",
    "                                n_repeats=15, random_state=SEED,\n",
    "                                scoring=\"accuracy\", n_jobs=-1)\n",
    "rf_res = permutation_importance(best_rf, X_test_num, y_test,\n",
    "                                n_repeats=15, random_state=SEED,\n",
    "                                scoring=\"accuracy\", n_jobs=-1)\n",
    "\n",
    "# build Series and DataFrames\n",
    "lr_imp = pd.Series(lr_res.importances_mean, index=X_test_num.columns)\n",
    "rf_imp = pd.Series(rf_res.importances_mean, index=X_test_num.columns)\n",
    "\n",
    "lr_df = lr_imp.nlargest(5).reset_index()\n",
    "lr_df.columns = ['feature', 'importance']\n",
    "rf_df = rf_imp.nlargest(5).reset_index()\n",
    "rf_df.columns = ['feature', 'importance']\n",
    "\n",
    "# display\n",
    "print(\"**Top-5 Permutation Importances — Logistic Regression**\")\n",
    "print(lr_df.to_markdown(index=False))\n",
    "print(\"\\n**Top-5 Permutation Importances — Random Forest**\")\n",
    "print(rf_df.to_markdown(index=False))\n"
   ]
  },
  {
   "cell_type": "markdown",
   "id": "edc0c844",
   "metadata": {},
   "source": []
  },
  {
   "cell_type": "markdown",
   "id": "d669d88a",
   "metadata": {},
   "source": [
    "* Logistic Regression relies heavily on **svd_0**, but also values categorical frequency features, suggesting a balanced use of semantic and structured signals. Random Forest, meanwhile, is dominated by **svd_0** alone, with minimal impact from other inputs, hinting at a more selective pattern focus.\n",
    "\n",
    "This raises a key question: what does **svd_0** actually represent?  \n",
    "Let’s decode it next by mapping SVD components back to their top contributing terms.\n"
   ]
  },
  {
   "cell_type": "markdown",
   "id": "58b4acf5",
   "metadata": {},
   "source": [
    "### SVD Feature → Top-5 Terms Mapping\n",
    "\n",
    "To demystify the semantic meaning behind top SVD components, we traced each back to its most influential TF-IDF terms. This reveals what latent topics the models are actually leveraging, whether it's domain-specific jargon, recurring themes, or regulatory keywords.\n",
    "\n",
    "Understanding these mappings helps bridge the gap between abstract embeddings and actionable insights, grounding model behavior in real language.\n"
   ]
  },
  {
   "cell_type": "markdown",
   "id": "8662844f",
   "metadata": {},
   "source": [
    "Before decoding the top SVD components, we first retrieve the term-to-component mapping from our previous notebook:"
   ]
  },
  {
   "cell_type": "code",
   "execution_count": 13,
   "id": "ca7a3923",
   "metadata": {},
   "outputs": [],
   "source": [
    "svd_feature_mapping = pd.read_csv(BASE_DIR / \"data/03_svd_feature_mapping.csv\", index_col=0)"
   ]
  },
  {
   "cell_type": "code",
   "execution_count": 14,
   "id": "a5c14464",
   "metadata": {},
   "outputs": [
    {
     "name": "stdout",
     "output_type": "stream",
     "text": [
      "**SVD Feature → Top-5 Terms Mapping**\n",
      "| feature           | mapped_terms                                                                       |\n",
      "|:------------------|:-----------------------------------------------------------------------------------|\n",
      "| svd_0             | sap, sap fiori, fiori, cloud, experience                                           |\n",
      "| GTMLoBName_freq   | GTMLoBName_freq                                                                    |\n",
      "| PFDBIndustry_freq | PFDBIndustry_freq                                                                  |\n",
      "| svd_5             | production, manufacturing, discrete, discrete manufacturing, production supervisor |\n",
      "| svd_1             | accounts, payable, accounts payable, accountant, receivable                        |\n",
      "| svd_32            | sales, warehouse, asset, project, depreciation                                     |\n",
      "| Information_freq  | Information_freq                                                                   |\n",
      "| svd_3             | oil, oil gas, gas, accounts, revenue                                               |\n"
     ]
    }
   ],
   "source": [
    "mapping = []\n",
    "for feat in pd.concat([lr_df['feature'], rf_df['feature']]).unique():\n",
    "    if feat.startswith(\"svd_\"):\n",
    "        idx = int(feat.split(\"_\")[1])\n",
    "        # svd_feature_mapping is a DataFrame: rows = component, columns = features\n",
    "        terms = svd_feature_mapping.loc[f\"svd_{idx}\"] \\\n",
    "                .nlargest(5).index.tolist()\n",
    "        mapping.append((feat, \", \".join(terms)))\n",
    "    else:\n",
    "        mapping.append((feat, feat))\n",
    "\n",
    "map_df = pd.DataFrame(mapping, columns=['feature', 'mapped_terms']) \\\n",
    "          .drop_duplicates()\n",
    "\n",
    "print(\"**SVD Feature → Top-5 Terms Mapping**\")\n",
    "print(map_df.to_markdown(index=False))\n"
   ]
  },
  {
   "cell_type": "markdown",
   "id": "4adce390",
   "metadata": {},
   "source": [
    "**SVD Component Interpretation**\n",
    "\n",
    "The mapping reveals that **svd_0**, the most influential feature across both models, captures terms like *sap*, *fiori*, and *cloud*,strong indicators of enterprise software relevance. Meanwhile, **svd_5** leans into *manufacturing* and *production*, pointing to industrial use cases.\n",
    "\n",
    "This semantic unpacking shows that the models aren’t just learning patterns; they’re anchoring decisions in domain-specific language. It’s a peek into the linguistic DNA driving relevance.\n"
   ]
  },
  {
   "cell_type": "markdown",
   "id": "bb53b0f2",
   "metadata": {},
   "source": [
    "### Combined LR vs RF Importances\n",
    "\n",
    "To highlight how feature relevance differs between models, we visualize the top-5 permutation importances side by side. This comparison reveals where Logistic Regression and Random Forest align, and where their priorities diverge.\n"
   ]
  },
  {
   "cell_type": "code",
   "execution_count": 15,
   "id": "a72f6ab2",
   "metadata": {},
   "outputs": [
    {
     "data": {
      "image/png": "[encoded data removed]",
      "text/plain": [
       "<Figure size 800x500 with 1 Axes>"
      ]
     },
     "metadata": {},
     "output_type": "display_data"
    }
   ],
   "source": [
    "combined = pd.DataFrame({\n",
    "    'Logistic Regression': lr_imp.nlargest(5),\n",
    "    'Random Forest':      rf_imp.nlargest(5)\n",
    "})\n",
    "\n",
    "ax = combined.plot.bar(figsize=(8,5), rot=45, edgecolor='k')\n",
    "ax.set_ylabel(\"Mean Accuracy Decrease\")\n",
    "ax.set_title(\"Top-5 Permutation Importances: LR vs RF\")\n",
    "plt.tight_layout()\n",
    "plt.savefig(BASE_DIR / \"plots/top5_perm_importance_lr_rf.png\", dpi=300)\n",
    "plt.show()\n"
   ]
  },
  {
   "cell_type": "markdown",
   "id": "982c0f89",
   "metadata": {},
   "source": [
    "### Key Takeaways: SVD & Permutation Analysis\n",
    "\n",
    "Both models converge on **svd_0** as the dominant signal, pointing to a core Life-Science topic embedded in the TF-IDF space. But their divergence is telling: Logistic Regression leans on categorical frequency features, while Random Forest taps into deeper latent patterns like **svd_32**, hinting at niche domains such as oil and gas.\n",
    "\n",
    "The takeaway? Semantic embeddings and structured metadata aren’t rivals; they’re allies. Together, they build a more nuanced and powerful relevance engine.\n"
   ]
  },
  {
   "cell_type": "markdown",
   "id": "6168c265",
   "metadata": {},
   "source": [
    "## 4.7 Embedding Visualisations  \n",
    "### UMAP + HDBSCAN Scatter  \n",
    "\n",
    "To truly understand how relevance emerges from text, we need to see the landscape itself. By projecting high-dimensional TF–IDF vectors into two dimensions using **UMAP**, we reveal the hidden geometry of app descriptions. Then, with **HDBSCAN**, we uncover dense semantic neighborhoods; natural clusters that may or may not align with our manual labels.\n",
    "\n",
    "- **Objective:** Explore the organic structure of app descriptions in 2D space and assess how well our ground-truth labels reflect these semantic groupings.  \n",
    "- **UMAP Projection:** Preserves both global and local relationships in the data, mapping each app into a position on the “UMAP-1” and “UMAP-2” axes, like plotting stars in a galaxy of meaning.\n",
    "\n",
    "This visualisation sets the stage for the next step: examining how decision boundaries interact with these clusters. Are our models drawing lines through coherent regions, or slicing across semantic seams? Let’s find out.\n"
   ]
  },
  {
   "cell_type": "code",
   "execution_count": 16,
   "id": "a6927afa",
   "metadata": {},
   "outputs": [
    {
     "name": "stderr",
     "output_type": "stream",
     "text": [
      "/home/khalaji/Coding/text-classification-life-sciences/.venv_lf/lib/python3.12/site-packages/umap/umap_.py:1952: UserWarning: n_jobs value 1 overridden to 1 by setting random_state. Use no seed for parallelism.\n",
      "  warn(\n"
     ]
    },
    {
     "data": {
      "application/vnd.plotly.v1+json": {
       "config": {
        "plotlyServerURL": "https://plot.ly"
       },
       "data": [
        {
         "customdata": [
          [
           "F4152",
           "Plan Repairs Call up a worklist of all repair objects to individually plan their"
          ],
          [
           "MD09",
           "Display Pegged Requirements For the MRP element selected, you can display: just "
          ],
          [
           "_SCWM_PMR",
           "Production Material Requests You use the production material request for plannin"
          ],
          [
           "EG72",
           "Maintain Device Allocation Device allocation is historical. Time slices in perio"
          ],
          [
           "F2280",
           "unknown Traders and Schedulers Workbench Events Page"
          ],
          [
           "WRFCHVALGRP",
           "Maintain Groups - Characteristic Values You can group characteristic values from"
          ],
          [
           "COP21",
           "Pack HUs to Production Order - Without Order Reference You can create handling u"
          ],
          [
           "CJ88",
           "Run Settlement - Projects - Actual Business objects are settled by allocating th"
          ],
          [
           "QP05",
           "Print Inspection Plan - General Printing Inspection Plans (General) You use this"
          ],
          [
           "FPPRD0",
           "Overview of Products The overview shows a list of the products that meet the sel"
          ],
          [
           "F5728",
           "Clean Up Productive Data, Clean Up Productive Data, Clean Up Productive Data, Cl"
          ],
          [
           "FPRS",
           "Display Open Repayment Requests You can designate payments for refunding in a pa"
          ],
          [
           "CPTK",
           "Run Actual Template Allocation - Projects Enter the receiver objects in the entr"
          ],
          [
           "F2660",
           "Find Maintenance Task List Display maintenance task lists by using the free text"
          ],
          [
           "WA03",
           "Display Allocation Table Selection of issue document schedule lines on the basis"
          ],
          [
           "F3766",
           "Manage Group Structure - Unit View This app provides the following key features:"
          ],
          [
           "F5145",
           "Explore At-Risk Customers In SAP S/4HANA for behavioral insights (abbreviated to"
          ],
          [
           "RESCSEAA",
           "Assessment Adjustment COA You can adjust assessments based on the distribution o"
          ],
          [
           "F0617A",
           "Data Aging Objects, Monitor Data Aging Objects With this app, you can monitor th"
          ],
          [
           "WBWF",
           "Process Workflow - Trading Contract For further information on the features of t"
          ],
          [
           "F3779",
           "Import Statistical Key Figure Plan Data Import statistical key figure plan data "
          ],
          [
           "WWRB",
           "Change Output - Settlement Management In the Settlement Management component, yo"
          ],
          [
           "F0504",
           "Request New Profit Center Use the lean requestor form for a user new to MDG View"
          ],
          [
           "FM_SETS_FICTR3",
           "Display Funds Center Group Group Editing In a group you can create more segment "
          ],
          [
           "CU41",
           "Create Configuration Profile You define different settings in configuration prof"
          ],
          [
           "IDCNPLFWD",
           "P&L Account Closing Posting - China In China, companies are required to carry fo"
          ],
          [
           "F3251",
           "Export Master Data - BP Relationships, Export Master Data - Business Partners, E"
          ],
          [
           "F6840",
           "My Tasks The PF ID entry does not exist HR Specialist : Creates, organizes and m"
          ],
          [
           "F6050",
           "Schedule Electronic BoE Jobs - China You can use the scheduling options to carry"
          ],
          [
           "F3638",
           "Display Saved Open Item Lists Display the saved open item lists Display list ite"
          ],
          [
           "CG13",
           "Display Phrases See Phrase Management and Function Model for Phrase Management ."
          ],
          [
           "EEDMSETTLUNIT01",
           "Create Settlement Unit Settlement units allow you to control, which points of de"
          ],
          [
           "FM_REVALUATION_PO",
           "Revaluate Purchase Orders For purchase orders in Funds Management, the transacti"
          ],
          [
           "F5763",
           "Postprocess Event-Based Postings - Overhead Calculation, Postprocess Event-Based"
          ],
          [
           "F2328",
           "Display Dunning History You can carry out the following tasks:See an overview of"
          ],
          [
           "FARR_POB_CANCEL",
           "Cancel POBs - For Classic Contract Management Complete performance obligations a"
          ],
          [
           "W0027",
           "Display Maintenance Item Depending on the role to which you are assigned, you ca"
          ],
          [
           "FBRC",
           "Reset Cleared Items - Payment Cards Reverse the posting of the payment card paym"
          ],
          [
           "FAGL_FC_TRANS",
           "Perform Currency Translation of Balances The account balances are translated fro"
          ],
          [
           "KB11N",
           "Enter Manual Cost Repostings As an alternative to the following classic SAP GUI "
          ],
          [
           "F5686",
           "Customer Line Items - China Display the details of customer account balances acc"
          ],
          [
           "F2701",
           "Manage Buyoffs - Manufacturing Filter the list of buyoff items using a range of "
          ],
          [
           "LT03",
           "Create Transfer Order - Outbound Delivery Goods issue for an outbound delivery i"
          ],
          [
           "ICLQCL02",
           "Change Quick Claim In quick claim mode you can settle and close small claims (su"
          ],
          [
           "F4031",
           "Application System Overview, Database System Overview, SQL EXPLAIN, SQL Statemen"
          ],
          [
           "F1706",
           "Change Inbound Deliveries - Deliveries Search for inbound deliveries Note that i"
          ],
          [
           "J3RCALD",
           "Clear Payments - Accounts Receivable - Russia, Clear Payments - Accounts Receiva"
          ],
          [
           "WA01",
           "Create Allocation Table Selection of issue document schedule lines on the basis "
          ],
          [
           "F5232",
           "Select SARA Hazard categories that apply to an unpackaged product or a raw mater"
          ],
          [
           "F4810",
           "Get an overview of the current situation and trend for your master data processe"
          ],
          [
           "FP03D",
           "Submit Items to Collection Agency Using the Submit Items for Collection transact"
          ],
          [
           "WTYRCL",
           "Maintain Recalls - Warranty Claim Processing You use this process if you want to"
          ],
          [
           "F9IAPLAN",
           "Release Planned Payment Order You enter the forward order for a future posting d"
          ],
          [
           "F3464",
           "Display a chart of contribution amount by grant. Display a chart of contribution"
          ],
          [
           "F5787",
           "Manage Teams and Responsibilities - Just-In-Time unknown Supply to Customer Mast"
          ],
          [
           "F2014",
           "You can perform the following tasks: Apply filter to display views. Display view"
          ],
          [
           "F1744",
           "View accounts receivable by due periods You can analyze accounts receivable acco"
          ],
          [
           "F4108",
           "View the data quality score by category View the data quality score by dimension"
          ],
          [
           "UKM_BP",
           "Manage Business Partner - Credit Profile With the Maintain Business Partner: Cre"
          ],
          [
           "IE36",
           "Display Vehicles In the list-editing for vehicles, you can select by general equ"
          ],
          [
           "F5951",
           "Manage Master Production Orders - Display Results With this transactional applic"
          ],
          [
           "F4134",
           "Assign Capability Code to Capability Code Organizational Planner - Capabilities "
          ],
          [
           "KO03",
           "Display Internal Order For more information on the classification of order maste"
          ],
          [
           "RERAIVRV",
           "Reverse Invoices In Flexible Real Estate Management, you can create and print re"
          ],
          [
           "EEDMIDESERVPROV01",
           "Create Service Provider This object has two main functions: It forms the central"
          ],
          [
           "F0106A",
           "Process Receivables Obtain an overview: Display information about a customer, su"
          ],
          [
           "F888",
           "Waive Acceptance Request You can use this function either to process a single FI"
          ],
          [
           "CN48",
           "Confirmations Overview - Enhanced You can select all or specific objects in a pr"
          ],
          [
           "ME2C",
           "Display Purchasing Documents by Material Group You can use this app to: With thi"
          ],
          [
           "F6394",
           "Manage Bonded Warehouses - Product Marketability Master Data Specialist - Produc"
          ],
          [
           "VGM3",
           "Display Group - For Freight List You can combine outbound deliveries into groups"
          ],
          [
           "F3815",
           "Schedule Migration of Purchasing Data for Analytics You can use this app to do t"
          ],
          [
           "FWDU",
           "Execute Securities Account Transfer The securities account transfer takes the tr"
          ],
          [
           "VKKQUOT1",
           "Quotation monitoring You can use this function to monitor quotations with premiu"
          ],
          [
           "ER32",
           "Display Political Regional Structure You can use this app to maintain the politi"
          ],
          [
           "QP11",
           "Create Reference Operation Set You use inspection plans to process a quality ins"
          ],
          [
           "W0201",
           "unknown Contract Real Estate Contract Object Assignment Report"
          ],
          [
           "QP02",
           "Change Inspection Plan You use inspection plans to process a quality inspection "
          ],
          [
           "F5743",
           "Plan Authorized Materials List the released relocation projects that are linked "
          ],
          [
           "F5479",
           "Receipts and Returns Overview This feature enables you to view the logistics ite"
          ],
          [
           "F4776",
           "Compare Authorized with Actual Materials Trigger the comparison based on multipl"
          ],
          [
           "F3760",
           "Make Bank Transfers - Create with Templates With this app, you can create one or"
          ],
          [
           "F6500",
           "Configure Supply Selection Rule - Supply Assignment Display the list of existing"
          ],
          [
           "PK24",
           "Create Customer Kanban Call Usually you supply your own production via Kanban. N"
          ],
          [
           "F1974",
           "WBS Element Overview Display details for selected WBS element(s).Display the mas"
          ],
          [
           "EMMAC1",
           "Create Case As part of Enhanced Message Management, you can also create clarific"
          ],
          [
           "REAJPR",
           "Specify Adjustments You can use the Specify Adjustments function to simulate (wi"
          ],
          [
           "F2396",
           "Filter the nomination worklist based on different nomination attributes like loc"
          ],
          [
           "FPCGA",
           "Display Master Data Groups The properties of a master data group always refer to"
          ],
          [
           "COEBR",
           "Batch: Create Worklist This process describes a typical scenario for optical bat"
          ],
          [
           "F1068",
           "Query Browser - Browse Views Search Use this field to search for the views, tabl"
          ],
          [
           "FM_SETS_FICTR1",
           "Create Funds Center Group Group Editing In a group you can create more segment g"
          ],
          [
           "CX34A",
           "Database Listing of Totals Records (Classic View) - Reporting Logic To enable de"
          ],
          [
           "F2155",
           "Reclassify Products - Intrastat Service Codes Find classified products for a num"
          ],
          [
           "S_ALR_87012308",
           "G/L Account Changes G/L Account Changes (App ID: S_ALR_87012308) You can see the"
          ],
          [
           "FB1SL",
           "Clear G/L Accounts - For Ledger Group If you set the Clearing Specific to Ledger"
          ],
          [
           "IBR09",
           "Broker Report Reversal In reversal processing you can Count documents Display do"
          ],
          [
           "EEDMIDE_GRID01",
           "Create Grid Recording grid hierarchiesYou can map grid hierarchies in the system"
          ],
          [
           "F2244",
           "You can use this app to do the following: View the details of the chemical appro"
          ],
          [
           "MIS2",
           "Change Inventory Sampling Procedure This component reduces the time and cost of "
          ],
          [
           "F4437",
           "Manage Force Element to Position Organizational Assignment Organizational Planne"
          ],
          [
           "F6404",
           "Manage Provider Contracts for Sales Billing You can use this app to do the follo"
          ],
          [
           "FSH_PROGRESS_RPT",
           "Monitor Order Progress - Production Order The progress report displays master pr"
          ],
          [
           "FBWD",
           "Process Returned Bills of Exchange, Returned Bill of Exchange Payable This funct"
          ],
          [
           "CPAE",
           "Run Actual Template Allocation - Profitability Analysis Enter the receiver objec"
          ],
          [
           "F6265",
           "Bank Account Change Requests - Two-Person Verification Check bank account change"
          ],
          [
           "F2700",
           "Define Search Behavior - Enterprise Search App to maintain Synonyms for Enterpri"
          ],
          [
           "F3603",
           "Monitor Season Completeness With this app, you can see the status of scheduled j"
          ],
          [
           "AIBU",
           "Execute Settlement - For AuC During the under construction phase, assets can be "
          ],
          [
           "FW20",
           "If you want to purchase or sell a security or issue a bond, you must have a secu"
          ],
          [
           "VL10I",
           "My Schedule Lines - Due for Delivery Operations (sales orders or purchase orders"
          ],
          [
           "KEG5",
           "Run Actual Indirect Activity Allocation - Profitability Analysis Performing Asse"
          ],
          [
           "F6563",
           "Create mass processes for business partner relationships data Display a set of p"
          ],
          [
           "UDM_SPECIALIST",
           "My Collection Worklist You can use the following individual functions for proces"
          ],
          [
           "WAK2",
           "Maintain Promotion Create article groupings that also contain whole merchandise "
          ],
          [
           "KGI2",
           "Run Overhead Calculation - Orders - Actual You can apply overhead to both plan a"
          ],
          [
           "FMAO",
           "Requests Journal During document selection, the program searches the system for "
          ],
          [
           "F3749",
           "Inventory KPI Analysis Stock Changes Displays the stock value changes of the fil"
          ],
          [
           "F2977",
           "View the total tax amount using different charts or tables Drill down into your "
          ],
          [
           "KEPC",
           "Assign Costing Keys to Characteristics - Profitability Analysis To calculate the"
          ],
          [
           "EG31",
           "Run Full Installation You can use this app to install devices in the following w"
          ],
          [
           "_SCWM_PI_COUNT",
           "Count Physical Inventory You can carry out a physical inventory for the followin"
          ],
          [
           "ICLNOT03",
           "Display Claim (Notification Mode) In notification mode you capture chronological"
          ],
          [
           "F4713",
           "Process Cross-Plant Receipts Warehouse Clerk (Oil & Gas) : Plans, controls, and "
          ],
          [
           "MBAL",
           "Material Documents: Read Archive You can archive the following documents in Inve"
          ],
          [
           "QF02",
           "Change Defects - For Inspection Lot You can record defects in the form of defect"
          ],
          [
           "F4565",
           "With this feature, new content-based compliance requirements for the IMDG Code 2"
          ],
          [
           "_SCWM_PI_COUNTLIST",
           "Count Physical Inventory - List You can carry out a physical inventory for the f"
          ],
          [
           "F2797",
           "My Inbox - For Bank Accounts Process your workflow tasks in the following scenar"
          ],
          [
           "F6792",
           "Schedule Unplanned Contract Settlement Create and schedule periodic jobs to gene"
          ],
          [
           "FPREPT",
           "Receipt Management The list is output using the ABAP list viewer. You can define"
          ],
          [
           "KB44N",
           "Reverse Manual Revenue Repostings As an alternative to the following classic SAP"
          ],
          [
           "FP45RTP",
           "Payment Order Lot (Real-Time) After the items are selected and the payment amoun"
          ],
          [
           "MICN",
           "Create PI Documents - Cycle Counting Cycle counting is a method of physical inve"
          ],
          [
           "F2896",
           "Analyze by purchases and payables Save your most frequently used analysis paths "
          ],
          [
           "F4511",
           "unknown Conditions and Condition Maintainance Reuse Component for Managing Time-"
          ],
          [
           "F-04",
           "Post with Clearing The clearing program carries out automatic clearing within th"
          ],
          [
           "F2784",
           "Import Data Browse through spreadsheet files with environmental data. Import env"
          ],
          [
           "F2546",
           "Define Settings for Standardized Data Interface - China In this app, you can do "
          ],
          [
           "F2191",
           "Display Scorecards - Evaluation Questionnaires With this app, you can do the fol"
          ],
          [
           "_SCWM_WAVE",
           "Process Waves Extended Warehouse Management (EWM) can combine warehouse request "
          ],
          [
           "F3964",
           "Search Hazardous Substance Inventory Data Search through hazardous substance inv"
          ],
          [
           "F6565",
           "The Match Review Results screen gives you an overview on potential duplicates id"
          ],
          [
           "QP60",
           "Display Inspection Plan Changes Change Rule In the header data of the inspection"
          ],
          [
           "CS71",
           "Create WBS BOM The components of material or work breakdown structure BOMs, whic"
          ],
          [
           "C252",
           "Print Production Versions The consistency check determines a check status for th"
          ],
          [
           "KB41N",
           "Enter Manual Revenue Repostings As an alternative to the following classic SAP G"
          ],
          [
           "RMBSM",
           "Enter Basis Spreads You use this function to enter basis spread values manually "
          ],
          [
           "F6638",
           "Reverse Revenue Recognition This app provides the following key features: Schedu"
          ],
          [
           "EEDMSETTLCREATE",
           "Create Settlement Document You use this app to create, change, and display settl"
          ],
          [
           "F2715",
           "The object page for Load ID allows to display this IS-Oil object in Fiori design"
          ],
          [
           "F3098",
           "Interest Rate Overview Analyze several key performance indicators displayed as s"
          ],
          [
           "QA52",
           "Change Source Inspection - Job Overview When you generate a worklist for source "
          ],
          [
           "ES27",
           "Change Contracts for Contract Account To access multiple-contract maintenance, e"
          ],
          [
           "F2456A",
           "unknown HCM Fiori Reuse Library Reuse Component for HCM App (S/4HANA)"
          ],
          [
           "CG57",
           "Manage Compliance Documents - Document Version See Report Management . Note Repo"
          ],
          [
           "_ISDFPS_LMACC1",
           "Enter Aircraft Accident The system creates a PDF file containing all the relevan"
          ],
          [
           "CJG1",
           "Transfer Price Allocation - Enter Details Depending on the complexity of the pro"
          ],
          [
           "TI91",
           "Process OTC Options - Collective Processing With this app, you can process OTC o"
          ],
          [
           "VFP3",
           "Display Preliminary Billing Documents You can display the following: Header deta"
          ],
          [
           "W0013",
           "Create Measurement Document for Technical Object, Display Measurement Document D"
          ],
          [
           "DP93",
           "Resource-Related Billing Between Company Codes In the service branch it is commo"
          ],
          [
           "F7442",
           "Purchase Orders Created After Invoices - Number Of Purchase Orders With this app"
          ],
          [
           "WTY",
           "Process Claim - Warranty Claim Processing The layout refers to the display of th"
          ],
          [
           "F2487",
           "Manage Allergen Groups Display the list of allergen groups that you are authoriz"
          ],
          [
           "F5591",
           "unknown Sourcing Project Comparison Reuse Control in Procurement"
          ],
          [
           "VYCOV032",
           "Create Balanced Contract Statements The date and time of issue are relevant for "
          ],
          [
           "CA13",
           "Display Reference Routing This process describes how to create or change a refer"
          ],
          [
           "MI38",
           "Enter and Post PI Count with Document This process consists of two parts: You cr"
          ],
          [
           "F5946",
           "Manage Purchase Orders - Display Results Purchaser (Retail) : Performs retail sp"
          ],
          [
           "CNMASS",
           "Mass Changes You can make the following changes with mass changes. Change field "
          ],
          [
           "F6261",
           "Manage Master Planned Orders - Display Results With this transactional applicati"
          ],
          [
           "AS91",
           "Create Asset Master Record - For Legacy Asset Steps with the Manual Transfer of "
          ],
          [
           "CN41",
           "Project Structure Overview You can select all or specific objects in a project, "
          ],
          [
           "AS23",
           "Display Group Asset Different types of changes to master data require different "
          ],
          [
           "W0154",
           "Contract Balance Movements You can run the report by selecting Company Code Acco"
          ],
          [
           "F2292",
           "Schedule Inventory Accounting Jobs You can use the scheduling options to carry o"
          ],
          [
           "F3099",
           "Browse all requests submitted for approval in the inbox View details for each re"
          ],
          [
           "F5363",
           "Accounts Receivable Accountant - Leasing: (is an add-on role to the Accounts Rec"
          ],
          [
           "W0181",
           "Accounts Payable Book - Japan Annex 21(5) Display the accounts payable details a"
          ],
          [
           "F3458A",
           "Manage Characteristic Groups BOM Engineer : Creates bills of material and consis"
          ],
          [
           "F6069",
           "With this feature, you can add the compliance pattern National Fire Protection A"
          ],
          [
           "F4801",
           "Manage Force Element to Command Relationship Assignment Organizational Planner -"
          ],
          [
           "CI45N",
           "Generate Upload Request CC2 Download The Download function allows you to send da"
          ],
          [
           "W0159",
           "Remaining Performance Obligations - Total Open Revenue You can run the report by"
          ],
          [
           "F6237",
           "Search for incomplete sales documents using a free text searchNote The following"
          ],
          [
           "FP40",
           "Transfer Items During the transfer, the system clears the selected items and pos"
          ],
          [
           "EA91",
           "Display Price You can use this app to create, display and change discounts and s"
          ],
          [
           "FM_CISUB_SET2",
           "Change Cmmt Item Substrings Group You can create, maintain, copy, and automatica"
          ],
          [
           "W0049",
           "Treasury Position Analysis Provide five tiles to display the position values: Tr"
          ],
          [
           "F6063",
           "Manage Prior Period Notifications - Production Use filters to search for prior p"
          ],
          [
           "F5782",
           "Specify report information, such as main location and reporting period. Specify "
          ],
          [
           "EL35",
           "Display Meter Reading Order This component allows you to: Print meter reading do"
          ],
          [
           "FKKCLERK_CM_CUCENTER",
           "Maintain Responsibilities for Department The dunning run automatically assigns t"
          ],
          [
           "ICLPAY03",
           "Approve Payment (Overview Mode) Before forwarding a payment to the Collections/D"
          ],
          [
           "F4363",
           "Allocation Results Create user variants in the run result reports to quickly see"
          ],
          [
           "IK33",
           "Display MeasReading entry list You can enter measurement or counter readings dir"
          ],
          [
           "OB08",
           "Enter FX Spot Rates, Maintain Currency Exchange Rates, Maintain Exchange Rates Y"
          ],
          [
           "FP_KMIG",
           "Set Subsequent Account Assignments You can enter the following account assignmen"
          ],
          [
           "F5260",
           "Schedule Handling Unit Creation - From JIT Packing Groups You could create handl"
          ],
          [
           "IQS12",
           "Process Task Using this function, you can process a specific task in a notificat"
          ],
          [
           "F3010",
           "Manage JIT Customer Supply Controls With this app you can create and manage cust"
          ],
          [
           "F2979",
           "View the number of tax obligations that are valid today.Note Tax obligations nee"
          ],
          [
           "TRIVAT",
           "Create Input VAT List - Turkey Display vendor detailsThe report summarizes all t"
          ],
          [
           "F5236",
           "Schedule POS Inbound Service Processing of AIF messages for sales and financial "
          ],
          [
           "FQ_FPCJ_SC",
           "Cash Journal: Cashier Special Authorizations By assigning different user roles, "
          ],
          [
           "CK80_99",
           "Cost Components - Materials Main Cost Component Splits and Auxiliary Cost Compon"
          ],
          [
           "F3552",
           "Review Purchase Order Accruals - For Cost Accountant Depending on the role to wh"
          ],
          [
           "F7704",
           "Forwarded JIS Calls - Overview With this analytical application, you as a Produc"
          ],
          [
           "F4743",
           "Route Overview, Route Overview Filtering of routes by life cycle status, for exa"
          ],
          [
           "FMPSO001",
           "Reverse Overdue Deferrals You can either reverse deferral requests individually "
          ],
          [
           "FPVC",
           "Reversal Run for Dunning Notices The system resets either the whole run or the i"
          ],
          [
           "J3RFKSLD",
           "Display Vendor Turnover Balance Sheet - Russia, Display Vendor Turnover Balance "
          ],
          [
           "F4315",
           "Confirm Production - For Customer JIT Calls This app provides the following key "
          ],
          [
           "F2558",
           "Schedule Document Collection - Settlement Document You can use this app to: Sele"
          ],
          [
           "F3216",
           "unknown Material Master Duplicate Check Reuse Library - Master Data"
          ],
          [
           "IK04R",
           "Create Ref. Measuring Points for Obj The assignment of reference measuring point"
          ],
          [
           "W0110",
           "Maintain Process Parameters Create, display, and change process parameters. Assi"
          ],
          [
           "CSK2",
           "Multi-level sales order BOM You use this function if you want to display all com"
          ],
          [
           "VL10G",
           "My Documents - Due for Delivery Operations (sales orders or purchase orders, for"
          ],
          [
           "F2235",
           "View and drill down into sales volumes according to different dimensions such as"
          ],
          [
           "F3986",
           "Injury/Illness Log - Detailed Analysis, Injury/Illness Log - Detailed Analysis V"
          ],
          [
           "F2508",
           "Select Receipts and Returns to Supplier - Intrastat Declaration Select receipts "
          ],
          [
           "F4334",
           "Assign Associates to Stores, My Store Assignment Assign your own user and other "
          ],
          [
           "IW29",
           "Display Notifications There are a number of occasions when you will need system "
          ],
          [
           "CA21",
           "Create Rate Routing You can link routings and the material to be produced in the"
          ],
          [
           "IA01",
           "Create Equipment Task List If you want to describe a sequence of individual main"
          ],
          [
           "F7019",
           "Tax Accountant - Corporate Income Tax : Is responsible for Corporate Income Tax "
          ],
          [
           "TBDJ",
           "Request Historical Market Data - Datafeed Request historical market data for dif"
          ],
          [
           "CG02",
           "Manage Substances, Manage Substances - Specification Database With this SAP comp"
          ],
          [
           "F5001",
           "Schedule JIT Delivery Schedule Creation - For Customer JIT Calls With this app, "
          ],
          [
           "FRE14",
           "Send References - F&R Integration You can create a new reference module manually"
          ],
          [
           "F4531",
           "Manage Reconciliation Key You can use the app to manually create, display, close"
          ],
          [
           "F5585",
           "Counterparties per Companies Use this app to do the following: Display a list of"
          ],
          [
           "LT27",
           "Transfer order for storage unit After you have created transfer orders, you can "
          ],
          [
           "F5608",
           "Map Format Data for Incoming Files from Banks, Map Format Data for Incoming File"
          ],
          [
           "F5010",
           "Display Automatic Adjustment Logs - Application Log With the app, you can choose"
          ],
          [
           "TOE_HEDGING_AREA",
           "Define Hedging Area The hedging area is an entity that represents a section of y"
          ],
          [
           "F0892",
           "Track My Degree Requirement Allows students to identify requirements thar are pe"
          ],
          [
           "_SCWM_TODLV_T",
           "Create Warehouse Tasks - Posting Change When EWM creates a warehouse task for a "
          ],
          [
           "F0744A",
           "Create Correspondence Depending on the role assigned to you, you can perform the"
          ],
          [
           "F3065",
           "View a prefiltered list of purchase requisitions, for example purchase requisiti"
          ],
          [
           "F3915",
           "Manage Statistical Key Figure Values Filter for statistical key figure value pos"
          ],
          [
           "F5854",
           "Periodic Allocation Results Preparation: Transformation of cycles to graphsThe s"
          ],
          [
           "MIS1",
           "Create Inventory Sampling Procedure - ERP System This component reduces the time"
          ],
          [
           "TI72",
           "With this app, you can process OTC options. Besides functions that allow you to "
          ],
          [
           "EA11",
           "Create Multiple Partial Bills This function: Generates contract accounting docum"
          ]
         ],
         "hovertemplate": "<b>%{hovertext}</b><br><br>cluster=0<br>LabelTxt=Irrelevant<br>ID=%{customdata[0]}<br>Snippet=%{customdata[1]}<extra></extra>",
         "hovertext": [
          "Plan Repairs",
          "Display Pegged Requirements",
          "Production Material Requests",
          "Maintain Device Allocation",
          "Events Page",
          "Maintain Groups - Characteristic Values",
          "Pack HUs to Production Order - Without Order Reference",
          "Run Settlement - Projects - Actual",
          "Print Inspection Plan - General",
          "Overview of Products",
          "Clean Up Productive Data",
          "Display Open Repayment Requests",
          "Run Actual Template Allocation - Projects",
          "Find Maintenance Task List",
          "Display Allocation Table",
          "Manage Consolidation Group Structure - Unit View",
          "Explore At-Risk Customers",
          "Assessment Adjustment COA",
          "Manage Data Aging Groups (Version 2)",
          "Process Workflow - Trading Contract",
          "Import Statistical Key Figures Plan Data",
          "Change Output - Settlement Management",
          "Request Profit Center (MDG)",
          "Display Funds Center Group",
          "Create Configuration Profile",
          "P&L Account Closing Posting - China",
          "Export Master Data",
          "My Tasks (HCM)",
          "Schedule Electronic BoE Jobs - China",
          "Display Saved Open Item Lists",
          "Display Phrases",
          "Create Settlement Unit",
          "Revaluate Purchase Orders",
          "Postprocess Event-Based Postings - Overhead Calculation",
          "Display Dunning History",
          "Cancel POBs - For Classic Contract Management",
          "Display Maintenance Item (Planner)",
          "Reset Cleared Items - Payment Cards",
          "Perform Currency Translation of Balances",
          "Enter Manual Cost Repostings",
          "Customer Line Items - China",
          "Manage Buyoffs",
          "Create Transfer Order - Outbound Delivery",
          "Change Quick Claim",
          "Technical Monitoring Cockpit",
          "Change Inbound Delivery",
          "Clear Payments - Accounts Receivable - Russia, Clear Payments - Accounts Receivable - Ukraine",
          "Create Allocation Table",
          "Manage SARA Hazard Classification",
          "Analyze Completed Work Items from Change Requests for Financial Master Data",
          "Submit Items to Collection Agency",
          "Maintain Recalls - Warranty Claim Processing",
          "Release Planned Payment Order",
          "My Grants Total Contributions",
          "Manage Teams and Responsibilities - Just-In-Time",
          "Purchase Requisition Average Approval Time",
          "Future Receivables (S/4HANA)",
          "Data Quality Score for Business Partners",
          "Manage Business Partner - Credit Profile",
          "Display Vehicles",
          "Application Job for Manage Master Production Orders",
          "Assign Capability to Capability",
          "Display Internal Order",
          "Reverse Invoices",
          "Create Service Provider",
          "Process Receivables (Version 2)",
          "Waive Acceptance Request",
          "Confirmations Overview - Enhanced",
          "Display Purchasing Documents by Material Group",
          "Manage Bonded Warehouses",
          "Display Group - For Freight List",
          "Schedule Migration of Purchasing Data for Analytics",
          "Execute Securities Account Transfer",
          "Quotation monitoring",
          "Display Political Regional Structure",
          "Create Reference Operation Set",
          "Real Estate Contract Object Assignment Report",
          "Change Inspection Plan",
          "Relocate Authorized Materials",
          "Receipts and Returns Overview",
          "Compare Authorized with Actual Materials",
          "Make Bank Transfers - Create with Templates",
          "Configure Supply Selection Rule",
          "Create Customer Kanban Call",
          "WBS Element Overview",
          "Create Case",
          "Specify Adjustments",
          "My Nomination Tickets",
          "Display Master Data Groups",
          "Batch: Create Worklist",
          "Query Browser",
          "Create Funds Center Group",
          "Database Listing of Totals Records (Classic View) - Reporting Logic",
          "Reclassify Products - Intrastat Service Codes",
          "G/L Account Changes",
          "Clear G/L Accounts - For Ledger Group",
          "Broker Report Reversal",
          "Create Grid",
          "My Chemical Approvals",
          "Change Inventory Sampling Procedure",
          "Manage Force Element to Position Organizational Assignment (included in Manage Force Element)",
          "Manage Provider Contracts for Sales Billing",
          "Monitor Order Progress - Production Order",
          "Process Returned Bills of Exchange, Returned Bill of Exchange Payable",
          "Run Actual Template Allocation - Profitability Analysis",
          "Bank Account Change Requests - Two-Person Verification",
          "Define Search Synonyms - Enterprise Search",
          "Monitor Season Completeness",
          "Execute Settlement - For AuC",
          "Create Security Account",
          "My Schedule Lines - Due for Delivery",
          "Run Actual Indirect Activity Allocation - Profitability Analysis",
          "Mass Edit BP Relationships",
          "My Collection Worklist",
          "Maintain Promotion",
          "Run Overhead Calculation - Orders - Actual",
          "Requests Journal",
          "Inventory KPI Analysis",
          "Total Tax Amount of Form Bundles",
          "Assign Costing Keys to Characteristics - Profitability Analysis",
          "Run Full Installation",
          "Count Physical Inventory",
          "Display Claim (Notification Mode)",
          "Process Cross-Plant Receipts",
          "Material Documents: Read Archive",
          "Change Defects - For Inspection Lot",
          "Classify Dangerous Good - Unpackaged Products (UNRTDG)",
          "Count Physical Inventory - List",
          "My Inbox for Manage Bank Accounts",
          "Schedule Unplanned Contract Settlement - Customer Contracts",
          "Receipt Management",
          "Reverse Manual Revenue Repostings",
          "Payment Order Lot (Real-Time)",
          "Create PI Documents - Cycle Counting",
          "Days Payable Outstanding - Indirect Method - Detailed Analysis",
          "Reuse Component for Managing Time-Dependent Prices in Business Document",
          "Post with Clearing",
          "Import Data",
          "Define Settings for Standardized Data Interface",
          "Display Scorecards",
          "Process Waves",
          "Search Hazardous Substance Inventory Data",
          "Review Match Groups - BP Relationships",
          "Display Inspection Plan Changes",
          "Create WBS BOM",
          "Print Production Versions",
          "Enter Manual Revenue Repostings",
          "Enter Basis Spreads",
          "Reverse Event-Based Revenue Recognition",
          "Create Settlement Document",
          "Load ID",
          "Interest Rate Overview",
          "Change Source Inspection - Job Overview",
          "Change Contracts for Contract Account",
          "Reuse Component for HCM App (S/4HANA)",
          "Manage Compliance Documents - Document Version",
          "Enter Aircraft Accident",
          "Transfer Price Allocation - Enter Details",
          "Process OTC Options - Collective Processing",
          "Display Preliminary Billing Documents",
          "Process Measurement Document (Planner)",
          "Resource-Related Billing Between Company Codes",
          "Purchase Orders Created After Invoices",
          "Process Claim - Warranty Claim Processing",
          "Manage Allergen Groups",
          "Comparison Reuse Control in Procurement",
          "Create Balanced Contract Statements",
          "Display Reference Routing",
          "Enter and Post PI Count with Document",
          "Application Log for Manage Purchase Order (Fashion)",
          "Mass Changes",
          "Application Job for Manage Master Planned Orders",
          "Create Asset Master Record - For Legacy Asset",
          "Project Structure Overview",
          "Display Group Asset",
          "Contract Balance Movements",
          "Schedule Inventory Accounting Jobs",
          "Approve Time Events (Fiori 2.0)",
          "Real Estate Cash Flow Report",
          "Accounts Payables Book / Japan Annex21(5)",
          "Manage Characteristic Groups ( Version 2 )",
          "Assess NFPA Rating",
          "Manage Force Element to Command Assignment",
          "Generate Upload Request CC2",
          "Remaining Performance Obligation",
          "List Incomplete Customer Returns",
          "Transfer Items",
          "Display Price",
          "Change Cmmt Item Substrings Group",
          "Treasury Position Analysis",
          "Manage Prior Period Notifications",
          "Manage Greenhouse Gas Report",
          "Display Meter Reading Order",
          "Maintain Responsibilities for Department",
          "Approve Payment (Overview Mode)",
          "Allocation Results",
          "Display MeasReading entry list",
          "Enter FX Spot Rates, Maintain Currency Exchange Rates, Maintain Exchange Rates",
          "Set Subsequent Account Assignments",
          "Schedule Handling Unit creation from JIT Package Group",
          "Process Task",
          "Manage JIT Customer Supply Control",
          "Total Number of Active Registrations",
          "Create Input VAT List - Turkey",
          "Schedule POS Inbound Service",
          "Cash Journal: Cashier Special Authorizations",
          "Cost Components - Materials",
          "Review Purchase Order Accruals for Cost Accountant",
          "Overview - Forwarded JIS Calls",
          "Route Overview",
          "Reverse Overdue Deferrals",
          "Reversal Run for Dunning Notices",
          "Display Vendor Turnover Balance Sheet - Russia, Display Vendor Turnover Balance Sheet - Ukraine",
          "Confirm Production for Just-In-Time Calls",
          "Schedule Document Collection - Settlement Document",
          "Duplicate Check Reuse Library - Master Data",
          "Create Ref. Measuring Points for Obj",
          "Maintain Process Parameters",
          "Multi-level sales order BOM",
          "My Documents - Due for Delivery",
          "Sales Volume - Detailed Analysis",
          "Injury/Illness Log - Detailed Analysis",
          "Select Receipts and Returns to Supplier - Intrastat Declaration",
          "Assign Associates to Stores",
          "Display Notifications",
          "Create Rate Routing",
          "Create Equipment Task List",
          "Application Jobs - Active Global Hierarchy",
          "Request Historical Market Data - Datafeed",
          "Manage Substances, Manage Substances - Specification Database",
          "Create JIT Delivery Schedule (In Background)",
          "Send References - F&R Integration",
          "Manage Reconciliation Key",
          "Counterparties per Companies",
          "Transfer order for storage unit",
          "Map Format Data for Incoming Files from Banks",
          "Application Log - Automatic Adjustment",
          "Define Hedging Area",
          "Track My Degree Requirements",
          "Create Warehouse Tasks - Posting Change",
          "Create Correspondence (Version 2)",
          "Procurement for Maintenance Planner (Purchase Requisition)",
          "Manage Statistical Key Figure Values",
          "Periodic Allocation Results",
          "Create Inventory Sampling Procedure - ERP System",
          "Change FX OTC Options",
          "Create Multiple Partial Bills"
         ],
         "legendgroup": "0, Irrelevant",
         "marker": {
          "color": "#636efa",
          "opacity": 0.8,
          "symbol": "circle"
         },
         "mode": "markers",
         "name": "0, Irrelevant",
         "orientation": "v",
         "showlegend": true,
         "type": "scatter",
         "x": {
          "bdata": "kZH4wMn848DT2ejAaIIHwZMhFsGOjQzBYtPKwAhlCMHRqP7AF9ElwQRQHsEf5jfBYEcDwR2h5cBDR/XAhVYgwTl0McERnAvBcGMDwUf/FMHPXwfBCaUSwR+xCcEetxDBno/bwIagK8ESBA3B6S4PwfisNMFSoDbBrrHGwPiBD8FN1gTBthMIwZBHNMHJHBnBIJTowHQdNcF9Tx/BkEb+wCOOLsFgsMfAVy/twGDIFcG8zQXBK2z1wLpfMMGXh+3A5RnOwBgaEMGpmjPBBgURwYlPJcFDEhvBW+PIwNnA7sBf6SvBrW4OwTtHFsHxRgLB0SbMwJEfz8CHoAjBbiQ4wWxrF8HuGDXB3ssUwRxfAMF9WfPAGubKwN/t+cCnLgHBBy4+wVJFGcGxGhHBF5YBwX58IcGmZAPBWsDTwPa1AMHVj9LA0p80wcZN68ClC8TAU4z4wB/PKcHHNA7BsFYMwa7ML8GK7hrBv10IwRJMD8FpUR3BOGwGwdqdKsEfaSXBT8ocwRJZEcF45NHAxOf9wMTzzcA11/bAYY7QwM7yO8GDAALBN2cwwYSiEsE2yOTAiKscwR2QP8F4QtzA80UMwS6iE8E9PR3BJp0QwcVIBcHtAAvB2Q8BwRoeI8Hyxf7AybMFwcjU88AV9RfBNQjywDk4BcFMJwXBQYbFwA8+8sCv5DDBu3oKweMSKMGQi/7A7yQrwfp2+sB4CjfBkRcQwfS9McHY2r/A+3sowfUg8MDeMfHAPrvMwFn5C8GJmwTB/aLZwM2K8MBDGP3AQP4/wYBDDsFRMhLBRvYOwaYOPMHEvgPBCooZwTc8EcFwMsrAUfX4wNy0BcFm2z3BEtn9wKvZ8sCLEwzB42XzwCOoE8Gb2ezAKawNwT9cI8EpQ9DAekD6wM8P3sDq0frA4DDKwEOyGsEHtQDBmDIfwY3KHsHcWxjBWZAYwbP2OcFCGi/BTIDYwF5bw8BKgMrA1vwSwQ2hGsHj/PTA+d8kwY6oFsGjQA7B8s09wUdtzsAmBrrAW8gEwf3hKME2XRrB42AFwY0dA8GkWzrBW1ojwYJUxMBUpgTBpWjFwIqzIcHNohTBHzIIweC8K8FpLAHBPI4HwSPXvsDv3gfBg2EVwX3GM8H1zSfBHkLCwIICD8HViQvBH3n5wHkL1sDHIN7A8trdwDAI8MCistfAcBMAwQx/GcG/hgDBT5TVwJPc6MDIKi3BKXBBwYBqzMA80MfAEOgGwdKoNMF4kOrAeVv3wGcXMcGefyzBkQtAwSMT88BXf+3AAtIzwf7j5MCKTwnBPncFwSOb/8DZDj/BjmAcwQ==",
          "dtype": "f4"
         },
         "xaxis": "x",
         "y": {
          "bdata": "xAemQSrarUH4+LRB6fygQUvXsUH3TatB+i21QWSWmUFyfq9BQ9WmQSfKoEGMg6FBqE2dQQJCqEEB8qxBYe+xQb3bo0HKlKBBZt6rQZYJrUFrippBg4ypQbp/rUHHwqlBbAe3Qe06qkFFx65B22S0QYDhsEFXWKJBiTScQac3p0F48alBuJeZQVEGqEH4AZ9Bf4ynQV+Hp0G4y6NB4pbIQXUZp0FwWbVBQwazQSPsoEFwisVBh/u0QS+9pkEtqaxB78GdQTCcrkF8FaFBBnmiQYD4okGPC65Bh1+tQaH0rUFsYKZBQ0WuQSRAqkH33aZB8EmzQfdjqUFo/JpBxyWmQUkopkHH2a1BlgKkQah9okHO/6xBySOdQeqeqkF42atBh9y0QaeYoEEApaxBnKWwQXcVq0ELBbFB7NmpQZxOrEGlY6hB93OwQWVUrUG0cLJBZ9+iQX35pUFXCp9Bdri1QW9toUEWqKtBRAuhQW/oqkEYjK5BNDqlQRxurUHk2qtBFpmiQaPfpEHXe6BBhxW0QUHoqEEbr71Bq8qxQSoNqkHHb51BuG+wQXOwskHFra1BfhSoQfcNtkEDQq1BsZudQQ4mrUHaB6ZB8S+qQcMXmUEGA6ZB4iO1QdWDpkGIqJ1BcHCiQdNktUEroaFBL+a5QW7DsEFxp7NB+Y2bQT8atkGzjrBBA4KoQRzPpUGQTMhB6K2kQWzRskGdeqhBxYCwQUndqUFjwaBBKJCrQWKrrkFLrrZB15ihQRfhrEGa+K9BLeK4Qf+pqkF/qshBRjO3QQgknEHnBqhBd+O2QQAet0HNMrVBoe6mQYxmtUGCbpxBdESmQffUn0HGbbZBMKG3QYFgqEEkPKJBLqSvQbOYoUFrmq9BMxqyQSpnokGRr7RBCCa0QZDrr0E/s6NBVcqzQYlKp0Gyh6JBENGwQT6CoUExybZB4fewQUp7p0FNLKxBmSy7QaSmnUFHyqlBwXWkQRIbn0EW6KRB+kijQX+aqkHyDKtBrE64QZiPwEHI36BBapKlQXMpokEQC6BBTN+YQQxHpkH3R7VByHylQXTVrkHLgLNBylOuQRUQpkEnLqRBnN2tQYS7p0G24ZpB1QCZQUaysEGylalBV6ykQRSBokEqHKZBZ9mwQfnTqEHWfLFBNNCmQT2etEFRLLpBkeSsQSPqn0GgoJ9BhsmqQctgyUFhRKlB8IawQTZCqUFgqa9B7tm2QZi1m0EZU65B9P/LQZtToEE/SqpBo2qwQR36sUHzfK1BpI+3QVREsUH4tbRBfTapQQPcqEHTl5hBuGGaQdBztUEYrLZBzyaoQQ==",
          "dtype": "f4"
         },
         "yaxis": "y"
        },
        {
         "customdata": [
          [
           "O4D4",
           "Delete Driver This app is a SAP GUI for HTML transaction. These classic transact"
          ],
          [
           "EPREPAY",
           "Manage Amount for Prepayment Meter This app is a SAP GUI for HTML transaction. T"
          ],
          [
           "IK11",
           "Create Measurement Document This app is a SAP GUI for HTML transaction. These cl"
          ],
          [
           "S_ALR_87012371",
           "Create Annual Sales Listing - Belgium This app is a SAP GUI for HTML transaction"
          ],
          [
           "WRF_REF_AUTO",
           "Generate Reference Assignment - F&R Integration This app is a SAP GUI for HTML t"
          ],
          [
           "FPU6",
           "History of Transfers This app is a SAP GUI for HTML transaction. These classic t"
          ],
          [
           "_SCWM_MS_RESULT",
           "Start Measurement Services This app is a SAP GUI for HTML transaction. These cla"
          ],
          [
           "RECPA420",
           "Print: Contract Form This app is a SAP GUI for HTML transaction. These classic t"
          ],
          [
           "BOE_IMPORT_EXCEL (AC_BOE_IMPORT_EXCEL)",
           "Create BoE Payable in Batch - China, Create BoE Receivable in Batch - China This"
          ],
          [
           "_SCMTMS_TRANSP_UNIT (_SCMTMS_TU_TRAILER)",
           "Create Trailer Unit, Display Trailer Unit, Edit Trailer Unit This app is a Web D"
          ],
          [
           "F2172",
           "Create your own visual alerts on KPI tiles for a specific time period and other "
          ],
          [
           "OJIT5",
           "Maintain Sort Variants - Inbound JIT Call, Maintain Sort Variants - Outbound JIT"
          ],
          [
           "EHENV_UI_SPL_SHIP_FINALIZE_OVP (EHENV_UI_SPL_SHIP_FINALIZE_OVP)",
           "This app is a Web Dynpro for ABAP application. These classic applications are av"
          ],
          [
           "KE3L",
           "Split Reports - Profitability Analysis This app is a SAP GUI for HTML transactio"
          ],
          [
           "CJ81",
           "Import Report Assignments for Hierarchy Reports This app is a SAP GUI for HTML t"
          ],
          [
           "ME52N",
           "Change Purchase Requisition - deprecated This app is a SAP GUI for HTML transact"
          ],
          [
           "FD10N",
           "Display Customer Balances This app is a SAP GUI for HTML transaction. These clas"
          ],
          [
           "REISRSOBJ",
           "Reservation Object - Information System This app is a SAP GUI for HTML transacti"
          ],
          [
           "VMP_LAUNCH",
           "This app is a SAP GUI for HTML transaction. These classic transactions are avail"
          ],
          [
           "ME58",
           "Create Purchase Order via Purchase Requisition Assignment List The system offers"
          ],
          [
           "F4758",
           "Manage Summary Reports - Incident Management Generate report forms for incidents"
          ],
          [
           "RECALD",
           "Delete Logs This app is a SAP GUI for HTML transaction. These classic transactio"
          ],
          [
           "FKK_EBS_ARC",
           "Link Documents with External Bills You can use SAP ArchiveLink to link FI-CA doc"
          ],
          [
           "WKA02",
           "Display Document Flow - Netherlands This app is a SAP GUI for HTML transaction. "
          ],
          [
           "_CPD_PWS_COST_STATUS_RPT_APPL (_CPD_PWS_COST_STATUS_RPT)",
           "This app is a Web Dynpro for ABAP application. These classic applications are av"
          ],
          [
           "QA16",
           "Record Collective Usage Decisions - Accepted Inspection Lots This app is a SAP G"
          ],
          [
           "_PF1_EH_WEB",
           "Exception Handling This app is a SAP GUI for HTML transaction. These classic tra"
          ],
          [
           "WRLS",
           "Reverse Supplier Settlement List You can cancel the following settlement managem"
          ],
          [
           "_ACCGO_ACCRUAL_WC",
           "Accrual Workcenter This app is a SAP GUI for HTML transaction. These classic tra"
          ],
          [
           "GJBA",
           "Manage Balance Sheet Account for Splitting This app is a SAP GUI for HTML transa"
          ],
          [
           "S_ALR_87013569",
           "Project Revenues and Earnings - Incoming Orders/Balance, Project Revenues and Ea"
          ],
          [
           "MRM_NAST_DISPLAY",
           "Show NAST Messages This app is a SAP GUI for HTML transaction. These classic tra"
          ],
          [
           "OPSX",
           "Check and Reset Budgeted Status - Projects This app is a SAP GUI for HTML transa"
          ],
          [
           "REAJATCHECK",
           "Mass Check: Adjustment Measures This app is a SAP GUI for HTML transaction. Thes"
          ],
          [
           "FKKINV_S",
           "Execute Invoicing - Business Partner This app is a SAP GUI for HTML transaction."
          ],
          [
           "TINCOV",
           "This app is a WebClient UI application. These classic applications are available"
          ],
          [
           "F2345",
           "Manage Usage Decisions View inspection lots based on filter criteria such as the"
          ],
          [
           "FKKBIX_REQ_ARCH_READ",
           "Display Billing Requests from Archive This app is a SAP GUI for HTML transaction"
          ],
          [
           "RCCF_SESSION",
           "Display Active Optimizer Sessions This app is a SAP GUI for HTML transaction. Th"
          ],
          [
           "CS07",
           "Allocate Material BoM to Plant, Create BOM Plant Assignment This app is a SAP GU"
          ],
          [
           "FPACCADJ",
           "Post Account Assignment Adjustment This app is a SAP GUI for HTML transaction. T"
          ],
          [
           "CBGLWB",
           "Manage Labels This app is a SAP GUI for HTML transaction. These classic transact"
          ],
          [
           "MCV3",
           "Inspection Lot KPIs - By Material This app is a SAP GUI for HTML transaction. Th"
          ],
          [
           "IW12",
           "Document flow list The following objects are mapped in the document flow: Mainte"
          ],
          [
           "VL72",
           "Output - From Groups of Deliveries This app is a SAP GUI for HTML transaction. T"
          ],
          [
           "FAGL_FCC_MONITOR",
           "Call Monitor This app is a SAP GUI for HTML transaction. These classic transacti"
          ],
          [
           "FAGLF101",
           "Regroup Receivables / Payables Sort receivables and payables according to remain"
          ],
          [
           "GJ77",
           "Manage Drilling Statistical Ratios This app is a SAP GUI for HTML transaction. T"
          ],
          [
           "MDG_DATALOAD_EXPORT_WDA (MDG_DATALOAD_EXPORT_WDA_ACONF)",
           "Export Master Data - Data Transfer This app is a Web Dynpro for ABAP application"
          ],
          [
           "WF30",
           "Monitor Merchandise Distribution This app is a SAP GUI for HTML transaction. The"
          ],
          [
           "WDA_WSGM_GR (WDAC_WSGM_QAF_GR)",
           "Create Goods Receipt - with Reference, Create Goods Receipt - without Reference,"
          ],
          [
           "CMS_REP_CAG_VLDT_01",
           "Collateral Expiry Report This app is a SAP GUI for HTML transaction. These class"
          ],
          [
           "IDBK",
           "Define Books This app is a SAP GUI for HTML transaction. These classic transacti"
          ],
          [
           "FPPARTADJ_MA",
           "Adjust Partner Settlements - Mass Run The adjustment run analyzes the customer r"
          ],
          [
           "OVF_HISTORY",
           "History of Online Checks You use the History of Online Checks report to view the"
          ],
          [
           "_SCWM_WB_SNAP_SET",
           "Configure Snapshots This app is a SAP GUI for HTML transaction. These classic tr"
          ],
          [
           "WBRP_DIS",
           "Adjust Document Conditions - Trading Contract This app is a SAP GUI for HTML tra"
          ],
          [
           "F4032",
           "Using this app, you can display and monitor a variety of issues that may occur i"
          ],
          [
           "F2420",
           "Purchase Order Items by Account Assignment View purchase order items grouped by "
          ],
          [
           "GJZD",
           "Manage Detailed Data for Company Code This app is a SAP GUI for HTML transaction"
          ],
          [
           "F2981",
           "You can navigate to Track Sales Order Details from any smart link containing a s"
          ],
          [
           "F3236",
           "View a list of compliance-relevant products that have a compliance view. Select "
          ],
          [
           "CO01",
           "Create Production Order Create new production orders manually by specifying the "
          ],
          [
           "MP83",
           "Display Forecast Profile This app is a SAP GUI for HTML transaction. These class"
          ],
          [
           "F6241",
           "Replenishment Planning - By Planning Priority Production Planner : Plans, monito"
          ],
          [
           "J1IGDCSGSTR1",
           "Download Outward or Inward Supply Details (Deprecated) - India This app is a SAP"
          ],
          [
           "WB74",
           "Assign Store to Groups - Assortment This app is a SAP GUI for HTML transaction. "
          ],
          [
           "_SCWM_LX45",
           "Edit Verification Fields - Storage Bin This app is a SAP GUI for HTML transactio"
          ],
          [
           "_MOC_WDA_CHGREQ_CHANGE_LOG (_MOC_WDA_CHGREQ_CHANGE_LOG)",
           "Display Change Log - Change Request This app is a Web Dynpro for ABAP applicatio"
          ],
          [
           "_ATL_VK02",
           "Mass Update - Vendors Master Data - Israel This app is a SAP GUI for HTML transa"
          ],
          [
           "FBW5",
           "Create Bills of Exchange Receivables This app is a SAP GUI for HTML transaction."
          ],
          [
           "LI12N",
           "Change Inventory Count This app is a SAP GUI for HTML transaction. These classic"
          ],
          [
           "VBG2",
           "Maintain Article Grouping - Bonus Buy This app is a SAP GUI for HTML transaction"
          ],
          [
           "FPARM1",
           "Archive Dunning History This app is a SAP GUI for HTML transaction. These classi"
          ],
          [
           "TX02",
           "This app is a SAP GUI for HTML transaction. These classic transactions are avail"
          ],
          [
           "FPSEPA",
           "Create SEPA Mandates (in Parallel) This app is a SAP GUI for HTML transaction. T"
          ],
          [
           "RFM_ODS_REPLICATE",
           "Replicate Business Data This app is a SAP GUI for HTML transaction. These classi"
          ],
          [
           "_SCWM_MONNAV_PHSTOCK",
           "This app is a SAP GUI for HTML transaction. These classic transactions are avail"
          ],
          [
           "REORRRCHECK",
           "Mass Check: RE Search Requests This app is a SAP GUI for HTML transaction. These"
          ],
          [
           "CRMS4_MPLAN_SCHED_S",
           "Schedule Maintenance Plan - Service This app is a SAP GUI for HTML transaction. "
          ],
          [
           "RTCDBGJ",
           "Display Background Job This app is a SAP GUI for HTML transaction. These classic"
          ],
          [
           "PTFO10",
           "Create VAT Refund - Portugal This app is a SAP GUI for HTML transaction. These c"
          ],
          [
           "FBD4",
           "Display Changes of Recurring Entry This app is a SAP GUI for HTML transaction. T"
          ],
          [
           "J1INTRNS",
           "Upload Opening WDV - India This app is a SAP GUI for HTML transaction. These cla"
          ],
          [
           "GJB3",
           "Manage Project Type for Supplemental Detail This app is a SAP GUI for HTML trans"
          ],
          [
           "RFCASH_HU_AVP",
           "Calculate Exch.Rate for CJ - Hungary This app is a SAP GUI for HTML transaction."
          ],
          [
           "VA23",
           "Display Sales Quotations - VA23 Search for sales quotations by sales quotation n"
          ],
          [
           "BNK_MONIA",
           "Display Batch Approver Lists This app is a SAP GUI for HTML transaction. These c"
          ],
          [
           "MBPM",
           "Manage Held Data - Inventory Management This app is a SAP GUI for HTML transacti"
          ],
          [
           "F2677",
           "Freight Booking Execution Monitoring - Overview Page This overview page is based"
          ],
          [
           "FBW6",
           "Create Bills of Exchange Payables This app is a SAP GUI for HTML transaction. Th"
          ],
          [
           "S_ALR_87012115",
           "Display Bills of Exchange Payables - Extended List This app is a SAP GUI for HTM"
          ],
          [
           "F2125",
           "Analyze Clearing Reasons (Deprecated) Note that you can only use this app if one"
          ],
          [
           "F2419",
           "Claims Team Calendar Calendar Display of the employees who are assigned to the m"
          ],
          [
           "IK13",
           "Display Measurement Document (IK13) This app is a SAP GUI for HTML transaction. "
          ],
          [
           "F110S",
           "Schedule Automatic Payments Periodically This app is a SAP GUI for HTML transact"
          ],
          [
           "_SCMTMS_PL_SETS ()",
           "PLS Management for Carrier Selection, PLS Management for Delivery Creation, PLS "
          ],
          [
           "KE3Q",
           "Edit Variants - Profitability Analysis This app is a SAP GUI for HTML transactio"
          ],
          [
           "F3925",
           "View status of uploaded time confirmations. Post time confirmations into the sys"
          ],
          [
           "POWL (EHPRC_TASK_MGMT)",
           "Manage Tasks - Product Compliance This app is a Web Dynpro for ABAP application."
          ],
          [
           "SWI_PR_CLOUD",
           "Workflows in Status Error This app is a SAP GUI for HTML transaction. These clas"
          ],
          [
           "REISPLUS",
           "Usages of Parcels - Information System This app is a SAP GUI for HTML transactio"
          ],
          [
           "CU43_AVC",
           "This app is a SAP GUI for HTML transaction. These classic transactions are avail"
          ],
          [
           "FIWTQA_CERT",
           "Generate Withholding Tax Certificates This app is a SAP GUI for HTML transaction"
          ],
          [
           "CU23",
           "Display Dependency Net This app is a SAP GUI for HTML transaction. These classic"
          ],
          [
           "O4J3",
           "Two Step Transfer Tracking Report This app is a SAP GUI for HTML transaction. Th"
          ],
          [
           "_ACCGO_CAS_CANC_UF",
           "Cancellation/Underfill This app is a SAP GUI for HTML transaction. These classic"
          ],
          [
           "FP31",
           "Find Payment (from Payment Run) This app is a SAP GUI for HTML transaction. Thes"
          ],
          [
           "FPO2",
           "Reconcile Open Items with G/L This app is a SAP GUI for HTML transaction. These "
          ],
          [
           "IDLB",
           "Create Document Lots - Chile This app is a SAP GUI for HTML transaction. These c"
          ],
          [
           "CO24",
           "Call Up Missing Part List This app is a SAP GUI for HTML transaction. These clas"
          ],
          [
           "NFE_CLOUD_DEST",
           "Manage Destinations - Brazil This app is a SAP GUI for HTML transaction. These c"
          ],
          [
           "FPARCOLL1",
           "Archive Submission Collection Agency This app is a SAP GUI for HTML transaction."
          ],
          [
           "CJBV",
           "Activate Availability Control - Projects This app is a SAP GUI for HTML transact"
          ],
          [
           "O4N3",
           "Display General Meter This app is a SAP GUI for HTML transaction. These classic "
          ],
          [
           "KE27A",
           "Run Periodic Revaluation - Profitability Analysis This app is a SAP GUI for HTML"
          ],
          [
           "WSM9",
           "Delete Expired Listings This app is a SAP GUI for HTML transaction. These classi"
          ],
          [
           "_CPD_PWS_WS_VA03",
           "This app is a SAP GUI for HTML transaction. These classic transactions are avail"
          ],
          [
           "_SAPCE_IUHU_REV",
           "Reverse Billing Document - Hungary This app is a SAP GUI for HTML transaction. T"
          ],
          [
           "REISROAS",
           "Rental Objects -Assessment Contracts - Information System This app is a SAP GUI "
          ],
          [
           "IA16",
           "Cost Maintenance Task Lists This app is a SAP GUI for HTML transaction. These cl"
          ],
          [
           "FIBLFFP",
           "Create Free Form Payment This app is a SAP GUI for HTML transaction. These class"
          ],
          [
           "F4604",
           "Manage Maintenance Notifications and Orders, Manage Work Requests and Orders Thi"
          ],
          [
           "O4TCN",
           "Stock Projection Engine This app is a SAP GUI for HTML transaction. These classi"
          ],
          [
           "LT0B",
           "Putaway Pre-Picked Handling Units This app is a SAP GUI for HTML transaction. Th"
          ],
          [
           "RL12",
           "Reprocess Postings - Returnable Packaging Logistics This app is a SAP GUI for HT"
          ],
          [
           "_SCMTMS_OIAC_PROFILE ()",
           "Create Auto-Confirmation Profile, Display Auto-Confirmation Profile, Edit Auto-C"
          ],
          [
           "PLM_AUDITMONITOR",
           "Monitor Audits This app is a SAP GUI for HTML transaction. These classic transac"
          ],
          [
           "PEG10",
           "Compare Stock - Grouping This app is a SAP GUI for HTML transaction. These class"
          ],
          [
           "WVA10",
           "Display Planned Markup This app is a SAP GUI for HTML transaction. These classic"
          ],
          [
           "REISCOCSTACT",
           "Costs/Revenue: Actuals Overview - Information System This app is a SAP GUI for H"
          ],
          [
           "FMCIA",
           "Edit Commitment Item This app is a SAP GUI for HTML transaction. These classic t"
          ],
          [
           "CV11",
           "Create Document Structure This app is a SAP GUI for HTML transaction. These clas"
          ],
          [
           "GJ32",
           "Orders Mapping - Intercompany This app is a SAP GUI for HTML transaction. These "
          ],
          [
           "_ATL_VQZ12",
           "Update Previous WHT Code – Classical - Israel This app is a SAP GUI for HTML tra"
          ],
          [
           "PK09",
           "Unlock Kanban Containers This process enables the controlled release of kanban c"
          ],
          [
           "MPR2",
           "Delete Sales Forecast for Sites This app is a SAP GUI for HTML transaction. Thes"
          ],
          [
           "MM_PUR_SES_UPLOAD",
           "This app is a SAP GUI for HTML transaction. These classic transactions are avail"
          ],
          [
           "FPR_PLCL",
           "Itemization of Clarification Accounts - Payments This app is a SAP GUI for HTML "
          ],
          [
           "CK51N",
           "Cost Sales Orders - Single This app is a SAP GUI for HTML transaction. These cla"
          ],
          [
           "CX1B4",
           "Check and Correct Breakdowns of Transaction Data This app is a SAP GUI for HTML "
          ],
          [
           "FRE15",
           "Delete References - F&R Integration This app is a SAP GUI for HTML transaction. "
          ],
          [
           "WLF2V",
           "Change Remuneration Settlement - Condition Contract This app is a SAP GUI for HT"
          ],
          [
           "F1515_SG_5",
           "Run Compliance Reports - Singapore AA Reporting Managing Fraction Digits You can"
          ],
          [
           "CJZ8",
           "Calculate Actual Interest - Internal/Maintenance Orders This app is a SAP GUI fo"
          ],
          [
           "VF04F",
           "This app is a SAP GUI for HTML transaction. These classic transactions are avail"
          ],
          [
           "VKU8",
           "Test Revaluation Interface - Retail Inventory This app is a SAP GUI for HTML tra"
          ],
          [
           "RECPA100",
           "Print: General Corresp.(Arch.Obj.) This app is a SAP GUI for HTML transaction. T"
          ],
          [
           "_ACCGO_BR_WC",
           "Brazil Workcenter This app is a SAP GUI for HTML transaction. These classic tran"
          ],
          [
           "PPECMP",
           "Compare Configurations for iPPE This app is a SAP GUI for HTML transaction. Thes"
          ],
          [
           "_KJRTAX01_PUPLOAD",
           "Migrate Property Tax Data – XML - Japan This app is a SAP GUI for HTML transacti"
          ],
          [
           "VF02",
           "Change Billing Documents Change billing document details such as the billing dat"
          ],
          [
           "VKU9",
           "Display Revaluation Worklist - Retail Inventory This app is a SAP GUI for HTML t"
          ],
          [
           "FRE_C5",
           "Reorganize Control - F&R Integration This app is a SAP GUI for HTML transaction."
          ],
          [
           "REISPLER",
           "Parcels - Easements - Information System This app is a SAP GUI for HTML transact"
          ],
          [
           "CXV2",
           "Create Validation This app is a SAP GUI for HTML transaction. These classic tran"
          ],
          [
           "GJFD",
           "JV Funding - Maintain funding run This app is a SAP GUI for HTML transaction. Th"
          ],
          [
           "ADRF",
           "ORF: Stock Calculation This app is a SAP GUI for HTML transaction. These classic"
          ],
          [
           "_SCWM_60000431",
           "Define Printing Parameters - Warehouse This app is a SAP GUI for HTML transactio"
          ],
          [
           "FPIA_KEPL00",
           "List Supplier Line Items This app is a SAP GUI for HTML transaction. These class"
          ],
          [
           "FPG4",
           "Delete and Close Reconciliation Key This app is a SAP GUI for HTML transaction. "
          ],
          [
           "_SAPCEM_PT01",
           "Equipment Planning Board Change This app is a SAP GUI for HTML transaction. Thes"
          ],
          [
           "FPAR05",
           "Archive Gen. Revenue Reporting You can relieve the burden on your database by ar"
          ],
          [
           "WLB7",
           "Analyze Supplier Service Level - Order Optimizing This app is a SAP GUI for HTML"
          ],
          [
           "EM10",
           "Access Goods Movement via Serial Number This app is a SAP GUI for HTML transacti"
          ],
          [
           "_SCWM_PRT_CT_EXT",
           "Enhance Condition Tables - Printing for RFID This app is a SAP GUI for HTML tran"
          ],
          [
           "FP_FILTER3",
           "Display Filter This app is a SAP GUI for HTML transaction. These classic transac"
          ],
          [
           "CK85_99_COST_ELEMENT",
           "Analyze Cost Element Itemization - Grouped You can use itemizations to analyze c"
          ],
          [
           "VB13",
           "Display Material Determination Records Select a material determination type. The"
          ],
          [
           "WCBDISPLOG",
           "Display Redetermination Log - Billing Documents This app is a SAP GUI for HTML t"
          ],
          [
           "VLPOD",
           "Change Outbound Delivery - Proof of Delivery This app is a SAP GUI for HTML tran"
          ],
          [
           "GJ83",
           "Manage JV Automated Postings (Others) This app is a SAP GUI for HTML transaction"
          ],
          [
           "MASS_EINE",
           "Maintain Mass Purchasing Info Record This app is a SAP GUI for HTML transaction."
          ],
          [
           "RTCENT",
           "Maintain Consolidation Entities, Real-Time Consolidation: Entity Map - RTCENT Th"
          ],
          [
           "BORGR",
           "Goods Receipt Automotive This app is a SAP GUI for HTML transaction. These class"
          ],
          [
           "ADPT",
           "Component Maintenance Cockpit This app is a SAP GUI for HTML transaction. These "
          ],
          [
           "THM80",
           "Run Effectiveness Test - Hedge Accounting This app is a SAP GUI for HTML transac"
          ],
          [
           "IDCN_ADJDISP",
           "Adjustment Documents - China This app is a SAP GUI for HTML transaction. These c"
          ],
          [
           "TI10",
           "Create Adjustment - Rates/Prices This app is a SAP GUI for HTML transaction. The"
          ],
          [
           "IDVD",
           "Void Unused Invoices This app is a SAP GUI for HTML transaction. These classic t"
          ],
          [
           "IP15",
           "Change Maintenance Plan This app is a SAP GUI for HTML transaction. These classi"
          ],
          [
           "COGI",
           "Reprocess Goods Movements This app is a SAP GUI for HTML transaction. These clas"
          ],
          [
           "GJ37",
           "Manage Funding Group Assignment This app is a SAP GUI for HTML transaction. Thes"
          ],
          [
           "_SCWM_PUT_TW_WT_TWP5",
           "Create Logical Conditions - Transit Warehousing This app is a SAP GUI for HTML t"
          ],
          [
           "S_ALR_87012226",
           "Create Gross Income Tax Report - Argentina This app is a SAP GUI for HTML transa"
          ],
          [
           "FTWN",
           "Display View Logs - Data Retention You can use the following functions, among ot"
          ],
          [
           "REXCFOB",
           "Process Fuel Initial Levels - Switzerland This app is a SAP GUI for HTML transac"
          ],
          [
           "FINCS_EPUC_GL",
           "This app is a SAP GUI for HTML transaction. These classic transactions are avail"
          ],
          [
           "FKKINV_MON",
           "Display Invoicing Orders This app is a SAP GUI for HTML transaction. These class"
          ],
          [
           "S_ALR_87013536",
           "Project Costs - Planned/Actual/Down Payment as Expense This app is a SAP GUI for"
          ],
          [
           "WTAD_SUP_FM_CHANGE",
           "Maintain Procedures for Suppliers - Additionals This app is a SAP GUI for HTML t"
          ],
          [
           "WFCS01",
           "Execute Sales Forecast for Sites This app is a SAP GUI for HTML transaction. The"
          ],
          [
           "AFWO1_KFSET",
           "Monitor Key Figure Calculations - Market Risk Key Figure Sets This app is a SAP "
          ],
          [
           "WTR2",
           "Request Messages for Promotion - Additionals This app is a SAP GUI for HTML tran"
          ],
          [
           "BD31",
           "Distribute Document Object List This app is a SAP GUI for HTML transaction. Thes"
          ],
          [
           "J1GVL_T14",
           "Manage Material Stocks - Greece This app is a SAP GUI for HTML transaction. Thes"
          ],
          [
           "O3I3",
           "Integrity Check of Quotation Price Table This app is a SAP GUI for HTML transact"
          ],
          [
           "VL60C",
           "Extended Delivery Processing - Clearing This app is a SAP GUI for HTML transacti"
          ],
          [
           "F0959",
           "Profit Centers - Actuals Specify the search criteria using variables or filters "
          ],
          [
           "CJZ7",
           "Calculate Planned Interest - Order This app is a SAP GUI for HTML transaction. T"
          ],
          [
           "KOSRLIST_PR",
           "Display Settlement Rules - Projects This app is a SAP GUI for HTML transaction. "
          ],
          [
           "VA01",
           "Create Credit Memo Requests - W/o Preceding Document, Create Customer Return Wit"
          ],
          [
           "F5050",
           "Manage Prepayment Agreements Create new prepayment agreements Edit existing prep"
          ],
          [
           "_CCEE_RSFIAA_TD",
           "Tax Depreciation - Serbia This app is a SAP GUI for HTML transaction. These clas"
          ],
          [
           "WMF2",
           "Maintain Markdown Plan This app is a SAP GUI for HTML transaction. These classic"
          ],
          [
           "F1578",
           "Manage Outgoing Checks Create outgoing checks Edit outgoing checks Void outgoing"
          ],
          [
           "CK75N",
           "Change Additive Costs This app is a SAP GUI for HTML transaction. These classic "
          ],
          [
           "_SCWM_RSCMSG_DEACT",
           "Deactivate Messages - Resource This app is a SAP GUI for HTML transaction. These"
          ],
          [
           "F0860",
           "Analyze Overdue Items (Deprecated) Using the available filters, you can restrict"
          ],
          [
           "F-48",
           "Post Supplier Down Payments This app is a SAP GUI for HTML transaction. These cl"
          ],
          [
           "WSOA1",
           "Create Assortment This app is a SAP GUI for HTML transaction. These classic tran"
          ],
          [
           "CJV3",
           "Display Simulation This app is a SAP GUI for HTML transaction. These classic tra"
          ],
          [
           "ADIP",
           "SPEC 2000: Initial Provisioning This app is a SAP GUI for HTML transaction. Thes"
          ],
          [
           "JITQ",
           "Display Action Network - Inbound JIT Call, Display Action Network - Outbound JIT"
          ],
          [
           "F824",
           "Print Request This app is a SAP GUI for HTML transaction. These classic transact"
          ],
          [
           "_SEHS_WDC_DG_CONT_IMP_GAF ()",
           "Dangerous Goods Content Loader This app is a Web Dynpro for ABAP application. Th"
          ],
          [
           "LL01",
           "Warehouse Activity Monitor In Warehouse Management, the warehouse activity monit"
          ],
          [
           "SAEGSM",
           "Manage Solution Unit ID This app is a SAP GUI for HTML transaction. These classi"
          ],
          [
           "RCC_LOG",
           "This app is a SAP GUI for HTML transaction. These classic transactions are avail"
          ],
          [
           "CKMLMAT",
           "Actual Cost Estimates This app is a SAP GUI for HTML transaction. These classic "
          ],
          [
           "_SAPAPO_MD74",
           "Reorganize Independent Requirements This app is a SAP GUI for HTML transaction. "
          ],
          [
           "F5266",
           "My Area of Responsibility - Work Center Groups Narrow down the scope of the list"
          ],
          [
           "QA23",
           "Display Inspection Point Quantities This app is a SAP GUI for HTML transaction. "
          ],
          [
           "F4692",
           "Manage Work Permit Templates Enables permit requestors and maintenance planners "
          ],
          [
           "EAMS_WDA_JOBPC_OIF (EAMS_WDA_JOBPC_OIF_CFG_V2)",
           "This app is a Web Dynpro for ABAP application. These classic applications are av"
          ],
          [
           "WDR_TEST_LOCKING_SYNC ()",
           "DB Record Locking - Unload Strategy SYNC This app is a Web Dynpro for ABAP appli"
          ],
          [
           "F4945",
           "Set Substitution / Validation Logs View or filter all enabled log settings by ev"
          ],
          [
           "LEFIO_CUST",
           "Launchpad Personalization for LE This app is a SAP GUI for HTML transaction. The"
          ],
          [
           "J1ISTREV",
           "Reverse Service Tax Credit - India This app is a SAP GUI for HTML transaction. T"
          ],
          [
           "VA22",
           "Change Sales Quotations - VA22 Edit header and item data of a sales quotation Na"
          ]
         ],
         "hovertemplate": "<b>%{hovertext}</b><br><br>cluster=0<br>LabelTxt=Relevant<br>ID=%{customdata[0]}<br>Snippet=%{customdata[1]}<extra></extra>",
         "hovertext": [
          "Delete Driver",
          "Manage Amount for Prepayment Meter",
          "Create Measurement Document",
          "Create Annual Sales Listing - Belgium",
          "Generate Reference Assignment - F&R Integration",
          "History of Transfers",
          "Start Measurement Services",
          "Print: Contract Form",
          "Create BoE Payable in Batch - China, Create BoE Receivable in Batch - China",
          "Create Trailer Unit, Display Trailer Unit, Edit Trailer Unit",
          "Production Execution Duration",
          "Maintain Sort Variants - Inbound JIT Call, Maintain Sort Variants - Outbound JIT Call",
          "Ship and Finalize Sampling",
          "Split Reports - Profitability Analysis",
          "Import Report Assignments for Hierarchy Reports",
          "Change Purchase Requisition - deprecated",
          "Display Customer Balances",
          "Reservation Object - Information System",
          "Launch VMP",
          "Create Purchase Order via Purchase Requisition Assignment List",
          "Manage Incident Summary Reports",
          "Delete Logs",
          "Link Documents with External Bills",
          "Display Document Flow - Netherlands",
          "Hierarchical Cost Status",
          "Record Collective Usage Decisions - Accepted Inspection Lots",
          "Exception Handling",
          "Reverse Supplier Settlement List",
          "Accrual Workcenter",
          "Manage Balance Sheet Account for Splitting",
          "Project Revenues and Earnings - Incoming Orders/Balance, Project Revenues and Earnings - Project Revenue",
          "Show NAST Messages",
          "Check and Reset Budgeted Status - Projects",
          "Mass Check: Adjustment Measures",
          "Execute Invoicing - Business Partner",
          "Display Service Request",
          "Manage Usage Decisions",
          "Display Billing Requests from Archive",
          "Display Active Optimizer Sessions",
          "Allocate Material BoM to Plant, Create BOM Plant Assignment",
          "Post Account Assignment Adjustment",
          "Manage Labels",
          "Inspection Lot KPIs - By Material",
          "Document flow list",
          "Output - From Groups of Deliveries",
          "Call Monitor",
          "Regroup Receivables / Payables",
          "Manage Drilling Statistical Ratios",
          "Export Master Data - Data Transfer",
          "Monitor Merchandise Distribution",
          "Create Goods Receipt - with Reference, Create Goods Receipt - without Reference, Post Goods Issue - Return Order, Post Goods Issue - Stock Transfer Order",
          "Collateral Expiry Report",
          "Define Books",
          "Adjust Partner Settlements - Mass Run",
          "History of Online Checks",
          "Configure Snapshots",
          "Adjust Document Conditions - Trading Contract",
          "Service Contract Issues",
          "Purchase Order Items by Account Assignment",
          "Manage Detailed Data for Company Code",
          "Track Sales Order Details",
          "Compliance Assessment - Substance - Substance List Check",
          "Create Production Order",
          "Display Forecast Profile",
          "REPLENISHMENT PLANNING",
          "Download Outward or Inward Supply Details (Deprecated) - India",
          "Assign Store to Groups - Assortment",
          "Edit Verification Fields - Storage Bin",
          "Display Change Log - Change Request",
          "Mass Update - Vendors Master Data - Israel",
          "Create Bills of Exchange Receivables",
          "Change Inventory Count",
          "Maintain Article Grouping - Bonus Buy",
          "Archive Dunning History",
          "Change FX Transaction",
          "Create SEPA Mandates (in Parallel)",
          "Replicate Business Data",
          "Display Physical Stock",
          "Mass Check: RE Search Requests",
          "Schedule Maintenance Plan - Service",
          "Display Background Job",
          "Create VAT Refund - Portugal",
          "Display Changes of Recurring Entry",
          "Upload Opening WDV - India",
          "Manage Project Type for Supplemental Detail",
          "Calculate Exch.Rate for CJ - Hungary",
          "Display Sales Quotations - VA23",
          "Display Batch Approver Lists",
          "Manage Held Data - Inventory Management",
          "Freight Booking Execution",
          "Create Bills of Exchange Payables",
          "Display Bills of Exchange Payables - Extended List",
          "Analyze Clearing Reasons",
          "Workload Management - Team Calendar",
          "Display Measurement Document (IK13)",
          "Schedule Automatic Payments Periodically",
          "PLS Management for Carrier Selection, PLS Management for Delivery Creation, PLS Management for Transportation Cockpit",
          "Edit Variants - Profitability Analysis",
          "Create Mass Time Confirmations",
          "Manage Tasks - Product Compliance",
          "Workflows in Status Error",
          "Usages of Parcels - Information System",
          "CU43 for the AVC list report app, Display AVC Configuration Profile from ListReport Application",
          "Generate Withholding Tax Certificates",
          "Display Dependency Net",
          "Two Step Transfer Tracking Report",
          "Cancellation/Underfill",
          "Find Payment (from Payment Run)",
          "Reconcile Open Items with G/L",
          "Create Document Lots - Chile",
          "Call Up Missing Part List",
          "Manage Destinations - Brazil",
          "Archive Submission Collection Agency",
          "Activate Availability Control - Projects",
          "Display General Meter",
          "Run Periodic Revaluation - Profitability Analysis",
          "Delete Expired Listings",
          "DMR Print",
          "Reverse Billing Document - Hungary",
          "Rental Objects -Assessment Contracts - Information System",
          "Cost Maintenance Task Lists",
          "Create Free Form Payment",
          "Manage Maintenance Notifications and Orders",
          "Stock Projection Engine",
          "Putaway Pre-Picked Handling Units",
          "Reprocess Postings - Returnable Packaging Logistics",
          "Create Auto-Confirmation Profile, Display Auto-Confirmation Profile, Edit Auto-Confirmation Profile",
          "Monitor Audits",
          "Compare Stock - Grouping, Pegging and Distribution",
          "Display Planned Markup",
          "Costs/Revenue: Actuals Overview - Information System",
          "Edit Commitment Item",
          "Create Document Structure",
          "Orders Mapping - Intercompany",
          "Update Previous WHT Code – Classical - Israel",
          "Unlock Kanban Containers",
          "Delete Sales Forecast for Sites",
          "Upload of Service Entry Sheets",
          "Itemization of Clarification Accounts - Payments",
          "Cost Sales Orders - Single",
          "Check and Correct Breakdowns of Transaction Data",
          "Delete References - F&R Integration",
          "Change Remuneration Settlement - Condition Contract",
          "Run Statutory Reports / Singapore AA Reporting",
          "Calculate Actual Interest - Internal/Maintenance Orders",
          "VF04F",
          "Test Revaluation Interface - Retail Inventory",
          "Print: General Corresp.(Arch.Obj.)",
          "Brazil Workcenter",
          "Compare Configurations for iPPE",
          "Migrate Property Tax Data – XML - Japan",
          "Change Billing Documents",
          "Display Revaluation Worklist - Retail Inventory",
          "Reorganize Control - F&R Integration",
          "Parcels - Easements - Information System",
          "Create Validation",
          "JV Funding - Maintain funding run",
          "ORF: Stock Calculation",
          "Define Printing Parameters - Warehouse",
          "List Supplier Line Items",
          "Delete and Close Reconciliation Key",
          "Equipment Planning Board Change",
          "Archive Gen. Revenue Reporting",
          "Analyze Supplier Service Level - Order Optimizing",
          "Access Goods Movement via Serial Number",
          "Enhance Condition Tables - Printing for RFID",
          "Display Filter",
          "Analyze Cost Element Itemization - Grouped",
          "Display Material Determination Records",
          "Display Redetermination Log - Billing Documents",
          "Change Outbound Delivery - Proof of Delivery",
          "Manage JV Automated Postings (Others)",
          "Maintain Mass Purchasing Info Record",
          "Maintain Consolidation Entities, Real-Time Consolidation: Entity Map - RTCENT",
          "Goods Receipt Automotive",
          "Component Maintenance Cockpit",
          "Run Effectiveness Test - Hedge Accounting",
          "Adjustment Documents - China",
          "Create Adjustment - Rates/Prices",
          "Void Unused Invoices",
          "Change Maintenance Plan",
          "Reprocess Goods Movements",
          "Manage Funding Group Assignment",
          "Create Logical Conditions - Transit Warehousing",
          "Create Gross Income Tax Report - Argentina",
          "Display View Logs - Data Retention",
          "Process Fuel Initial Levels - Switzerland",
          "FINCS_EPUC_GL",
          "Display Invoicing Orders",
          "Project Costs - Planned/Actual/Down Payment as Expense",
          "Maintain Procedures for Suppliers - Additionals",
          "Execute Sales Forecast for Sites",
          "Monitor Key Figure Calculations - Market Risk Key Figure Sets",
          "Request Messages for Promotion - Additionals",
          "Distribute Document Object List",
          "Manage Material Stocks - Greece",
          "Integrity Check of Quotation Price Table",
          "Extended Delivery Processing - Clearing",
          "Profit Centers - Actual",
          "Calculate Planned Interest - Order",
          "Display Settlement Rules - Projects",
          "Create Credit Memo Requests - W/o Preceding Document, Create Customer Return Without Reference - VA01, Create Debit Memo Requests - W/o Preceding Document, Create Sales Orders, Create Sales Orders - Intercompany, Create Sales Orders - VA01",
          "Manage Prepayment Agreements",
          "Tax Depreciation - Serbia",
          "Maintain Markdown Plan",
          "Manage Outgoing Checks",
          "Change Additive Costs",
          "Deactivate Messages - Resource",
          "Analyze Overdue Items",
          "Post Supplier Down Payments",
          "Create Assortment",
          "Display Simulation",
          "SPEC 2000: Initial Provisioning",
          "Display Action Network - Inbound JIT Call, Display Action Network - Outbound JIT Call",
          "Print Request",
          "Dangerous Goods Content Loader",
          "Warehouse Activity Monitor",
          "Manage Solution Unit ID",
          "Display RCC Log",
          "Actual Cost Estimates",
          "Reorganize Independent Requirements",
          "My Area of Responsibility - Work Center Groups",
          "Display Inspection Point Quantities",
          "Manage Work Permit Templates",
          "Confirm Planned Job",
          "DB Record Locking - Unload Strategy SYNC",
          "Set Substitution/Validation Logging",
          "Launchpad Personalization for LE",
          "Reverse Service Tax Credit - India",
          "Change Sales Quotations - VA22"
         ],
         "legendgroup": "0, Relevant",
         "marker": {
          "color": "#636efa",
          "opacity": 0.8,
          "symbol": "diamond"
         },
         "mode": "markers",
         "name": "0, Relevant",
         "orientation": "v",
         "showlegend": true,
         "type": "scatter",
         "x": {
          "bdata": "0usSwVKVF8EFAt/ABGspwUgBDcHEpCzBBAkjwStyGMEkHDPBnSkYwXnkzsCaERXBb4u5wGi2K8FCkBzB1vINwUzeF8HtIRvBbMQJwfse5cDsp9DANb8jwT0cLsHOijvBmkgewVCBCcGsQSHBQFMNwWt9KMEjuyXBPk8lwUSgKMH85yDBGc0dwVhGIMGgxhzBvUsCwaJ5IsEG9RDBKd3WwP1+L8FXvBLBzmQbwddI58AcWRHBHLQUway0LME6bSjBpPQQwcqWL8FwsxbBPqoiwXMwH8FL5SDB+EM2wR8PEMFquBXBimP+wJf+JMFpACnBPgbswDmGycAzQdnAaKcWwdPyz8DtmR3BBpkXwWEpAsF3ohXBwBA8wYx8KcELpAvBXSsiwdyQLcG6+jnBsyUwwRLFG8E9IwDBR+8YwU23F8FZbyLBs0QlwY0yKMGMBSHBr9YjwfYDMMGVM+TA6akawdl8IMGCDhrBB3opwQTEJcGiXjHBRMARwZlkCsGZTzrB830XwfJtLMEvfeHACLTCwEYBCcHhhBnBnl/jwGHSPcGUDOLAWjH9wA/9KsEPoi7BB1E1wWJ5AMHCPcrA9usJwZlmL8FkbiHBHUgTwQJDLMHMdiTBR48mweeCEcHWHx7B87kbwf1IN8GAxPTAO1cSwQVsDcGYkB/BmoYZwdNwF8FRER3BPrwbwVkKHMH0sSLBIE0XwfVGK8Grvj7B1vDAwK78DcF8rgzB9Ns5wa/YGsEQah3BBlsLwbN1IMEFWiPBRPIWwcRk+sAAqyLBIxkTwXuQKMHrBhzBi6kiweokAsGiTSTB47kMwf0SJsHIpB/BwaUowR2cDsGHDQ/BuXEZwb4uOcF97xfBE5MtwQvALcEjjxTBSnMdwbuoK8G9mwDBiL7owAIiGsFqtw3Bn2ojweXJE8EhlCTBbNkUwRvdEsHcIzbB3ccxwfaDPcF5EvrAf7sbwSrPx8AhGifBNfcSwZGME8FoFgrBylYkwexDIMGWSR7B94MbwdQiL8GhhAzBi/InwQNcLMHttujApTUbwYDdEcE0NBLBJJEGwSBZIMEEtx/BfLDswFUTB8GRgSPBP9QiwT0XOcHXbRnBju8QwXjxLcGHNDrBRuYewUxaHMFHrifBRr0TwaVFJcGM/RLBy8n6wPJEAMEndAfBd50ZwQIFH8GiQ9DAZGEJwa931cCGMw7B2U4WwbN+KsGUpSPBkxz5wL0T68A=",
          "dtype": "f4"
         },
         "xaxis": "x",
         "y": {
          "bdata": "LRu6QS0yxUEpFbhBEHq0QRwzzEH9LbtBuEDBQRJCwEGUQLJBbufLQd/4s0Gwf8hBbgejQUM5w0GHacRBWL+8QVbkxEE9csBBXtrBQdRyrUH5XaFBVqi/QVYpokHnoatBm9PJQS4buUFgtsRBptalQVtTv0HcJc5B7QnFQbpfrkHRM8VB5S3EQaGJvEEklcNBspGyQYxVvUH0rsRBzy23QcZxuEGudrxBvlrDQSCJpkHGEcRBq/2/QRGIrEEHeM5BdWy0QavPyEFhLMlBzarCQdGZwUGEfqdB7G6qQbt8w0Evg8BBJGqlQT9ErEEy6MxBsC+lQb7NnEGWSLFBDgTEQauUsUEgC8FBYaW9QV84u0F8a8lBfTiuQRqZxEH7/b1Bgp7HQQ1lukEMZbtBux63QREjvkFL0LpBarjCQWnnwkHp3LxBWpu6QRfBs0HVvbZBEVHPQTkQs0EAz6BBIGLDQYxBxUFcN61BY13FQfkcxUEfeaFBh1+fQQA7vUEwNatBRsHLQUWiw0FiEqhBKTuhQb7IxEGOE8dBXhO9Qb80rEFaU7xBAizCQU5zwUG9MLlBqoigQdaGwEEMhLZBnhHGQfaFvEGVmsdB8zrAQbYyxEGfzr5B8szCQfcYxEHIA8BBSXjFQW28r0GXU6dBZMu4QfN/v0HprcZB94nLQWI/v0FafcBB1jjDQfw9xkFEx75Bh/q9Qe0EzkGjaq1BArGyQa0RzEHqsLxBrXmhQXHQuUEO57dBh2/LQd2mvUGiPrBBE7jBQb22wUH528dBibnCQQ0nwEHztsBBjaG1QXrOqEHFachBfS7MQYd2wUH8f7pBNnrNQfAlwUEL+L9B3S7AQWbXoUFhhsZBKvm6QQk4yEHOa8JBa5XCQZZuuUFCV51BpdGiQdTtwEFSJcJBz9fOQRgExEFZw75B/PrFQQiLw0H3Ur1Bg9GtQRCMuUGje8BBjyPGQQSAt0HFj81BWJm+QfPiw0GOvqZBB3O8QRohwEHFNb1BjxrGQQ7Wx0FgXstBr3+/QSKzx0Hfyb1BMNy6QaFMukGR4cNBnO+dQf8qw0G6LcdBI+KjQX54q0GFCbdBlxrGQcC0qEG9rLtBpQnBQaggokHcwa1BrZG9QcXix0Fc2cFBDkbKQQQlxUE3lspBB0C2QRHXv0GlZMZBKRW7QYMPxkEY1rNBdv23QYQBpEGOgMhBKH/KQczZskHuLsNB8nzAQZ+joUE=",
          "dtype": "f4"
         },
         "yaxis": "y"
        },
        {
         "customdata": [
          [
           "F5717",
           "Maintain DN Downstream Nodes Hydrocarbon Analyst (Oil & Gas) : Is responsible fo"
          ],
          [
           "F7768",
           "Manage Observation Rulesets Define a series of Observation Rulesets that can per"
          ]
         ],
         "hovertemplate": "<b>%{hovertext}</b><br><br>cluster=1<br>LabelTxt=Irrelevant<br>ID=%{customdata[0]}<br>Snippet=%{customdata[1]}<extra></extra>",
         "hovertext": [
          "Delivery Network Downstream Node",
          "Manage Observation Rulesets"
         ],
         "legendgroup": "1, Irrelevant",
         "marker": {
          "color": "#EF553B",
          "opacity": 0.8,
          "symbol": "circle"
         },
         "mode": "markers",
         "name": "1, Irrelevant",
         "orientation": "v",
         "showlegend": true,
         "type": "scatter",
         "x": {
          "bdata": "oZPIwK2LycA=",
          "dtype": "f4"
         },
         "xaxis": "x",
         "y": {
          "bdata": "GTHEQY2Fw0E=",
          "dtype": "f4"
         },
         "yaxis": "y"
        },
        {
         "customdata": [
          [
           "O3UX7_WY_MKTOVR",
           "WYGP Marketing Xref Override This app is a SAP GUI for HTML transaction. These c"
          ],
          [
           "O3UREP_GROUP_MAINT",
           "Regulatory Reporting EIA-914 Group Maintenance This app is a SAP GUI for HTML tr"
          ],
          [
           "O3UVL_TPA0",
           "Tax Processing Allowance This app is a SAP GUI for HTML transaction. These class"
          ],
          [
           "_PRA_FP_VAR_SAL_MO",
           "ONRR-2014 Variance by Sales Month This app is a SAP GUI for HTML transaction. Th"
          ],
          [
           "O3U_WCD3",
           "Display Well Completion Dated This app is a SAP GUI for HTML transaction. These "
          ],
          [
           "_PRA_AR_CNTRL_RPT",
           "AR Reconcilation Report This app is a SAP GUI for HTML transaction. These classi"
          ],
          [
           "_PRA_FP_S6RTOVR",
           "Maintain Section 6 Rate Override This app is a SAP GUI for HTML transaction. The"
          ],
          [
           "O3U_DI6",
           "Delete DOI This app is a SAP GUI for HTML transaction. These classic transaction"
          ],
          [
           "O3UOW_OTX",
           "Execute Owner Request This app is a SAP GUI for HTML transaction. These classic "
          ],
          [
           "O3U_TCM6",
           "Delete WC/DN Theoretical Calculation Method This app is a SAP GUI for HTML trans"
          ],
          [
           "O3UVL_WLTAX_R",
           "Well Completion - Tax Class Report This app is a SAP GUI for HTML transaction. T"
          ],
          [
           "_PRA_GT_MASTER",
           "Maintain Gen Tax Master This app is a SAP GUI for HTML transaction. These classi"
          ],
          [
           "_PRA_FP_LEASE",
           "Maintain Lease This app is a SAP GUI for HTML transaction. These classic transac"
          ],
          [
           "O3U_DI1",
           "Create DOI This app is a SAP GUI for HTML transaction. These classic transaction"
          ],
          [
           "O3U_PC019",
           "Capacity List Processing This app is a SAP GUI for HTML transaction. These class"
          ],
          [
           "_PRA_ESCH_HST_CLN",
           "Un-Escheat Owner This app is a SAP GUI for HTML transaction. These classic trans"
          ],
          [
           "O3U_JV3",
           "Display Joint Venture This app is a SAP GUI for HTML transaction. These classic "
          ],
          [
           "O3UT5_SOLE",
           "Maintain OKGP15 SOL Exception This app is a SAP GUI for HTML transaction. These "
          ]
         ],
         "hovertemplate": "<b>%{hovertext}</b><br><br>cluster=1<br>LabelTxt=Relevant<br>ID=%{customdata[0]}<br>Snippet=%{customdata[1]}<extra></extra>",
         "hovertext": [
          "WYGP Marketing Xref Override",
          "Regulatory Reporting EIA-914 Group Maintenance",
          "Tax Processing Allowance",
          "ONRR-2014 Variance by Sales Month",
          "Display Well Completion Dated",
          "AR Reconcilation Report",
          "Maintain Section 6 Rate Override",
          "Delete DOI",
          "Execute Owner Request",
          "Delete WC/DN Theoretical Calculation Method",
          "Well Completion - Tax Class Report",
          "Maintain Gen Tax Master",
          "Maintain Lease",
          "Create DOI",
          "Capacity List Processing",
          "Un-Escheat Owner",
          "Display Joint Venture",
          "Maintain OKGP15 SOL Exception"
         ],
         "legendgroup": "1, Relevant",
         "marker": {
          "color": "#EF553B",
          "opacity": 0.8,
          "symbol": "diamond"
         },
         "mode": "markers",
         "name": "1, Relevant",
         "orientation": "v",
         "showlegend": true,
         "type": "scatter",
         "x": {
          "bdata": "6xi3wEs9usB/O8rAq/y5wASfysAanMbAShi9wNYZyMAqqcfAwxrNwDExzMAFjrrAtbi4wN+Xy8APcMjA6JDGwB2Ey8ByLrfA",
          "dtype": "f4"
         },
         "xaxis": "x",
         "y": {
          "bdata": "wKbIQZJYyUFQD8lBbjXIQfaHxkGcgMlBabbIQZbLyUFN9chBzqbGQXzQykH21slBH3bJQZcVyUHPmcpBFzfIQSLtyEGitchB",
          "dtype": "f4"
         },
         "yaxis": "y"
        },
        {
         "customdata": [
          [
           "F1046",
           "Analyze Production Allocation - Show the Allocation Results View the aggregated "
          ]
         ],
         "hovertemplate": "<b>%{hovertext}</b><br><br>cluster=-1<br>LabelTxt=Irrelevant<br>ID=%{customdata[0]}<br>Snippet=%{customdata[1]}<extra></extra>",
         "hovertext": [
          "Analyze Production Allocation"
         ],
         "legendgroup": "-1, Irrelevant",
         "marker": {
          "color": "#00cc96",
          "opacity": 0.8,
          "symbol": "circle"
         },
         "mode": "markers",
         "name": "-1, Irrelevant",
         "orientation": "v",
         "showlegend": true,
         "type": "scatter",
         "x": {
          "bdata": "zkzKwA==",
          "dtype": "f4"
         },
         "xaxis": "x",
         "y": {
          "bdata": "CI7BQQ==",
          "dtype": "f4"
         },
         "yaxis": "y"
        },
        {
         "customdata": [
          [
           "EHENV_UI_SCEN_EDIT_OVP (EHENV_UI_SCEN_EDIT_OVP)",
           "This app is a Web Dynpro for ABAP application. These classic applications are av"
          ],
          [
           "GJRT",
           "Rate Type for Overhead Burden This app is a SAP GUI for HTML transaction. These "
          ]
         ],
         "hovertemplate": "<b>%{hovertext}</b><br><br>cluster=-1<br>LabelTxt=Relevant<br>ID=%{customdata[0]}<br>Snippet=%{customdata[1]}<extra></extra>",
         "hovertext": [
          "Display Compliance Scenario, Edit Compliance Scenario",
          "Rate Type for Overhead Burden"
         ],
         "legendgroup": "-1, Relevant",
         "marker": {
          "color": "#00cc96",
          "opacity": 0.8,
          "symbol": "diamond"
         },
         "mode": "markers",
         "name": "-1, Relevant",
         "orientation": "v",
         "showlegend": true,
         "type": "scatter",
         "x": {
          "bdata": "dQ65wOA/J8E=",
          "dtype": "f4"
         },
         "xaxis": "x",
         "y": {
          "bdata": "ZLaiQaB6z0E=",
          "dtype": "f4"
         },
         "yaxis": "y"
        }
       ],
       "layout": {
        "legend": {
         "title": {
          "text": "Cluster / Label"
         },
         "tracegroupgap": 0
        },
        "template": {
         "data": {
          "bar": [
           {
            "error_x": {
             "color": "#2a3f5f"
            },
            "error_y": {
             "color": "#2a3f5f"
            },
            "marker": {
             "line": {
              "color": "#E5ECF6",
              "width": 0.5
             },
             "pattern": {
              "fillmode": "overlay",
              "size": 10,
              "solidity": 0.2
             }
            },
            "type": "bar"
           }
          ],
          "barpolar": [
           {
            "marker": {
             "line": {
              "color": "#E5ECF6",
              "width": 0.5
             },
             "pattern": {
              "fillmode": "overlay",
              "size": 10,
              "solidity": 0.2
             }
            },
            "type": "barpolar"
           }
          ],
          "carpet": [
           {
            "aaxis": {
             "endlinecolor": "#2a3f5f",
             "gridcolor": "white",
             "linecolor": "white",
             "minorgridcolor": "white",
             "startlinecolor": "#2a3f5f"
            },
            "baxis": {
             "endlinecolor": "#2a3f5f",
             "gridcolor": "white",
             "linecolor": "white",
             "minorgridcolor": "white",
             "startlinecolor": "#2a3f5f"
            },
            "type": "carpet"
           }
          ],
          "choropleth": [
           {
            "colorbar": {
             "outlinewidth": 0,
             "ticks": ""
            },
            "type": "choropleth"
           }
          ],
          "contour": [
           {
            "colorbar": {
             "outlinewidth": 0,
             "ticks": ""
            },
            "colorscale": [
             [
              0,
              "#0d0887"
             ],
             [
              0.1111111111111111,
              "#46039f"
             ],
             [
              0.2222222222222222,
              "#7201a8"
             ],
             [
              0.3333333333333333,
              "#9c179e"
             ],
             [
              0.4444444444444444,
              "#bd3786"
             ],
             [
              0.5555555555555556,
              "#d8576b"
             ],
             [
              0.6666666666666666,
              "#ed7953"
             ],
             [
              0.7777777777777778,
              "#fb9f3a"
             ],
             [
              0.8888888888888888,
              "#fdca26"
             ],
             [
              1,
              "#f0f921"
             ]
            ],
            "type": "contour"
           }
          ],
          "contourcarpet": [
           {
            "colorbar": {
             "outlinewidth": 0,
             "ticks": ""
            },
            "type": "contourcarpet"
           }
          ],
          "heatmap": [
           {
            "colorbar": {
             "outlinewidth": 0,
             "ticks": ""
            },
            "colorscale": [
             [
              0,
              "#0d0887"
             ],
             [
              0.1111111111111111,
              "#46039f"
             ],
             [
              0.2222222222222222,
              "#7201a8"
             ],
             [
              0.3333333333333333,
              "#9c179e"
             ],
             [
              0.4444444444444444,
              "#bd3786"
             ],
             [
              0.5555555555555556,
              "#d8576b"
             ],
             [
              0.6666666666666666,
              "#ed7953"
             ],
             [
              0.7777777777777778,
              "#fb9f3a"
             ],
             [
              0.8888888888888888,
              "#fdca26"
             ],
             [
              1,
              "#f0f921"
             ]
            ],
            "type": "heatmap"
           }
          ],
          "histogram": [
           {
            "marker": {
             "pattern": {
              "fillmode": "overlay",
              "size": 10,
              "solidity": 0.2
             }
            },
            "type": "histogram"
           }
          ],
          "histogram2d": [
           {
            "colorbar": {
             "outlinewidth": 0,
             "ticks": ""
            },
            "colorscale": [
             [
              0,
              "#0d0887"
             ],
             [
              0.1111111111111111,
              "#46039f"
             ],
             [
              0.2222222222222222,
              "#7201a8"
             ],
             [
              0.3333333333333333,
              "#9c179e"
             ],
             [
              0.4444444444444444,
              "#bd3786"
             ],
             [
              0.5555555555555556,
              "#d8576b"
             ],
             [
              0.6666666666666666,
              "#ed7953"
             ],
             [
              0.7777777777777778,
              "#fb9f3a"
             ],
             [
              0.8888888888888888,
              "#fdca26"
             ],
             [
              1,
              "#f0f921"
             ]
            ],
            "type": "histogram2d"
           }
          ],
          "histogram2dcontour": [
           {
            "colorbar": {
             "outlinewidth": 0,
             "ticks": ""
            },
            "colorscale": [
             [
              0,
              "#0d0887"
             ],
             [
              0.1111111111111111,
              "#46039f"
             ],
             [
              0.2222222222222222,
              "#7201a8"
             ],
             [
              0.3333333333333333,
              "#9c179e"
             ],
             [
              0.4444444444444444,
              "#bd3786"
             ],
             [
              0.5555555555555556,
              "#d8576b"
             ],
             [
              0.6666666666666666,
              "#ed7953"
             ],
             [
              0.7777777777777778,
              "#fb9f3a"
             ],
             [
              0.8888888888888888,
              "#fdca26"
             ],
             [
              1,
              "#f0f921"
             ]
            ],
            "type": "histogram2dcontour"
           }
          ],
          "mesh3d": [
           {
            "colorbar": {
             "outlinewidth": 0,
             "ticks": ""
            },
            "type": "mesh3d"
           }
          ],
          "parcoords": [
           {
            "line": {
             "colorbar": {
              "outlinewidth": 0,
              "ticks": ""
             }
            },
            "type": "parcoords"
           }
          ],
          "pie": [
           {
            "automargin": true,
            "type": "pie"
           }
          ],
          "scatter": [
           {
            "fillpattern": {
             "fillmode": "overlay",
             "size": 10,
             "solidity": 0.2
            },
            "type": "scatter"
           }
          ],
          "scatter3d": [
           {
            "line": {
             "colorbar": {
              "outlinewidth": 0,
              "ticks": ""
             }
            },
            "marker": {
             "colorbar": {
              "outlinewidth": 0,
              "ticks": ""
             }
            },
            "type": "scatter3d"
           }
          ],
          "scattercarpet": [
           {
            "marker": {
             "colorbar": {
              "outlinewidth": 0,
              "ticks": ""
             }
            },
            "type": "scattercarpet"
           }
          ],
          "scattergeo": [
           {
            "marker": {
             "colorbar": {
              "outlinewidth": 0,
              "ticks": ""
             }
            },
            "type": "scattergeo"
           }
          ],
          "scattergl": [
           {
            "marker": {
             "colorbar": {
              "outlinewidth": 0,
              "ticks": ""
             }
            },
            "type": "scattergl"
           }
          ],
          "scattermap": [
           {
            "marker": {
             "colorbar": {
              "outlinewidth": 0,
              "ticks": ""
             }
            },
            "type": "scattermap"
           }
          ],
          "scattermapbox": [
           {
            "marker": {
             "colorbar": {
              "outlinewidth": 0,
              "ticks": ""
             }
            },
            "type": "scattermapbox"
           }
          ],
          "scatterpolar": [
           {
            "marker": {
             "colorbar": {
              "outlinewidth": 0,
              "ticks": ""
             }
            },
            "type": "scatterpolar"
           }
          ],
          "scatterpolargl": [
           {
            "marker": {
             "colorbar": {
              "outlinewidth": 0,
              "ticks": ""
             }
            },
            "type": "scatterpolargl"
           }
          ],
          "scatterternary": [
           {
            "marker": {
             "colorbar": {
              "outlinewidth": 0,
              "ticks": ""
             }
            },
            "type": "scatterternary"
           }
          ],
          "surface": [
           {
            "colorbar": {
             "outlinewidth": 0,
             "ticks": ""
            },
            "colorscale": [
             [
              0,
              "#0d0887"
             ],
             [
              0.1111111111111111,
              "#46039f"
             ],
             [
              0.2222222222222222,
              "#7201a8"
             ],
             [
              0.3333333333333333,
              "#9c179e"
             ],
             [
              0.4444444444444444,
              "#bd3786"
             ],
             [
              0.5555555555555556,
              "#d8576b"
             ],
             [
              0.6666666666666666,
              "#ed7953"
             ],
             [
              0.7777777777777778,
              "#fb9f3a"
             ],
             [
              0.8888888888888888,
              "#fdca26"
             ],
             [
              1,
              "#f0f921"
             ]
            ],
            "type": "surface"
           }
          ],
          "table": [
           {
            "cells": {
             "fill": {
              "color": "#EBF0F8"
             },
             "line": {
              "color": "white"
             }
            },
            "header": {
             "fill": {
              "color": "#C8D4E3"
             },
             "line": {
              "color": "white"
             }
            },
            "type": "table"
           }
          ]
         },
         "layout": {
          "annotationdefaults": {
           "arrowcolor": "#2a3f5f",
           "arrowhead": 0,
           "arrowwidth": 1
          },
          "autotypenumbers": "strict",
          "coloraxis": {
           "colorbar": {
            "outlinewidth": 0,
            "ticks": ""
           }
          },
          "colorscale": {
           "diverging": [
            [
             0,
             "#8e0152"
            ],
            [
             0.1,
             "#c51b7d"
            ],
            [
             0.2,
             "#de77ae"
            ],
            [
             0.3,
             "#f1b6da"
            ],
            [
             0.4,
             "#fde0ef"
            ],
            [
             0.5,
             "#f7f7f7"
            ],
            [
             0.6,
             "#e6f5d0"
            ],
            [
             0.7,
             "#b8e186"
            ],
            [
             0.8,
             "#7fbc41"
            ],
            [
             0.9,
             "#4d9221"
            ],
            [
             1,
             "#276419"
            ]
           ],
           "sequential": [
            [
             0,
             "#0d0887"
            ],
            [
             0.1111111111111111,
             "#46039f"
            ],
            [
             0.2222222222222222,
             "#7201a8"
            ],
            [
             0.3333333333333333,
             "#9c179e"
            ],
            [
             0.4444444444444444,
             "#bd3786"
            ],
            [
             0.5555555555555556,
             "#d8576b"
            ],
            [
             0.6666666666666666,
             "#ed7953"
            ],
            [
             0.7777777777777778,
             "#fb9f3a"
            ],
            [
             0.8888888888888888,
             "#fdca26"
            ],
            [
             1,
             "#f0f921"
            ]
           ],
           "sequentialminus": [
            [
             0,
             "#0d0887"
            ],
            [
             0.1111111111111111,
             "#46039f"
            ],
            [
             0.2222222222222222,
             "#7201a8"
            ],
            [
             0.3333333333333333,
             "#9c179e"
            ],
            [
             0.4444444444444444,
             "#bd3786"
            ],
            [
             0.5555555555555556,
             "#d8576b"
            ],
            [
             0.6666666666666666,
             "#ed7953"
            ],
            [
             0.7777777777777778,
             "#fb9f3a"
            ],
            [
             0.8888888888888888,
             "#fdca26"
            ],
            [
             1,
             "#f0f921"
            ]
           ]
          },
          "colorway": [
           "#636efa",
           "#EF553B",
           "#00cc96",
           "#ab63fa",
           "#FFA15A",
           "#19d3f3",
           "#FF6692",
           "#B6E880",
           "#FF97FF",
           "#FECB52"
          ],
          "font": {
           "color": "#2a3f5f"
          },
          "geo": {
           "bgcolor": "white",
           "lakecolor": "white",
           "landcolor": "#E5ECF6",
           "showlakes": true,
           "showland": true,
           "subunitcolor": "white"
          },
          "hoverlabel": {
           "align": "left"
          },
          "hovermode": "closest",
          "mapbox": {
           "style": "light"
          },
          "paper_bgcolor": "white",
          "plot_bgcolor": "#E5ECF6",
          "polar": {
           "angularaxis": {
            "gridcolor": "white",
            "linecolor": "white",
            "ticks": ""
           },
           "bgcolor": "#E5ECF6",
           "radialaxis": {
            "gridcolor": "white",
            "linecolor": "white",
            "ticks": ""
           }
          },
          "scene": {
           "xaxis": {
            "backgroundcolor": "#E5ECF6",
            "gridcolor": "white",
            "gridwidth": 2,
            "linecolor": "white",
            "showbackground": true,
            "ticks": "",
            "zerolinecolor": "white"
           },
           "yaxis": {
            "backgroundcolor": "#E5ECF6",
            "gridcolor": "white",
            "gridwidth": 2,
            "linecolor": "white",
            "showbackground": true,
            "ticks": "",
            "zerolinecolor": "white"
           },
           "zaxis": {
            "backgroundcolor": "#E5ECF6",
            "gridcolor": "white",
            "gridwidth": 2,
            "linecolor": "white",
            "showbackground": true,
            "ticks": "",
            "zerolinecolor": "white"
           }
          },
          "shapedefaults": {
           "line": {
            "color": "#2a3f5f"
           }
          },
          "ternary": {
           "aaxis": {
            "gridcolor": "white",
            "linecolor": "white",
            "ticks": ""
           },
           "baxis": {
            "gridcolor": "white",
            "linecolor": "white",
            "ticks": ""
           },
           "bgcolor": "#E5ECF6",
           "caxis": {
            "gridcolor": "white",
            "linecolor": "white",
            "ticks": ""
           }
          },
          "title": {
           "x": 0.05
          },
          "xaxis": {
           "automargin": true,
           "gridcolor": "white",
           "linecolor": "white",
           "ticks": "",
           "title": {
            "standoff": 15
           },
           "zerolinecolor": "white",
           "zerolinewidth": 2
          },
          "yaxis": {
           "automargin": true,
           "gridcolor": "white",
           "linecolor": "white",
           "ticks": "",
           "title": {
            "standoff": 15
           },
           "zerolinecolor": "white",
           "zerolinewidth": 2
          }
         }
        },
        "title": {
         "text": "UMAP projection – colour = HDBSCAN cluster, shape = ground-truth label"
        },
        "xaxis": {
         "anchor": "y",
         "domain": [
          0,
          1
         ],
         "title": {
          "text": "UMAP-1"
         }
        },
        "yaxis": {
         "anchor": "x",
         "domain": [
          0,
          1
         ],
         "title": {
          "text": "UMAP-2"
         }
        }
       }
      }
     },
     "metadata": {},
     "output_type": "display_data"
    }
   ],
   "source": [
    "import umap.umap_ as umap\n",
    "from sklearn.cluster import HDBSCAN\n",
    "import plotly.express as px\n",
    "\n",
    "# Load the TF-IDF vectorized data from last notebook\n",
    "X_tfidf = joblib.load(BASE_DIR / \"checkpoints/X_tfidf_vectorized.pkl\")\n",
    "\n",
    "# Load the transformed DataFrame\n",
    "df_transformed = pd.read_csv(BASE_DIR / \"data/03_df_transformed.csv\")\n",
    "\n",
    "# UMAP coordinates\n",
    "reducer = umap.UMAP(n_neighbors=30, min_dist=0.3, metric=\"hellinger\", random_state=SEED)\n",
    "coords = reducer.fit_transform(X_tfidf)\n",
    "\n",
    "# Density-based clusters\n",
    "hdb = HDBSCAN(min_cluster_size=15, min_samples=10)\n",
    "hdb_labels = hdb.fit_predict(coords)\n",
    "\n",
    "# Hover text\n",
    "plot_df = pd.DataFrame({\n",
    "    \"x\": coords[:, 0],\n",
    "    \"y\": coords[:, 1],\n",
    "    \"cluster\": hdb_labels.astype(str),\n",
    "    \"LabelTxt\": y.reset_index(drop=True).map({1: \"Relevant\", 0: \"Irrelevant\"}),\n",
    "    \"App\": df_transformed.loc[y.index, \"AppName\"],          # short title\n",
    "    \"ID\":  df_transformed.loc[y.index, \"fioriId\"],          # SAP ID\n",
    "    \"Snippet\": df_final.loc[y.index, \"all_text_label\"].str[:80]\n",
    "})\n",
    "\n",
    "fig = px.scatter(\n",
    "    plot_df,\n",
    "    x=\"x\", y=\"y\",\n",
    "    color=\"cluster\",\n",
    "    symbol=\"LabelTxt\",\n",
    "    hover_name=\"App\",\n",
    "    hover_data={\"ID\": True, \"Snippet\": True, \"x\": False, \"y\": False},\n",
    "    opacity=0.8,\n",
    "    title=\"UMAP projection – colour = HDBSCAN cluster, shape = ground-truth label\"\n",
    ")\n",
    "fig.update_layout(xaxis_title=\"UMAP-1\", yaxis_title=\"UMAP-2\", legend_title=\"Cluster / Label\")\n",
    "fig.write_html(BASE_DIR / \"reports/umap_hdbscan_clusters.html\")\n",
    "fig.show()\n"
   ]
  },
  {
   "cell_type": "markdown",
   "id": "474bd296",
   "metadata": {},
   "source": [
    "**Cluster Insights: When Semantics Speak Louder Than Labels**\n",
    "\n",
    "The HDBSCAN clustering reveals a compelling narrative beneath the surface:\n",
    "\n",
    "- **Cluster 1 (orange/red)** stands out as a textbook case of domain isolation. Its near-total irrelevance and thematic cohesion, centered on “Oil & Gas” jargon, suggest that specialized language forms a distinct semantic island, easily flagged by both models and humans.\n",
    "  \n",
    "- **Cluster 0 (blue)**, however, is where the story gets messy. This mixed zone blurs the line between relevance and irrelevance, exposing the limits of surface-level features. It’s a semantic grey area. where apps share vocabulary but diverge in purpose.\n",
    "\n",
    "- **Noise (−1, green)** is the semantic wilderness. These outliers, all irrelevant, underscore HDBSCAN’s precision: if it can’t find a home for them, they likely don’t belong anywhere meaningful.\n",
    "\n",
    "These clusters hint at a deeper truth: relevance isn’t just about words, it’s about context, intent, and domain nuance. And that’s exactly where decision boundaries must tread carefully.\n"
   ]
  },
  {
   "cell_type": "markdown",
   "id": "9710a56d",
   "metadata": {},
   "source": [
    "### Cluster Word-Clouds: Language as a Lens\n",
    "\n",
    "To decode the semantic DNA of each HDBSCAN cluster, we generate word clouds that highlight dominant terms:\n",
    "\n",
    "- **Cluster 1** is saturated with domain-specific language—“Oil”, “Gas”, “Upstream”—confirming its identity as a tightly knit, irrelevant group.\n",
    "- **Cluster 0** reveals a more ambiguous vocabulary: generic verbs like “display” and “transaction” appear across both classes, reflecting its mixed composition.\n",
    "\n",
    "By filtering out common Fiori terms and stopwords, these clouds expose the linguistic fingerprints that shape cluster boundaries—offering a visual intuition for how relevance emerges from text.\n"
   ]
  },
  {
   "cell_type": "code",
   "execution_count": 17,
   "id": "cf5c9a51",
   "metadata": {},
   "outputs": [
    {
     "data": {
      "image/png": "[encoded data removed]",
      "text/plain": [
       "<Figure size 800x300 with 2 Axes>"
      ]
     },
     "metadata": {},
     "output_type": "display_data"
    }
   ],
   "source": [
    "from wordcloud import WordCloud\n",
    "from sklearn.feature_extraction.text import ENGLISH_STOP_WORDS\n",
    "\n",
    "\n",
    "custom_words = {\"sap\", \"fiori\", \"app\", \"application\"}\n",
    "stop_words  = set(ENGLISH_STOP_WORDS).union(custom_words)\n",
    "\n",
    "valid = [c for c in np.unique(hdb_labels) if c != -1]\n",
    "fig_wc, axes = plt.subplots(1, len(valid), \n",
    "                            figsize=(4*len(valid), 3), tight_layout=True)\n",
    "\n",
    "for ax, cid in zip(axes, valid):\n",
    "    text_blob = \" \".join(df_final.loc[hdb_labels == cid, \"all_text_label\"])\n",
    "    wc = WordCloud(\n",
    "        background_color=\"white\",\n",
    "        random_state=SEED,\n",
    "        stopwords=stop_words\n",
    "    ).generate(text_blob)\n",
    "    ax.imshow(wc, interpolation=\"bilinear\")\n",
    "    ax.set_title(f\"Cluster {cid}\", fontsize=11)\n",
    "    ax.axis(\"off\")\n",
    "\n",
    "fig_wc.savefig(BASE_DIR / \"plots/cluster_wordclouds.png\", dpi=150, bbox_inches=\"tight\")\n",
    "plt.show()\n",
    "\n"
   ]
  },
  {
   "cell_type": "markdown",
   "id": "88bc597b",
   "metadata": {},
   "source": [
    "- Cluster 0 speaks the language of everyday SAP apps, generic verbs and UI terms shared across use cases.  \n",
    "- Cluster 1, on the other hand, is pure “Oil & Gas”, a tightly focused, irrelevant niche.\n",
    "\n",
    "These clouds confirm: HDBSCAN doesn’t just group data, it surfaces meaning."
   ]
  },
  {
   "cell_type": "markdown",
   "id": "5b1ae690",
   "metadata": {},
   "source": [
    "### Cluster Purity Table  \n",
    "\n",
    "To quantify how well HDBSCAN separates relevance, we calculate the percentage of **Relevant** vs **Irrelevant** apps in each cluster.\n",
    "\n",
    "This table reveals the semantic clarity of each group, whether it's a clean domain-specific cluster or a noisy mix. It’s a simple yet powerful metric to validate our unsupervised structure against ground-truth labels.\n"
   ]
  },
  {
   "cell_type": "code",
   "execution_count": 18,
   "id": "ee5a4194",
   "metadata": {},
   "outputs": [
    {
     "data": {
      "text/html": [
       "<style type=\"text/css\">\n",
       "</style>\n",
       "<table id=\"T_6ad3c\">\n",
       "  <caption>Share of ground-truth labels per cluster (%)</caption>\n",
       "  <thead>\n",
       "    <tr>\n",
       "      <th class=\"index_name level0\" >Label</th>\n",
       "      <th id=\"T_6ad3c_level0_col0\" class=\"col_heading level0 col0\" >Irrelevant %</th>\n",
       "      <th id=\"T_6ad3c_level0_col1\" class=\"col_heading level0 col1\" >Relevant %</th>\n",
       "    </tr>\n",
       "    <tr>\n",
       "      <th class=\"index_name level0\" >Cluster</th>\n",
       "      <th class=\"blank col0\" >&nbsp;</th>\n",
       "      <th class=\"blank col1\" >&nbsp;</th>\n",
       "    </tr>\n",
       "  </thead>\n",
       "  <tbody>\n",
       "    <tr>\n",
       "      <th id=\"T_6ad3c_level0_row0\" class=\"row_heading level0 row0\" >-1</th>\n",
       "      <td id=\"T_6ad3c_row0_col0\" class=\"data row0 col0\" >33.3</td>\n",
       "      <td id=\"T_6ad3c_row0_col1\" class=\"data row0 col1\" >66.7</td>\n",
       "    </tr>\n",
       "    <tr>\n",
       "      <th id=\"T_6ad3c_level0_row1\" class=\"row_heading level0 row1\" >0</th>\n",
       "      <td id=\"T_6ad3c_row1_col0\" class=\"data row1 col0\" >51.8</td>\n",
       "      <td id=\"T_6ad3c_row1_col1\" class=\"data row1 col1\" >48.2</td>\n",
       "    </tr>\n",
       "    <tr>\n",
       "      <th id=\"T_6ad3c_level0_row2\" class=\"row_heading level0 row2\" >1</th>\n",
       "      <td id=\"T_6ad3c_row2_col0\" class=\"data row2 col0\" >10.0</td>\n",
       "      <td id=\"T_6ad3c_row2_col1\" class=\"data row2 col1\" >90.0</td>\n",
       "    </tr>\n",
       "  </tbody>\n",
       "</table>\n"
      ],
      "text/plain": [
       "<pandas.io.formats.style.Styler at 0x7f3ed60d9b20>"
      ]
     },
     "metadata": {},
     "output_type": "display_data"
    }
   ],
   "source": [
    "# Compute cluster purity: share of Relevant vs Irrelevant in each cluster\n",
    "label_pct = (\n",
    "    pd.crosstab(hdb_labels, y, normalize=\"index\")\n",
    "      .mul(100)\n",
    "      .round(1)\n",
    "      .rename(columns={0: \"Irrelevant %\", 1: \"Relevant %\"})\n",
    ")\n",
    "label_pct.index.name = \"Cluster\"\n",
    "\n",
    "# save & display\n",
    "label_pct.to_csv(BASE_DIR / \"plots/cluster_label_percentages.csv\")\n",
    "display(\n",
    "    label_pct.style.format(\"{:.1f}\")\n",
    "              .set_caption(\"Share of ground-truth labels per cluster (%)\")\n",
    ")\n"
   ]
  },
  {
   "cell_type": "markdown",
   "id": "71649de6",
   "metadata": {},
   "source": [
    "### Purity Check: Numbers That Back the Narrative\n",
    "\n",
    "This table reinforces our earlier insights:\n",
    "\n",
    "- **Cluster 1** is highly pure, 90% Relevant—confirming it as a focused Life-Science group.\n",
    "- **Cluster 0** remains ambiguous, with a near-even split, echoing its mixed vocabulary.\n",
    "- **Noise (−1)** surprisingly includes some Relevant apps, suggesting that even outliers may carry meaningful signals.\n",
    "\n",
    "Together, these stats validate the semantic structure revealed by UMAP and HDBSCAN, and hint at where our models must tread carefully.\n"
   ]
  },
  {
   "cell_type": "markdown",
   "id": "6c2476f9",
   "metadata": {},
   "source": [
    "With semantic structure and cluster purity mapped out, we now shift gears from exploration to prediction.\n",
    "\n",
    "In the [next notebook](https://github.com/alikhalajii/text-classification-life-sciences/blob/master/notebooks/02-exploratory-data-analysis-data-labeling.ipynb), we’ll dive deeper into classification using powerful deep learning models like **Sentence Transformers**. These embeddings promise richer context, better generalization, and sharper decision boundaries.\n",
    "\n",
    "Let’s see how far semantics can take us."
   ]
  }
 ],
 "metadata": {
  "kernelspec": {
   "display_name": ".venv_lf",
   "language": "python",
   "name": "python3"
  },
  "language_info": {
   "codemirror_mode": {
    "name": "ipython",
    "version": 3
   },
   "file_extension": ".py",
   "mimetype": "text/x-python",
   "name": "python",
   "nbconvert_exporter": "python",
   "pygments_lexer": "ipython3",
   "version": "3.12.3"
  }
 },
 "nbformat": 4,
 "nbformat_minor": 5
}
