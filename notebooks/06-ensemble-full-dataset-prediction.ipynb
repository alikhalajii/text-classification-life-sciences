{
 "cells": [
  {
   "cell_type": "markdown",
   "id": "ee49fe64",
   "metadata": {},
   "source": [
    "# 6. Full-Dataset Inference & Agreement Analysis\n"
   ]
  },
  {
   "cell_type": "markdown",
   "id": "c20e1063",
   "metadata": {},
   "source": [
    "**From Theory to Full-Scale Prediction — A Critical Milestone**\n",
    "\n",
    "In the [previous notebook](https://github.com/alikhalajii/text-classification-life-sciences/blob/master/notebooks/05-training-embedding-models.ipynb), we built the core classifiers that power our inference engine: each trained on clean, labeled slices of app descriptions. Now, we shift gears. We ask the real-world question: _What happens when we unleash these models on **everything**?_\n",
    "\n",
    "Welcome to Notebook 6, where abstraction meets reality.\n",
    "\n",
    "Here, we apply our trio of text-only models (Word2vec, fastText, SBERT) across all 14,000+ unlabeled app descriptions. It's not just a stress test — it's an opportunity to study behavior at scale, pinpoint model agreement zones, and diagnose weaknesses that only emerge in full deployment.\n",
    "\n",
    "By fusing their predictions via a **majority vote**, we create a more balanced, resilient classifier. Think of it less as a final decision-maker and more as a smart filter — helping us triage what's clearly relevant and what deserves human attention.\n",
    "\n",
    "This is more than just prediction; it’s an exploration of model synergy, domain drift, and hidden ambiguity. It's about pushing your pipeline into the wild while keeping a sharp, journalistic eye on what it gets right, where it stumbles, and how we use that to improve.\n",
    "\n",
    "Now let’s get analytic.\n"
   ]
  },
  {
   "cell_type": "markdown",
   "id": "ec365ec3",
   "metadata": {},
   "source": [
    "## 6.1 Predicting Relevance on the Full Dataset\n"
   ]
  },
  {
   "cell_type": "code",
   "execution_count": 2,
   "id": "bbbe201e",
   "metadata": {},
   "outputs": [],
   "source": [
    "%matplotlib inline\n",
    "from IPython.display import display\n",
    "\n",
    "from pathlib import Path\n",
    "BASE_DIR = Path.cwd().parent\n"
   ]
  },
  {
   "cell_type": "code",
   "execution_count": 3,
   "id": "d09c258f",
   "metadata": {},
   "outputs": [
    {
     "name": "stdout",
     "output_type": "stream",
     "text": [
      "\n",
      "==== Running Word2Vec + LR ====\n"
     ]
    },
    {
     "name": "stderr",
     "output_type": "stream",
     "text": [
      "Embedding docs: 100%|██████████| 14112/14112 [00:11<00:00, 1234.81it/s]\n"
     ]
    },
    {
     "name": "stdout",
     "output_type": "stream",
     "text": [
      "✅ Word2Vec + LR — Relevant: 8533, Irrelevant: 5579\n",
      "\n",
      "==== Running FastText + LR ====\n"
     ]
    },
    {
     "name": "stderr",
     "output_type": "stream",
     "text": [
      "Embedding docs: 100%|██████████| 14112/14112 [01:04<00:00, 217.67it/s]\n"
     ]
    },
    {
     "name": "stdout",
     "output_type": "stream",
     "text": [
      "✅ FastText + LR — Relevant: 8412, Irrelevant: 5700\n",
      "\n",
      "==== Running SBERT + LR ====\n",
      "📦 Loading cached SBERT embeddings...\n",
      "✅ SBERT + LR — Relevant: 8727, Irrelevant: 5385\n",
      "\n",
      "✅ All predictions saved to: /home/khalaji/Coding/text-classification-life-sciences/predictions/06_final_majority_vote_predictions.csv\n"
     ]
    }
   ],
   "source": [
    "import os\n",
    "import re\n",
    "import joblib\n",
    "import string\n",
    "from tqdm import tqdm\n",
    "\n",
    "import numpy as np\n",
    "import pandas as pd\n",
    "\n",
    "from gensim.models import Word2Vec, FastText\n",
    "from sentence_transformers import SentenceTransformer\n",
    "\n",
    "# Load dataset\n",
    "df_cleaned = pd.read_csv(BASE_DIR / \"data/02_df_cleaned_all_text.csv\", encoding='utf-8')\n",
    "texts_all = df_cleaned[\"all_text\"].astype(str)\n",
    "\n",
    "# Tokenizer for W2V / FT\n",
    "def simple_tokenizer(text):\n",
    "    text = text.lower()\n",
    "    text = re.sub(f\"[{re.escape(string.punctuation)}]\", \" \", text)\n",
    "    return text.split()\n",
    "\n",
    "tokens_all = texts_all.apply(simple_tokenizer)\n",
    "\n",
    "# Function to compute doc vectors (W2V / FT)\n",
    "def get_doc_vectors(tokens, model, vec_size):\n",
    "    return np.vstack([\n",
    "        np.mean([model.wv[w] for w in toks if w in model.wv] or [np.zeros(vec_size)], axis=0)\n",
    "        for toks in tqdm(tokens, desc=\"Embedding docs\")\n",
    "    ])\n",
    "\n",
    "# === Embedding-based Models Only ===\n",
    "MODELS = [\n",
    "    {\"name\": \"Word2Vec + LR\", \"embed\": True, \"vec_path\": BASE_DIR / \"checkpoints/word2vec_model.gensim\",  \"clf_path\": BASE_DIR / \"checkpoints/word2vec_lr.pkl\",  \"vector_size\": 100},\n",
    "    {\"name\": \"FastText + LR\", \"embed\": True, \"vec_path\": BASE_DIR / \"checkpoints/fasttext_model.gensim\",  \"clf_path\": BASE_DIR / \"checkpoints/fasttext_lr.pkl\",  \"vector_size\": 100},\n",
    "    {\"name\": \"SBERT + LR\",    \"embed\": False,\"clf_path\": BASE_DIR / \"checkpoints/sbert_lr.pkl\"},\n",
    "]\n",
    "\n",
    "# Run predictions\n",
    "results = {}\n",
    "for model in MODELS:\n",
    "    print(f\"\\n==== Running {model['name']} ====\")\n",
    "    clf = joblib.load(model[\"clf_path\"])\n",
    "\n",
    "    if model[\"embed\"]:\n",
    "        # W2V or FastText\n",
    "        vec_path = str(model[\"vec_path\"])  # Ensure it's a string\n",
    "        vec_model = Word2Vec.load(vec_path) if \"word2vec\" in vec_path else FastText.load(vec_path)\n",
    "        X = get_doc_vectors(tokens_all, vec_model, model[\"vector_size\"])\n",
    "    else:\n",
    "        # SBERT: use cached embeddings\n",
    "        sbert_path = BASE_DIR / \"checkpoints/sbert_embeddings_full.npy\"\n",
    "        if os.path.exists(sbert_path):\n",
    "            print(\"📦 Loading cached SBERT embeddings...\")\n",
    "            X = np.load(sbert_path)\n",
    "        else:\n",
    "            print(\"⚙️  Computing SBERT embeddings (may take time)...\")\n",
    "            sbert = SentenceTransformer(\"all-MiniLM-L6-v2\")\n",
    "            X = sbert.encode(texts_all.tolist(), show_progress_bar=True, batch_size=128)\n",
    "            np.save(sbert_path, X)\n",
    "\n",
    "    y_pred = clf.predict(X)\n",
    "    results[model[\"name\"]] = y_pred\n",
    "\n",
    "    # Save binary label column\n",
    "    col = model[\"name\"].lower().replace(\" \", \"_\").replace(\"+\", \"\").replace(\"(\", \"\").replace(\")\", \"\")\n",
    "    df_cleaned[col] = y_pred.astype(int)\n",
    "\n",
    "    print(f\"✅ {model['name']} — Relevant: {sum(y_pred==1)}, Irrelevant: {sum(y_pred==0)}\")\n",
    "\n",
    "# Majority Voting\n",
    "model_cols = [model[\"name\"].lower().replace(\" \", \"_\").replace(\"+\", \"\").replace(\"(\", \"\").replace(\")\", \"\")\n",
    "              for model in MODELS]\n",
    "df_cleaned[\"majority_vote\"] = df_cleaned[model_cols].sum(axis=1).apply(lambda x: 1 if x >= 2 else 0)\n",
    "#df_cleaned.drop(columns=[\"all_text\"], inplace=True)\n",
    "\n",
    "# Save final predictions\n",
    "output_file = BASE_DIR / \"predictions/06_final_majority_vote_predictions.csv\"\n",
    "df_cleaned.to_csv(output_file, index=False)\n",
    "print(f\"\\n✅ All predictions saved to: {output_file}\")\n"
   ]
  },
  {
   "cell_type": "markdown",
   "id": "6b63c013",
   "metadata": {},
   "source": [
    "With all three models deployed and their predictions consolidated, we pivot from individual relevance assessments to the collective insight offered by the `majority_vote`. This step distills conflicting judgments into a unified verdict; an ensemble voice emerging from diverse linguistic perspectives."
   ]
  },
  {
   "cell_type": "code",
   "execution_count": 4,
   "id": "578f36d5",
   "metadata": {},
   "outputs": [
    {
     "data": {
      "application/vnd.microsoft.datawrangler.viewer.v0+json": {
       "columns": [
        {
         "name": "index",
         "rawType": "int64",
         "type": "integer"
        },
        {
         "name": "fioriId",
         "rawType": "object",
         "type": "string"
        },
        {
         "name": "word2vec__lr",
         "rawType": "int64",
         "type": "integer"
        },
        {
         "name": "fasttext__lr",
         "rawType": "int64",
         "type": "integer"
        },
        {
         "name": "sbert__lr",
         "rawType": "int64",
         "type": "integer"
        },
        {
         "name": "majority_vote",
         "rawType": "int64",
         "type": "integer"
        }
       ],
       "ref": "811ff84f-f9ab-4f6f-97ba-eb21951ba25d",
       "rows": [
        [
         "0",
         "1KE4",
         "0",
         "0",
         "0",
         "0"
        ],
        [
         "1",
         "AB08",
         "1",
         "1",
         "1",
         "1"
        ],
        [
         "2",
         "ABAAL",
         "0",
         "0",
         "0",
         "0"
        ],
        [
         "3",
         "ABAON",
         "1",
         "1",
         "1",
         "1"
        ],
        [
         "4",
         "ABAVN",
         "1",
         "1",
         "1",
         "1"
        ]
       ],
       "shape": {
        "columns": 5,
        "rows": 5
       }
      },
      "text/html": [
       "<div>\n",
       "<style scoped>\n",
       "    .dataframe tbody tr th:only-of-type {\n",
       "        vertical-align: middle;\n",
       "    }\n",
       "\n",
       "    .dataframe tbody tr th {\n",
       "        vertical-align: top;\n",
       "    }\n",
       "\n",
       "    .dataframe thead th {\n",
       "        text-align: right;\n",
       "    }\n",
       "</style>\n",
       "<table border=\"1\" class=\"dataframe\">\n",
       "  <thead>\n",
       "    <tr style=\"text-align: right;\">\n",
       "      <th></th>\n",
       "      <th>fioriId</th>\n",
       "      <th>word2vec__lr</th>\n",
       "      <th>fasttext__lr</th>\n",
       "      <th>sbert__lr</th>\n",
       "      <th>majority_vote</th>\n",
       "    </tr>\n",
       "  </thead>\n",
       "  <tbody>\n",
       "    <tr>\n",
       "      <th>0</th>\n",
       "      <td>1KE4</td>\n",
       "      <td>0</td>\n",
       "      <td>0</td>\n",
       "      <td>0</td>\n",
       "      <td>0</td>\n",
       "    </tr>\n",
       "    <tr>\n",
       "      <th>1</th>\n",
       "      <td>AB08</td>\n",
       "      <td>1</td>\n",
       "      <td>1</td>\n",
       "      <td>1</td>\n",
       "      <td>1</td>\n",
       "    </tr>\n",
       "    <tr>\n",
       "      <th>2</th>\n",
       "      <td>ABAAL</td>\n",
       "      <td>0</td>\n",
       "      <td>0</td>\n",
       "      <td>0</td>\n",
       "      <td>0</td>\n",
       "    </tr>\n",
       "    <tr>\n",
       "      <th>3</th>\n",
       "      <td>ABAON</td>\n",
       "      <td>1</td>\n",
       "      <td>1</td>\n",
       "      <td>1</td>\n",
       "      <td>1</td>\n",
       "    </tr>\n",
       "    <tr>\n",
       "      <th>4</th>\n",
       "      <td>ABAVN</td>\n",
       "      <td>1</td>\n",
       "      <td>1</td>\n",
       "      <td>1</td>\n",
       "      <td>1</td>\n",
       "    </tr>\n",
       "  </tbody>\n",
       "</table>\n",
       "</div>"
      ],
      "text/plain": [
       "  fioriId  word2vec__lr  fasttext__lr  sbert__lr  majority_vote\n",
       "0    1KE4             0             0          0              0\n",
       "1    AB08             1             1          1              1\n",
       "2   ABAAL             0             0          0              0\n",
       "3   ABAON             1             1          1              1\n",
       "4   ABAVN             1             1          1              1"
      ]
     },
     "execution_count": 4,
     "metadata": {},
     "output_type": "execute_result"
    }
   ],
   "source": [
    "df_cleaned[:5][[\"fioriId\", \"word2vec__lr\", \"fasttext__lr\", \"sbert__lr\", \"majority_vote\"]]"
   ]
  },
  {
   "cell_type": "markdown",
   "id": "776f2801",
   "metadata": {},
   "source": [
    "## 6.2 Analysis of Model Predictions & Agreement\n",
    "\n",
    "To explore how the models aligned or diverged in their relevance predictions, we begin with a quantitative snapshot.\n",
    "\n",
    "### Prediction Volume per Model\n",
    "This overview compares the number of samples classified as relevant and irrelevant by each of the three embedding-based models, alongside the final majority vote. The slight discrepancies between models suggest nuanced interpretive differences, yet the majority vote harmonizes their perspectives into a more stable consensus. This serves as a foundation for deeper agreement analysis in the next steps.\n"
   ]
  },
  {
   "cell_type": "code",
   "execution_count": 5,
   "id": "8a9ec8d7",
   "metadata": {},
   "outputs": [
    {
     "data": {
      "text/html": [
       "<style type=\"text/css\">\n",
       "#T_684db_row0_col0 {\n",
       "  background-color: #7acbbc;\n",
       "  color: #000000;\n",
       "}\n",
       "#T_684db_row0_col1 {\n",
       "  background-color: #2094c0;\n",
       "  color: #f1f1f1;\n",
       "}\n",
       "#T_684db_row0_col2, #T_684db_row1_col0, #T_684db_row1_col2, #T_684db_row2_col1, #T_684db_row2_col2 {\n",
       "  background-color: #ffffd9;\n",
       "  color: #000000;\n",
       "}\n",
       "#T_684db_row1_col1, #T_684db_row2_col0 {\n",
       "  background-color: #081d58;\n",
       "  color: #f1f1f1;\n",
       "}\n",
       "</style>\n",
       "<table id=\"T_684db\">\n",
       "  <thead>\n",
       "    <tr>\n",
       "      <th class=\"blank level0\" >&nbsp;</th>\n",
       "      <th id=\"T_684db_level0_col0\" class=\"col_heading level0 col0\" >Relevant</th>\n",
       "      <th id=\"T_684db_level0_col1\" class=\"col_heading level0 col1\" >Irrelevant</th>\n",
       "      <th id=\"T_684db_level0_col2\" class=\"col_heading level0 col2\" >Total</th>\n",
       "    </tr>\n",
       "  </thead>\n",
       "  <tbody>\n",
       "    <tr>\n",
       "      <th id=\"T_684db_level0_row0\" class=\"row_heading level0 row0\" >word2vec__lr</th>\n",
       "      <td id=\"T_684db_row0_col0\" class=\"data row0 col0\" >8533</td>\n",
       "      <td id=\"T_684db_row0_col1\" class=\"data row0 col1\" >5579</td>\n",
       "      <td id=\"T_684db_row0_col2\" class=\"data row0 col2\" >14112</td>\n",
       "    </tr>\n",
       "    <tr>\n",
       "      <th id=\"T_684db_level0_row1\" class=\"row_heading level0 row1\" >fasttext__lr</th>\n",
       "      <td id=\"T_684db_row1_col0\" class=\"data row1 col0\" >8412</td>\n",
       "      <td id=\"T_684db_row1_col1\" class=\"data row1 col1\" >5700</td>\n",
       "      <td id=\"T_684db_row1_col2\" class=\"data row1 col2\" >14112</td>\n",
       "    </tr>\n",
       "    <tr>\n",
       "      <th id=\"T_684db_level0_row2\" class=\"row_heading level0 row2\" >sbert__lr</th>\n",
       "      <td id=\"T_684db_row2_col0\" class=\"data row2 col0\" >8727</td>\n",
       "      <td id=\"T_684db_row2_col1\" class=\"data row2 col1\" >5385</td>\n",
       "      <td id=\"T_684db_row2_col2\" class=\"data row2 col2\" >14112</td>\n",
       "    </tr>\n",
       "  </tbody>\n",
       "</table>\n"
      ],
      "text/plain": [
       "<pandas.io.formats.style.Styler at 0x70846c2b0770>"
      ]
     },
     "metadata": {},
     "output_type": "display_data"
    }
   ],
   "source": [
    "summary = pd.DataFrame({\n",
    "    'Relevant':  df_cleaned[model_cols].sum(), \n",
    "    'Irrelevant': df_cleaned.shape[0] - df_cleaned[model_cols].sum()  # total minus count of 1s\n",
    "})\n",
    "\n",
    "summary['Total'] = df_cleaned.shape[0]     \n",
    "\n",
    "display(summary.style.background_gradient(cmap='YlGnBu'))"
   ]
  },
  {
   "cell_type": "markdown",
   "id": "b4d83021",
   "metadata": {},
   "source": [
    "* The prediction volumes across models are broadly consistent, each processing 14,112 samples. Word2Vec and FastText yield similar relevance counts 8535 and 8397 respectively, while SBERT identifies slightly more relevant documents (8727), likely due to its deeper semantic understanding."
   ]
  },
  {
   "cell_type": "markdown",
   "id": "438d0b69",
   "metadata": {},
   "source": [
    "### Model Agreement Count\n"
   ]
  },
  {
   "cell_type": "code",
   "execution_count": 6,
   "id": "8f435e04",
   "metadata": {},
   "outputs": [
    {
     "data": {
      "application/vnd.microsoft.datawrangler.viewer.v0+json": {
       "columns": [
        {
         "name": "index",
         "rawType": "int64",
         "type": "integer"
        },
        {
         "name": "# Models Predicting Relevant",
         "rawType": "int64",
         "type": "integer"
        },
        {
         "name": "Document Count",
         "rawType": "int64",
         "type": "integer"
        }
       ],
       "ref": "31c55070-5507-41ad-9f8b-3ea8288e7eed",
       "rows": [
        [
         "0",
         "0",
         "5328"
        ],
        [
         "1",
         "1",
         "292"
        ],
        [
         "2",
         "2",
         "96"
        ],
        [
         "3",
         "3",
         "8396"
        ]
       ],
       "shape": {
        "columns": 2,
        "rows": 4
       }
      },
      "text/html": [
       "<div>\n",
       "<style scoped>\n",
       "    .dataframe tbody tr th:only-of-type {\n",
       "        vertical-align: middle;\n",
       "    }\n",
       "\n",
       "    .dataframe tbody tr th {\n",
       "        vertical-align: top;\n",
       "    }\n",
       "\n",
       "    .dataframe thead th {\n",
       "        text-align: right;\n",
       "    }\n",
       "</style>\n",
       "<table border=\"1\" class=\"dataframe\">\n",
       "  <thead>\n",
       "    <tr style=\"text-align: right;\">\n",
       "      <th></th>\n",
       "      <th># Models Predicting Relevant</th>\n",
       "      <th>Document Count</th>\n",
       "    </tr>\n",
       "  </thead>\n",
       "  <tbody>\n",
       "    <tr>\n",
       "      <th>0</th>\n",
       "      <td>0</td>\n",
       "      <td>5328</td>\n",
       "    </tr>\n",
       "    <tr>\n",
       "      <th>1</th>\n",
       "      <td>1</td>\n",
       "      <td>292</td>\n",
       "    </tr>\n",
       "    <tr>\n",
       "      <th>2</th>\n",
       "      <td>2</td>\n",
       "      <td>96</td>\n",
       "    </tr>\n",
       "    <tr>\n",
       "      <th>3</th>\n",
       "      <td>3</td>\n",
       "      <td>8396</td>\n",
       "    </tr>\n",
       "  </tbody>\n",
       "</table>\n",
       "</div>"
      ],
      "text/plain": [
       "   # Models Predicting Relevant  Document Count\n",
       "0                             0            5328\n",
       "1                             1             292\n",
       "2                             2              96\n",
       "3                             3            8396"
      ]
     },
     "metadata": {},
     "output_type": "display_data"
    }
   ],
   "source": [
    "# Prepare DataFrame for interactive display\n",
    "interactive_df = df_cleaned[model_cols + [\"majority_vote\"]].copy()\n",
    "\n",
    "# Compute agreement score\n",
    "interactive_df[\"agreement\"] = interactive_df[model_cols].sum(axis=1)\n",
    "\n",
    "\n",
    "agreement_table = interactive_df[\"agreement\"].value_counts().sort_index().reset_index()\n",
    "agreement_table.columns = [\"# Models Predicting Relevant\", \"Document Count\"]\n",
    "\n",
    "display(agreement_table)\n"
   ]
  },
  {
   "cell_type": "markdown",
   "id": "1c10fc81",
   "metadata": {},
   "source": [
    "\n",
    "* The aggreement count table confirms a stark polarization in predictions: 8380 documents were unanimously marked relevant by all three models, while 5327 were unanimously deemed irrelevant. These dominant counts indicate that the classifiers often converge with confidence. However, a small slice, 405 documents, fell into the ambiguous zone with only partial agreement (1 or 2 models predicting relevance). These edge cases may reflect subtler semantic cues or borderline content that challenges the consistency of our classifiers. Exploring these could provide valuable insights for improving ensemble precision and identifying limitations in individual embedding approaches."
   ]
  },
  {
   "cell_type": "markdown",
   "id": "1d65a483",
   "metadata": {},
   "source": [
    "### Correlation Heatmap\n"
   ]
  },
  {
   "cell_type": "code",
   "execution_count": 7,
   "id": "237ca7b3",
   "metadata": {},
   "outputs": [
    {
     "data": {
      "image/png": "[encoded data removed]",
      "text/plain": [
       "<Figure size 640x480 with 2 Axes>"
      ]
     },
     "metadata": {},
     "output_type": "display_data"
    }
   ],
   "source": [
    "import seaborn as sns\n",
    "import matplotlib.pyplot as plt\n",
    "\n",
    "# Correlation of predictions between models\n",
    "corr = df_cleaned[model_cols + [\"majority_vote\"]].corr()\n",
    "sns.heatmap(corr, annot=True, cmap=\"Greens\")\n",
    "plt.title(\"Model Agreement (Correlation Matrix)\")\n",
    "plt.tight_layout()\n",
    "plt.savefig(BASE_DIR / \"plots/model_agreement_correlation_matrix.png\", dpi=150)\n",
    "plt.show()\n"
   ]
  },
  {
   "cell_type": "markdown",
   "id": "0a9ba092",
   "metadata": {},
   "source": [
    "* The visualization above reveals strong predictive alignment among the models. Word2Vec and FastText exhibit near-perfect correlation (0.98), suggesting they interpret relevance similarly—likely due to their shared shallow embedding architecture. SBERT, while still highly correlated (0.95–0.96), introduces subtle semantic distinctions that slightly differentiate its predictions. The majority vote shows robust correlation with all three, confirming its role as a balanced aggregator of model perspectives.\n"
   ]
  },
  {
   "cell_type": "markdown",
   "id": "d7ce1567",
   "metadata": {},
   "source": [
    "### Model Agreement Proportion\n"
   ]
  },
  {
   "cell_type": "code",
   "execution_count": 10,
   "id": "94ee362e",
   "metadata": {},
   "outputs": [
    {
     "data": {
      "application/vnd.plotly.v1+json": {
       "config": {
        "plotlyServerURL": "https://plot.ly"
       },
       "data": [
        {
         "domain": {
          "x": [
           0,
           1
          ],
          "y": [
           0,
           1
          ]
         },
         "hole": 0.4,
         "hovertemplate": "label=%{label}<br>value=%{value}<extra></extra>",
         "labels": {
          "bdata": "AAECAw==",
          "dtype": "i1"
         },
         "legendgroup": "",
         "name": "",
         "showlegend": true,
         "type": "pie",
         "values": {
          "bdata": "0BQkAWAAzCA=",
          "dtype": "i2"
         }
        }
       ],
       "layout": {
        "height": 400,
        "legend": {
         "tracegroupgap": 0
        },
        "template": {
         "data": {
          "bar": [
           {
            "error_x": {
             "color": "#2a3f5f"
            },
            "error_y": {
             "color": "#2a3f5f"
            },
            "marker": {
             "line": {
              "color": "#E5ECF6",
              "width": 0.5
             },
             "pattern": {
              "fillmode": "overlay",
              "size": 10,
              "solidity": 0.2
             }
            },
            "type": "bar"
           }
          ],
          "barpolar": [
           {
            "marker": {
             "line": {
              "color": "#E5ECF6",
              "width": 0.5
             },
             "pattern": {
              "fillmode": "overlay",
              "size": 10,
              "solidity": 0.2
             }
            },
            "type": "barpolar"
           }
          ],
          "carpet": [
           {
            "aaxis": {
             "endlinecolor": "#2a3f5f",
             "gridcolor": "white",
             "linecolor": "white",
             "minorgridcolor": "white",
             "startlinecolor": "#2a3f5f"
            },
            "baxis": {
             "endlinecolor": "#2a3f5f",
             "gridcolor": "white",
             "linecolor": "white",
             "minorgridcolor": "white",
             "startlinecolor": "#2a3f5f"
            },
            "type": "carpet"
           }
          ],
          "choropleth": [
           {
            "colorbar": {
             "outlinewidth": 0,
             "ticks": ""
            },
            "type": "choropleth"
           }
          ],
          "contour": [
           {
            "colorbar": {
             "outlinewidth": 0,
             "ticks": ""
            },
            "colorscale": [
             [
              0,
              "#0d0887"
             ],
             [
              0.1111111111111111,
              "#46039f"
             ],
             [
              0.2222222222222222,
              "#7201a8"
             ],
             [
              0.3333333333333333,
              "#9c179e"
             ],
             [
              0.4444444444444444,
              "#bd3786"
             ],
             [
              0.5555555555555556,
              "#d8576b"
             ],
             [
              0.6666666666666666,
              "#ed7953"
             ],
             [
              0.7777777777777778,
              "#fb9f3a"
             ],
             [
              0.8888888888888888,
              "#fdca26"
             ],
             [
              1,
              "#f0f921"
             ]
            ],
            "type": "contour"
           }
          ],
          "contourcarpet": [
           {
            "colorbar": {
             "outlinewidth": 0,
             "ticks": ""
            },
            "type": "contourcarpet"
           }
          ],
          "heatmap": [
           {
            "colorbar": {
             "outlinewidth": 0,
             "ticks": ""
            },
            "colorscale": [
             [
              0,
              "#0d0887"
             ],
             [
              0.1111111111111111,
              "#46039f"
             ],
             [
              0.2222222222222222,
              "#7201a8"
             ],
             [
              0.3333333333333333,
              "#9c179e"
             ],
             [
              0.4444444444444444,
              "#bd3786"
             ],
             [
              0.5555555555555556,
              "#d8576b"
             ],
             [
              0.6666666666666666,
              "#ed7953"
             ],
             [
              0.7777777777777778,
              "#fb9f3a"
             ],
             [
              0.8888888888888888,
              "#fdca26"
             ],
             [
              1,
              "#f0f921"
             ]
            ],
            "type": "heatmap"
           }
          ],
          "histogram": [
           {
            "marker": {
             "pattern": {
              "fillmode": "overlay",
              "size": 10,
              "solidity": 0.2
             }
            },
            "type": "histogram"
           }
          ],
          "histogram2d": [
           {
            "colorbar": {
             "outlinewidth": 0,
             "ticks": ""
            },
            "colorscale": [
             [
              0,
              "#0d0887"
             ],
             [
              0.1111111111111111,
              "#46039f"
             ],
             [
              0.2222222222222222,
              "#7201a8"
             ],
             [
              0.3333333333333333,
              "#9c179e"
             ],
             [
              0.4444444444444444,
              "#bd3786"
             ],
             [
              0.5555555555555556,
              "#d8576b"
             ],
             [
              0.6666666666666666,
              "#ed7953"
             ],
             [
              0.7777777777777778,
              "#fb9f3a"
             ],
             [
              0.8888888888888888,
              "#fdca26"
             ],
             [
              1,
              "#f0f921"
             ]
            ],
            "type": "histogram2d"
           }
          ],
          "histogram2dcontour": [
           {
            "colorbar": {
             "outlinewidth": 0,
             "ticks": ""
            },
            "colorscale": [
             [
              0,
              "#0d0887"
             ],
             [
              0.1111111111111111,
              "#46039f"
             ],
             [
              0.2222222222222222,
              "#7201a8"
             ],
             [
              0.3333333333333333,
              "#9c179e"
             ],
             [
              0.4444444444444444,
              "#bd3786"
             ],
             [
              0.5555555555555556,
              "#d8576b"
             ],
             [
              0.6666666666666666,
              "#ed7953"
             ],
             [
              0.7777777777777778,
              "#fb9f3a"
             ],
             [
              0.8888888888888888,
              "#fdca26"
             ],
             [
              1,
              "#f0f921"
             ]
            ],
            "type": "histogram2dcontour"
           }
          ],
          "mesh3d": [
           {
            "colorbar": {
             "outlinewidth": 0,
             "ticks": ""
            },
            "type": "mesh3d"
           }
          ],
          "parcoords": [
           {
            "line": {
             "colorbar": {
              "outlinewidth": 0,
              "ticks": ""
             }
            },
            "type": "parcoords"
           }
          ],
          "pie": [
           {
            "automargin": true,
            "type": "pie"
           }
          ],
          "scatter": [
           {
            "fillpattern": {
             "fillmode": "overlay",
             "size": 10,
             "solidity": 0.2
            },
            "type": "scatter"
           }
          ],
          "scatter3d": [
           {
            "line": {
             "colorbar": {
              "outlinewidth": 0,
              "ticks": ""
             }
            },
            "marker": {
             "colorbar": {
              "outlinewidth": 0,
              "ticks": ""
             }
            },
            "type": "scatter3d"
           }
          ],
          "scattercarpet": [
           {
            "marker": {
             "colorbar": {
              "outlinewidth": 0,
              "ticks": ""
             }
            },
            "type": "scattercarpet"
           }
          ],
          "scattergeo": [
           {
            "marker": {
             "colorbar": {
              "outlinewidth": 0,
              "ticks": ""
             }
            },
            "type": "scattergeo"
           }
          ],
          "scattergl": [
           {
            "marker": {
             "colorbar": {
              "outlinewidth": 0,
              "ticks": ""
             }
            },
            "type": "scattergl"
           }
          ],
          "scattermap": [
           {
            "marker": {
             "colorbar": {
              "outlinewidth": 0,
              "ticks": ""
             }
            },
            "type": "scattermap"
           }
          ],
          "scattermapbox": [
           {
            "marker": {
             "colorbar": {
              "outlinewidth": 0,
              "ticks": ""
             }
            },
            "type": "scattermapbox"
           }
          ],
          "scatterpolar": [
           {
            "marker": {
             "colorbar": {
              "outlinewidth": 0,
              "ticks": ""
             }
            },
            "type": "scatterpolar"
           }
          ],
          "scatterpolargl": [
           {
            "marker": {
             "colorbar": {
              "outlinewidth": 0,
              "ticks": ""
             }
            },
            "type": "scatterpolargl"
           }
          ],
          "scatterternary": [
           {
            "marker": {
             "colorbar": {
              "outlinewidth": 0,
              "ticks": ""
             }
            },
            "type": "scatterternary"
           }
          ],
          "surface": [
           {
            "colorbar": {
             "outlinewidth": 0,
             "ticks": ""
            },
            "colorscale": [
             [
              0,
              "#0d0887"
             ],
             [
              0.1111111111111111,
              "#46039f"
             ],
             [
              0.2222222222222222,
              "#7201a8"
             ],
             [
              0.3333333333333333,
              "#9c179e"
             ],
             [
              0.4444444444444444,
              "#bd3786"
             ],
             [
              0.5555555555555556,
              "#d8576b"
             ],
             [
              0.6666666666666666,
              "#ed7953"
             ],
             [
              0.7777777777777778,
              "#fb9f3a"
             ],
             [
              0.8888888888888888,
              "#fdca26"
             ],
             [
              1,
              "#f0f921"
             ]
            ],
            "type": "surface"
           }
          ],
          "table": [
           {
            "cells": {
             "fill": {
              "color": "#EBF0F8"
             },
             "line": {
              "color": "white"
             }
            },
            "header": {
             "fill": {
              "color": "#C8D4E3"
             },
             "line": {
              "color": "white"
             }
            },
            "type": "table"
           }
          ]
         },
         "layout": {
          "annotationdefaults": {
           "arrowcolor": "#2a3f5f",
           "arrowhead": 0,
           "arrowwidth": 1
          },
          "autotypenumbers": "strict",
          "coloraxis": {
           "colorbar": {
            "outlinewidth": 0,
            "ticks": ""
           }
          },
          "colorscale": {
           "diverging": [
            [
             0,
             "#8e0152"
            ],
            [
             0.1,
             "#c51b7d"
            ],
            [
             0.2,
             "#de77ae"
            ],
            [
             0.3,
             "#f1b6da"
            ],
            [
             0.4,
             "#fde0ef"
            ],
            [
             0.5,
             "#f7f7f7"
            ],
            [
             0.6,
             "#e6f5d0"
            ],
            [
             0.7,
             "#b8e186"
            ],
            [
             0.8,
             "#7fbc41"
            ],
            [
             0.9,
             "#4d9221"
            ],
            [
             1,
             "#276419"
            ]
           ],
           "sequential": [
            [
             0,
             "#0d0887"
            ],
            [
             0.1111111111111111,
             "#46039f"
            ],
            [
             0.2222222222222222,
             "#7201a8"
            ],
            [
             0.3333333333333333,
             "#9c179e"
            ],
            [
             0.4444444444444444,
             "#bd3786"
            ],
            [
             0.5555555555555556,
             "#d8576b"
            ],
            [
             0.6666666666666666,
             "#ed7953"
            ],
            [
             0.7777777777777778,
             "#fb9f3a"
            ],
            [
             0.8888888888888888,
             "#fdca26"
            ],
            [
             1,
             "#f0f921"
            ]
           ],
           "sequentialminus": [
            [
             0,
             "#0d0887"
            ],
            [
             0.1111111111111111,
             "#46039f"
            ],
            [
             0.2222222222222222,
             "#7201a8"
            ],
            [
             0.3333333333333333,
             "#9c179e"
            ],
            [
             0.4444444444444444,
             "#bd3786"
            ],
            [
             0.5555555555555556,
             "#d8576b"
            ],
            [
             0.6666666666666666,
             "#ed7953"
            ],
            [
             0.7777777777777778,
             "#fb9f3a"
            ],
            [
             0.8888888888888888,
             "#fdca26"
            ],
            [
             1,
             "#f0f921"
            ]
           ]
          },
          "colorway": [
           "#636efa",
           "#EF553B",
           "#00cc96",
           "#ab63fa",
           "#FFA15A",
           "#19d3f3",
           "#FF6692",
           "#B6E880",
           "#FF97FF",
           "#FECB52"
          ],
          "font": {
           "color": "#2a3f5f"
          },
          "geo": {
           "bgcolor": "white",
           "lakecolor": "white",
           "landcolor": "#E5ECF6",
           "showlakes": true,
           "showland": true,
           "subunitcolor": "white"
          },
          "hoverlabel": {
           "align": "left"
          },
          "hovermode": "closest",
          "mapbox": {
           "style": "light"
          },
          "paper_bgcolor": "white",
          "plot_bgcolor": "#E5ECF6",
          "polar": {
           "angularaxis": {
            "gridcolor": "white",
            "linecolor": "white",
            "ticks": ""
           },
           "bgcolor": "#E5ECF6",
           "radialaxis": {
            "gridcolor": "white",
            "linecolor": "white",
            "ticks": ""
           }
          },
          "scene": {
           "xaxis": {
            "backgroundcolor": "#E5ECF6",
            "gridcolor": "white",
            "gridwidth": 2,
            "linecolor": "white",
            "showbackground": true,
            "ticks": "",
            "zerolinecolor": "white"
           },
           "yaxis": {
            "backgroundcolor": "#E5ECF6",
            "gridcolor": "white",
            "gridwidth": 2,
            "linecolor": "white",
            "showbackground": true,
            "ticks": "",
            "zerolinecolor": "white"
           },
           "zaxis": {
            "backgroundcolor": "#E5ECF6",
            "gridcolor": "white",
            "gridwidth": 2,
            "linecolor": "white",
            "showbackground": true,
            "ticks": "",
            "zerolinecolor": "white"
           }
          },
          "shapedefaults": {
           "line": {
            "color": "#2a3f5f"
           }
          },
          "ternary": {
           "aaxis": {
            "gridcolor": "white",
            "linecolor": "white",
            "ticks": ""
           },
           "baxis": {
            "gridcolor": "white",
            "linecolor": "white",
            "ticks": ""
           },
           "bgcolor": "#E5ECF6",
           "caxis": {
            "gridcolor": "white",
            "linecolor": "white",
            "ticks": ""
           }
          },
          "title": {
           "x": 0.05
          },
          "xaxis": {
           "automargin": true,
           "gridcolor": "white",
           "linecolor": "white",
           "ticks": "",
           "title": {
            "standoff": 15
           },
           "zerolinecolor": "white",
           "zerolinewidth": 2
          },
          "yaxis": {
           "automargin": true,
           "gridcolor": "white",
           "linecolor": "white",
           "ticks": "",
           "title": {
            "standoff": 15
           },
           "zerolinecolor": "white",
           "zerolinewidth": 2
          }
         }
        },
        "title": {
         "font": {
          "size": 16
         },
         "text": "Model Agreement Proportion"
        },
        "width": 400
       }
      }
     },
     "metadata": {},
     "output_type": "display_data"
    }
   ],
   "source": [
    "import plotly.express as px\n",
    "\n",
    "agreement_counts = interactive_df[\"agreement\"].value_counts().sort_index()\n",
    "\n",
    "fig = px.pie(\n",
    "    names=agreement_counts.index,\n",
    "    values=agreement_counts.values,\n",
    "    title=\"Model Agreement Proportion\",\n",
    "    hole=0.4\n",
    ")\n",
    "\n",
    "# Make the figure smaller\n",
    "fig.update_layout(\n",
    "    width=400,\n",
    "    height=400,\n",
    "    title_font_size=16\n",
    ")\n",
    "fig.write_html(BASE_DIR / \"reports/model_agreement_pie_chart.html\")\n",
    "display(fig)"
   ]
  },
  {
   "cell_type": "markdown",
   "id": "d180e741",
   "metadata": {},
   "source": [
    "* The pie chart above illustrates a clear polarization in model agreement: nearly 60% of documents were unanimously predicted as relevant, while about 38% were unanimously deemed irrelevant. ***Only a small fraction—less than 3%***, fell into partial agreement zones (1 or 2 models predicting relevance), underscoring the overall consistency among classifiers. This strong consensus reinforces ***the reliability of the majority vote*** and highlights a narrow band of ambiguity worth closer inspection."
   ]
  },
  {
   "cell_type": "markdown",
   "id": "c4f0801a",
   "metadata": {},
   "source": [
    "### Text Length vs Prediction"
   ]
  },
  {
   "cell_type": "code",
   "execution_count": 9,
   "id": "1872a11c",
   "metadata": {},
   "outputs": [
    {
     "data": {
      "text/plain": [
       "<function IPython.core.display_functions.display(*objs, include=None, exclude=None, metadata=None, transient=None, display_id=None, raw=False, clear=False, **kwargs)>"
      ]
     },
     "execution_count": 9,
     "metadata": {},
     "output_type": "execute_result"
    }
   ],
   "source": [
    "interactive_df[\"Text Length\"] = df_cleaned[\"all_text\"].apply(len)\n",
    "\n",
    "fig = px.box(interactive_df, x=\"majority_vote\", y=\"Text Length\", color=\"majority_vote\")\n",
    "\n",
    "display"
   ]
  },
  {
   "cell_type": "markdown",
   "id": "c9721c5f",
   "metadata": {},
   "source": [
    "* The box plot above reveals a notable trend: documents labeled as irrelevant by the majority vote tend to have significantly longer text lengths, with a wider spread and more extreme outliers. In contrast, relevant documents are generally shorter and more tightly distributed. This suggests that excessive length may dilute topical focus or introduce noise, making relevance harder to detect across models."
   ]
  },
  {
   "cell_type": "markdown",
   "id": "e11e9261",
   "metadata": {},
   "source": [
    "## Majority-Vote Ensemble and Model Insights\n",
    "\n",
    "Our evaluation across three distinct embedding models—Word2Vec, FastText, and SBERT—shows over 97% agreement in classification outcomes. This high concordance validates the reliability of our text-based classifiers and supports the use of a majority-vote ensemble as a robust decision strategy.\n",
    "\n",
    "Disagreements, limited to around 3% of cases, mark ideal targets for manual inspection or active learning, helping to systematically close annotation gaps.\n",
    "\n",
    "SBERT, used here with minimal fine-tuning, adds semantic depth through transfer learning. Its tendency toward conservative (irrelevant) predictions balances the behavior of the simpler models, improving ensemble stability.\n",
    "\n",
    "We also observe that longer texts are more often tagged as irrelevant, suggesting a dilution of signal in verbose narratives. This highlights future directions such as segment-based analysis or hierarchical modeling to better capture relevance cues.\n"
   ]
  },
  {
   "cell_type": "markdown",
   "id": "408f5abb",
   "metadata": {},
   "source": [
    "# Conclusion"
   ]
  },
  {
   "cell_type": "markdown",
   "id": "fdb8d04f",
   "metadata": {},
   "source": [
    "| Model                         | Accuracy | Precision | Recall | F1-Score |\n",
    "|-------------------------------|:--------:|:---------:|:------:|:--------:|\n",
    "| TF-IDF + Logistic Regression  |   0.930   |   0.978    |  **0.880**  |   0.926   |\n",
    "| TF-IDF + Random Forest        |   **0.940**   |   **1**    |  **0.880**  |   **0.936**   |\n",
    "| Word2Vec + Logistic Regression|   0.920   |   0.977    |  0.860  |   0.915   |\n",
    "| FastText + Logistic Regression|   0.930   |   0.979    |  **0.880**  |   0.926   |\n",
    "| SBERT + Logistic Regression   |   0.900   |   0.917    |  **0.880**  |   0.898  \n"
   ]
  },
  {
   "cell_type": "markdown",
   "id": "d189bf13",
   "metadata": {},
   "source": [
    "**Wrapping Up: What We've Learned**\n",
    "\n",
    "After a full journey through modeling experiments, the results speak clearly.\n",
    "\n",
    "**The Best Performer**\n",
    "\n",
    "TF‑IDF combined with Random Forest gave us the strongest performance overall. With 94% accuracy and an F1-score of 0.936, it's a solid, interpretable model that doesn't require complex tuning.\n",
    "\n",
    "**What Other Models Showed**\n",
    "\n",
    "- **Embedding-based methods** like Word2Vec, FastText, and SBERT also performed wellو especially FastText in recall and SBERT in semantic flexibility.  \n",
    "- **TF‑IDF + Logistic Regression** was not far behind the winner, showing that classic approaches still hold value.\n",
    "\n",
    "\n",
    "**Ensemble Strategy**\n",
    "Blending embedding models in a majority-vote ensemble gave us high agreement (>97%). It adds consistency and flags the few ambiguous cases for careful review, an efficient way to improve quality without overcomplicating.\n",
    "  "
   ]
  },
  {
   "cell_type": "markdown",
   "id": "89ad7c00",
   "metadata": {},
   "source": [
    "**Why This Matters**\n",
    "\n",
    "You now have a reliable benchmark and multiple viable paths forward. Whether you prefer simplicity and control, or adaptability and minimal setup, the models here offer both. More importantly, you’ve built a system that doesn’t just make predictions; it teaches you about your data, shows where things get tricky, and helps guide smarter decisions.\n",
    "\n",
    "\n",
    "**What Comes Next**\n",
    "- Use the best-performing model as your go-to for production.  \n",
    "- Shadow it with semantic models to spot meaning-based mismatches.  \n",
    "- Track edge cases using model disagreements to refine labels and training data.\n",
    "\n",
    "---\n",
    "\n",
    "This wraps up the notebook series, not just with numbers, but with clear direction. You've turned exploration into strategy. Onward."
   ]
  }
 ],
 "metadata": {
  "kernelspec": {
   "display_name": ".venv_lf",
   "language": "python",
   "name": "python3"
  },
  "language_info": {
   "codemirror_mode": {
    "name": "ipython",
    "version": 3
   },
   "file_extension": ".py",
   "mimetype": "text/x-python",
   "name": "python",
   "nbconvert_exporter": "python",
   "pygments_lexer": "ipython3",
   "version": "3.12.3"
  }
 },
 "nbformat": 4,
 "nbformat_minor": 5
}
