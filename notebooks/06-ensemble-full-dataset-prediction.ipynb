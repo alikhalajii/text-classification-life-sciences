{
 "cells": [
  {
   "cell_type": "markdown",
   "id": "ee49fe64",
   "metadata": {},
   "source": [
    "# 6. Full-Dataset Inference & Agreement Analysis\n"
   ]
  },
  {
   "cell_type": "markdown",
   "id": "c20e1063",
   "metadata": {},
   "source": [
    "**From Theory to Full-Scale Prediction — A Critical Milestone**\n",
    "\n",
    "In the [previous notebook](https://github.com/alikhalajii/text-classification-life-sciences/blob/master/notebooks/05-training-embedding-models.ipynb), we built the core classifiers that power our inference engine: each trained on clean, labeled slices of app descriptions. Now, we shift gears. We ask the real-world question: _What happens when we unleash these models on **everything**?_\n",
    "\n",
    "Welcome to Notebook 6, where abstraction meets reality.\n",
    "\n",
    "Here, we apply our trio of text-only models (Word2vec, fastText, SBERT) across all 14,000+ unlabeled app descriptions. It's not just a stress test — it's an opportunity to study behavior at scale, pinpoint model agreement zones, and diagnose weaknesses that only emerge in full deployment.\n",
    "\n",
    "By fusing their predictions via a **majority vote**, we create a more balanced, resilient classifier. Think of it less as a final decision-maker and more as a smart filter — helping us triage what's clearly relevant and what deserves human attention.\n",
    "\n",
    "This is more than just prediction; it’s an exploration of model synergy, domain drift, and hidden ambiguity. It's about pushing your pipeline into the wild while keeping a sharp, journalistic eye on what it gets right, where it stumbles, and how we use that to improve.\n",
    "\n",
    "Now let’s get analytic.\n"
   ]
  },
  {
   "cell_type": "markdown",
   "id": "ec365ec3",
   "metadata": {},
   "source": [
    "## 6.1 Predicting Relevance on the Full Dataset\n"
   ]
  },
  {
   "cell_type": "code",
   "execution_count": 1,
   "id": "bbbe201e",
   "metadata": {},
   "outputs": [],
   "source": [
    "%matplotlib inline\n",
    "from IPython.display import display\n",
    "\n",
    "from pathlib import Path\n",
    "BASE_DIR = Path.cwd().parent\n"
   ]
  },
  {
   "cell_type": "code",
   "execution_count": 2,
   "id": "d09c258f",
   "metadata": {},
   "outputs": [
    {
     "name": "stdout",
     "output_type": "stream",
     "text": [
      "\n",
      "==== Running Word2Vec + LR ====\n"
     ]
    },
    {
     "name": "stderr",
     "output_type": "stream",
     "text": [
      "Embedding docs: 100%|█████████████████████████████████████████████████████████████████████████████████████████████████████████████████████████████████████████████████████████████████████████████████████████| 14112/14112 [00:06<00:00, 2187.14it/s]\n"
     ]
    },
    {
     "name": "stdout",
     "output_type": "stream",
     "text": [
      "✅ Word2Vec + LR — Relevant: 8532, Irrelevant: 5580\n",
      "\n",
      "==== Running FastText + LR ====\n"
     ]
    },
    {
     "name": "stderr",
     "output_type": "stream",
     "text": [
      "Embedding docs: 100%|██████████████████████████████████████████████████████████████████████████████████████████████████████████████████████████████████████████████████████████████████████████████████████████| 14112/14112 [00:33<00:00, 423.51it/s]\n"
     ]
    },
    {
     "name": "stdout",
     "output_type": "stream",
     "text": [
      "✅ FastText + LR — Relevant: 8400, Irrelevant: 5712\n",
      "\n",
      "==== Running SBERT + LR ====\n",
      "📦 Loading cached SBERT embeddings...\n",
      "✅ SBERT + LR — Relevant: 8727, Irrelevant: 5385\n",
      "\n",
      "✅ All predictions saved to: /home/khalaji/Coding/text-classification-life-sciences/predictions/06_final_majority_vote_predictions.csv\n"
     ]
    }
   ],
   "source": [
    "import os\n",
    "import re\n",
    "import joblib\n",
    "import string\n",
    "from tqdm import tqdm\n",
    "\n",
    "import numpy as np\n",
    "import pandas as pd\n",
    "\n",
    "from gensim.models import Word2Vec, FastText\n",
    "from sentence_transformers import SentenceTransformer\n",
    "\n",
    "# Load dataset\n",
    "df_cleaned = pd.read_csv(BASE_DIR / \"data/02_df_cleaned_all_text.csv\", encoding='utf-8')\n",
    "texts_all = df_cleaned[\"all_text\"].astype(str)\n",
    "\n",
    "# Tokenizer for W2V / FT\n",
    "def simple_tokenizer(text):\n",
    "    text = text.lower()\n",
    "    text = re.sub(f\"[{re.escape(string.punctuation)}]\", \" \", text)\n",
    "    return text.split()\n",
    "\n",
    "tokens_all = texts_all.apply(simple_tokenizer)\n",
    "\n",
    "# Function to compute doc vectors (W2V / FT)\n",
    "def get_doc_vectors(tokens, model, vec_size):\n",
    "    return np.vstack([\n",
    "        np.mean([model.wv[w] for w in toks if w in model.wv] or [np.zeros(vec_size)], axis=0)\n",
    "        for toks in tqdm(tokens, desc=\"Embedding docs\")\n",
    "    ])\n",
    "\n",
    "# === Embedding-based Models Only ===\n",
    "MODELS = [\n",
    "    {\"name\": \"Word2Vec + LR\", \"embed\": True, \"vec_path\": BASE_DIR / \"checkpoints/word2vec_model.gensim\",  \"clf_path\": BASE_DIR / \"checkpoints/word2vec_lr.pkl\",  \"vector_size\": 100},\n",
    "    {\"name\": \"FastText + LR\", \"embed\": True, \"vec_path\": BASE_DIR / \"checkpoints/fasttext_model.gensim\",  \"clf_path\": BASE_DIR / \"checkpoints/fasttext_lr.pkl\",  \"vector_size\": 100},\n",
    "    {\"name\": \"SBERT + LR\",    \"embed\": False,\"clf_path\": BASE_DIR / \"checkpoints/sbert_lr.pkl\"},\n",
    "]\n",
    "\n",
    "# Run predictions\n",
    "results = {}\n",
    "for model in MODELS:\n",
    "    print(f\"\\n==== Running {model['name']} ====\")\n",
    "    clf = joblib.load(model[\"clf_path\"])\n",
    "\n",
    "    if model[\"embed\"]:\n",
    "        # W2V or FastText\n",
    "        vec_path = str(model[\"vec_path\"])  # Ensure it's a string\n",
    "        vec_model = Word2Vec.load(vec_path) if \"word2vec\" in vec_path else FastText.load(vec_path)\n",
    "        X = get_doc_vectors(tokens_all, vec_model, model[\"vector_size\"])\n",
    "    else:\n",
    "        # SBERT: use cached embeddings\n",
    "        sbert_path = BASE_DIR / \"checkpoints/sbert_embeddings_full.npy\"\n",
    "        if os.path.exists(sbert_path):\n",
    "            print(\"📦 Loading cached SBERT embeddings...\")\n",
    "            X = np.load(sbert_path)\n",
    "        else:\n",
    "            print(\"⚙️  Computing SBERT embeddings (may take time)...\")\n",
    "            sbert = SentenceTransformer(\"all-MiniLM-L6-v2\")\n",
    "            X = sbert.encode(texts_all.tolist(), show_progress_bar=True, batch_size=128)\n",
    "            np.save(sbert_path, X)\n",
    "\n",
    "    y_pred = clf.predict(X)\n",
    "    results[model[\"name\"]] = y_pred\n",
    "\n",
    "    # Save binary label column\n",
    "    col = model[\"name\"].lower().replace(\" \", \"_\").replace(\"+\", \"\").replace(\"(\", \"\").replace(\")\", \"\")\n",
    "    df_cleaned[col] = y_pred.astype(int)\n",
    "\n",
    "    print(f\"✅ {model['name']} — Relevant: {sum(y_pred==1)}, Irrelevant: {sum(y_pred==0)}\")\n",
    "\n",
    "# Majority Voting\n",
    "model_cols = [model[\"name\"].lower().replace(\" \", \"_\").replace(\"+\", \"\").replace(\"(\", \"\").replace(\")\", \"\")\n",
    "              for model in MODELS]\n",
    "df_cleaned[\"majority_vote\"] = df_cleaned[model_cols].sum(axis=1).apply(lambda x: 1 if x >= 2 else 0)\n",
    "#df_cleaned.drop(columns=[\"all_text\"], inplace=True)\n",
    "\n",
    "# Save final predictions\n",
    "output_file = BASE_DIR / \"predictions/06_final_majority_vote_predictions.csv\"\n",
    "df_cleaned.to_csv(output_file, index=False)\n",
    "print(f\"\\n✅ All predictions saved to: {output_file}\")\n"
   ]
  },
  {
   "cell_type": "markdown",
   "id": "6b63c013",
   "metadata": {},
   "source": [
    "With all three models deployed and their predictions consolidated, we pivot from individual relevance assessments to the collective insight offered by the `majority_vote`. This step distills conflicting judgments into a unified verdict; an ensemble voice emerging from diverse linguistic perspectives."
   ]
  },
  {
   "cell_type": "code",
   "execution_count": 3,
   "id": "578f36d5",
   "metadata": {},
   "outputs": [
    {
     "data": {
      "text/html": [
       "<div>\n",
       "<style scoped>\n",
       "    .dataframe tbody tr th:only-of-type {\n",
       "        vertical-align: middle;\n",
       "    }\n",
       "\n",
       "    .dataframe tbody tr th {\n",
       "        vertical-align: top;\n",
       "    }\n",
       "\n",
       "    .dataframe thead th {\n",
       "        text-align: right;\n",
       "    }\n",
       "</style>\n",
       "<table border=\"1\" class=\"dataframe\">\n",
       "  <thead>\n",
       "    <tr style=\"text-align: right;\">\n",
       "      <th></th>\n",
       "      <th>fioriId</th>\n",
       "      <th>word2vec__lr</th>\n",
       "      <th>fasttext__lr</th>\n",
       "      <th>sbert__lr</th>\n",
       "      <th>majority_vote</th>\n",
       "    </tr>\n",
       "  </thead>\n",
       "  <tbody>\n",
       "    <tr>\n",
       "      <th>0</th>\n",
       "      <td>1KE4</td>\n",
       "      <td>0</td>\n",
       "      <td>0</td>\n",
       "      <td>0</td>\n",
       "      <td>0</td>\n",
       "    </tr>\n",
       "    <tr>\n",
       "      <th>1</th>\n",
       "      <td>AB08</td>\n",
       "      <td>1</td>\n",
       "      <td>1</td>\n",
       "      <td>1</td>\n",
       "      <td>1</td>\n",
       "    </tr>\n",
       "    <tr>\n",
       "      <th>2</th>\n",
       "      <td>ABAAL</td>\n",
       "      <td>0</td>\n",
       "      <td>0</td>\n",
       "      <td>0</td>\n",
       "      <td>0</td>\n",
       "    </tr>\n",
       "    <tr>\n",
       "      <th>3</th>\n",
       "      <td>ABAON</td>\n",
       "      <td>1</td>\n",
       "      <td>1</td>\n",
       "      <td>1</td>\n",
       "      <td>1</td>\n",
       "    </tr>\n",
       "    <tr>\n",
       "      <th>4</th>\n",
       "      <td>ABAVN</td>\n",
       "      <td>1</td>\n",
       "      <td>1</td>\n",
       "      <td>1</td>\n",
       "      <td>1</td>\n",
       "    </tr>\n",
       "  </tbody>\n",
       "</table>\n",
       "</div>"
      ],
      "text/plain": [
       "  fioriId  word2vec__lr  fasttext__lr  sbert__lr  majority_vote\n",
       "0    1KE4             0             0          0              0\n",
       "1    AB08             1             1          1              1\n",
       "2   ABAAL             0             0          0              0\n",
       "3   ABAON             1             1          1              1\n",
       "4   ABAVN             1             1          1              1"
      ]
     },
     "execution_count": 3,
     "metadata": {},
     "output_type": "execute_result"
    }
   ],
   "source": [
    "df_cleaned[:5][[\"fioriId\", \"word2vec__lr\", \"fasttext__lr\", \"sbert__lr\", \"majority_vote\"]]"
   ]
  },
  {
   "cell_type": "markdown",
   "id": "776f2801",
   "metadata": {},
   "source": [
    "## 6.2 Analysis of Model Predictions & Agreement\n",
    "\n",
    "To explore how the models aligned or diverged in their relevance predictions, we begin with a quantitative snapshot.\n",
    "\n",
    "### Prediction Volume per Model\n",
    "This overview compares the number of samples classified as relevant and irrelevant by each of the three embedding-based models, alongside the final majority vote. The slight discrepancies between models suggest nuanced interpretive differences, yet the majority vote harmonizes their perspectives into a more stable consensus. This serves as a foundation for deeper agreement analysis in the next steps.\n"
   ]
  },
  {
   "cell_type": "code",
   "execution_count": 4,
   "id": "8a9ec8d7",
   "metadata": {},
   "outputs": [
    {
     "data": {
      "text/html": [
       "<style type=\"text/css\">\n",
       "#T_9ca19_row0_col0 {\n",
       "  background-color: #71c8bd;\n",
       "  color: #000000;\n",
       "}\n",
       "#T_9ca19_row0_col1 {\n",
       "  background-color: #259ac1;\n",
       "  color: #f1f1f1;\n",
       "}\n",
       "#T_9ca19_row0_col2, #T_9ca19_row1_col0, #T_9ca19_row1_col2, #T_9ca19_row2_col1, #T_9ca19_row2_col2 {\n",
       "  background-color: #ffffd9;\n",
       "  color: #000000;\n",
       "}\n",
       "#T_9ca19_row1_col1, #T_9ca19_row2_col0 {\n",
       "  background-color: #081d58;\n",
       "  color: #f1f1f1;\n",
       "}\n",
       "</style>\n",
       "<table id=\"T_9ca19\">\n",
       "  <thead>\n",
       "    <tr>\n",
       "      <th class=\"blank level0\" >&nbsp;</th>\n",
       "      <th id=\"T_9ca19_level0_col0\" class=\"col_heading level0 col0\" >Relevant</th>\n",
       "      <th id=\"T_9ca19_level0_col1\" class=\"col_heading level0 col1\" >Irrelevant</th>\n",
       "      <th id=\"T_9ca19_level0_col2\" class=\"col_heading level0 col2\" >Total</th>\n",
       "    </tr>\n",
       "  </thead>\n",
       "  <tbody>\n",
       "    <tr>\n",
       "      <th id=\"T_9ca19_level0_row0\" class=\"row_heading level0 row0\" >word2vec__lr</th>\n",
       "      <td id=\"T_9ca19_row0_col0\" class=\"data row0 col0\" >8532</td>\n",
       "      <td id=\"T_9ca19_row0_col1\" class=\"data row0 col1\" >5580</td>\n",
       "      <td id=\"T_9ca19_row0_col2\" class=\"data row0 col2\" >14112</td>\n",
       "    </tr>\n",
       "    <tr>\n",
       "      <th id=\"T_9ca19_level0_row1\" class=\"row_heading level0 row1\" >fasttext__lr</th>\n",
       "      <td id=\"T_9ca19_row1_col0\" class=\"data row1 col0\" >8400</td>\n",
       "      <td id=\"T_9ca19_row1_col1\" class=\"data row1 col1\" >5712</td>\n",
       "      <td id=\"T_9ca19_row1_col2\" class=\"data row1 col2\" >14112</td>\n",
       "    </tr>\n",
       "    <tr>\n",
       "      <th id=\"T_9ca19_level0_row2\" class=\"row_heading level0 row2\" >sbert__lr</th>\n",
       "      <td id=\"T_9ca19_row2_col0\" class=\"data row2 col0\" >8727</td>\n",
       "      <td id=\"T_9ca19_row2_col1\" class=\"data row2 col1\" >5385</td>\n",
       "      <td id=\"T_9ca19_row2_col2\" class=\"data row2 col2\" >14112</td>\n",
       "    </tr>\n",
       "  </tbody>\n",
       "</table>\n"
      ],
      "text/plain": [
       "<pandas.io.formats.style.Styler at 0x72c7abfc2b10>"
      ]
     },
     "metadata": {},
     "output_type": "display_data"
    }
   ],
   "source": [
    "summary = pd.DataFrame({\n",
    "    'Relevant':  df_cleaned[model_cols].sum(), \n",
    "    'Irrelevant': df_cleaned.shape[0] - df_cleaned[model_cols].sum()  # total minus count of 1s\n",
    "})\n",
    "\n",
    "summary['Total'] = df_cleaned.shape[0]     \n",
    "\n",
    "display(summary.style.background_gradient(cmap='YlGnBu'))"
   ]
  },
  {
   "cell_type": "markdown",
   "id": "b4d83021",
   "metadata": {},
   "source": [
    "* The prediction volumes across models are broadly consistent, each processing 14,112 samples. Word2Vec and FastText yield similar relevance counts 8535 and 8397 respectively, while SBERT identifies slightly more relevant documents (8727), likely due to its deeper semantic understanding."
   ]
  },
  {
   "cell_type": "markdown",
   "id": "438d0b69",
   "metadata": {},
   "source": [
    "### Model Agreement Count\n"
   ]
  },
  {
   "cell_type": "code",
   "execution_count": 5,
   "id": "8f435e04",
   "metadata": {},
   "outputs": [
    {
     "data": {
      "text/html": [
       "<div>\n",
       "<style scoped>\n",
       "    .dataframe tbody tr th:only-of-type {\n",
       "        vertical-align: middle;\n",
       "    }\n",
       "\n",
       "    .dataframe tbody tr th {\n",
       "        vertical-align: top;\n",
       "    }\n",
       "\n",
       "    .dataframe thead th {\n",
       "        text-align: right;\n",
       "    }\n",
       "</style>\n",
       "<table border=\"1\" class=\"dataframe\">\n",
       "  <thead>\n",
       "    <tr style=\"text-align: right;\">\n",
       "      <th></th>\n",
       "      <th># Models Predicting Relevant</th>\n",
       "      <th>Document Count</th>\n",
       "    </tr>\n",
       "  </thead>\n",
       "  <tbody>\n",
       "    <tr>\n",
       "      <th>0</th>\n",
       "      <td>0</td>\n",
       "      <td>5329</td>\n",
       "    </tr>\n",
       "    <tr>\n",
       "      <th>1</th>\n",
       "      <td>1</td>\n",
       "      <td>295</td>\n",
       "    </tr>\n",
       "    <tr>\n",
       "      <th>2</th>\n",
       "      <td>2</td>\n",
       "      <td>100</td>\n",
       "    </tr>\n",
       "    <tr>\n",
       "      <th>3</th>\n",
       "      <td>3</td>\n",
       "      <td>8388</td>\n",
       "    </tr>\n",
       "  </tbody>\n",
       "</table>\n",
       "</div>"
      ],
      "text/plain": [
       "   # Models Predicting Relevant  Document Count\n",
       "0                             0            5329\n",
       "1                             1             295\n",
       "2                             2             100\n",
       "3                             3            8388"
      ]
     },
     "metadata": {},
     "output_type": "display_data"
    }
   ],
   "source": [
    "# Prepare DataFrame for interactive display\n",
    "interactive_df = df_cleaned[model_cols + [\"majority_vote\"]].copy()\n",
    "\n",
    "# Compute agreement score\n",
    "interactive_df[\"agreement\"] = interactive_df[model_cols].sum(axis=1)\n",
    "\n",
    "\n",
    "agreement_table = interactive_df[\"agreement\"].value_counts().sort_index().reset_index()\n",
    "agreement_table.columns = [\"# Models Predicting Relevant\", \"Document Count\"]\n",
    "\n",
    "display(agreement_table)\n"
   ]
  },
  {
   "cell_type": "markdown",
   "id": "1c10fc81",
   "metadata": {},
   "source": [
    "\n",
    "* The aggreement count table confirms a stark polarization in predictions: 8380 documents were unanimously marked relevant by all three models, while 5327 were unanimously deemed irrelevant. These dominant counts indicate that the classifiers often converge with confidence. However, a small slice, 405 documents, fell into the ambiguous zone with only partial agreement (1 or 2 models predicting relevance). These edge cases may reflect subtler semantic cues or borderline content that challenges the consistency of our classifiers. Exploring these could provide valuable insights for improving ensemble precision and identifying limitations in individual embedding approaches."
   ]
  },
  {
   "cell_type": "markdown",
   "id": "1d65a483",
   "metadata": {},
   "source": [
    "### Correlation Heatmap\n"
   ]
  },
  {
   "cell_type": "code",
   "execution_count": 6,
   "id": "237ca7b3",
   "metadata": {},
   "outputs": [
    {
     "data": {
      "image/png": "[encoded data removed]",
      "text/plain": [
       "<Figure size 640x480 with 2 Axes>"
      ]
     },
     "metadata": {},
     "output_type": "display_data"
    }
   ],
   "source": [
    "import seaborn as sns\n",
    "import matplotlib.pyplot as plt\n",
    "\n",
    "# Correlation of predictions between models\n",
    "corr = df_cleaned[model_cols + [\"majority_vote\"]].corr()\n",
    "sns.heatmap(corr, annot=True, cmap=\"Greens\")\n",
    "plt.title(\"Model Agreement (Correlation Matrix)\")\n",
    "plt.tight_layout()\n",
    "plt.savefig(BASE_DIR / \"plots/model_agreement_correlation_matrix.png\", dpi=150)\n",
    "plt.show()\n"
   ]
  },
  {
   "cell_type": "markdown",
   "id": "0a9ba092",
   "metadata": {},
   "source": [
    "* The visualization above reveals strong predictive alignment among the models. Word2Vec and FastText exhibit near-perfect correlation (0.98), suggesting they interpret relevance similarly—likely due to their shared shallow embedding architecture. SBERT, while still highly correlated (0.95–0.96), introduces subtle semantic distinctions that slightly differentiate its predictions. The majority vote shows robust correlation with all three, confirming its role as a balanced aggregator of model perspectives.\n"
   ]
  },
  {
   "cell_type": "markdown",
   "id": "d7ce1567",
   "metadata": {},
   "source": [
    "### Model Agreement Proportion\n"
   ]
  },
  {
   "cell_type": "code",
   "execution_count": 7,
   "id": "94ee362e",
   "metadata": {},
   "outputs": [
    {
     "data": {
      "application/vnd.plotly.v1+json": {
       "config": {
        "plotlyServerURL": "https://plot.ly"
       },
       "data": [
        {
         "domain": {
          "x": [
           0,
           1
          ],
          "y": [
           0,
           1
          ]
         },
         "hole": 0.4,
         "hovertemplate": "label=%{label}<br>value=%{value}<extra></extra>",
         "labels": {
          "bdata": "AAECAw==",
          "dtype": "i1"
         },
         "legendgroup": "",
         "name": "",
         "showlegend": true,
         "type": "pie",
         "values": {
          "bdata": "0RQnAWQAxCA=",
          "dtype": "i2"
         }
        }
       ],
       "layout": {
        "height": 400,
        "legend": {
         "tracegroupgap": 0
        },
        "template": {
         "data": {
          "bar": [
           {
            "error_x": {
             "color": "#2a3f5f"
            },
            "error_y": {
             "color": "#2a3f5f"
            },
            "marker": {
             "line": {
              "color": "#E5ECF6",
              "width": 0.5
             },
             "pattern": {
              "fillmode": "overlay",
              "size": 10,
              "solidity": 0.2
             }
            },
            "type": "bar"
           }
          ],
          "barpolar": [
           {
            "marker": {
             "line": {
              "color": "#E5ECF6",
              "width": 0.5
             },
             "pattern": {
              "fillmode": "overlay",
              "size": 10,
              "solidity": 0.2
             }
            },
            "type": "barpolar"
           }
          ],
          "carpet": [
           {
            "aaxis": {
             "endlinecolor": "#2a3f5f",
             "gridcolor": "white",
             "linecolor": "white",
             "minorgridcolor": "white",
             "startlinecolor": "#2a3f5f"
            },
            "baxis": {
             "endlinecolor": "#2a3f5f",
             "gridcolor": "white",
             "linecolor": "white",
             "minorgridcolor": "white",
             "startlinecolor": "#2a3f5f"
            },
            "type": "carpet"
           }
          ],
          "choropleth": [
           {
            "colorbar": {
             "outlinewidth": 0,
             "ticks": ""
            },
            "type": "choropleth"
           }
          ],
          "contour": [
           {
            "colorbar": {
             "outlinewidth": 0,
             "ticks": ""
            },
            "colorscale": [
             [
              0,
              "#0d0887"
             ],
             [
              0.1111111111111111,
              "#46039f"
             ],
             [
              0.2222222222222222,
              "#7201a8"
             ],
             [
              0.3333333333333333,
              "#9c179e"
             ],
             [
              0.4444444444444444,
              "#bd3786"
             ],
             [
              0.5555555555555556,
              "#d8576b"
             ],
             [
              0.6666666666666666,
              "#ed7953"
             ],
             [
              0.7777777777777778,
              "#fb9f3a"
             ],
             [
              0.8888888888888888,
              "#fdca26"
             ],
             [
              1,
              "#f0f921"
             ]
            ],
            "type": "contour"
           }
          ],
          "contourcarpet": [
           {
            "colorbar": {
             "outlinewidth": 0,
             "ticks": ""
            },
            "type": "contourcarpet"
           }
          ],
          "heatmap": [
           {
            "colorbar": {
             "outlinewidth": 0,
             "ticks": ""
            },
            "colorscale": [
             [
              0,
              "#0d0887"
             ],
             [
              0.1111111111111111,
              "#46039f"
             ],
             [
              0.2222222222222222,
              "#7201a8"
             ],
             [
              0.3333333333333333,
              "#9c179e"
             ],
             [
              0.4444444444444444,
              "#bd3786"
             ],
             [
              0.5555555555555556,
              "#d8576b"
             ],
             [
              0.6666666666666666,
              "#ed7953"
             ],
             [
              0.7777777777777778,
              "#fb9f3a"
             ],
             [
              0.8888888888888888,
              "#fdca26"
             ],
             [
              1,
              "#f0f921"
             ]
            ],
            "type": "heatmap"
           }
          ],
          "histogram": [
           {
            "marker": {
             "pattern": {
              "fillmode": "overlay",
              "size": 10,
              "solidity": 0.2
             }
            },
            "type": "histogram"
           }
          ],
          "histogram2d": [
           {
            "colorbar": {
             "outlinewidth": 0,
             "ticks": ""
            },
            "colorscale": [
             [
              0,
              "#0d0887"
             ],
             [
              0.1111111111111111,
              "#46039f"
             ],
             [
              0.2222222222222222,
              "#7201a8"
             ],
             [
              0.3333333333333333,
              "#9c179e"
             ],
             [
              0.4444444444444444,
              "#bd3786"
             ],
             [
              0.5555555555555556,
              "#d8576b"
             ],
             [
              0.6666666666666666,
              "#ed7953"
             ],
             [
              0.7777777777777778,
              "#fb9f3a"
             ],
             [
              0.8888888888888888,
              "#fdca26"
             ],
             [
              1,
              "#f0f921"
             ]
            ],
            "type": "histogram2d"
           }
          ],
          "histogram2dcontour": [
           {
            "colorbar": {
             "outlinewidth": 0,
             "ticks": ""
            },
            "colorscale": [
             [
              0,
              "#0d0887"
             ],
             [
              0.1111111111111111,
              "#46039f"
             ],
             [
              0.2222222222222222,
              "#7201a8"
             ],
             [
              0.3333333333333333,
              "#9c179e"
             ],
             [
              0.4444444444444444,
              "#bd3786"
             ],
             [
              0.5555555555555556,
              "#d8576b"
             ],
             [
              0.6666666666666666,
              "#ed7953"
             ],
             [
              0.7777777777777778,
              "#fb9f3a"
             ],
             [
              0.8888888888888888,
              "#fdca26"
             ],
             [
              1,
              "#f0f921"
             ]
            ],
            "type": "histogram2dcontour"
           }
          ],
          "mesh3d": [
           {
            "colorbar": {
             "outlinewidth": 0,
             "ticks": ""
            },
            "type": "mesh3d"
           }
          ],
          "parcoords": [
           {
            "line": {
             "colorbar": {
              "outlinewidth": 0,
              "ticks": ""
             }
            },
            "type": "parcoords"
           }
          ],
          "pie": [
           {
            "automargin": true,
            "type": "pie"
           }
          ],
          "scatter": [
           {
            "fillpattern": {
             "fillmode": "overlay",
             "size": 10,
             "solidity": 0.2
            },
            "type": "scatter"
           }
          ],
          "scatter3d": [
           {
            "line": {
             "colorbar": {
              "outlinewidth": 0,
              "ticks": ""
             }
            },
            "marker": {
             "colorbar": {
              "outlinewidth": 0,
              "ticks": ""
             }
            },
            "type": "scatter3d"
           }
          ],
          "scattercarpet": [
           {
            "marker": {
             "colorbar": {
              "outlinewidth": 0,
              "ticks": ""
             }
            },
            "type": "scattercarpet"
           }
          ],
          "scattergeo": [
           {
            "marker": {
             "colorbar": {
              "outlinewidth": 0,
              "ticks": ""
             }
            },
            "type": "scattergeo"
           }
          ],
          "scattergl": [
           {
            "marker": {
             "colorbar": {
              "outlinewidth": 0,
              "ticks": ""
             }
            },
            "type": "scattergl"
           }
          ],
          "scattermap": [
           {
            "marker": {
             "colorbar": {
              "outlinewidth": 0,
              "ticks": ""
             }
            },
            "type": "scattermap"
           }
          ],
          "scattermapbox": [
           {
            "marker": {
             "colorbar": {
              "outlinewidth": 0,
              "ticks": ""
             }
            },
            "type": "scattermapbox"
           }
          ],
          "scatterpolar": [
           {
            "marker": {
             "colorbar": {
              "outlinewidth": 0,
              "ticks": ""
             }
            },
            "type": "scatterpolar"
           }
          ],
          "scatterpolargl": [
           {
            "marker": {
             "colorbar": {
              "outlinewidth": 0,
              "ticks": ""
             }
            },
            "type": "scatterpolargl"
           }
          ],
          "scatterternary": [
           {
            "marker": {
             "colorbar": {
              "outlinewidth": 0,
              "ticks": ""
             }
            },
            "type": "scatterternary"
           }
          ],
          "surface": [
           {
            "colorbar": {
             "outlinewidth": 0,
             "ticks": ""
            },
            "colorscale": [
             [
              0,
              "#0d0887"
             ],
             [
              0.1111111111111111,
              "#46039f"
             ],
             [
              0.2222222222222222,
              "#7201a8"
             ],
             [
              0.3333333333333333,
              "#9c179e"
             ],
             [
              0.4444444444444444,
              "#bd3786"
             ],
             [
              0.5555555555555556,
              "#d8576b"
             ],
             [
              0.6666666666666666,
              "#ed7953"
             ],
             [
              0.7777777777777778,
              "#fb9f3a"
             ],
             [
              0.8888888888888888,
              "#fdca26"
             ],
             [
              1,
              "#f0f921"
             ]
            ],
            "type": "surface"
           }
          ],
          "table": [
           {
            "cells": {
             "fill": {
              "color": "#EBF0F8"
             },
             "line": {
              "color": "white"
             }
            },
            "header": {
             "fill": {
              "color": "#C8D4E3"
             },
             "line": {
              "color": "white"
             }
            },
            "type": "table"
           }
          ]
         },
         "layout": {
          "annotationdefaults": {
           "arrowcolor": "#2a3f5f",
           "arrowhead": 0,
           "arrowwidth": 1
          },
          "autotypenumbers": "strict",
          "coloraxis": {
           "colorbar": {
            "outlinewidth": 0,
            "ticks": ""
           }
          },
          "colorscale": {
           "diverging": [
            [
             0,
             "#8e0152"
            ],
            [
             0.1,
             "#c51b7d"
            ],
            [
             0.2,
             "#de77ae"
            ],
            [
             0.3,
             "#f1b6da"
            ],
            [
             0.4,
             "#fde0ef"
            ],
            [
             0.5,
             "#f7f7f7"
            ],
            [
             0.6,
             "#e6f5d0"
            ],
            [
             0.7,
             "#b8e186"
            ],
            [
             0.8,
             "#7fbc41"
            ],
            [
             0.9,
             "#4d9221"
            ],
            [
             1,
             "#276419"
            ]
           ],
           "sequential": [
            [
             0,
             "#0d0887"
            ],
            [
             0.1111111111111111,
             "#46039f"
            ],
            [
             0.2222222222222222,
             "#7201a8"
            ],
            [
             0.3333333333333333,
             "#9c179e"
            ],
            [
             0.4444444444444444,
             "#bd3786"
            ],
            [
             0.5555555555555556,
             "#d8576b"
            ],
            [
             0.6666666666666666,
             "#ed7953"
            ],
            [
             0.7777777777777778,
             "#fb9f3a"
            ],
            [
             0.8888888888888888,
             "#fdca26"
            ],
            [
             1,
             "#f0f921"
            ]
           ],
           "sequentialminus": [
            [
             0,
             "#0d0887"
            ],
            [
             0.1111111111111111,
             "#46039f"
            ],
            [
             0.2222222222222222,
             "#7201a8"
            ],
            [
             0.3333333333333333,
             "#9c179e"
            ],
            [
             0.4444444444444444,
             "#bd3786"
            ],
            [
             0.5555555555555556,
             "#d8576b"
            ],
            [
             0.6666666666666666,
             "#ed7953"
            ],
            [
             0.7777777777777778,
             "#fb9f3a"
            ],
            [
             0.8888888888888888,
             "#fdca26"
            ],
            [
             1,
             "#f0f921"
            ]
           ]
          },
          "colorway": [
           "#636efa",
           "#EF553B",
           "#00cc96",
           "#ab63fa",
           "#FFA15A",
           "#19d3f3",
           "#FF6692",
           "#B6E880",
           "#FF97FF",
           "#FECB52"
          ],
          "font": {
           "color": "#2a3f5f"
          },
          "geo": {
           "bgcolor": "white",
           "lakecolor": "white",
           "landcolor": "#E5ECF6",
           "showlakes": true,
           "showland": true,
           "subunitcolor": "white"
          },
          "hoverlabel": {
           "align": "left"
          },
          "hovermode": "closest",
          "mapbox": {
           "style": "light"
          },
          "paper_bgcolor": "white",
          "plot_bgcolor": "#E5ECF6",
          "polar": {
           "angularaxis": {
            "gridcolor": "white",
            "linecolor": "white",
            "ticks": ""
           },
           "bgcolor": "#E5ECF6",
           "radialaxis": {
            "gridcolor": "white",
            "linecolor": "white",
            "ticks": ""
           }
          },
          "scene": {
           "xaxis": {
            "backgroundcolor": "#E5ECF6",
            "gridcolor": "white",
            "gridwidth": 2,
            "linecolor": "white",
            "showbackground": true,
            "ticks": "",
            "zerolinecolor": "white"
           },
           "yaxis": {
            "backgroundcolor": "#E5ECF6",
            "gridcolor": "white",
            "gridwidth": 2,
            "linecolor": "white",
            "showbackground": true,
            "ticks": "",
            "zerolinecolor": "white"
           },
           "zaxis": {
            "backgroundcolor": "#E5ECF6",
            "gridcolor": "white",
            "gridwidth": 2,
            "linecolor": "white",
            "showbackground": true,
            "ticks": "",
            "zerolinecolor": "white"
           }
          },
          "shapedefaults": {
           "line": {
            "color": "#2a3f5f"
           }
          },
          "ternary": {
           "aaxis": {
            "gridcolor": "white",
            "linecolor": "white",
            "ticks": ""
           },
           "baxis": {
            "gridcolor": "white",
            "linecolor": "white",
            "ticks": ""
           },
           "bgcolor": "#E5ECF6",
           "caxis": {
            "gridcolor": "white",
            "linecolor": "white",
            "ticks": ""
           }
          },
          "title": {
           "x": 0.05
          },
          "xaxis": {
           "automargin": true,
           "gridcolor": "white",
           "linecolor": "white",
           "ticks": "",
           "title": {
            "standoff": 15
           },
           "zerolinecolor": "white",
           "zerolinewidth": 2
          },
          "yaxis": {
           "automargin": true,
           "gridcolor": "white",
           "linecolor": "white",
           "ticks": "",
           "title": {
            "standoff": 15
           },
           "zerolinecolor": "white",
           "zerolinewidth": 2
          }
         }
        },
        "title": {
         "font": {
          "size": 16
         },
         "text": "Model Agreement Proportion"
        },
        "width": 400
       }
      },
      "image/png": "[encoded data removed]"
     },
     "metadata": {},
     "output_type": "display_data"
    }
   ],
   "source": [
    "import plotly.express as px\n",
    "\n",
    "agreement_counts = interactive_df[\"agreement\"].value_counts().sort_index()\n",
    "\n",
    "fig = px.pie(\n",
    "    names=agreement_counts.index,\n",
    "    values=agreement_counts.values,\n",
    "    title=\"Model Agreement Proportion\",\n",
    "    hole=0.4\n",
    ")\n",
    "\n",
    "# Make the figure smaller\n",
    "fig.update_layout(\n",
    "    width=400,\n",
    "    height=400,\n",
    "    title_font_size=16\n",
    ")\n",
    "fig.write_html(BASE_DIR / \"reports/model_agreement_pie_chart.html\", include_plotlyjs=\"cdn\")\n",
    "display(fig)"
   ]
  },
  {
   "cell_type": "markdown",
   "id": "d180e741",
   "metadata": {},
   "source": [
    "* The pie chart above illustrates a clear polarization in model agreement: nearly 60% of documents were unanimously predicted as relevant, while about 38% were unanimously deemed irrelevant. ***Only a small fraction—less than 3%***, fell into partial agreement zones (1 or 2 models predicting relevance), underscoring the overall consistency among classifiers. This strong consensus reinforces ***the reliability of the majority vote*** and highlights a narrow band of ambiguity worth closer inspection."
   ]
  },
  {
   "cell_type": "markdown",
   "id": "c4f0801a",
   "metadata": {},
   "source": [
    "### Text Length vs Prediction"
   ]
  },
  {
   "cell_type": "code",
   "execution_count": 8,
   "id": "1872a11c",
   "metadata": {},
   "outputs": [
    {
     "data": {
      "application/vnd.plotly.v1+json": {
       "config": {
        "plotlyServerURL": "https://plot.ly"
       },
       "data": [
        {
         "alignmentgroup": "True",
         "hovertemplate": "majority_vote=%{x}<br>Text Length=%{y}<extra></extra>",
         "legendgroup": "0",
         "marker": {
          "color": "#636efa"
         },
         "name": "0",
         "notched": false,
         "offsetgroup": "0",
         "orientation": "v",
         "showlegend": true,
         "type": "box",
         "x": {
          "bdata": "AAAAAAAAAAAAAAAAAAAAAAAAAAAAAAAAAAAAAAAAAAAAAAAAAAAAAAAAAAAAAAAAAAAAAAAAAAAAAAAAAAAAAAAAAAAAAAAAAAAAAAAAAAAAAAAAAAAAAAAAAAAAAAAAAAAAAAAAAAAAAAAAAAAAAAAAAAAAAAAAAAAAAAAAAAAAAAAAAAAAAAAAAAAAAAAAAAAAAAAAAAAAAAAAAAAAAAAAAAAAAAAAAAAAAAAAAAAAAAAAAAAAAAAAAAAAAAAAAAAAAAAAAAAAAAAAAAAAAAAAAAAAAAAAAAAAAAAAAAAAAAAAAAAAAAAAAAAAAAAAAAAAAAAAAAAAAAAAAAAAAAAAAAAAAAAAAAAAAAAAAAAAAAAAAAAAAAAAAAAAAAAAAAAAAAAAAAAAAAAAAAAAAAAAAAAAAAAAAAAAAAAAAAAAAAAAAAAAAAAAAAAAAAAAAAAAAAAAAAAAAAAAAAAAAAAAAAAAAAAAAAAAAAAAAAAAAAAAAAAAAAAAAAAAAAAAAAAAAAAAAAAAAAAAAAAAAAAAAAAAAAAAAAAAAAAAAAAAAAAAAAAAAAAAAAAAAAAAAAAAAAAAAAAAAAAAAAAAAAAAAAAAAAAAAAAAAAAAAAAAAAAAAAAAAAAAAAAAAAAAAAAAAAAAAAAAAAAAAAAAAAAAAAAAAAAAAAAAAAAAAAAAAAAAAAAAAAAAAAAAAAAAAAAAAAAAAAAAAAAAAAAAAAAAAAAAAAAAAAAAAAAAAAAAAAAAAAAAAAAAAAAAAAAAAAAAAAAAAAAAAAAAAAAAAAAAAAAAAAAAAAAAAAAAAAAAAAAAAAAAAAAAAAAAAAAAAAAAAAAAAAAAAAAAAAAAAAAAAAAAAAAAAAAAAAAAAAAAAAAAAAAAAAAAAAAAAAAAAAAAAAAAAAAAAAAAAAAAAAAAAAAAAAAAAAAAAAAAAAAAAAAAAAAAAAAAAAAAAAAAAAAAAAAAAAAAAAAAAAAAAAAAAAAAAAAAAAAAAAAAAAAAAAAAAAAAAAAAAAAAAAAAAAAAAAAAAAAAAAAAAAAAAAAAAAAAAAAAAAAAAAAAAAAAAAAAAAAAAAAAAAAAAAAAAAAAAAAAAAAAAAAAAAAAAAAAAAAAAAAAAAAAAAAAAAAAAAAAAAAAAAAAAAAAAAAAAAAAAAAAAAAAAAAAAAAAAAAAAAAAAAAAAAAAAAAAAAAAAAAAAAAAAAAAAAAAAAAAAAAAAAAAAAAAAAAAAAAAAAAAAAAAAAAAAAAAAAAAAAAAAAAAAAAAAAAAAAAAAAAAAAAAAAAAAAAAAAAAAAAAAAAAAAAAAAAAAAAAAAAAAAAAAAAAAAAAAAAAAAAAAAAAAAAAAAAAAAAAAAAAAAAAAAAAAAAAAAAAAAAAAAAAAAAAAAAAAAAAAAAAAAAAAAAAAAAAAAAAAAAAAAAAAAAAAAAAAAAAAAAAAAAAAAAAAAAAAAAAAAAAAAAAAAAAAAAAAAAAAAAAAAAAAAAAAAAAAAAAAAAAAAAAAAAAAAAAAAAAAAAAAAAAAAAAAAAAAAAAAAAAAAAAAAAAAAAAAAAAAAAAAAAAAAAAAAAAAAAAAAAAAAAAAAAAAAAAAAAAAAAAAAAAAAAAAAAAAAAAAAAAAAAAAAAAAAAAAAAAAAAAAAAAAAAAAAAAAAAAAAAAAAAAAAAAAAAAAAAAAAAAAAAAAAAAAAAAAAAAAAAAAAAAAAAAAAAAAAAAAAAAAAAAAAAAAAAAAAAAAAAAAAAAAAAAAAAAAAAAAAAAAAAAAAAAAAAAAAAAAAAAAAAAAAAAAAAAAAAAAAAAAAAAAAAAAAAAAAAAAAAAAAAAAAAAAAAAAAAAAAAAAAAAAAAAAAAAAAAAAAAAAAAAAAAAAAAAAAAAAAAAAAAAAAAAAAAAAAAAAAAAAAAAAAAAAAAAAAAAAAAAAAAAAAAAAAAAAAAAAAAAAAAAAAAAAAAAAAAAAAAAAAAAAAAAAAAAAAAAAAAAAAAAAAAAAAAAAAAAAAAAAAAAAAAAAAAAAAAAAAAAAAAAAAAAAAAAAAAAAAAAAAAAAAAAAAAAAAAAAAAAAAAAAAAAAAAAAAAAAAAAAAAAAAAAAAAAAAAAAAAAAAAAAAAAAAAAAAAAAAAAAAAAAAAAAAAAAAAAAAAAAAAAAAAAAAAAAAAAAAAAAAAAAAAAAAAAAAAAAAAAAAAAAAAAAAAAAAAAAAAAAAAAAAAAAAAAAAAAAAAAAAAAAAAAAAAAAAAAAAAAAAAAAAAAAAAAAAAAAAAAAAAAAAAAAAAAAAAAAAAAAAAAAAAAAAAAAAAAAAAAAAAAAAAAAAAAAAAAAAAAAAAAAAAAAAAAAAAAAAAAAAAAAAAAAAAAAAAAAAAAAAAAAAAAAAAAAAAAAAAAAAAAAAAAAAAAAAAAAAAAAAAAAAAAAAAAAAAAAAAAAAAAAAAAAAAAAAAAAAAAAAAAAAAAAAAAAAAAAAAAAAAAAAAAAAAAAAAAAAAAAAAAAAAAAAAAAAAAAAAAAAAAAAAAAAAAAAAAAAAAAAAAAAAAAAAAAAAAAAAAAAAAAAAAAAAAAAAAAAAAAAAAAAAAAAAAAAAAAAAAAAAAAAAAAAAAAAAAAAAAAAAAAAAAAAAAAAAAAAAAAAAAAAAAAAAAAAAAAAAAAAAAAAAAAAAAAAAAAAAAAAAAAAAAAAAAAAAAAAAAAAAAAAAAAAAAAAAAAAAAAAAAAAAAAAAAAAAAAAAAAAAAAAAAAAAAAAAAAAAAAAAAAAAAAAAAAAAAAAAAAAAAAAAAAAAAAAAAAAAAAAAAAAAAAAAAAAAAAAAAAAAAAAAAAAAAAAAAAAAAAAAAAAAAAAAAAAAAAAAAAAAAAAAAAAAAAAAAAAAAAAAAAAAAAAAAAAAAAAAAAAAAAAAAAAAAAAAAAAAAAAAAAAAAAAAAAAAAAAAAAAAAAAAAAAAAAAAAAAAAAAAAAAAAAAAAAAAAAAAAAAAAAAAAAAAAAAAAAAAAAAAAAAAAAAAAAAAAAAAAAAAAAAAAAAAAAAAAAAAAAAAAAAAAAAAAAAAAAAAAAAAAAAAAAAAAAAAAAAAAAAAAAAAAAAAAAAAAAAAAAAAAAAAAAAAAAAAAAAAAAAAAAAAAAAAAAAAAAAAAAAAAAAAAAAAAAAAAAAAAAAAAAAAAAAAAAAAAAAAAAAAAAAAAAAAAAAAAAAAAAAAAAAAAAAAAAAAAAAAAAAAAAAAAAAAAAAAAAAAAAAAAAAAAAAAAAAAAAAAAAAAAAAAAAAAAAAAAAAAAAAAAAAAAAAAAAAAAAAAAAAAAAAAAAAAAAAAAAAAAAAAAAAAAAAAAAAAAAAAAAAAAAAAAAAAAAAAAAAAAAAAAAAAAAAAAAAAAAAAAAAAAAAAAAAAAAAAAAAAAAAAAAAAAAAAAAAAAAAAAAAAAAAAAAAAAAAAAAAAAAAAAAAAAAAAAAAAAAAAAAAAAAAAAAAAAAAAAAAAAAAAAAAAAAAAAAAAAAAAAAAAAAAAAAAAAAAAAAAAAAAAAAAAAAAAAAAAAAAAAAAAAAAAAAAAAAAAAAAAAAAAAAAAAAAAAAAAAAAAAAAAAAAAAAAAAAAAAAAAAAAAAAAAAAAAAAAAAAAAAAAAAAAAAAAAAAAAAAAAAAAAAAAAAAAAAAAAAAAAAAAAAAAAAAAAAAAAAAAAAAAAAAAAAAAAAAAAAAAAAAAAAAAAAAAAAAAAAAAAAAAAAAAAAAAAAAAAAAAAAAAAAAAAAAAAAAAAAAAAAAAAAAAAAAAAAAAAAAAAAAAAAAAAAAAAAAAAAAAAAAAAAAAAAAAAAAAAAAAAAAAAAAAAAAAAAAAAAAAAAAAAAAAAAAAAAAAAAAAAAAAAAAAAAAAAAAAAAAAAAAAAAAAAAAAAAAAAAAAAAAAAAAAAAAAAAAAAAAAAAAAAAAAAAAAAAAAAAAAAAAAAAAAAAAAAAAAAAAAAAAAAAAAAAAAAAAAAAAAAAAAAAAAAAAAAAAAAAAAAAAAAAAAAAAAAAAAAAAAAAAAAAAAAAAAAAAAAAAAAAAAAAAAAAAAAAAAAAAAAAAAAAAAAAAAAAAAAAAAAAAAAAAAAAAAAAAAAAAAAAAAAAAAAAAAAAAAAAAAAAAAAAAAAAAAAAAAAAAAAAAAAAAAAAAAAAAAAAAAAAAAAAAAAAAAAAAAAAAAAAAAAAAAAAAAAAAAAAAAAAAAAAAAAAAAAAAAAAAAAAAAAAAAAAAAAAAAAAAAAAAAAAAAAAAAAAAAAAAAAAAAAAAAAAAAAAAAAAAAAAAAAAAAAAAAAAAAAAAAAAAAAAAAAAAAAAAAAAAAAAAAAAAAAAAAAAAAAAAAAAAAAAAAAAAAAAAAAAAAAAAAAAAAAAAAAAAAAAAAAAAAAAAAAAAAAAAAAAAAAAAAAAAAAAAAAAAAAAAAAAAAAAAAAAAAAAAAAAAAAAAAAAAAAAAAAAAAAAAAAAAAAAAAAAAAAAAAAAAAAAAAAAAAAAAAAAAAAAAAAAAAAAAAAAAAAAAAAAAAAAAAAAAAAAAAAAAAAAAAAAAAAAAAAAAAAAAAAAAAAAAAAAAAAAAAAAAAAAAAAAAAAAAAAAAAAAAAAAAAAAAAAAAAAAAAAAAAAAAAAAAAAAAAAAAAAAAAAAAAAAAAAAAAAAAAAAAAAAAAAAAAAAAAAAAAAAAAAAAAAAAAAAAAAAAAAAAAAAAAAAAAAAAAAAAAAAAAAAAAAAAAAAAAAAAAAAAAAAAAAAAAAAAAAAAAAAAAAAAAAAAAAAAAAAAAAAAAAAAAAAAAAAAAAAAAAAAAAAAAAAAAAAAAAAAAAAAAAAAAAAAAAAAAAAAAAAAAAAAAAAAAAAAAAAAAAAAAAAAAAAAAAAAAAAAAAAAAAAAAAAAAAAAAAAAAAAAAAAAAAAAAAAAAAAAAAAAAAAAAAAAAAAAAAAAAAAAAAAAAAAAAAAAAAAAAAAAAAAAAAAAAAAAAAAAAAAAAAAAAAAAAAAAAAAAAAAAAAAAAAAAAAAAAAAAAAAAAAAAAAAAAAAAAAAAAAAAAAAAAAAAAAAAAAAAAAAAAAAAAAAAAAAAAAAAAAAAAAAAAAAAAAAAAAAAAAAAAAAAAAAAAAAAAAAAAAAAAAAAAAAAAAAAAAAAAAAAAAAAAAAAAAAAAAAAAAAAAAAAAAAAAAAAAAAAAAAAAAAAAAAAAAAAAAAAAAAAAAAAAAAAAAAAAAAAAAAAAAAAAAAAAAAAAAAAAAAAAAAAAAAAAAAAAAAAAAAAAAAAAAAAAAAAAAAAAAAAAAAAAAAAAAAAAAAAAAAAAAAAAAAAAAAAAAAAAAAAAAAAAAAAAAAAAAAAAAAAAAAAAAAAAAAAAAAAAAAAAAAAAAAAAAAAAAAAAAAAAAAAAAAAAAAAAAAAAAAAAAAAAAAAAAAAAAAAAAAAAAAAAAAAAAAAAAAAAAAAAAAAAAAAAAAAAAAAAAAAAAAAAAAAAAAAAAAAAAAAAAAAAAAAAAAAAAAAAAAAAAAAAAAAAAAAAAAAAAAAAAAAAAAAAAAAAAAAAAAAAAAAAAAAAAAAAAAAAAAAAAAAAAAAAAAAAAAAAAAAAAAAAAAAAAAAAAAAAAAAAAAAAAAAAAAAAAAAAAAAAAAAAAAAAAAAAAAAAAAAAAAAAAAAAAAAAAAAAAAAAAAAAAAAAAAAAAAAAAAAAAAAAAAAAAAAAAAAAAAAAAAAAAAAAAAAAAAAAAAAAAAAAAAAAAAAAAAAAAAAAAAAAAAAAAAAAAAAAAAAAAAAAAAAAAAAAAAAAAAAAAAAAAAAAAAAAAAAAAAAAAAAAAAAAAAAAAAAAAAAAAAAAAAAAAAAAAAAAAAAAAAAAAAAAAAAAAAAAAAAAAAAAAAAAAAAAAAAAAAAAAAAAAAAAAAAAAAAAAAAAAAAAAAAAAAAAAAAAAAAAAAAAAAAAAAAAAAAAAAAAAAAAAAAAAAAAAAAAAAAAAAAAAAAAAAAAAAAAAAAAAAAAAAAAAAAAAAAAAAAAAAAAAAAAAAAAAAAAAAAAAAAAAAAAAAAAAAAAAAAAAAAAAAAAAAAAAAAAAAAAAAAAAAAAAAAAAAAAAAAAAAAAAAAAAAAAAAAAAAAAAAAAAAAAAAAAAAAAAAAAAAAAAAAAAAAAAAAAAAAAAAAAAAAAAAAAAAAAAAAAAAAAAAAAAAAAAAAAAAAAAAAAAAAAAAAAAAAAAAAAAAAAAAAAAAAAAAAAAAAAAAAAAAAAAAAAAAAAAAAAAAAAAAAAAAAAAAAAAAAAAAAAAAAAAAAAAAAAAAAAAAAAAAAAAAAAAAAAAAAAAAAAAAAAAAAAAAAAAAAAAAAAAAAAAAAAAAAAAAAAAAAAAAAAAAAAAAAAAAAAAAAAAAAAAAAAAAAAAAAAAAAAAAAAAAAAAAAAAAAAAAAAAAAAAAAAAAAAAAAAAAAAAAAAAAAAAAAAAAAAAAAAAAAAAAAAAAAAAAAAAAAAAAAAAAAAAAAAAAAAAAAAAAAAAAAAAAAAAAAAAAAAAAAAAAAAAAAAAAAAAAAAAAAAAAAAAAAAAAAAAAAAAAAAAAAAAAAAAAAAAAAAAAAAAAAAAAAAAAAAAAAAAAAAAAAAAAAAAAAAAAAAAAAAAAAAAAAAAAAAAAAAAAAAAAAAAAAAAAAAAAAAAAAAAAAAAAAAAAAAAAAAAAAAAAAAAAAAAAAAAAAAAAAAAAAAAAAAAAAAAAAAAAAAAAAAAAAAAAAAAAAAAAAAAAAAAAAAAAAAAAAAAAAAAAAAAAAAAAAAAAAAAAAAAAAAAAAAAAAAAAAAAAAAAAAAAAAAAAAAAAAAAAAAAAAAAAAAAAAAAAAAAAAAAAAAAAAAAAAAAAAAAAAAAAAAAAAAAAAAAAAAAAAAAAAAAAAAAAAAAAAAAAAAAAAAAAAAAAAAAAAAAAAAAAAAAAAAAAAAAAAAAAAAAAAAAAAAAAAAAAAAAAAAAAAAAAAAAAAAAAAAAAAAAAAAAAAAAAAAAAAAAAAAAAAAAAAAAAAAAAAAAAAAAAAAAAAAAAAAAAAAAAAAAAAAAAAAAAAAAAAAAAAAAAAAAAAAAAAAAAAAAAAAAAAAAAAAAAAAAAAAAAAAAAAAAAAAAAAAAAAAAAAAAAAAAAAAAAAAAAAAAAAAAAAAAAAAAAAAAAAAAAAAAAAAAAAAAAAAAAAAAAAAAAAAAAAAAAAAAAAAAAAAAAAAAAAAAAAAAAAAAAAAAAAAAAAAAAAAAAAAAAAAAAAAAAAAAAAAAAAAAAAAAAAAAAAAAAAAAAAAAAAAAAAAAAAAAAAAAAAAAAAAAAAAAAAAAAAAAAAAAAAAAAAAAAAAAAAAAAAAAAAAAAAAAAAAAAAAAAAAAAAAAAAAAAAAAAAAAAAAAAAAAAAAAAAAAAAAAAAAAAAAAAAAAAAAAAAAAAAAAAAAAAAAAAAAAAAAAAAAAAAAAAAAAAAAAAAAAAAAAAAAAAAAAAAAAAAAAAAAAAAAAAAAAAAAAAAAAAAAAAAAAAAAAAAAAAAAAAAAAAAAAAAAAAAAAAAAAAAAA=",
          "dtype": "i1"
         },
         "x0": " ",
         "xaxis": "x",
         "y": {
          "bdata": "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",
          "dtype": "i4"
         },
         "y0": " ",
         "yaxis": "y"
        },
        {
         "alignmentgroup": "True",
         "hovertemplate": "majority_vote=%{x}<br>Text Length=%{y}<extra></extra>",
         "legendgroup": "1",
         "marker": {
          "color": "#EF553B"
         },
         "name": "1",
         "notched": false,
         "offsetgroup": "1",
         "orientation": "v",
         "showlegend": true,
         "type": "box",
         "x": {
          "bdata": "AQEBAQEBAQEBAQEBAQEBAQEBAQEBAQEBAQEBAQEBAQEBAQEBAQEBAQEBAQEBAQEBAQEBAQEBAQEBAQEBAQEBAQEBAQEBAQEBAQEBAQEBAQEBAQEBAQEBAQEBAQEBAQEBAQEBAQEBAQEBAQEBAQEBAQEBAQEBAQEBAQEBAQEBAQEBAQEBAQEBAQEBAQEBAQEBAQEBAQEBAQEBAQEBAQEBAQEBAQEBAQEBAQEBAQEBAQEBAQEBAQEBAQEBAQEBAQEBAQEBAQEBAQEBAQEBAQEBAQEBAQEBAQEBAQEBAQEBAQEBAQEBAQEBAQEBAQEBAQEBAQEBAQEBAQEBAQEBAQEBAQEBAQEBAQEBAQEBAQEBAQEBAQEBAQEBAQEBAQEBAQEBAQEBAQEBAQEBAQEBAQEBAQEBAQEBAQEBAQEBAQEBAQEBAQEBAQEBAQEBAQEBAQEBAQEBAQEBAQEBAQEBAQEBAQEBAQEBAQEBAQEBAQEBAQEBAQEBAQEBAQEBAQEBAQEBAQEBAQEBAQEBAQEBAQEBAQEBAQEBAQEBAQEBAQEBAQEBAQEBAQEBAQEBAQEBAQEBAQEBAQEBAQEBAQEBAQEBAQEBAQEBAQEBAQEBAQEBAQEBAQEBAQEBAQEBAQEBAQEBAQEBAQEBAQEBAQEBAQEBAQEBAQEBAQEBAQEBAQEBAQEBAQEBAQEBAQEBAQEBAQEBAQEBAQEBAQEBAQEBAQEBAQEBAQEBAQEBAQEBAQEBAQEBAQEBAQEBAQEBAQEBAQEBAQEBAQEBAQEBAQEBAQEBAQEBAQEBAQEBAQEBAQEBAQEBAQEBAQEBAQEBAQEBAQEBAQEBAQEBAQEBAQEBAQEBAQEBAQEBAQEBAQEBAQEBAQEBAQEBAQEBAQEBAQEBAQEBAQEBAQEBAQEBAQEBAQEBAQEBAQEBAQEBAQEBAQEBAQEBAQEBAQEBAQEBAQEBAQEBAQEBAQEBAQEBAQEBAQEBAQEBAQEBAQEBAQEBAQEBAQEBAQEBAQEBAQEBAQEBAQEBAQEBAQEBAQEBAQEBAQEBAQEBAQEBAQEBAQEBAQEBAQEBAQEBAQEBAQEBAQEBAQEBAQEBAQEBAQEBAQEBAQEBAQEBAQEBAQEBAQEBAQEBAQEBAQEBAQEBAQEBAQEBAQEBAQEBAQEBAQEBAQEBAQEBAQEBAQEBAQEBAQEBAQEBAQEBAQEBAQEBAQEBAQEBAQEBAQEBAQEBAQEBAQEBAQEBAQEBAQEBAQEBAQEBAQEBAQEBAQEBAQEBAQEBAQEBAQEBAQEBAQEBAQEBAQEBAQEBAQEBAQEBAQEBAQEBAQEBAQEBAQEBAQEBAQEBAQEBAQEBAQEBAQEBAQEBAQEBAQEBAQEBAQEBAQEBAQEBAQEBAQEBAQEBAQEBAQEBAQEBAQEBAQEBAQEBAQEBAQEBAQEBAQEBAQEBAQEBAQEBAQEBAQEBAQEBAQEBAQEBAQEBAQEBAQEBAQEBAQEBAQEBAQEBAQEBAQEBAQEBAQEBAQEBAQEBAQEBAQEBAQEBAQEBAQEBAQEBAQEBAQEBAQEBAQEBAQEBAQEBAQEBAQEBAQEBAQEBAQEBAQEBAQEBAQEBAQEBAQEBAQEBAQEBAQEBAQEBAQEBAQEBAQEBAQEBAQEBAQEBAQEBAQEBAQEBAQEBAQEBAQEBAQEBAQEBAQEBAQEBAQEBAQEBAQEBAQEBAQEBAQEBAQEBAQEBAQEBAQEBAQEBAQEBAQEBAQEBAQEBAQEBAQEBAQEBAQEBAQEBAQEBAQEBAQEBAQEBAQEBAQEBAQEBAQEBAQEBAQEBAQEBAQEBAQEBAQEBAQEBAQEBAQEBAQEBAQEBAQEBAQEBAQEBAQEBAQEBAQEBAQEBAQEBAQEBAQEBAQEBAQEBAQEBAQEBAQEBAQEBAQEBAQEBAQEBAQEBAQEBAQEBAQEBAQEBAQEBAQEBAQEBAQEBAQEBAQEBAQEBAQEBAQEBAQEBAQEBAQEBAQEBAQEBAQEBAQEBAQEBAQEBAQEBAQEBAQEBAQEBAQEBAQEBAQEBAQEBAQEBAQEBAQEBAQEBAQEBAQEBAQEBAQEBAQEBAQEBAQEBAQEBAQEBAQEBAQEBAQEBAQEBAQEBAQEBAQEBAQEBAQEBAQEBAQEBAQEBAQEBAQEBAQEBAQEBAQEBAQEBAQEBAQEBAQEBAQEBAQEBAQEBAQEBAQEBAQEBAQEBAQEBAQEBAQEBAQEBAQEBAQEBAQEBAQEBAQEBAQEBAQEBAQEBAQEBAQEBAQEBAQEBAQEBAQEBAQEBAQEBAQEBAQEBAQEBAQEBAQEBAQEBAQEBAQEBAQEBAQEBAQEBAQEBAQEBAQEBAQEBAQEBAQEBAQEBAQEBAQEBAQEBAQEBAQEBAQEBAQEBAQEBAQEBAQEBAQEBAQEBAQEBAQEBAQEBAQEBAQEBAQEBAQEBAQEBAQEBAQEBAQEBAQEBAQEBAQEBAQEBAQEBAQEBAQEBAQEBAQEBAQEBAQEBAQEBAQEBAQEBAQEBAQEBAQEBAQEBAQEBAQEBAQEBAQEBAQEBAQEBAQEBAQEBAQEBAQEBAQEBAQEBAQEBAQEBAQEBAQEBAQEBAQEBAQEBAQEBAQEBAQEBAQEBAQEBAQEBAQEBAQEBAQEBAQEBAQEBAQEBAQEBAQEBAQEBAQEBAQEBAQEBAQEBAQEBAQEBAQEBAQEBAQEBAQEBAQEBAQEBAQEBAQEBAQEBAQEBAQEBAQEBAQEBAQEBAQEBAQEBAQEBAQEBAQEBAQEBAQEBAQEBAQEBAQEBAQEBAQEBAQEBAQEBAQEBAQEBAQEBAQEBAQEBAQEBAQEBAQEBAQEBAQEBAQEBAQEBAQEBAQEBAQEBAQEBAQEBAQEBAQEBAQEBAQEBAQEBAQEBAQEBAQEBAQEBAQEBAQEBAQEBAQEBAQEBAQEBAQEBAQEBAQEBAQEBAQEBAQEBAQEBAQEBAQEBAQEBAQEBAQEBAQEBAQEBAQEBAQEBAQEBAQEBAQEBAQEBAQEBAQEBAQEBAQEBAQEBAQEBAQEBAQEBAQEBAQEBAQEBAQEBAQEBAQEBAQEBAQEBAQEBAQEBAQEBAQEBAQEBAQEBAQEBAQEBAQEBAQEBAQEBAQEBAQEBAQEBAQEBAQEBAQEBAQEBAQEBAQEBAQEBAQEBAQEBAQEBAQEBAQEBAQEBAQEBAQEBAQEBAQEBAQEBAQEBAQEBAQEBAQEBAQEBAQEBAQEBAQEBAQEBAQEBAQEBAQEBAQEBAQEBAQEBAQEBAQEBAQEBAQEBAQEBAQEBAQEBAQEBAQEBAQEBAQEBAQEBAQEBAQEBAQEBAQEBAQEBAQEBAQEBAQEBAQEBAQEBAQEBAQEBAQEBAQEBAQEBAQEBAQEBAQEBAQEBAQEBAQEBAQEBAQEBAQEBAQEBAQEBAQEBAQEBAQEBAQEBAQEBAQEBAQEBAQEBAQEBAQEBAQEBAQEBAQEBAQEBAQEBAQEBAQEBAQEBAQEBAQEBAQEBAQEBAQEBAQEBAQEBAQEBAQEBAQEBAQEBAQEBAQEBAQEBAQEBAQEBAQEBAQEBAQEBAQEBAQEBAQEBAQEBAQEBAQEBAQEBAQEBAQEBAQEBAQEBAQEBAQEBAQEBAQEBAQEBAQEBAQEBAQEBAQEBAQEBAQEBAQEBAQEBAQEBAQEBAQEBAQEBAQEBAQEBAQEBAQEBAQEBAQEBAQEBAQEBAQEBAQEBAQEBAQEBAQEBAQEBAQEBAQEBAQEBAQEBAQEBAQEBAQEBAQEBAQEBAQEBAQEBAQEBAQEBAQEBAQEBAQEBAQEBAQEBAQEBAQEBAQEBAQEBAQEBAQEBAQEBAQEBAQEBAQEBAQEBAQEBAQEBAQEBAQEBAQEBAQEBAQEBAQEBAQEBAQEBAQEBAQEBAQEBAQEBAQEBAQEBAQEBAQEBAQEBAQEBAQEBAQEBAQEBAQEBAQEBAQEBAQEBAQEBAQEBAQEBAQEBAQEBAQEBAQEBAQEBAQEBAQEBAQEBAQEBAQEBAQEBAQEBAQEBAQEBAQEBAQEBAQEBAQEBAQEBAQEBAQEBAQEBAQEBAQEBAQEBAQEBAQEBAQEBAQEBAQEBAQEBAQEBAQEBAQEBAQEBAQEBAQEBAQEBAQEBAQEBAQEBAQEBAQEBAQEBAQEBAQEBAQEBAQEBAQEBAQEBAQEBAQEBAQEBAQEBAQEBAQEBAQEBAQEBAQEBAQEBAQEBAQEBAQEBAQEBAQEBAQEBAQEBAQEBAQEBAQEBAQEBAQEBAQEBAQEBAQEBAQEBAQEBAQEBAQEBAQEBAQEBAQEBAQEBAQEBAQEBAQEBAQEBAQEBAQEBAQEBAQEBAQEBAQEBAQEBAQEBAQEBAQEBAQEBAQEBAQEBAQEBAQEBAQEBAQEBAQEBAQEBAQEBAQEBAQEBAQEBAQEBAQEBAQEBAQEBAQEBAQEBAQEBAQEBAQEBAQEBAQEBAQEBAQEBAQEBAQEBAQEBAQEBAQEBAQEBAQEBAQEBAQEBAQEBAQEBAQEBAQEBAQEBAQEBAQEBAQEBAQEBAQEBAQEBAQEBAQEBAQEBAQEBAQEBAQEBAQEBAQEBAQEBAQEBAQEBAQEBAQEBAQEBAQEBAQEBAQEBAQEBAQEBAQEBAQEBAQEBAQEBAQEBAQEBAQEBAQEBAQEBAQEBAQEBAQEBAQEBAQEBAQEBAQEBAQEBAQEBAQEBAQEBAQEBAQEBAQEBAQEBAQEBAQEBAQEBAQEBAQEBAQEBAQEBAQEBAQEBAQEBAQEBAQEBAQEBAQEBAQEBAQEBAQEBAQEBAQEBAQEBAQEBAQEBAQEBAQEBAQEBAQEBAQEBAQEBAQEBAQEBAQEBAQEBAQEBAQEBAQEBAQEBAQEBAQEBAQEBAQEBAQEBAQEBAQEBAQEBAQEBAQEBAQEBAQEBAQEBAQEBAQEBAQEBAQEBAQEBAQEBAQEBAQEBAQEBAQEBAQEBAQEBAQEBAQEBAQEBAQEBAQEBAQEBAQEBAQEBAQEBAQEBAQEBAQEBAQEBAQEBAQEBAQEBAQEBAQEBAQEBAQEBAQEBAQEBAQEBAQEBAQEBAQEBAQEBAQEBAQEBAQEBAQEBAQEBAQEBAQEBAQEBAQEBAQEBAQEBAQEBAQEBAQEBAQEBAQEBAQEBAQEBAQEBAQEBAQEBAQEBAQEBAQEBAQEBAQEBAQEBAQEBAQEBAQEBAQEBAQEBAQEBAQEBAQEBAQEBAQEBAQEBAQEBAQEBAQEBAQEBAQEBAQEBAQEBAQEBAQEBAQEBAQEBAQEBAQEBAQEBAQEBAQEBAQEBAQEBAQEBAQEBAQEBAQEBAQEBAQEBAQEBAQEBAQEBAQEBAQEBAQEBAQEBAQEBAQEBAQEBAQEBAQEBAQEBAQEBAQEBAQEBAQEBAQEBAQEBAQEBAQEBAQEBAQEBAQEBAQEBAQEBAQEBAQEBAQEBAQEBAQEBAQEBAQEBAQEBAQEBAQEBAQEBAQEBAQEBAQEBAQEBAQEBAQEBAQEBAQEBAQEBAQEBAQEBAQEBAQEBAQEBAQEBAQEBAQEBAQEBAQEBAQEBAQEBAQEBAQEBAQEBAQEBAQEBAQEBAQEBAQEBAQEBAQEBAQEBAQEBAQEBAQEBAQEBAQEBAQEBAQEBAQEBAQEBAQEBAQEBAQEBAQEBAQEBAQEBAQEBAQEBAQEBAQEBAQEBAQEBAQEBAQEBAQEBAQEBAQEBAQEBAQEBAQEBAQEBAQEBAQEBAQEBAQEBAQEBAQEBAQEBAQEBAQEBAQEBAQEBAQEBAQEBAQEBAQEBAQEBAQEBAQEBAQEBAQEBAQEBAQEBAQEBAQEBAQEBAQEBAQEBAQEBAQEBAQEBAQEBAQEBAQEBAQEBAQEBAQEBAQEBAQEBAQEBAQEBAQEBAQEBAQEBAQEBAQEBAQEBAQEBAQEBAQEBAQEBAQEBAQEBAQEBAQEBAQEBAQEBAQEBAQEBAQEBAQEBAQEBAQEBAQEBAQEBAQEBAQEBAQEBAQEBAQEBAQEBAQEBAQEBAQEBAQEBAQEBAQEBAQEBAQEBAQEBAQEBAQEBAQEBAQEBAQEBAQEBAQEBAQEBAQEBAQEBAQEBAQEBAQEBAQEBAQEBAQEBAQEBAQEBAQEBAQEBAQEBAQEBAQEBAQEBAQEBAQEBAQEBAQEBAQEBAQEBAQEBAQEBAQEBAQEBAQEBAQEBAQEBAQEBAQEBAQEBAQEBAQEBAQEBAQEBAQEBAQEBAQEBAQEBAQEBAQEBAQEBAQEBAQEBAQEBAQEBAQEBAQEBAQEBAQEBAQEBAQEBAQEBAQEBAQEBAQEBAQEBAQEBAQEBAQEBAQEBAQEBAQEBAQEBAQEBAQEBAQEBAQEBAQEBAQEBAQEBAQEBAQEBAQEBAQEBAQEBAQEBAQEBAQEBAQEBAQEBAQEBAQEBAQEBAQEBAQEBAQEBAQEBAQEBAQEBAQEBAQEBAQEBAQEBAQEBAQEBAQEBAQEBAQEBAQEBAQEBAQEBAQEBAQEBAQEBAQEBAQEBAQEBAQEBAQEBAQEBAQEBAQEBAQEBAQEBAQEBAQEBAQEBAQEBAQEBAQEBAQEBAQEBAQEBAQEBAQEBAQEBAQEBAQEBAQEBAQEBAQEBAQEBAQEBAQEBAQEBAQEBAQEBAQEBAQEBAQEBAQEBAQEBAQEBAQEBAQEBAQEBAQEBAQEBAQEBAQEBAQEBAQEBAQEBAQEBAQEBAQEBAQEBAQEBAQEBAQEBAQEBAQEBAQEBAQEBAQEBAQEBAQEBAQEBAQEBAQEBAQEBAQEBAQEBAQEBAQEBAQEBAQEBAQEBAQEBAQEBAQEBAQEBAQEBAQEBAQEBAQEBAQEBAQEBAQEBAQEBAQEBAQEBAQEBAQEBAQEBAQEBAQEBAQEBAQEBAQEBAQEBAQEBAQEBAQEBAQEBAQEBAQEBAQEBAQEBAQEBAQEBAQEBAQEBAQEBAQEBAQEBAQEBAQEBAQEBAQEBAQEBAQEBAQEBAQEBAQEBAQEBAQEBAQEBAQEBAQEBAQEBAQEBAQEBAQEBAQEBAQEBAQEBAQEBAQEBAQEBAQEBAQEBAQEBAQEBAQEBAQEBAQEBAQEBAQEBAQEBAQEBAQEBAQEBAQEBAQEBAQEBAQEBAQEBAQEBAQEBAQEBAQEBAQEBAQEBAQEBAQEBAQEBAQEBAQEBAQEBAQEBAQEBAQEBAQEBAQEBAQEBAQEBAQEBAQEBAQEBAQEBAQEBAQEBAQEBAQEBAQEBAQEBAQEBAQEBAQEBAQEBAQEBAQEBAQEBAQEBAQEBAQEBAQEBAQEBAQEBAQEBAQEBAQEBAQEBAQEBAQEBAQEBAQEBAQEBAQEBAQEBAQEBAQEBAQEBAQEBAQEBAQEBAQEBAQEBAQEBAQEBAQEBAQEBAQEBAQEBAQEBAQEBAQEBAQEBAQEBAQEBAQEBAQEBAQEBAQEBAQEBAQEBAQEBAQEBAQEBAQEBAQEBAQEBAQEBAQEBAQEBAQEBAQEBAQEBAQEBAQEBAQEBAQEBAQEBAQEBAQEBAQEBAQEBAQEBAQEBAQEBAQEBAQEBAQEBAQEBAQEBAQEBAQEBAQEBAQEBAQEBAQEBAQEBAQEBAQEBAQEBAQEBAQEBAQEBAQEBAQEBAQEBAQEBAQEBAQEBAQEBAQEBAQEBAQEBAQEBAQEBAQEBAQEBAQEBAQEBAQEBAQEBAQEBAQEBAQEBAQEBAQEBAQEBAQEBAQEBAQEBAQEBAQEBAQEBAQEBAQEBAQEBAQEBAQEBAQEBAQEBAQEBAQEBAQEBAQEBAQEBAQEBAQEBAQEBAQEBAQEBAQEBAQEBAQEBAQEBAQEBAQEBAQEBAQEBAQEBAQEBAQEBAQEBAQEBAQEBAQEBAQEBAQEBAQEBAQEBAQEBAQEBAQEBAQEBAQEBAQEBAQEBAQEBAQEBAQEBAQEBAQEBAQEBAQEBAQEBAQEBAQEBAQEBAQEBAQEBAQEBAQEBAQEBAQEBAQEBAQEBAQEBAQEBAQEBAQEBAQEBAQEBAQEBAQEBAQEBAQEBAQEBAQEBAQEBAQEBAQEBAQEBAQEBAQEBAQEBAQEBAQEBAQEBAQEBAQEBAQEBAQEBAQEBAQEBAQEBAQEBAQEBAQEBAQEBAQEBAQEBAQEBAQEBAQEBAQEBAQEBAQEBAQEBAQEBAQEBAQEBAQEBAQEBAQEBAQEBAQEBAQEBAQEBAQEBAQEBAQEBAQEBAQEBAQEBAQEBAQEBAQEBAQEBAQEBAQEBAQEBAQEBAQEBAQEBAQEBAQEBAQEBAQEBAQEBAQEBAQEBAQEBAQEBAQEBAQEBAQEBAQEBAQEBAQEBAQEBAQEBAQEBAQEBAQEBAQEBAQEBAQEBAQEBAQEBAQEBAQEBAQEBAQEBAQEBAQEBAQEBAQEBAQEBAQEBAQEBAQEBAQEBAQEBAQEBAQEBAQEBAQEBAQEBAQEBAQEBAQEBAQEBAQEBAQEBAQEBAQEBAQEBAQEBAQEBAQEBAQEBAQEBAQEBAQEBAQEBAQEBAQEBAQEBAQEBAQEBAQEBAQEBAQEBAQEBAQEBAQEBAQEBAQEBAQEBAQEBAQEBAQEBAQEBAQEBAQEBAQEBAQEBAQEBAQEBAQEBAQEBAQEBAQEBAQEBAQEBAQEBAQEBAQEBAQEBAQEBAQEBAQEBAQEBAQEBAQEBAQEBAQEBAQEBAQEBAQEBAQEBAQEBAQEBAQEBAQEBAQEBAQEBAQEBAQEBAQEBAQEBAQEBAQEBAQEBAQEBAQEBAQEBAQEBAQEBAQEBAQEBAQEBAQEBAQEBAQEBAQEBAQEBAQEBAQEBAQEBAQEBAQEBAQEBAQEBAQEBAQEBAQEBAQEBAQEBAQEBAQEBAQEBAQEBAQEBAQEBAQEBAQEBAQEBAQEBAQEBAQEBAQEBAQEBAQEBAQEBAQEBAQEBAQEBAQEBAQEBAQEBAQEBAQEBAQEBAQEBAQEBAQEBAQEBAQEBAQEBAQEBAQEBAQEBAQEBAQEBAQEBAQEBAQEBAQEBAQEBAQEBAQEBAQEBAQEBAQEBAQEBAQEBAQEBAQEBAQEBAQEBAQEBAQEBAQEBAQEBAQEBAQEBAQEBAQEBAQEBAQEBAQEBAQEBAQEBAQEBAQEBAQEBAQEBAQEBAQEBAQEBAQEBAQEBAQEBAQEBAQEBAQEBAQEBAQEBAQEBAQEBAQEBAQEBAQEBAQEBAQEBAQEBAQEBAQEBAQEBAQEBAQEBAQEBAQEBAQEBAQEBAQEBAQEBAQEBAQEBAQEBAQEBAQEBAQEBAQEBAQEBAQEBAQEBAQEBAQEBAQEBAQEBAQEBAQEBAQEBAQEBAQEBAQEBAQEBAQEBAQEBAQEBAQEBAQEBAQEBAQEBAQEBAQEBAQEBAQEBAQEBAQEBAQEBAQEBAQEBAQEBAQEBAQEBAQEBAQEBAQEBAQEBAQEBAQEBAQEBAQEBAQEBAQEBAQEBAQEBAQEBAQEBAQEBAQEBAQEBAQEBAQEBAQEBAQEBAQEBAQEBAQEBAQEBAQEBAQEBAQEBAQEBAQEBAQEBAQEBAQEBAQEBAQEBAQEBAQEBAQEBAQEBAQEBAQEBAQEBAQEBAQEBAQEBAQEBAQEBAQEBAQEBAQEBAQEBAQEBAQEBAQEBAQEBAQEBAQEBAQEBAQEBAQEBAQEBAQEBAQEBAQEBAQEBAQEBAQEBAQEBAQEBAQEBAQEBAQEBAQEBAQEBAQEBAQEBAQEBAQEBAQEBAQEBAQEBAQEBAQEBAQEBAQEBAQEBAQEBAQEBAQEBAQEBAQEBAQEBAQEBAQEBAQEBAQEBAQEBAQEBAQEBAQEBAQEBAQEBAQEBAQEBAQEBAQEBAQEBAQEBAQEBAQEBAQEBAQEBAQEBAQEBAQEBAQEBAQEBAQEBAQEBAQEBAQEBAQEBAQEBAQEBAQEBAQEBAQEBAQEBAQEBAQEBAQEBAQEBAQEBAQEBAQEBAQEBAQEBAQEBAQEBAQEBAQEBAQEBAQEBAQEBAQEBAQEBAQEBAQEBAQEBAQEBAQEBAQEBAQEBAQEBAQEBAQEBAQEBAQEBAQEBAQEBAQEBAQEBAQEBAQEBAQEBAQEBAQEBAQEBAQEBAQEBAQEBAQEBAQEBAQEBAQEBAQEBAQEBAQEBAQEBAQEBAQEBAQEBAQEBAQEBAQEBAQEBAQEBAQEBAQEBAQEBAQEBAQEBAQEBAQEBAQEBAQEBAQEBAQEBAQEBAQEBAQEBAQEBAQEBAQEBAQEBAQEBAQEBAQEBAQEBAQEBAQEBAQEBAQEBAQEBAQEBAQEBAQEBAQEBAQEBAQEBAQEBAQEBAQEBAQEBAQEBAQEBAQEBAQEBAQEBAQEBAQEBAQEBAQEBAQEBAQEBAQEBAQEBAQEBAQEBAQEBAQEBAQEBAQEBAQEBAQEBAQEBAQEBAQEBAQEBAQEBAQEBAQEBAQEBAQEBAQEBAQEBAQEBAQEBAQEBAQEBAQEBAQEBAQEBAQEBAQEBAQEBAQEBAQEBAQEBAQEBAQEBAQEBAQEBAQEBAQEBAQEBAQEBAQEBAQEBAQEBAQEBAQEBAQEBAQEBAQEBAQEBAQEBAQEBAQEBAQEBAQEBAQEBAQEBAQEBAQEBAQEBAQEBAQEBAQEBAQEBAQEBAQEBAQEBAQEBAQEBAQEBAQEBAQEBAQEBAQEBAQEBAQEBAQEBAQEBAQEBAQEBAQEBAQEBAQEBAQEBAQEBAQEBAQEBAQEBAQEBAQEBAQEBAQEBAQEBAQEBAQEBAQEBAQEBAQEBAQEBAQEBAQEBAQEBAQEBAQEBAQEBAQEBAQEBAQEBAQEBAQEBAQEBAQEBAQEBAQEBAQEBAQEBAQEBAQEBAQEBAQEBAQEBAQEBAQEBAQEBAQEBAQEBAQEBAQEBAQEBAQEBAQEBAQEBAQEBAQEBAQEBAQEBAQEBAQEBAQEBAQEBAQEBAQEBAQEBAQEBAQEBAQEBAQEBAQEBAQEBAQEBAQEBAQEBAQEBAQEBAQEBAQEBAQEBAQEBAQEBAQEBAQEBAQEBAQEBAQEBAQEBAQEBAQEBAQEBAQEBAQEBAQEBAQEBAQEBAQEBAQEBAQEBAQEBAQEBAQEBAQEBAQEBAQEBAQEBAQEBAQEBAQEBAQEBAQEBAQEBAQEBAQEBAQEBAQEBAQEBAQEBAQEBAQEBAQEBAQEBAQEBAQEBAQEBAQEBAQEBAQEBAQEBAQEBAQEBAQEBAQEBAQEBAQEBAQEBAQEBAQEBAQEBAQEBAQEBAQEBAQEBAQEBAQEBAQEBAQEBAQEBAQEBAQEBAQEBAQEBAQEBAQEBAQEBAQEBAQEBAQEBAQEBAQEBAQEBAQEBAQEBAQEBAQEBAQEBAQEBAQEBAQEBAQEBAQEBAQEBAQEBAQEBAQEBAQEBAQEBAQEBAQEBAQEBAQ==",
          "dtype": "i1"
         },
         "x0": " ",
         "xaxis": "x",
         "y": {
          "bdata": "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",
          "dtype": "i2"
         },
         "y0": " ",
         "yaxis": "y"
        }
       ],
       "layout": {
        "boxmode": "overlay",
        "legend": {
         "title": {
          "text": "majority_vote"
         },
         "tracegroupgap": 0
        },
        "margin": {
         "t": 60
        },
        "template": {
         "data": {
          "bar": [
           {
            "error_x": {
             "color": "#2a3f5f"
            },
            "error_y": {
             "color": "#2a3f5f"
            },
            "marker": {
             "line": {
              "color": "#E5ECF6",
              "width": 0.5
             },
             "pattern": {
              "fillmode": "overlay",
              "size": 10,
              "solidity": 0.2
             }
            },
            "type": "bar"
           }
          ],
          "barpolar": [
           {
            "marker": {
             "line": {
              "color": "#E5ECF6",
              "width": 0.5
             },
             "pattern": {
              "fillmode": "overlay",
              "size": 10,
              "solidity": 0.2
             }
            },
            "type": "barpolar"
           }
          ],
          "carpet": [
           {
            "aaxis": {
             "endlinecolor": "#2a3f5f",
             "gridcolor": "white",
             "linecolor": "white",
             "minorgridcolor": "white",
             "startlinecolor": "#2a3f5f"
            },
            "baxis": {
             "endlinecolor": "#2a3f5f",
             "gridcolor": "white",
             "linecolor": "white",
             "minorgridcolor": "white",
             "startlinecolor": "#2a3f5f"
            },
            "type": "carpet"
           }
          ],
          "choropleth": [
           {
            "colorbar": {
             "outlinewidth": 0,
             "ticks": ""
            },
            "type": "choropleth"
           }
          ],
          "contour": [
           {
            "colorbar": {
             "outlinewidth": 0,
             "ticks": ""
            },
            "colorscale": [
             [
              0,
              "#0d0887"
             ],
             [
              0.1111111111111111,
              "#46039f"
             ],
             [
              0.2222222222222222,
              "#7201a8"
             ],
             [
              0.3333333333333333,
              "#9c179e"
             ],
             [
              0.4444444444444444,
              "#bd3786"
             ],
             [
              0.5555555555555556,
              "#d8576b"
             ],
             [
              0.6666666666666666,
              "#ed7953"
             ],
             [
              0.7777777777777778,
              "#fb9f3a"
             ],
             [
              0.8888888888888888,
              "#fdca26"
             ],
             [
              1,
              "#f0f921"
             ]
            ],
            "type": "contour"
           }
          ],
          "contourcarpet": [
           {
            "colorbar": {
             "outlinewidth": 0,
             "ticks": ""
            },
            "type": "contourcarpet"
           }
          ],
          "heatmap": [
           {
            "colorbar": {
             "outlinewidth": 0,
             "ticks": ""
            },
            "colorscale": [
             [
              0,
              "#0d0887"
             ],
             [
              0.1111111111111111,
              "#46039f"
             ],
             [
              0.2222222222222222,
              "#7201a8"
             ],
             [
              0.3333333333333333,
              "#9c179e"
             ],
             [
              0.4444444444444444,
              "#bd3786"
             ],
             [
              0.5555555555555556,
              "#d8576b"
             ],
             [
              0.6666666666666666,
              "#ed7953"
             ],
             [
              0.7777777777777778,
              "#fb9f3a"
             ],
             [
              0.8888888888888888,
              "#fdca26"
             ],
             [
              1,
              "#f0f921"
             ]
            ],
            "type": "heatmap"
           }
          ],
          "histogram": [
           {
            "marker": {
             "pattern": {
              "fillmode": "overlay",
              "size": 10,
              "solidity": 0.2
             }
            },
            "type": "histogram"
           }
          ],
          "histogram2d": [
           {
            "colorbar": {
             "outlinewidth": 0,
             "ticks": ""
            },
            "colorscale": [
             [
              0,
              "#0d0887"
             ],
             [
              0.1111111111111111,
              "#46039f"
             ],
             [
              0.2222222222222222,
              "#7201a8"
             ],
             [
              0.3333333333333333,
              "#9c179e"
             ],
             [
              0.4444444444444444,
              "#bd3786"
             ],
             [
              0.5555555555555556,
              "#d8576b"
             ],
             [
              0.6666666666666666,
              "#ed7953"
             ],
             [
              0.7777777777777778,
              "#fb9f3a"
             ],
             [
              0.8888888888888888,
              "#fdca26"
             ],
             [
              1,
              "#f0f921"
             ]
            ],
            "type": "histogram2d"
           }
          ],
          "histogram2dcontour": [
           {
            "colorbar": {
             "outlinewidth": 0,
             "ticks": ""
            },
            "colorscale": [
             [
              0,
              "#0d0887"
             ],
             [
              0.1111111111111111,
              "#46039f"
             ],
             [
              0.2222222222222222,
              "#7201a8"
             ],
             [
              0.3333333333333333,
              "#9c179e"
             ],
             [
              0.4444444444444444,
              "#bd3786"
             ],
             [
              0.5555555555555556,
              "#d8576b"
             ],
             [
              0.6666666666666666,
              "#ed7953"
             ],
             [
              0.7777777777777778,
              "#fb9f3a"
             ],
             [
              0.8888888888888888,
              "#fdca26"
             ],
             [
              1,
              "#f0f921"
             ]
            ],
            "type": "histogram2dcontour"
           }
          ],
          "mesh3d": [
           {
            "colorbar": {
             "outlinewidth": 0,
             "ticks": ""
            },
            "type": "mesh3d"
           }
          ],
          "parcoords": [
           {
            "line": {
             "colorbar": {
              "outlinewidth": 0,
              "ticks": ""
             }
            },
            "type": "parcoords"
           }
          ],
          "pie": [
           {
            "automargin": true,
            "type": "pie"
           }
          ],
          "scatter": [
           {
            "fillpattern": {
             "fillmode": "overlay",
             "size": 10,
             "solidity": 0.2
            },
            "type": "scatter"
           }
          ],
          "scatter3d": [
           {
            "line": {
             "colorbar": {
              "outlinewidth": 0,
              "ticks": ""
             }
            },
            "marker": {
             "colorbar": {
              "outlinewidth": 0,
              "ticks": ""
             }
            },
            "type": "scatter3d"
           }
          ],
          "scattercarpet": [
           {
            "marker": {
             "colorbar": {
              "outlinewidth": 0,
              "ticks": ""
             }
            },
            "type": "scattercarpet"
           }
          ],
          "scattergeo": [
           {
            "marker": {
             "colorbar": {
              "outlinewidth": 0,
              "ticks": ""
             }
            },
            "type": "scattergeo"
           }
          ],
          "scattergl": [
           {
            "marker": {
             "colorbar": {
              "outlinewidth": 0,
              "ticks": ""
             }
            },
            "type": "scattergl"
           }
          ],
          "scattermap": [
           {
            "marker": {
             "colorbar": {
              "outlinewidth": 0,
              "ticks": ""
             }
            },
            "type": "scattermap"
           }
          ],
          "scattermapbox": [
           {
            "marker": {
             "colorbar": {
              "outlinewidth": 0,
              "ticks": ""
             }
            },
            "type": "scattermapbox"
           }
          ],
          "scatterpolar": [
           {
            "marker": {
             "colorbar": {
              "outlinewidth": 0,
              "ticks": ""
             }
            },
            "type": "scatterpolar"
           }
          ],
          "scatterpolargl": [
           {
            "marker": {
             "colorbar": {
              "outlinewidth": 0,
              "ticks": ""
             }
            },
            "type": "scatterpolargl"
           }
          ],
          "scatterternary": [
           {
            "marker": {
             "colorbar": {
              "outlinewidth": 0,
              "ticks": ""
             }
            },
            "type": "scatterternary"
           }
          ],
          "surface": [
           {
            "colorbar": {
             "outlinewidth": 0,
             "ticks": ""
            },
            "colorscale": [
             [
              0,
              "#0d0887"
             ],
             [
              0.1111111111111111,
              "#46039f"
             ],
             [
              0.2222222222222222,
              "#7201a8"
             ],
             [
              0.3333333333333333,
              "#9c179e"
             ],
             [
              0.4444444444444444,
              "#bd3786"
             ],
             [
              0.5555555555555556,
              "#d8576b"
             ],
             [
              0.6666666666666666,
              "#ed7953"
             ],
             [
              0.7777777777777778,
              "#fb9f3a"
             ],
             [
              0.8888888888888888,
              "#fdca26"
             ],
             [
              1,
              "#f0f921"
             ]
            ],
            "type": "surface"
           }
          ],
          "table": [
           {
            "cells": {
             "fill": {
              "color": "#EBF0F8"
             },
             "line": {
              "color": "white"
             }
            },
            "header": {
             "fill": {
              "color": "#C8D4E3"
             },
             "line": {
              "color": "white"
             }
            },
            "type": "table"
           }
          ]
         },
         "layout": {
          "annotationdefaults": {
           "arrowcolor": "#2a3f5f",
           "arrowhead": 0,
           "arrowwidth": 1
          },
          "autotypenumbers": "strict",
          "coloraxis": {
           "colorbar": {
            "outlinewidth": 0,
            "ticks": ""
           }
          },
          "colorscale": {
           "diverging": [
            [
             0,
             "#8e0152"
            ],
            [
             0.1,
             "#c51b7d"
            ],
            [
             0.2,
             "#de77ae"
            ],
            [
             0.3,
             "#f1b6da"
            ],
            [
             0.4,
             "#fde0ef"
            ],
            [
             0.5,
             "#f7f7f7"
            ],
            [
             0.6,
             "#e6f5d0"
            ],
            [
             0.7,
             "#b8e186"
            ],
            [
             0.8,
             "#7fbc41"
            ],
            [
             0.9,
             "#4d9221"
            ],
            [
             1,
             "#276419"
            ]
           ],
           "sequential": [
            [
             0,
             "#0d0887"
            ],
            [
             0.1111111111111111,
             "#46039f"
            ],
            [
             0.2222222222222222,
             "#7201a8"
            ],
            [
             0.3333333333333333,
             "#9c179e"
            ],
            [
             0.4444444444444444,
             "#bd3786"
            ],
            [
             0.5555555555555556,
             "#d8576b"
            ],
            [
             0.6666666666666666,
             "#ed7953"
            ],
            [
             0.7777777777777778,
             "#fb9f3a"
            ],
            [
             0.8888888888888888,
             "#fdca26"
            ],
            [
             1,
             "#f0f921"
            ]
           ],
           "sequentialminus": [
            [
             0,
             "#0d0887"
            ],
            [
             0.1111111111111111,
             "#46039f"
            ],
            [
             0.2222222222222222,
             "#7201a8"
            ],
            [
             0.3333333333333333,
             "#9c179e"
            ],
            [
             0.4444444444444444,
             "#bd3786"
            ],
            [
             0.5555555555555556,
             "#d8576b"
            ],
            [
             0.6666666666666666,
             "#ed7953"
            ],
            [
             0.7777777777777778,
             "#fb9f3a"
            ],
            [
             0.8888888888888888,
             "#fdca26"
            ],
            [
             1,
             "#f0f921"
            ]
           ]
          },
          "colorway": [
           "#636efa",
           "#EF553B",
           "#00cc96",
           "#ab63fa",
           "#FFA15A",
           "#19d3f3",
           "#FF6692",
           "#B6E880",
           "#FF97FF",
           "#FECB52"
          ],
          "font": {
           "color": "#2a3f5f"
          },
          "geo": {
           "bgcolor": "white",
           "lakecolor": "white",
           "landcolor": "#E5ECF6",
           "showlakes": true,
           "showland": true,
           "subunitcolor": "white"
          },
          "hoverlabel": {
           "align": "left"
          },
          "hovermode": "closest",
          "mapbox": {
           "style": "light"
          },
          "paper_bgcolor": "white",
          "plot_bgcolor": "#E5ECF6",
          "polar": {
           "angularaxis": {
            "gridcolor": "white",
            "linecolor": "white",
            "ticks": ""
           },
           "bgcolor": "#E5ECF6",
           "radialaxis": {
            "gridcolor": "white",
            "linecolor": "white",
            "ticks": ""
           }
          },
          "scene": {
           "xaxis": {
            "backgroundcolor": "#E5ECF6",
            "gridcolor": "white",
            "gridwidth": 2,
            "linecolor": "white",
            "showbackground": true,
            "ticks": "",
            "zerolinecolor": "white"
           },
           "yaxis": {
            "backgroundcolor": "#E5ECF6",
            "gridcolor": "white",
            "gridwidth": 2,
            "linecolor": "white",
            "showbackground": true,
            "ticks": "",
            "zerolinecolor": "white"
           },
           "zaxis": {
            "backgroundcolor": "#E5ECF6",
            "gridcolor": "white",
            "gridwidth": 2,
            "linecolor": "white",
            "showbackground": true,
            "ticks": "",
            "zerolinecolor": "white"
           }
          },
          "shapedefaults": {
           "line": {
            "color": "#2a3f5f"
           }
          },
          "ternary": {
           "aaxis": {
            "gridcolor": "white",
            "linecolor": "white",
            "ticks": ""
           },
           "baxis": {
            "gridcolor": "white",
            "linecolor": "white",
            "ticks": ""
           },
           "bgcolor": "#E5ECF6",
           "caxis": {
            "gridcolor": "white",
            "linecolor": "white",
            "ticks": ""
           }
          },
          "title": {
           "x": 0.05
          },
          "xaxis": {
           "automargin": true,
           "gridcolor": "white",
           "linecolor": "white",
           "ticks": "",
           "title": {
            "standoff": 15
           },
           "zerolinecolor": "white",
           "zerolinewidth": 2
          },
          "yaxis": {
           "automargin": true,
           "gridcolor": "white",
           "linecolor": "white",
           "ticks": "",
           "title": {
            "standoff": 15
           },
           "zerolinecolor": "white",
           "zerolinewidth": 2
          }
         }
        },
        "xaxis": {
         "anchor": "y",
         "categoryarray": [
          0,
          1
         ],
         "categoryorder": "array",
         "domain": [
          0,
          1
         ],
         "title": {
          "text": "majority_vote"
         }
        },
        "yaxis": {
         "anchor": "x",
         "domain": [
          0,
          1
         ],
         "title": {
          "text": "Text Length"
         }
        }
       }
      },
      "image/png": "[encoded data removed]"
     },
     "metadata": {},
     "output_type": "display_data"
    }
   ],
   "source": [
    "interactive_df[\"Text Length\"] = df_cleaned[\"all_text\"].apply(len)\n",
    "\n",
    "fig = px.box(interactive_df, x=\"majority_vote\", y=\"Text Length\", color=\"majority_vote\")\n",
    "\n",
    "display(fig)"
   ]
  },
  {
   "cell_type": "markdown",
   "id": "c9721c5f",
   "metadata": {},
   "source": [
    "* The box plot above reveals a notable trend: documents labeled as irrelevant by the majority vote tend to have significantly longer text lengths, with a wider spread and more extreme outliers. In contrast, relevant documents are generally shorter and more tightly distributed. This suggests that excessive length may dilute topical focus or introduce noise, making relevance harder to detect across models."
   ]
  },
  {
   "cell_type": "markdown",
   "id": "e11e9261",
   "metadata": {},
   "source": [
    "## Majority-Vote Ensemble and Model Insights\n",
    "\n",
    "Our evaluation across three distinct embedding models—Word2Vec, FastText, and SBERT—shows over 97% agreement in classification outcomes. This high concordance validates the reliability of our text-based classifiers and supports the use of a majority-vote ensemble as a robust decision strategy.\n",
    "\n",
    "Disagreements, limited to around 3% of cases, mark ideal targets for manual inspection or active learning, helping to systematically close annotation gaps.\n",
    "\n",
    "SBERT, used here with minimal fine-tuning, adds semantic depth through transfer learning. Its tendency toward conservative (irrelevant) predictions balances the behavior of the simpler models, improving ensemble stability.\n",
    "\n",
    "We also observe that longer texts are more often tagged as irrelevant, suggesting a dilution of signal in verbose narratives. This highlights future directions such as segment-based analysis or hierarchical modeling to better capture relevance cues.\n"
   ]
  },
  {
   "cell_type": "markdown",
   "id": "408f5abb",
   "metadata": {},
   "source": [
    "# Conclusion"
   ]
  },
  {
   "cell_type": "markdown",
   "id": "fdb8d04f",
   "metadata": {},
   "source": [
    "| Model                         | Accuracy | Precision | Recall | F1-Score |\n",
    "|-------------------------------|:--------:|:---------:|:------:|:--------:|\n",
    "| TF-IDF + Logistic Regression  |   0.930   |   0.978    |  **0.880**  |   0.926   |\n",
    "| TF-IDF + Random Forest        |   **0.940**   |   **1**    |  **0.880**  |   **0.936**   |\n",
    "| Word2Vec + Logistic Regression|   0.920   |   0.977    |  0.860  |   0.915   |\n",
    "| FastText + Logistic Regression|   0.930   |   0.979    |  **0.880**  |   0.926   |\n",
    "| SBERT + Logistic Regression   |   0.900   |   0.917    |  **0.880**  |   0.898  \n"
   ]
  },
  {
   "cell_type": "markdown",
   "id": "d189bf13",
   "metadata": {},
   "source": [
    "**Wrapping Up: What We've Learned**\n",
    "\n",
    "After a full journey through modeling experiments, the results speak clearly.\n",
    "\n",
    "**The Best Performer**\n",
    "\n",
    "TF‑IDF combined with Random Forest gave us the strongest performance overall. With 94% accuracy and an F1-score of 0.936, it's a solid, interpretable model that doesn't require complex tuning.\n",
    "\n",
    "**What Other Models Showed**\n",
    "\n",
    "- **Embedding-based methods** like Word2Vec, FastText, and SBERT also performed wellو especially FastText in recall and SBERT in semantic flexibility.  \n",
    "- **TF‑IDF + Logistic Regression** was not far behind the winner, showing that classic approaches still hold value.\n",
    "\n",
    "\n",
    "**Ensemble Strategy**\n",
    "Blending embedding models in a majority-vote ensemble gave us high agreement (>97%). It adds consistency and flags the few ambiguous cases for careful review, an efficient way to improve quality without overcomplicating.\n",
    "  "
   ]
  },
  {
   "cell_type": "markdown",
   "id": "89ad7c00",
   "metadata": {},
   "source": [
    "**Why This Matters**\n",
    "\n",
    "You now have a reliable benchmark and multiple viable paths forward. Whether you prefer simplicity and control, or adaptability and minimal setup, the models here offer both. More importantly, you’ve built a system that doesn’t just make predictions; it teaches you about your data, shows where things get tricky, and helps guide smarter decisions.\n",
    "\n",
    "\n",
    "**What Comes Next**\n",
    "- Use the best-performing model as your go-to for production.  \n",
    "- Shadow it with semantic models to spot meaning-based mismatches.  \n",
    "- Track edge cases using model disagreements to refine labels and training data.\n",
    "\n",
    "---\n",
    "\n",
    "This wraps up the notebook series, not just with numbers, but with clear direction. You've turned exploration into strategy. Onward."
   ]
  }
 ],
 "metadata": {
  "kernelspec": {
   "display_name": "Python 3 (ipykernel)",
   "language": "python",
   "name": "python3"
  },
  "language_info": {
   "codemirror_mode": {
    "name": "ipython",
    "version": 3
   },
   "file_extension": ".py",
   "mimetype": "text/x-python",
   "name": "python",
   "nbconvert_exporter": "python",
   "pygments_lexer": "ipython3",
   "version": "3.12.3"
  }
 },
 "nbformat": 4,
 "nbformat_minor": 5
}
