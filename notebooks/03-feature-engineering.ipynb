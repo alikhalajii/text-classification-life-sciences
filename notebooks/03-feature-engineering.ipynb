{
 "cells": [
  {
   "cell_type": "markdown",
   "id": "2e23caa3",
   "metadata": {},
   "source": [
    "# 3. Feature Engineering"
   ]
  },
  {
   "cell_type": "code",
   "execution_count": 1,
   "id": "e20c6c4f",
   "metadata": {},
   "outputs": [],
   "source": [
    "from pathlib import Path\n",
    "import pandas as pd\n",
    "import numpy as np"
   ]
  },
  {
   "cell_type": "code",
   "execution_count": 2,
   "id": "cc5eb942",
   "metadata": {},
   "outputs": [],
   "source": [
    "BASE_DIR = Path.cwd().parent\n",
    "\n",
    "# Random seed for reproducibility\n",
    "SEED = 42\n",
    "np.random.seed(SEED)"
   ]
  },
  {
   "cell_type": "markdown",
   "id": "0f40d562",
   "metadata": {},
   "source": [
    "Now that we have our labeled subset of the dataset - annotated in [**2. Exploratory Data Analysis & Data Labeling**](https://github.com/alikhalajii/text-classification-life-sciences/blob/master/notebooks/02-exploratory-data-analysis-data-labeling.ipynb) - we’re ready to transform the text data into numerical features using **TF-IDF (Term Frequency–Inverse Document Frequency)**.\n",
    "\n",
    "### Why TF-IDF?\n",
    "\n",
    "TF-IDF is a widely used technique for converting raw text into meaningful numerical representations. It helps us:\n",
    "\n",
    "- **Capture word importance**: Words that appear frequently in a document but rarely across others get higher scores, making them more informative.\n",
    "- **Reduce noise**: Common words (e.g. “app”, “system”) that appear in many documents are down-weighted.\n",
    "- **Enable model training**: Most machine learning models require numerical input. TF-IDF provides a sparse, interpretable feature matrix suitable for classifiers like logistic regression.\n",
    "\n",
    "This transformation allows us to move from raw text to structured input, setting the stage for effective model development.\n"
   ]
  },
  {
   "cell_type": "markdown",
   "id": "f3af6dd9",
   "metadata": {},
   "source": [
    "For each column in the fully cleaned dataset (df_clean), we count the number of unique values (“Unique Counts”) and, based on clearly defined thresholds, select an appropriate encoding method:\n"
   ]
  },
  {
   "cell_type": "code",
   "execution_count": 3,
   "id": "72ba317b",
   "metadata": {},
   "outputs": [
    {
     "data": {
      "application/vnd.microsoft.datawrangler.viewer.v0+json": {
       "columns": [
        {
         "name": "index",
         "rawType": "object",
         "type": "string"
        },
        {
         "name": "0",
         "rawType": "int64",
         "type": "integer"
        }
       ],
       "ref": "941250e9-ad82-401e-bf81-273545a2f305",
       "rows": [
        [
         "AppType",
         "13"
        ],
        [
         "LeadingIndustry",
         "15"
        ],
        [
         "PFDBIndustry",
         "100"
        ],
        [
         "GTMLoBName",
         "131"
        ],
        [
         "Information",
         "241"
        ],
        [
         "SolutionsCapability",
         "353"
        ],
        [
         "GTMInnovationName",
         "1087"
        ],
        [
         "BusinessRoleDescription",
         "1121"
        ],
        [
         "ApplicationComponentText",
         "1127"
        ],
        [
         "Subtitle",
         "1498"
        ],
        [
         "GTMAppName",
         "2225"
        ],
        [
         "RoleCombinedToolTipDescription",
         "2251"
        ],
        [
         "AppKeyFeatures",
         "2959"
        ],
        [
         "GTMAppDescription",
         "4024"
        ],
        [
         "Title",
         "11637"
        ],
        [
         "CombinedTitle",
         "12636"
        ],
        [
         "AppName",
         "13903"
        ],
        [
         "all_text",
         "14098"
        ],
        [
         "fioriId",
         "14112"
        ]
       ],
       "shape": {
        "columns": 1,
        "rows": 19
       }
      },
      "text/plain": [
       "AppType                              13\n",
       "LeadingIndustry                      15\n",
       "PFDBIndustry                        100\n",
       "GTMLoBName                          131\n",
       "Information                         241\n",
       "SolutionsCapability                 353\n",
       "GTMInnovationName                  1087\n",
       "BusinessRoleDescription            1121\n",
       "ApplicationComponentText           1127\n",
       "Subtitle                           1498\n",
       "GTMAppName                         2225\n",
       "RoleCombinedToolTipDescription     2251\n",
       "AppKeyFeatures                     2959\n",
       "GTMAppDescription                  4024\n",
       "Title                             11637\n",
       "CombinedTitle                     12636\n",
       "AppName                           13903\n",
       "all_text                          14098\n",
       "fioriId                           14112\n",
       "dtype: int64"
      ]
     },
     "execution_count": 3,
     "metadata": {},
     "output_type": "execute_result"
    }
   ],
   "source": [
    "df_clean = pd.read_csv(\n",
    "    BASE_DIR / \"data/02_df_cleaned_all_text.csv\",\n",
    "    encoding='utf-8',\n",
    "    keep_default_na=False,  # <— don’t treat empty strings as NaN\n",
    "    na_values=[]            # <— no additional “missing” tokens\n",
    ")\n",
    "\n",
    "df_clean.nunique().sort_values(ascending=True)"
   ]
  },
  {
   "cell_type": "markdown",
   "id": "55b132d5",
   "metadata": {},
   "source": [
    "## 3.1 Automated Feature Encoding Strategy Based on Full Dataset\n",
    "\n",
    "* To ensure our feature encoding strategy generalizes beyond the small labeled sample (300 rows), we analyze the full metadata dataset (`df_clean`) containing over 14,000 entries.\n",
    "\n",
    "Each column is inspected based on:\n",
    "- its number of unique values (cardinality),\n",
    "- and its data type (e.g., numeric or categorical)  (!included here for completeness, although in our current dataset all features are of type `object`.)\n",
    "\n",
    "From this analysis, we assign an appropriate encoding strategy as follows:\n",
    "\n",
    "- **One-Hot Encoding** for features with **≤ 15 unique values**, preserving interpretability for low-cardinality categorical variables.\n",
    "- **Target or Frequency Encoding** for features with **16 to 350 unique values**, balancing dimensionality and signal strength.\n",
    "- **Grouping/Embedding** for features with **> 350 unique values**, typically better handled with learned representations in neural architectures.\n",
    "\n",
    "We exclude the following columns from this encoding logic:\n",
    "- Technical IDs (`fioriId`),\n",
    "- Target column (`Label`),\n",
    "- Pre-labels used during verification (`pre_label`),\n",
    "- and long free-text input (`all_text`).\n",
    "\n",
    "The final output is a decision table (`decision_df`) summarizing the data type, cardinality, and recommended encoding for each relevant feature.\n",
    "\n"
   ]
  },
  {
   "cell_type": "code",
   "execution_count": 4,
   "id": "892a1479",
   "metadata": {},
   "outputs": [
    {
     "data": {
      "application/vnd.microsoft.datawrangler.viewer.v0+json": {
       "columns": [
        {
         "name": "index",
         "rawType": "object",
         "type": "string"
        },
        {
         "name": "dtype",
         "rawType": "object",
         "type": "string"
        },
        {
         "name": "unique_count",
         "rawType": "int64",
         "type": "integer"
        },
        {
         "name": "decision",
         "rawType": "object",
         "type": "unknown"
        }
       ],
       "ref": "1216383c-20d5-4d76-a665-c47eece0fbc6",
       "rows": [
        [
         "AppKeyFeatures",
         "object",
         "2959",
         "group/embed"
        ],
        [
         "Subtitle",
         "object",
         "1498",
         "group/embed"
        ],
        [
         "SolutionsCapability",
         "object",
         "353",
         "group/embed"
        ],
        [
         "RoleCombinedToolTipDescription",
         "object",
         "2251",
         "group/embed"
        ],
        [
         "Title",
         "object",
         "11637",
         "group/embed"
        ],
        [
         "GTMAppName",
         "object",
         "2225",
         "group/embed"
        ],
        [
         "GTMInnovationName",
         "object",
         "1087",
         "group/embed"
        ],
        [
         "CombinedTitle",
         "object",
         "12636",
         "group/embed"
        ],
        [
         "BusinessRoleDescription",
         "object",
         "1121",
         "group/embed"
        ],
        [
         "ApplicationComponentText",
         "object",
         "1127",
         "group/embed"
        ],
        [
         "AppName",
         "object",
         "13903",
         "group/embed"
        ],
        [
         "GTMAppDescription",
         "object",
         "4024",
         "group/embed"
        ],
        [
         "fioriId",
         "object",
         "14112",
         "group/embed"
        ],
        [
         "LeadingIndustry",
         "object",
         "15",
         "one-hot"
        ],
        [
         "AppType",
         "object",
         "13",
         "one-hot"
        ],
        [
         "GTMLoBName",
         "object",
         "131",
         "target/frequency"
        ],
        [
         "Information",
         "object",
         "241",
         "target/frequency"
        ],
        [
         "PFDBIndustry",
         "object",
         "100",
         "target/frequency"
        ],
        [
         "all_text",
         "object",
         "14098",
         null
        ]
       ],
       "shape": {
        "columns": 3,
        "rows": 19
       }
      },
      "text/html": [
       "<div>\n",
       "<style scoped>\n",
       "    .dataframe tbody tr th:only-of-type {\n",
       "        vertical-align: middle;\n",
       "    }\n",
       "\n",
       "    .dataframe tbody tr th {\n",
       "        vertical-align: top;\n",
       "    }\n",
       "\n",
       "    .dataframe thead th {\n",
       "        text-align: right;\n",
       "    }\n",
       "</style>\n",
       "<table border=\"1\" class=\"dataframe\">\n",
       "  <thead>\n",
       "    <tr style=\"text-align: right;\">\n",
       "      <th></th>\n",
       "      <th>dtype</th>\n",
       "      <th>unique_count</th>\n",
       "      <th>decision</th>\n",
       "    </tr>\n",
       "  </thead>\n",
       "  <tbody>\n",
       "    <tr>\n",
       "      <th>AppKeyFeatures</th>\n",
       "      <td>object</td>\n",
       "      <td>2959</td>\n",
       "      <td>group/embed</td>\n",
       "    </tr>\n",
       "    <tr>\n",
       "      <th>Subtitle</th>\n",
       "      <td>object</td>\n",
       "      <td>1498</td>\n",
       "      <td>group/embed</td>\n",
       "    </tr>\n",
       "    <tr>\n",
       "      <th>SolutionsCapability</th>\n",
       "      <td>object</td>\n",
       "      <td>353</td>\n",
       "      <td>group/embed</td>\n",
       "    </tr>\n",
       "    <tr>\n",
       "      <th>RoleCombinedToolTipDescription</th>\n",
       "      <td>object</td>\n",
       "      <td>2251</td>\n",
       "      <td>group/embed</td>\n",
       "    </tr>\n",
       "    <tr>\n",
       "      <th>Title</th>\n",
       "      <td>object</td>\n",
       "      <td>11637</td>\n",
       "      <td>group/embed</td>\n",
       "    </tr>\n",
       "    <tr>\n",
       "      <th>GTMAppName</th>\n",
       "      <td>object</td>\n",
       "      <td>2225</td>\n",
       "      <td>group/embed</td>\n",
       "    </tr>\n",
       "    <tr>\n",
       "      <th>GTMInnovationName</th>\n",
       "      <td>object</td>\n",
       "      <td>1087</td>\n",
       "      <td>group/embed</td>\n",
       "    </tr>\n",
       "    <tr>\n",
       "      <th>CombinedTitle</th>\n",
       "      <td>object</td>\n",
       "      <td>12636</td>\n",
       "      <td>group/embed</td>\n",
       "    </tr>\n",
       "    <tr>\n",
       "      <th>BusinessRoleDescription</th>\n",
       "      <td>object</td>\n",
       "      <td>1121</td>\n",
       "      <td>group/embed</td>\n",
       "    </tr>\n",
       "    <tr>\n",
       "      <th>ApplicationComponentText</th>\n",
       "      <td>object</td>\n",
       "      <td>1127</td>\n",
       "      <td>group/embed</td>\n",
       "    </tr>\n",
       "    <tr>\n",
       "      <th>AppName</th>\n",
       "      <td>object</td>\n",
       "      <td>13903</td>\n",
       "      <td>group/embed</td>\n",
       "    </tr>\n",
       "    <tr>\n",
       "      <th>GTMAppDescription</th>\n",
       "      <td>object</td>\n",
       "      <td>4024</td>\n",
       "      <td>group/embed</td>\n",
       "    </tr>\n",
       "    <tr>\n",
       "      <th>fioriId</th>\n",
       "      <td>object</td>\n",
       "      <td>14112</td>\n",
       "      <td>group/embed</td>\n",
       "    </tr>\n",
       "    <tr>\n",
       "      <th>LeadingIndustry</th>\n",
       "      <td>object</td>\n",
       "      <td>15</td>\n",
       "      <td>one-hot</td>\n",
       "    </tr>\n",
       "    <tr>\n",
       "      <th>AppType</th>\n",
       "      <td>object</td>\n",
       "      <td>13</td>\n",
       "      <td>one-hot</td>\n",
       "    </tr>\n",
       "    <tr>\n",
       "      <th>GTMLoBName</th>\n",
       "      <td>object</td>\n",
       "      <td>131</td>\n",
       "      <td>target/frequency</td>\n",
       "    </tr>\n",
       "    <tr>\n",
       "      <th>Information</th>\n",
       "      <td>object</td>\n",
       "      <td>241</td>\n",
       "      <td>target/frequency</td>\n",
       "    </tr>\n",
       "    <tr>\n",
       "      <th>PFDBIndustry</th>\n",
       "      <td>object</td>\n",
       "      <td>100</td>\n",
       "      <td>target/frequency</td>\n",
       "    </tr>\n",
       "    <tr>\n",
       "      <th>all_text</th>\n",
       "      <td>object</td>\n",
       "      <td>14098</td>\n",
       "      <td>NaN</td>\n",
       "    </tr>\n",
       "  </tbody>\n",
       "</table>\n",
       "</div>"
      ],
      "text/plain": [
       "                                 dtype  unique_count          decision\n",
       "AppKeyFeatures                  object          2959       group/embed\n",
       "Subtitle                        object          1498       group/embed\n",
       "SolutionsCapability             object           353       group/embed\n",
       "RoleCombinedToolTipDescription  object          2251       group/embed\n",
       "Title                           object         11637       group/embed\n",
       "GTMAppName                      object          2225       group/embed\n",
       "GTMInnovationName               object          1087       group/embed\n",
       "CombinedTitle                   object         12636       group/embed\n",
       "BusinessRoleDescription         object          1121       group/embed\n",
       "ApplicationComponentText        object          1127       group/embed\n",
       "AppName                         object         13903       group/embed\n",
       "GTMAppDescription               object          4024       group/embed\n",
       "fioriId                         object         14112       group/embed\n",
       "LeadingIndustry                 object            15           one-hot\n",
       "AppType                         object            13           one-hot\n",
       "GTMLoBName                      object           131  target/frequency\n",
       "Information                     object           241  target/frequency\n",
       "PFDBIndustry                    object           100  target/frequency\n",
       "all_text                        object         14098               NaN"
      ]
     },
     "metadata": {},
     "output_type": "display_data"
    }
   ],
   "source": [
    "# Compute metadata from full dataset\n",
    "unique_counts = df_clean.nunique(dropna=False)\n",
    "dtypes = df_clean.dtypes.astype(str)\n",
    "\n",
    "# Decide encoding strategy per feature\n",
    "def decide_encoding(col: str) -> str:\n",
    "    if pd.api.types.is_numeric_dtype(df_clean[col]):\n",
    "        return \"keep (numeric)\"\n",
    "    u = unique_counts[col]\n",
    "    if u <= 15:\n",
    "        return \"one-hot\"\n",
    "    elif u <= 350:\n",
    "        return \"target/frequency\"\n",
    "    else:\n",
    "        return \"group/embed\"\n",
    "\n",
    "# Apply decision logic, exclude non-feature columns\n",
    "excluded = [\"Label\", \"pre_label\", \"all_text\"]\n",
    "decisions = {\n",
    "    col: decide_encoding(col)\n",
    "    for col in df_clean.columns if col not in excluded\n",
    "}\n",
    "\n",
    "# Assemble encoding decision table\n",
    "decision_df = pd.DataFrame({\n",
    "    \"dtype\": dtypes,\n",
    "    \"unique_count\": unique_counts,\n",
    "    \"decision\": pd.Series(decisions)\n",
    "}).sort_values(\"decision\")\n",
    "\n",
    "from IPython.display import display\n",
    "display(decision_df)\n"
   ]
  },
  {
   "cell_type": "markdown",
   "id": "ed50f674",
   "metadata": {},
   "source": [
    "> **Insight:** The heuristic flags potential positives automatically, but all `pre_label` values must be manually verified and corrected.  \n"
   ]
  },
  {
   "cell_type": "markdown",
   "id": "07f4e905",
   "metadata": {},
   "source": [
    "## 3.2 Apply One-Hot Encoding for Low-Cardinality Features\n",
    "\n",
    "* We transform all categorical features that were marked as **one-hot** in the `decisions` dictionary. This approach creates binary indicator columns for each category, which preserves interpretability and avoids unnecessary dimensionality inflation—especially important for features with low cardinality. We begin by loading the annotated dataset from CSV, then identify the relevant columns using a list comprehension over `decisions`. Using `pandas.get_dummies()`, we generate the one-hot encoded columns without dropping the first category, ensuring full representation. Finally, we drop the original categorical columns and concatenate the new binary indicators back into the main DataFrame, resulting in a numerically enriched dataset ready for further transformations."
   ]
  },
  {
   "cell_type": "code",
   "execution_count": 5,
   "id": "24a4a7e3",
   "metadata": {},
   "outputs": [],
   "source": [
    "df_annotated_full = pd.read_csv(\n",
    "    BASE_DIR / \"data/02_df_annotated_full.csv\",\n",
    "    encoding='utf-8',\n",
    "    keep_default_na=False,\n",
    "    na_values=[]\n",
    ")"
   ]
  },
  {
   "cell_type": "code",
   "execution_count": 6,
   "id": "8622fcb1",
   "metadata": {},
   "outputs": [],
   "source": [
    "# Identify one-hot features\n",
    "one_hot_cols = [col for col, strategy in decisions.items() if strategy == \"one-hot\"]\n",
    "\n",
    "# Apply pandas get_dummies\n",
    "df_ohe = pd.get_dummies(\n",
    "    df_annotated_full[one_hot_cols],\n",
    "    prefix=one_hot_cols,\n",
    "    drop_first=False\n",
    ")\n",
    "\n",
    "# Drop original cols and concat new indicators\n",
    "df_transformed = pd.concat(\n",
    "    [df_annotated_full.drop(columns=one_hot_cols), df_ohe],\n",
    "    axis=1\n",
    ")\n"
   ]
  },
  {
   "cell_type": "markdown",
   "id": "b1972e38",
   "metadata": {},
   "source": [
    "## 3.3. Compute Target/Frequency Encoding for Medium-Cardinality Features\n",
    "\n",
    "* Next, we transform features labeled as **target/frequency** in `decision_df`.  \n",
    "- **Frequency encoding** replaces each category with its overall occurrence frequency.  \n",
    "- **Target encoding** replaces each category with the mean of the target variable (`Label`) for that category.  \n",
    "\n",
    "We will implement frequency encoding here for simplicity, but target encoding can be swapped in."
   ]
  },
  {
   "cell_type": "code",
   "execution_count": 7,
   "id": "334fe440",
   "metadata": {},
   "outputs": [],
   "source": [
    "from sklearn.model_selection import KFold\n",
    "\n",
    "# Identify medium-cardinality features\n",
    "freq_cols = [col for col, strategy in decisions.items() if strategy == \"target/frequency\"]\n",
    "\n",
    "# Frequency encoding\n",
    "freq_maps = {\n",
    "    col: df_transformed[col].value_counts(normalize=True)\n",
    "    for col in freq_cols\n",
    "}\n",
    "\n",
    "for col, fmap in freq_maps.items():\n",
    "    df_transformed[f\"{col}_freq\"] = df_transformed[col].map(fmap)\n",
    "\n",
    "# Optionally drop original columns\n",
    "df_transformed.drop(columns=freq_cols, inplace=True)\n"
   ]
  },
  {
   "cell_type": "code",
   "execution_count": 8,
   "id": "e851b46f",
   "metadata": {},
   "outputs": [
    {
     "data": {
      "application/vnd.microsoft.datawrangler.viewer.v0+json": {
       "columns": [
        {
         "name": "index",
         "rawType": "int64",
         "type": "integer"
        },
        {
         "name": "PFDBIndustry_freq",
         "rawType": "float64",
         "type": "float"
        },
        {
         "name": "GTMLoBName_freq",
         "rawType": "float64",
         "type": "float"
        },
        {
         "name": "Information_freq",
         "rawType": "float64",
         "type": "float"
        }
       ],
       "ref": "107647ee-c9a1-4c76-9354-5937be847ed3",
       "rows": [
        [
         "0",
         "0.002",
         "0.002",
         "0.91"
        ],
        [
         "1",
         "0.812",
         "0.818",
         "0.91"
        ],
        [
         "2",
         "0.812",
         "0.818",
         "0.91"
        ],
        [
         "3",
         "0.812",
         "0.818",
         "0.91"
        ],
        [
         "4",
         "0.812",
         "0.818",
         "0.91"
        ]
       ],
       "shape": {
        "columns": 3,
        "rows": 5
       }
      },
      "text/html": [
       "<div>\n",
       "<style scoped>\n",
       "    .dataframe tbody tr th:only-of-type {\n",
       "        vertical-align: middle;\n",
       "    }\n",
       "\n",
       "    .dataframe tbody tr th {\n",
       "        vertical-align: top;\n",
       "    }\n",
       "\n",
       "    .dataframe thead th {\n",
       "        text-align: right;\n",
       "    }\n",
       "</style>\n",
       "<table border=\"1\" class=\"dataframe\">\n",
       "  <thead>\n",
       "    <tr style=\"text-align: right;\">\n",
       "      <th></th>\n",
       "      <th>PFDBIndustry_freq</th>\n",
       "      <th>GTMLoBName_freq</th>\n",
       "      <th>Information_freq</th>\n",
       "    </tr>\n",
       "  </thead>\n",
       "  <tbody>\n",
       "    <tr>\n",
       "      <th>0</th>\n",
       "      <td>0.002</td>\n",
       "      <td>0.002</td>\n",
       "      <td>0.91</td>\n",
       "    </tr>\n",
       "    <tr>\n",
       "      <th>1</th>\n",
       "      <td>0.812</td>\n",
       "      <td>0.818</td>\n",
       "      <td>0.91</td>\n",
       "    </tr>\n",
       "    <tr>\n",
       "      <th>2</th>\n",
       "      <td>0.812</td>\n",
       "      <td>0.818</td>\n",
       "      <td>0.91</td>\n",
       "    </tr>\n",
       "    <tr>\n",
       "      <th>3</th>\n",
       "      <td>0.812</td>\n",
       "      <td>0.818</td>\n",
       "      <td>0.91</td>\n",
       "    </tr>\n",
       "    <tr>\n",
       "      <th>4</th>\n",
       "      <td>0.812</td>\n",
       "      <td>0.818</td>\n",
       "      <td>0.91</td>\n",
       "    </tr>\n",
       "  </tbody>\n",
       "</table>\n",
       "</div>"
      ],
      "text/plain": [
       "   PFDBIndustry_freq  GTMLoBName_freq  Information_freq\n",
       "0              0.002            0.002              0.91\n",
       "1              0.812            0.818              0.91\n",
       "2              0.812            0.818              0.91\n",
       "3              0.812            0.818              0.91\n",
       "4              0.812            0.818              0.91"
      ]
     },
     "execution_count": 8,
     "metadata": {},
     "output_type": "execute_result"
    }
   ],
   "source": [
    "df_transformed[[\"PFDBIndustry_freq\", \"GTMLoBName_freq\", \"Information_freq\"]].head()"
   ]
  },
  {
   "cell_type": "markdown",
   "id": "198d3a37",
   "metadata": {},
   "source": [
    "To avoid recomputing the `df_transformed` in future notebooks, we export it:"
   ]
  },
  {
   "cell_type": "code",
   "execution_count": 9,
   "id": "813110a1",
   "metadata": {},
   "outputs": [],
   "source": [
    "# Save the transformed DataFrame\n",
    "df_transformed.to_csv(BASE_DIR / \"data/03_df_transformed.csv\", index=False)\n"
   ]
  },
  {
   "cell_type": "markdown",
   "id": "55926ab0",
   "metadata": {},
   "source": [
    "## 3.4. Group Rare Categories for High-Cardinality Features\n",
    "\n",
    "* For features marked as **group/embed**, we collapse infrequent categories into an \"Other\" bucket.  \n",
    "Here, we keep the top 10 most common categories and map all other values to `\"Other\"`.  \n",
    "This preserves major signals while avoiding thousands of sparse dummy columns.\n",
    "\n"
   ]
  },
  {
   "cell_type": "code",
   "execution_count": 10,
   "id": "7a044d82",
   "metadata": {},
   "outputs": [
    {
     "data": {
      "application/vnd.microsoft.datawrangler.viewer.v0+json": {
       "columns": [
        {
         "name": "index",
         "rawType": "int64",
         "type": "integer"
        },
        {
         "name": "all_text_label",
         "rawType": "object",
         "type": "string"
        },
        {
         "name": "pre_label",
         "rawType": "int64",
         "type": "integer"
        },
        {
         "name": "Label",
         "rawType": "int64",
         "type": "integer"
        },
        {
         "name": "all_text",
         "rawType": "object",
         "type": "string"
        },
        {
         "name": "AppType_Analytical",
         "rawType": "bool",
         "type": "boolean"
        },
        {
         "name": "AppType_Reuse Component",
         "rawType": "bool",
         "type": "boolean"
        },
        {
         "name": "AppType_SAP GUI",
         "rawType": "bool",
         "type": "boolean"
        },
        {
         "name": "AppType_Transactional",
         "rawType": "bool",
         "type": "boolean"
        },
        {
         "name": "AppType_Transactional, Analytical",
         "rawType": "bool",
         "type": "boolean"
        },
        {
         "name": "AppType_Transactional, Fact sheet",
         "rawType": "bool",
         "type": "boolean"
        },
        {
         "name": "AppType_Transactional, Reuse Component",
         "rawType": "bool",
         "type": "boolean"
        },
        {
         "name": "AppType_Web Client UI",
         "rawType": "bool",
         "type": "boolean"
        },
        {
         "name": "AppType_Web Dynpro",
         "rawType": "bool",
         "type": "boolean"
        },
        {
         "name": "LeadingIndustry_",
         "rawType": "bool",
         "type": "boolean"
        },
        {
         "name": "LeadingIndustry_Agribusiness (Consumer Products)",
         "rawType": "bool",
         "type": "boolean"
        },
        {
         "name": "LeadingIndustry_Consumer Products",
         "rawType": "bool",
         "type": "boolean"
        },
        {
         "name": "LeadingIndustry_Cross Industry",
         "rawType": "bool",
         "type": "boolean"
        },
        {
         "name": "LeadingIndustry_Cross Industry; Retail",
         "rawType": "bool",
         "type": "boolean"
        },
        {
         "name": "LeadingIndustry_Defense and Security",
         "rawType": "bool",
         "type": "boolean"
        },
        {
         "name": "LeadingIndustry_Higher Education and Research",
         "rawType": "bool",
         "type": "boolean"
        },
        {
         "name": "LeadingIndustry_Insurance",
         "rawType": "bool",
         "type": "boolean"
        },
        {
         "name": "LeadingIndustry_Oil, Gas, and Energy",
         "rawType": "bool",
         "type": "boolean"
        },
        {
         "name": "LeadingIndustry_Public Sector",
         "rawType": "bool",
         "type": "boolean"
        },
        {
         "name": "LeadingIndustry_Retail",
         "rawType": "bool",
         "type": "boolean"
        },
        {
         "name": "GTMLoBName_freq",
         "rawType": "float64",
         "type": "float"
        },
        {
         "name": "Information_freq",
         "rawType": "float64",
         "type": "float"
        },
        {
         "name": "PFDBIndustry_freq",
         "rawType": "float64",
         "type": "float"
        },
        {
         "name": "fioriId_grp",
         "rawType": "object",
         "type": "string"
        },
        {
         "name": "AppKeyFeatures_grp",
         "rawType": "object",
         "type": "string"
        },
        {
         "name": "AppName_grp",
         "rawType": "object",
         "type": "string"
        },
        {
         "name": "ApplicationComponentText_grp",
         "rawType": "object",
         "type": "string"
        },
        {
         "name": "BusinessRoleDescription_grp",
         "rawType": "object",
         "type": "string"
        },
        {
         "name": "CombinedTitle_grp",
         "rawType": "object",
         "type": "string"
        },
        {
         "name": "GTMAppDescription_grp",
         "rawType": "object",
         "type": "string"
        },
        {
         "name": "GTMAppName_grp",
         "rawType": "object",
         "type": "string"
        },
        {
         "name": "GTMInnovationName_grp",
         "rawType": "object",
         "type": "string"
        },
        {
         "name": "RoleCombinedToolTipDescription_grp",
         "rawType": "object",
         "type": "string"
        },
        {
         "name": "SolutionsCapability_grp",
         "rawType": "object",
         "type": "string"
        },
        {
         "name": "Subtitle_grp",
         "rawType": "object",
         "type": "string"
        },
        {
         "name": "Title_grp",
         "rawType": "object",
         "type": "string"
        }
       ],
       "ref": "543b08d2-abc6-4ff2-adea-068dfd814bfe",
       "rows": [
        [
         "0",
         "Plan Repairs Call up a worklist of all repair objects to individually plan their diagnosis or repair (statuses Plan: Diagnosis or Plan: Repair). You can filter, sort, and group a list of repair objects to be planned. You can also filter for repair objects to be planned by a specific employee responsible or by the credit status that has been determined in the repair order. Display the details of the repair objects that are currently in planning. You can access the related product and equipment data to check its details.​ Create a returns order to trigger the logistics process for repair objects that customers send for repair. In this case, you can create an outbound delivery to send the repair object back to the customer. Access the repair order to enter the planning details. Use the worklist to trigger actions (for example, create returns order) for multiple repair objects in the same in-house repair simultaneously or for each repair object individually. You can use this app to schedule the diagnosis and the repair of the objects, and assign the service employee. Customer Service Manager - In-House Repair : Manages In-House Repair service processes, including repair planning, monitoring, process optimization and personnel management. Customer Service Representative - In-House Repair : Is responsible for coordinating In-House Repairs and ensuring their correct commercial processing. Manages received devices, quotations, repair orders and billing. S4CRM: In-House Repair Customer Service Representative - In-House Repair| Customer Service Manager - In-House Repair Plan Repairs",
         "0",
         "0",
         "Plan Repairs Call up a worklist of all repair objects to individually plan their diagnosis or repair (statuses Plan: Diagnosis or Plan: Repair). You can filter, sort, and group a list of repair objects to be planned. You can also filter for repair objects to be planned by a specific employee responsible or by the credit status that has been determined in the repair order. Display the details of the repair objects that are currently in planning. You can access the related product and equipment data to check its details.​ Create a returns order to trigger the logistics process for repair objects that customers send for repair. In this case, you can create an outbound delivery to send the repair object back to the customer. Access the repair order to enter the planning details. Use the worklist to trigger actions (for example, create returns order) for multiple repair objects in the same in-house repair simultaneously or for each repair object individually. You can use this app to schedule the diagnosis and the repair of the objects, and assign the service employee. Customer Service Manager - In-House Repair : Manages In-House Repair service processes, including repair planning, monitoring, process optimization and personnel management. Customer Service Representative - In-House Repair : Is responsible for coordinating In-House Repairs and ensuring their correct commercial processing. Manages received devices, quotations, repair orders and billing. S4CRM: In-House Repair Customer Service Representative - In-House Repair| Customer Service Manager - In-House Repair Plan Repairs",
         "False",
         "False",
         "False",
         "True",
         "False",
         "False",
         "False",
         "False",
         "False",
         "False",
         "False",
         "False",
         "True",
         "False",
         "False",
         "False",
         "False",
         "False",
         "False",
         "False",
         "0.002",
         "0.91",
         "0.002",
         "F4152",
         "Other",
         "Plan Repairs",
         "Other",
         "Other",
         "Other",
         "Other",
         "Other",
         "Other",
         "Other",
         "Other",
         "",
         "Other"
        ],
        [
         "1",
         "Delete Driver This app is a SAP GUI for HTML transaction. These classic transactions are available in the SAP Fiori theme to support a seamless user experience across the SAP Fiori launchpad and to provide a harmonized user experience across on-premise and cloud solutions. The single point of entry for SAP Fiori apps and classic applications in SAP S/4HANA Cloud Private Edition and SAP S/4HANA is the SAP Fiori launchpad. Transportation Scheduler (Oil & Gas) : Schedules movements along the supply chain. Is responsible for multiple terminals and transport systems (marine, rail, truck, pipeline), multiple products (crude, feed stocks, refined products) and stock transfers, purchase orders, and sales orders. Shipping Specialist (Oil & Gas): (is an add-on role to the Shipping Specialist) Processes outbound deliveries. Additionally performs IS-OIL specific Transportation and Distribution (TD) Shipment Processing, Master Data maintenance for shipment, shipment processing and Traders and Schedulers Workbench (TSW) operations. Transportation and Distribution Shipping Specialist (IOG)| Transportation Scheduler (IOG) Delete Driver",
         "1",
         "1",
         "Delete Driver This app is a SAP GUI for HTML transaction. These classic transactions are available in the SAP Fiori theme to support a seamless user experience across the SAP Fiori launchpad and to provide a harmonized user experience across on-premise and cloud solutions. The single point of entry for SAP Fiori apps and classic applications in SAP S/4HANA Cloud Private Edition and SAP S/4HANA is the SAP Fiori launchpad. Transportation Scheduler (Oil & Gas) : Schedules movements along the supply chain. Is responsible for multiple terminals and transport systems (marine, rail, truck, pipeline), multiple products (crude, feed stocks, refined products) and stock transfers, purchase orders, and sales orders. Shipping Specialist (Oil & Gas): (is an add-on role to the Shipping Specialist) Processes outbound deliveries. Additionally performs IS-OIL specific Transportation and Distribution (TD) Shipment Processing, Master Data maintenance for shipment, shipment processing and Traders and Schedulers Workbench (TSW) operations. Transportation and Distribution Shipping Specialist (IOG)| Transportation Scheduler (IOG) Delete Driver",
         "False",
         "False",
         "True",
         "False",
         "False",
         "False",
         "False",
         "False",
         "False",
         "True",
         "False",
         "False",
         "False",
         "False",
         "False",
         "False",
         "False",
         "False",
         "False",
         "False",
         "0.818",
         "0.91",
         "0.812",
         "O4D4",
         "",
         "Delete Driver",
         "Other",
         "Other",
         "Other",
         "This app is a SAP GUI for HTML transaction. These classic transactions are available in the SAP Fiori theme to support a seamless user experience across the SAP Fiori launchpad and to provide a harmonized user experience across on-premise and cloud solutions. The single point of entry for SAP Fiori apps and classic applications in SAP S/4HANA Cloud Private Edition and SAP S/4HANA is the SAP Fiori launchpad.",
         "SAP Fiori theme for SAP GUI for HTML (SAP S/4HANA Cloud Private Edition and SAP S/4HANA)",
         "SAP Fiori visual theme for classic applications in SAP S/4HANA Cloud Private Edition and SAP S/4HANA",
         "Other",
         "",
         "",
         "Other"
        ],
        [
         "2",
         "Display Pegged Requirements For the MRP element selected, you can display: just the pegged requirement(s) on the highest BOM level The system displays the requirements quantity and the input quantity for each requirement. The input quantity is the portion of the MRP element that is required to cover the displayed requirement. The input quantity is displayed in the base unit of measure of the material. the order route ; that means all the requirements and replenishment elements that lie between the pegged requirement and the MRP element If an MRP element contains a quantity that was not caused by a requirement from a higher level, the system displays this quantity separately. Quantities without source arise, if more is produced than is required because of a rounding value for the lot size or a fixed lot size or if procurement proposals have been scheduled manually. You can use the Pegged requirements function to retrace from any BOM level which requirements are the source of which procurement proposals which independent requirements (especially sales orders) are affected if a procurement proposal is cancelled or a date or quantity is changed on a lower level. unknown Material Requirements Planning Display Pegged Requirements",
         "0",
         "0",
         "Display Pegged Requirements For the MRP element selected, you can display: just the pegged requirement(s) on the highest BOM level The system displays the requirements quantity and the input quantity for each requirement. The input quantity is the portion of the MRP element that is required to cover the displayed requirement. The input quantity is displayed in the base unit of measure of the material. the order route ; that means all the requirements and replenishment elements that lie between the pegged requirement and the MRP element If an MRP element contains a quantity that was not caused by a requirement from a higher level, the system displays this quantity separately. Quantities without source arise, if more is produced than is required because of a rounding value for the lot size or a fixed lot size or if procurement proposals have been scheduled manually. You can use the Pegged requirements function to retrace from any BOM level which requirements are the source of which procurement proposals which independent requirements (especially sales orders) are affected if a procurement proposal is cancelled or a date or quantity is changed on a lower level. unknown Material Requirements Planning Display Pegged Requirements",
         "False",
         "False",
         "True",
         "False",
         "False",
         "False",
         "False",
         "False",
         "False",
         "True",
         "False",
         "False",
         "False",
         "False",
         "False",
         "False",
         "False",
         "False",
         "False",
         "False",
         "0.818",
         "0.91",
         "0.812",
         "MD09",
         "Other",
         "Display Pegged Requirements",
         "Other",
         "",
         "Other",
         "Other",
         "SAP Fiori theme for SAP GUI for HTML (SAP S/4HANA Cloud Private Edition and SAP S/4HANA)",
         "SAP Fiori visual theme for classic applications in SAP S/4HANA Cloud Private Edition and SAP S/4HANA",
         "unknown",
         "",
         "",
         "Other"
        ],
        [
         "3",
         "Manage Amount for Prepayment Meter This app is a SAP GUI for HTML transaction. These classic transactions are available in the SAP Fiori theme to support a seamless user experience across the SAP Fiori launchpad and to provide a harmonized user experience across on-premise and cloud solutions. The single point of entry for SAP Fiori apps and classic applications in SAP S/4HANA Cloud Private Edition and SAP S/4HANA is the SAP Fiori launchpad. unknown Contract Billing Manage Amount for Prepayment Meter",
         "1",
         "1",
         "Manage Amount for Prepayment Meter This app is a SAP GUI for HTML transaction. These classic transactions are available in the SAP Fiori theme to support a seamless user experience across the SAP Fiori launchpad and to provide a harmonized user experience across on-premise and cloud solutions. The single point of entry for SAP Fiori apps and classic applications in SAP S/4HANA Cloud Private Edition and SAP S/4HANA is the SAP Fiori launchpad. unknown Contract Billing Manage Amount for Prepayment Meter",
         "False",
         "False",
         "True",
         "False",
         "False",
         "False",
         "False",
         "False",
         "False",
         "True",
         "False",
         "False",
         "False",
         "False",
         "False",
         "False",
         "False",
         "False",
         "False",
         "False",
         "0.818",
         "0.91",
         "0.812",
         "EPREPAY",
         "",
         "Manage Amount for Prepayment Meter",
         "Other",
         "",
         "Other",
         "This app is a SAP GUI for HTML transaction. These classic transactions are available in the SAP Fiori theme to support a seamless user experience across the SAP Fiori launchpad and to provide a harmonized user experience across on-premise and cloud solutions. The single point of entry for SAP Fiori apps and classic applications in SAP S/4HANA Cloud Private Edition and SAP S/4HANA is the SAP Fiori launchpad.",
         "SAP Fiori theme for SAP GUI for HTML (SAP S/4HANA Cloud Private Edition and SAP S/4HANA)",
         "SAP Fiori visual theme for classic applications in SAP S/4HANA Cloud Private Edition and SAP S/4HANA",
         "unknown",
         "",
         "",
         "Other"
        ],
        [
         "4",
         "Create Measurement Document This app is a SAP GUI for HTML transaction. These classic transactions are available in the SAP Fiori theme to support a seamless user experience across the SAP Fiori launchpad and to provide a harmonized user experience across on-premise and cloud solutions. The single point of entry for SAP Fiori apps and classic applications in SAP S/4HANA Cloud Private Edition and SAP S/4HANA is the SAP Fiori launchpad. Production Operator - Discrete Manufacturing : Operates the machines or does manual assembly activities on the production line or in a shop floor environment, to produce as per the planned production orders of the shift. Reports Yield, Scrap and Rework, Downtimes, etc. into the system. Maintenance Supervisor : Collects, reviews, and prioritizes all maintenance requests from different sources and ensures that they contain all the relevant information required so that the problems can be solved quickly. Measuring points and counters Maintenance Supervisor| Production Operator - Discrete Manufacturing Create Measurement Document",
         "1",
         "1",
         "Create Measurement Document This app is a SAP GUI for HTML transaction. These classic transactions are available in the SAP Fiori theme to support a seamless user experience across the SAP Fiori launchpad and to provide a harmonized user experience across on-premise and cloud solutions. The single point of entry for SAP Fiori apps and classic applications in SAP S/4HANA Cloud Private Edition and SAP S/4HANA is the SAP Fiori launchpad. Production Operator - Discrete Manufacturing : Operates the machines or does manual assembly activities on the production line or in a shop floor environment, to produce as per the planned production orders of the shift. Reports Yield, Scrap and Rework, Downtimes, etc. into the system. Maintenance Supervisor : Collects, reviews, and prioritizes all maintenance requests from different sources and ensures that they contain all the relevant information required so that the problems can be solved quickly. Measuring points and counters Maintenance Supervisor| Production Operator - Discrete Manufacturing Create Measurement Document",
         "False",
         "False",
         "True",
         "False",
         "False",
         "False",
         "False",
         "False",
         "False",
         "True",
         "False",
         "False",
         "False",
         "False",
         "False",
         "False",
         "False",
         "False",
         "False",
         "False",
         "0.818",
         "0.91",
         "0.812",
         "IK11",
         "",
         "Create Measurement Document",
         "Measuring points and counters",
         "Other",
         "Other",
         "This app is a SAP GUI for HTML transaction. These classic transactions are available in the SAP Fiori theme to support a seamless user experience across the SAP Fiori launchpad and to provide a harmonized user experience across on-premise and cloud solutions. The single point of entry for SAP Fiori apps and classic applications in SAP S/4HANA Cloud Private Edition and SAP S/4HANA is the SAP Fiori launchpad.",
         "SAP Fiori theme for SAP GUI for HTML (SAP S/4HANA Cloud Private Edition and SAP S/4HANA)",
         "SAP Fiori visual theme for classic applications in SAP S/4HANA Cloud Private Edition and SAP S/4HANA",
         "Other",
         "",
         "",
         "Other"
        ]
       ],
       "shape": {
        "columns": 40,
        "rows": 5
       }
      },
      "text/html": [
       "<div>\n",
       "<style scoped>\n",
       "    .dataframe tbody tr th:only-of-type {\n",
       "        vertical-align: middle;\n",
       "    }\n",
       "\n",
       "    .dataframe tbody tr th {\n",
       "        vertical-align: top;\n",
       "    }\n",
       "\n",
       "    .dataframe thead th {\n",
       "        text-align: right;\n",
       "    }\n",
       "</style>\n",
       "<table border=\"1\" class=\"dataframe\">\n",
       "  <thead>\n",
       "    <tr style=\"text-align: right;\">\n",
       "      <th></th>\n",
       "      <th>all_text_label</th>\n",
       "      <th>pre_label</th>\n",
       "      <th>Label</th>\n",
       "      <th>all_text</th>\n",
       "      <th>AppType_Analytical</th>\n",
       "      <th>AppType_Reuse Component</th>\n",
       "      <th>AppType_SAP GUI</th>\n",
       "      <th>AppType_Transactional</th>\n",
       "      <th>AppType_Transactional, Analytical</th>\n",
       "      <th>AppType_Transactional, Fact sheet</th>\n",
       "      <th>...</th>\n",
       "      <th>ApplicationComponentText_grp</th>\n",
       "      <th>BusinessRoleDescription_grp</th>\n",
       "      <th>CombinedTitle_grp</th>\n",
       "      <th>GTMAppDescription_grp</th>\n",
       "      <th>GTMAppName_grp</th>\n",
       "      <th>GTMInnovationName_grp</th>\n",
       "      <th>RoleCombinedToolTipDescription_grp</th>\n",
       "      <th>SolutionsCapability_grp</th>\n",
       "      <th>Subtitle_grp</th>\n",
       "      <th>Title_grp</th>\n",
       "    </tr>\n",
       "  </thead>\n",
       "  <tbody>\n",
       "    <tr>\n",
       "      <th>0</th>\n",
       "      <td>Plan Repairs Call up a worklist of all repair ...</td>\n",
       "      <td>0</td>\n",
       "      <td>0</td>\n",
       "      <td>Plan Repairs Call up a worklist of all repair ...</td>\n",
       "      <td>False</td>\n",
       "      <td>False</td>\n",
       "      <td>False</td>\n",
       "      <td>True</td>\n",
       "      <td>False</td>\n",
       "      <td>False</td>\n",
       "      <td>...</td>\n",
       "      <td>Other</td>\n",
       "      <td>Other</td>\n",
       "      <td>Other</td>\n",
       "      <td>Other</td>\n",
       "      <td>Other</td>\n",
       "      <td>Other</td>\n",
       "      <td>Other</td>\n",
       "      <td>Other</td>\n",
       "      <td></td>\n",
       "      <td>Other</td>\n",
       "    </tr>\n",
       "    <tr>\n",
       "      <th>1</th>\n",
       "      <td>Delete Driver This app is a SAP GUI for HTML t...</td>\n",
       "      <td>1</td>\n",
       "      <td>1</td>\n",
       "      <td>Delete Driver This app is a SAP GUI for HTML t...</td>\n",
       "      <td>False</td>\n",
       "      <td>False</td>\n",
       "      <td>True</td>\n",
       "      <td>False</td>\n",
       "      <td>False</td>\n",
       "      <td>False</td>\n",
       "      <td>...</td>\n",
       "      <td>Other</td>\n",
       "      <td>Other</td>\n",
       "      <td>Other</td>\n",
       "      <td>This app is a SAP GUI for HTML transaction. Th...</td>\n",
       "      <td>SAP Fiori theme for SAP GUI for HTML (SAP S/4H...</td>\n",
       "      <td>SAP Fiori visual theme for classic application...</td>\n",
       "      <td>Other</td>\n",
       "      <td></td>\n",
       "      <td></td>\n",
       "      <td>Other</td>\n",
       "    </tr>\n",
       "    <tr>\n",
       "      <th>2</th>\n",
       "      <td>Display Pegged Requirements For the MRP elemen...</td>\n",
       "      <td>0</td>\n",
       "      <td>0</td>\n",
       "      <td>Display Pegged Requirements For the MRP elemen...</td>\n",
       "      <td>False</td>\n",
       "      <td>False</td>\n",
       "      <td>True</td>\n",
       "      <td>False</td>\n",
       "      <td>False</td>\n",
       "      <td>False</td>\n",
       "      <td>...</td>\n",
       "      <td>Other</td>\n",
       "      <td></td>\n",
       "      <td>Other</td>\n",
       "      <td>Other</td>\n",
       "      <td>SAP Fiori theme for SAP GUI for HTML (SAP S/4H...</td>\n",
       "      <td>SAP Fiori visual theme for classic application...</td>\n",
       "      <td>unknown</td>\n",
       "      <td></td>\n",
       "      <td></td>\n",
       "      <td>Other</td>\n",
       "    </tr>\n",
       "    <tr>\n",
       "      <th>3</th>\n",
       "      <td>Manage Amount for Prepayment Meter This app is...</td>\n",
       "      <td>1</td>\n",
       "      <td>1</td>\n",
       "      <td>Manage Amount for Prepayment Meter This app is...</td>\n",
       "      <td>False</td>\n",
       "      <td>False</td>\n",
       "      <td>True</td>\n",
       "      <td>False</td>\n",
       "      <td>False</td>\n",
       "      <td>False</td>\n",
       "      <td>...</td>\n",
       "      <td>Other</td>\n",
       "      <td></td>\n",
       "      <td>Other</td>\n",
       "      <td>This app is a SAP GUI for HTML transaction. Th...</td>\n",
       "      <td>SAP Fiori theme for SAP GUI for HTML (SAP S/4H...</td>\n",
       "      <td>SAP Fiori visual theme for classic application...</td>\n",
       "      <td>unknown</td>\n",
       "      <td></td>\n",
       "      <td></td>\n",
       "      <td>Other</td>\n",
       "    </tr>\n",
       "    <tr>\n",
       "      <th>4</th>\n",
       "      <td>Create Measurement Document This app is a SAP ...</td>\n",
       "      <td>1</td>\n",
       "      <td>1</td>\n",
       "      <td>Create Measurement Document This app is a SAP ...</td>\n",
       "      <td>False</td>\n",
       "      <td>False</td>\n",
       "      <td>True</td>\n",
       "      <td>False</td>\n",
       "      <td>False</td>\n",
       "      <td>False</td>\n",
       "      <td>...</td>\n",
       "      <td>Measuring points and counters</td>\n",
       "      <td>Other</td>\n",
       "      <td>Other</td>\n",
       "      <td>This app is a SAP GUI for HTML transaction. Th...</td>\n",
       "      <td>SAP Fiori theme for SAP GUI for HTML (SAP S/4H...</td>\n",
       "      <td>SAP Fiori visual theme for classic application...</td>\n",
       "      <td>Other</td>\n",
       "      <td></td>\n",
       "      <td></td>\n",
       "      <td>Other</td>\n",
       "    </tr>\n",
       "  </tbody>\n",
       "</table>\n",
       "<p>5 rows × 40 columns</p>\n",
       "</div>"
      ],
      "text/plain": [
       "                                      all_text_label  pre_label  Label  \\\n",
       "0  Plan Repairs Call up a worklist of all repair ...          0      0   \n",
       "1  Delete Driver This app is a SAP GUI for HTML t...          1      1   \n",
       "2  Display Pegged Requirements For the MRP elemen...          0      0   \n",
       "3  Manage Amount for Prepayment Meter This app is...          1      1   \n",
       "4  Create Measurement Document This app is a SAP ...          1      1   \n",
       "\n",
       "                                            all_text  AppType_Analytical  \\\n",
       "0  Plan Repairs Call up a worklist of all repair ...               False   \n",
       "1  Delete Driver This app is a SAP GUI for HTML t...               False   \n",
       "2  Display Pegged Requirements For the MRP elemen...               False   \n",
       "3  Manage Amount for Prepayment Meter This app is...               False   \n",
       "4  Create Measurement Document This app is a SAP ...               False   \n",
       "\n",
       "   AppType_Reuse Component  AppType_SAP GUI  AppType_Transactional  \\\n",
       "0                    False            False                   True   \n",
       "1                    False             True                  False   \n",
       "2                    False             True                  False   \n",
       "3                    False             True                  False   \n",
       "4                    False             True                  False   \n",
       "\n",
       "   AppType_Transactional, Analytical  AppType_Transactional, Fact sheet  ...  \\\n",
       "0                              False                              False  ...   \n",
       "1                              False                              False  ...   \n",
       "2                              False                              False  ...   \n",
       "3                              False                              False  ...   \n",
       "4                              False                              False  ...   \n",
       "\n",
       "    ApplicationComponentText_grp  BusinessRoleDescription_grp  \\\n",
       "0                          Other                        Other   \n",
       "1                          Other                        Other   \n",
       "2                          Other                                \n",
       "3                          Other                                \n",
       "4  Measuring points and counters                        Other   \n",
       "\n",
       "   CombinedTitle_grp                              GTMAppDescription_grp  \\\n",
       "0              Other                                              Other   \n",
       "1              Other  This app is a SAP GUI for HTML transaction. Th...   \n",
       "2              Other                                              Other   \n",
       "3              Other  This app is a SAP GUI for HTML transaction. Th...   \n",
       "4              Other  This app is a SAP GUI for HTML transaction. Th...   \n",
       "\n",
       "                                      GTMAppName_grp  \\\n",
       "0                                              Other   \n",
       "1  SAP Fiori theme for SAP GUI for HTML (SAP S/4H...   \n",
       "2  SAP Fiori theme for SAP GUI for HTML (SAP S/4H...   \n",
       "3  SAP Fiori theme for SAP GUI for HTML (SAP S/4H...   \n",
       "4  SAP Fiori theme for SAP GUI for HTML (SAP S/4H...   \n",
       "\n",
       "                               GTMInnovationName_grp  \\\n",
       "0                                              Other   \n",
       "1  SAP Fiori visual theme for classic application...   \n",
       "2  SAP Fiori visual theme for classic application...   \n",
       "3  SAP Fiori visual theme for classic application...   \n",
       "4  SAP Fiori visual theme for classic application...   \n",
       "\n",
       "   RoleCombinedToolTipDescription_grp  SolutionsCapability_grp  Subtitle_grp  \\\n",
       "0                               Other                    Other                 \n",
       "1                               Other                                          \n",
       "2                             unknown                                          \n",
       "3                             unknown                                          \n",
       "4                               Other                                          \n",
       "\n",
       "   Title_grp  \n",
       "0      Other  \n",
       "1      Other  \n",
       "2      Other  \n",
       "3      Other  \n",
       "4      Other  \n",
       "\n",
       "[5 rows x 40 columns]"
      ]
     },
     "execution_count": 10,
     "metadata": {},
     "output_type": "execute_result"
    }
   ],
   "source": [
    "# Identify high-cardinality features\n",
    "embed_cols = [col for col, strategy in decisions.items() if strategy == \"group/embed\"]\n",
    "\n",
    "df_grouped = df_transformed.copy()\n",
    "\n",
    "# For each high-cardinality feature, keep top 10 most frequent, group others\n",
    "for col in embed_cols:\n",
    "    top_cats = df_grouped[col].value_counts().nlargest(10).index\n",
    "    df_grouped[f\"{col}_grp\"] = df_grouped[col].where(df_grouped[col].isin(top_cats), other=\"Other\")\n",
    "\n",
    "# Drop original high-card cols\n",
    "df_grouped.drop(columns=embed_cols, inplace=True)\n",
    "\n",
    "df_grouped.head()\n"
   ]
  },
  {
   "cell_type": "markdown",
   "id": "4bd9a643",
   "metadata": {},
   "source": [
    "* Low-cardinality features remain fully interpretable via binary indicators. Medium-cardinality features are compactly represented through numerical aggregation, and very high-cardinality features are grouped or embedded into a low-dimensional space to prevent an uncontrolled explosion of the feature dimension.\n",
    "\n",
    "\n",
    "Overall, we aim to minimize memory and computational overhead while preserving the full information content of the data."
   ]
  },
  {
   "cell_type": "code",
   "execution_count": 11,
   "id": "b3ce94d5",
   "metadata": {},
   "outputs": [
    {
     "name": "stdout",
     "output_type": "stream",
     "text": [
      "<class 'pandas.core.frame.DataFrame'>\n",
      "RangeIndex: 500 entries, 0 to 499\n",
      "Data columns (total 40 columns):\n",
      " #   Column                                            Non-Null Count  Dtype  \n",
      "---  ------                                            --------------  -----  \n",
      " 0   all_text_label                                    500 non-null    object \n",
      " 1   pre_label                                         500 non-null    int64  \n",
      " 2   Label                                             500 non-null    int64  \n",
      " 3   all_text                                          500 non-null    object \n",
      " 4   AppType_Analytical                                500 non-null    bool   \n",
      " 5   AppType_Reuse Component                           500 non-null    bool   \n",
      " 6   AppType_SAP GUI                                   500 non-null    bool   \n",
      " 7   AppType_Transactional                             500 non-null    bool   \n",
      " 8   AppType_Transactional, Analytical                 500 non-null    bool   \n",
      " 9   AppType_Transactional, Fact sheet                 500 non-null    bool   \n",
      " 10  AppType_Transactional, Reuse Component            500 non-null    bool   \n",
      " 11  AppType_Web Client UI                             500 non-null    bool   \n",
      " 12  AppType_Web Dynpro                                500 non-null    bool   \n",
      " 13  LeadingIndustry_                                  500 non-null    bool   \n",
      " 14  LeadingIndustry_Agribusiness (Consumer Products)  500 non-null    bool   \n",
      " 15  LeadingIndustry_Consumer Products                 500 non-null    bool   \n",
      " 16  LeadingIndustry_Cross Industry                    500 non-null    bool   \n",
      " 17  LeadingIndustry_Cross Industry; Retail            500 non-null    bool   \n",
      " 18  LeadingIndustry_Defense and Security              500 non-null    bool   \n",
      " 19  LeadingIndustry_Higher Education and Research     500 non-null    bool   \n",
      " 20  LeadingIndustry_Insurance                         500 non-null    bool   \n",
      " 21  LeadingIndustry_Oil, Gas, and Energy              500 non-null    bool   \n",
      " 22  LeadingIndustry_Public Sector                     500 non-null    bool   \n",
      " 23  LeadingIndustry_Retail                            500 non-null    bool   \n",
      " 24  GTMLoBName_freq                                   500 non-null    float64\n",
      " 25  Information_freq                                  500 non-null    float64\n",
      " 26  PFDBIndustry_freq                                 500 non-null    float64\n",
      " 27  fioriId_grp                                       500 non-null    object \n",
      " 28  AppKeyFeatures_grp                                500 non-null    object \n",
      " 29  AppName_grp                                       500 non-null    object \n",
      " 30  ApplicationComponentText_grp                      500 non-null    object \n",
      " 31  BusinessRoleDescription_grp                       500 non-null    object \n",
      " 32  CombinedTitle_grp                                 500 non-null    object \n",
      " 33  GTMAppDescription_grp                             500 non-null    object \n",
      " 34  GTMAppName_grp                                    500 non-null    object \n",
      " 35  GTMInnovationName_grp                             500 non-null    object \n",
      " 36  RoleCombinedToolTipDescription_grp                500 non-null    object \n",
      " 37  SolutionsCapability_grp                           500 non-null    object \n",
      " 38  Subtitle_grp                                      500 non-null    object \n",
      " 39  Title_grp                                         500 non-null    object \n",
      "dtypes: bool(20), float64(3), int64(2), object(15)\n",
      "memory usage: 88.0+ KB\n"
     ]
    }
   ],
   "source": [
    "df_grouped.info()"
   ]
  },
  {
   "cell_type": "markdown",
   "id": "796c10b5",
   "metadata": {},
   "source": [
    "## 3.5 Text Vectorization with TF–IDF and SVD\n",
    "\n",
    "To incorporate semantic information from the free-text field `all_text`, we apply a two-step transformation:\n",
    "\n",
    "1. **TF–IDF Vectorization**  \n",
    "   We compute a TF–IDF matrix using up to 5,000 features, capturing both unigrams and bigrams while filtering out English stop words. This converts raw text into a sparse numerical representation that reflects term importance across the dataset.\n",
    "\n",
    "2. **Dimensionality Reduction via Truncated SVD**  \n",
    "   We reduce the TF–IDF matrix to 50 latent components using Truncated SVD. This step compresses the feature space while preserving key semantic structures, making the data more tractable for modeling.\n"
   ]
  },
  {
   "cell_type": "code",
   "execution_count": 12,
   "id": "06b9e335",
   "metadata": {},
   "outputs": [],
   "source": [
    "from sklearn.feature_extraction.text import TfidfVectorizer\n",
    "from sklearn.decomposition import TruncatedSVD\n",
    "\n",
    "# TF-IDF Vectorization on the concatenated text field\n",
    "tfidf = TfidfVectorizer(max_features=5000, ngram_range=(1, 2), stop_words='english')\n",
    "X_tfidf = tfidf.fit_transform(df_grouped['all_text'])\n",
    "\n",
    "# Truncated SVD\n",
    "n_components = 50\n",
    "svd = TruncatedSVD(n_components=n_components, random_state=SEED)\n",
    "X_svd = svd.fit_transform(X_tfidf)\n",
    "\n",
    "# Mapping: Original Terms to SVD Components\n",
    "svd_feature_mapping = pd.DataFrame(\n",
    "    svd.components_,\n",
    "    index=[f\"svd_{i}\" for i in range(n_components)],\n",
    "    columns=tfidf.get_feature_names_out()\n",
    ")\n",
    "\n",
    "# Save the SVD feature mapping to a CSV file for later use in feature interpretation\n",
    "svd_feature_mapping.to_csv(BASE_DIR / \"data/03_svd_feature_mapping.csv\")\n",
    "\n",
    "# Top-5 Terms per SVD Component\n",
    "top_terms = {\n",
    "    comp: svd_feature_mapping.loc[comp]\n",
    "                        .nlargest(5)\n",
    "                        .index\n",
    "                        .tolist()\n",
    "    for comp in svd_feature_mapping.index\n",
    "}\n",
    "\n",
    "# Create a DataFrame with SVD components as features\n",
    "df_text = pd.DataFrame(\n",
    "    X_svd,\n",
    "    index=df_grouped.index,\n",
    "    columns=svd_feature_mapping.index\n",
    ")\n",
    "df_final = pd.concat(\n",
    "    [df_grouped.drop(columns=['all_text']), df_text],\n",
    "    axis=1\n",
    ")\n",
    "\n",
    "# Save the final DataFrame with SVD features\n",
    "svd_feature_mapping.to_csv(BASE_DIR / \"data/svd_feature_mapping.csv\")\n"
   ]
  },
  {
   "cell_type": "markdown",
   "id": "4def41c3",
   "metadata": {},
   "source": [
    "To avoid recomputing the TF-IDF matrix in future notebooks, we persist it using `joblib`:"
   ]
  },
  {
   "cell_type": "code",
   "execution_count": 13,
   "id": "2770c8c3",
   "metadata": {},
   "outputs": [
    {
     "data": {
      "text/plain": [
       "['/home/khalaji/Coding/text-classification-life-sciences/checkpoints/X_tfidf_vectorized.pkl']"
      ]
     },
     "execution_count": 13,
     "metadata": {},
     "output_type": "execute_result"
    }
   ],
   "source": [
    "import joblib\n",
    "joblib.dump(X_tfidf, BASE_DIR / \"checkpoints/X_tfidf_vectorized.pkl\")\n"
   ]
  },
  {
   "cell_type": "code",
   "execution_count": 14,
   "id": "87553ed2",
   "metadata": {},
   "outputs": [],
   "source": [
    "# For next steps\n",
    "df_final.to_csv(BASE_DIR / \"data/03_df_final.csv\", index=False, encoding='utf-8')\n"
   ]
  },
  {
   "cell_type": "markdown",
   "id": "642ec75d",
   "metadata": {},
   "source": [
    "### Text Vectorization & Dimensionality Reduction Summary\n",
    "\n",
    "- **Component Interpretation**  \n",
    "  Each SVD axis is mapped back to its top-5 contributing terms, enabling qualitative inspection of the latent topics.\n",
    "\n",
    "- **Feature Assembly**  \n",
    "  The 50 SVD features are concatenated with our cleaned metadata frame to form `df_final`, the complete input for downstream modeling.\n",
    "\n",
    "---\n",
    "\n",
    "👉 Continue to the next step:  \n",
    "<a href=\"https://github.com/alikhalajii/text-classification-life-sciences/blob/master/notebooks/04-traning-baseline-models.ipynb\" target=\"_blank\">**4. Training Baseline Models (LR–RF)**</a>\n"
   ]
  }
 ],
 "metadata": {
  "kernelspec": {
   "display_name": ".venv_lf",
   "language": "python",
   "name": "python3"
  },
  "language_info": {
   "codemirror_mode": {
    "name": "ipython",
    "version": 3
   },
   "file_extension": ".py",
   "mimetype": "text/x-python",
   "name": "python",
   "nbconvert_exporter": "python",
   "pygments_lexer": "ipython3",
   "version": "3.12.3"
  }
 },
 "nbformat": 4,
 "nbformat_minor": 5
}
