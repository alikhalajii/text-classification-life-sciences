{
 "cells": [
  {
   "cell_type": "code",
   "execution_count": 1,
   "id": "f6f765f5",
   "metadata": {},
   "outputs": [],
   "source": [
    "from pathlib import Path\n",
    "import pandas as pd\n",
    "import numpy as np"
   ]
  },
  {
   "cell_type": "code",
   "execution_count": 2,
   "id": "a0f8bc54",
   "metadata": {},
   "outputs": [],
   "source": [
    "BASE_DIR = Path.cwd().parent\n",
    "\n",
    "# Random seed for reproducibility\n",
    "SEED = 42\n",
    "np.random.seed(SEED)"
   ]
  },
  {
   "cell_type": "markdown",
   "id": "2be0c158",
   "metadata": {},
   "source": [
    "# 2. Exploratory Data Analysis & Data Labeling\n",
    "\n",
    "After investigating and cleaning the Fiori Apps dataset in [**1. Data Cleaning**](https://github.com/alikhalajii/text-classification-life-sciences/blob/master/notebooks/01-data-cleaning.ipynb), we now move forward to explore the cleaned data in more depth.\n",
    "\n",
    "This notebook focuses on understanding the structure, distribution, and patterns within the dataset to support manual annotation and guide model development.\n"
   ]
  },
  {
   "cell_type": "markdown",
   "id": "a14a2c9d",
   "metadata": {},
   "source": [
    "## 2.1. Load the cleaned CSV\n",
    "\n",
    "We begin by reloading the cleaned dataset generated in the previous step and verifying its integrity."
   ]
  },
  {
   "cell_type": "code",
   "execution_count": 3,
   "id": "eaa0b026",
   "metadata": {},
   "outputs": [
    {
     "name": "stdout",
     "output_type": "stream",
     "text": [
      "Shape: (14112, 17)\n",
      "Missing values per column:\n",
      "AppKeyFeatures                    0\n",
      "AppName                           0\n",
      "AppType                           0\n",
      "ApplicationComponentText          0\n",
      "BusinessRoleDescription           0\n",
      "CombinedTitle                     0\n",
      "GTMAppDescription                 0\n",
      "GTMAppName                        0\n",
      "GTMInnovationName                 0\n",
      "GTMLoBName                        0\n",
      "Information                       0\n",
      "LeadingIndustry                   0\n",
      "PFDBIndustry                      0\n",
      "RoleCombinedToolTipDescription    0\n",
      "SolutionsCapability               0\n",
      "Subtitle                          0\n",
      "Title                             0\n",
      "dtype: int64\n",
      "\n",
      "Data types:\n",
      "AppKeyFeatures                    object\n",
      "AppName                           object\n",
      "AppType                           object\n",
      "ApplicationComponentText          object\n",
      "BusinessRoleDescription           object\n",
      "CombinedTitle                     object\n",
      "GTMAppDescription                 object\n",
      "GTMAppName                        object\n",
      "GTMInnovationName                 object\n",
      "GTMLoBName                        object\n",
      "Information                       object\n",
      "LeadingIndustry                   object\n",
      "PFDBIndustry                      object\n",
      "RoleCombinedToolTipDescription    object\n",
      "SolutionsCapability               object\n",
      "Subtitle                          object\n",
      "Title                             object\n",
      "dtype: object\n"
     ]
    }
   ],
   "source": [
    "df_clean = pd.read_csv(\n",
    "    BASE_DIR / \"data/01_cleaned_df.csv\",\n",
    "    index_col=0,\n",
    "    encoding='utf-8',\n",
    "    keep_default_na=False,  # <— don’t treat empty strings as NaN\n",
    "    na_values=[]            # <— no additional “missing” tokens\n",
    ")\n",
    "\n",
    "\n",
    "print(f\"Shape: {df_clean.shape}\")         # Expect about (14_112, 17)\n",
    "print(\"Missing values per column:\")\n",
    "print(df_clean.isna().sum())              # All should be zero\n",
    "print(\"\\nData types:\")\n",
    "print(df_clean.dtypes)                    # Expect all 'object'"
   ]
  },
  {
   "cell_type": "markdown",
   "id": "57739c2d",
   "metadata": {},
   "source": [
    "---\n",
    "\n",
    "## 2.2. Univariate Feature Checks\n",
    "\n",
    "* Quickly inspect distribution and uniqueness of a few high-priority features.\n",
    "\n",
    "First, we inspect a few key attributes—**LeadingIndustry**, **AppType**, and **CombinedTitle**, using simple value counts,\n",
    "\n"
   ]
  },
  {
   "cell_type": "code",
   "execution_count": 4,
   "id": "19afcb26",
   "metadata": {},
   "outputs": [
    {
     "name": "stdout",
     "output_type": "stream",
     "text": [
      ">>> LeadingIndustry (unique: 15 categories)\n"
     ]
    },
    {
     "data": {
      "application/vnd.microsoft.datawrangler.viewer.v0+json": {
       "columns": [
        {
         "name": "LeadingIndustry",
         "rawType": "object",
         "type": "string"
        },
        {
         "name": "count",
         "rawType": "int64",
         "type": "integer"
        }
       ],
       "ref": "2d305eac-fb37-4920-a291-7288630b5a51",
       "rows": [
        [
         "",
         "11896"
        ],
        [
         "Cross Industry",
         "1921"
        ],
        [
         "Oil, Gas, and Energy",
         "71"
        ],
        [
         "Retail",
         "62"
        ],
        [
         "Public Sector",
         "51"
        ],
        [
         "Defense and Security",
         "28"
        ],
        [
         "Insurance",
         "19"
        ],
        [
         "Utilities",
         "17"
        ],
        [
         "Agribusiness (Consumer Products)",
         "16"
        ],
        [
         "Consumer Products",
         "9"
        ]
       ],
       "shape": {
        "columns": 1,
        "rows": 10
       }
      },
      "text/plain": [
       "LeadingIndustry\n",
       "                                    11896\n",
       "Cross Industry                       1921\n",
       "Oil, Gas, and Energy                   71\n",
       "Retail                                 62\n",
       "Public Sector                          51\n",
       "Defense and Security                   28\n",
       "Insurance                              19\n",
       "Utilities                              17\n",
       "Agribusiness (Consumer Products)       16\n",
       "Consumer Products                       9\n",
       "Name: count, dtype: int64"
      ]
     },
     "metadata": {},
     "output_type": "display_data"
    },
    {
     "name": "stdout",
     "output_type": "stream",
     "text": [
      ">>> CombinedTitle unique values: 12636\n"
     ]
    },
    {
     "data": {
      "application/vnd.microsoft.datawrangler.viewer.v0+json": {
       "columns": [
        {
         "name": "CombinedTitle",
         "rawType": "object",
         "type": "string"
        },
        {
         "name": "count",
         "rawType": "int64",
         "type": "integer"
        }
       ],
       "ref": "0539409f-0d60-4049-8eca-db91d1a546c5",
       "rows": [
        [
         "",
         "1246"
        ],
        [
         "My Inbox - All Items",
         "9"
        ],
        [
         "Schedule Unplanned Contract Settlement",
         "7"
        ],
        [
         "Schedule Update Settlement Calendar",
         "5"
        ],
        [
         "Schedule Accruals Reversal - Obsolete Contracts, Schedule Accruals Reversal - Obsolete Contracts",
         "4"
        ],
        [
         "Approve Purchase Contracts, Approve Purchase Orders, Approve Service Entry Sheets - Lean Services, Approve Supplier Invoices, Approve Supplier Quotations",
         "4"
        ],
        [
         "Display Change Documents",
         "4"
        ],
        [
         "Capac. planning",
         "3"
        ],
        [
         "Display Maintenance Item",
         "3"
        ],
        [
         "Manage In-House Bank Conditions",
         "3"
        ]
       ],
       "shape": {
        "columns": 1,
        "rows": 10
       }
      },
      "text/plain": [
       "CombinedTitle\n",
       "                                                                                                                                                             1246\n",
       "My Inbox - All Items                                                                                                                                            9\n",
       "Schedule Unplanned Contract Settlement                                                                                                                          7\n",
       "Schedule Update Settlement Calendar                                                                                                                             5\n",
       "Schedule Accruals Reversal - Obsolete Contracts, Schedule Accruals Reversal - Obsolete Contracts                                                                4\n",
       "Approve Purchase Contracts, Approve Purchase Orders, Approve Service Entry Sheets - Lean Services, Approve Supplier Invoices, Approve Supplier Quotations       4\n",
       "Display Change Documents                                                                                                                                        4\n",
       "Capac. planning                                                                                                                                                 3\n",
       "Display Maintenance Item                                                                                                                                        3\n",
       "Manage In-House Bank Conditions                                                                                                                                 3\n",
       "Name: count, dtype: int64"
      ]
     },
     "metadata": {},
     "output_type": "display_data"
    },
    {
     "name": "stdout",
     "output_type": "stream",
     "text": [
      ">>> AppType (unique: 13 categories)\n"
     ]
    },
    {
     "data": {
      "application/vnd.microsoft.datawrangler.viewer.v0+json": {
       "columns": [
        {
         "name": "AppType",
         "rawType": "object",
         "type": "string"
        },
        {
         "name": "count",
         "rawType": "int64",
         "type": "integer"
        }
       ],
       "ref": "cd2b7755-0716-4cb4-9429-e44c9f164b01",
       "rows": [
        [
         "SAP GUI",
         "10346"
        ],
        [
         "Transactional",
         "2000"
        ],
        [
         "Web Dynpro",
         "898"
        ],
        [
         "Analytical",
         "396"
        ],
        [
         "Web Client UI",
         "128"
        ],
        [
         "Reuse Component",
         "112"
        ],
        [
         "Transactional, Reuse Component",
         "83"
        ],
        [
         "Transactional, Analytical",
         "67"
        ],
        [
         "Fact sheet",
         "46"
        ],
        [
         "Transactional, Fact sheet",
         "14"
        ]
       ],
       "shape": {
        "columns": 1,
        "rows": 10
       }
      },
      "text/plain": [
       "AppType\n",
       "SAP GUI                           10346\n",
       "Transactional                      2000\n",
       "Web Dynpro                          898\n",
       "Analytical                          396\n",
       "Web Client UI                       128\n",
       "Reuse Component                     112\n",
       "Transactional, Reuse Component       83\n",
       "Transactional, Analytical            67\n",
       "Fact sheet                           46\n",
       "Transactional, Fact sheet            14\n",
       "Name: count, dtype: int64"
      ]
     },
     "execution_count": 4,
     "metadata": {},
     "output_type": "execute_result"
    }
   ],
   "source": [
    "# Inspect LeadingIndustry distribution\n",
    "print(\">>> LeadingIndustry (unique:\", df_clean[\"LeadingIndustry\"].nunique(), \"categories)\")\n",
    "display(\n",
    "    df_clean[\"LeadingIndustry\"]\n",
    "      .value_counts()\n",
    "      .sort_values(ascending=False)\n",
    "      .head(10)\n",
    ")\n",
    "\n",
    "# Check CombinedTitle uniqueness & top-10\n",
    "print(f\">>> CombinedTitle unique values: {df_clean['CombinedTitle'].nunique()}\")\n",
    "display(df_clean[\"CombinedTitle\"].value_counts().head(10))\n",
    "\n",
    "# Inspect AppType distribution\n",
    "print(\">>> AppType (unique:\", df_clean[\"AppType\"].nunique(), \"categories)\")\n",
    "df_clean[\"AppType\"].value_counts().head(10)\n"
   ]
  },
  {
   "cell_type": "markdown",
   "id": "b10db6e9",
   "metadata": {},
   "source": [
    "We have identiefied:\n",
    "- Class imbalances, e.g. the dominance of “Cross Industry” in **LeadingIndustry**  \n",
    "- Spot rare or overly diverse categories (e.g. **CombinedTitle** has over 12,000 unique values)  \n",
    "- Boilerplate or template descriptions that can later be filtered out  \n",
    "\n",
    "These insights guide a balanced, representative sampling strategy for our manual annotation phase."
   ]
  },
  {
   "cell_type": "markdown",
   "id": "a6f095bc",
   "metadata": {},
   "source": [
    "---\n",
    "\n",
    "## 2.3. Text Field Consolidation"
   ]
  },
  {
   "cell_type": "markdown",
   "id": "67f3774a",
   "metadata": {},
   "source": [
    "**Create a unified `all_text` field**  \n",
    "\n",
    "\n",
    "Based on our univariate checks, we now merge all descriptive and title-like columns into a single free-text field called **`all_text`**. This combined text field will:\n",
    "\n",
    "- Capture all Life-Science–relevant keywords and phrases in one place  \n",
    "- Simplify downstream text processing (tokenization, vectorization)  \n",
    "- Leave structured categorical features (e.g. **LeadingIndustry**, **AppType**) intact for separate encoding  "
   ]
  },
  {
   "cell_type": "code",
   "execution_count": 5,
   "id": "55aead5b",
   "metadata": {},
   "outputs": [
    {
     "data": {
      "application/vnd.microsoft.datawrangler.viewer.v0+json": {
       "columns": [
        {
         "name": "index",
         "rawType": "int64",
         "type": "integer"
        },
        {
         "name": "fioriId",
         "rawType": "object",
         "type": "string"
        },
        {
         "name": "all_text",
         "rawType": "object",
         "type": "string"
        }
       ],
       "ref": "02236ad2-9953-4de8-ae7a-fc92a0e58ae7",
       "rows": [
        [
         "0",
         "1KE4",
         "Profit Center Assignment Monitor You can obtain overviews for the following object types: Orders Business processes Cost centers Cost objects Materials Work breakdown structures Sales order items Real Estate Objects (RE-FX); The overviews for this object type are only available when the component Flexible Real Estate Management (RE-FX) is activated in the client. You can obtain the following overviews for all of the object types listed above: Overview of non-assigned objects for the relevant object type (such as materials that are not assigned to a profit center) Overview of objects for the relevant object type that are assigned to a specific profit center (such as all cost centers that are assigned to profit center A) or that are assigned to a profit center from a specific profit center group Some object types have special features: For orders , you can analyze the assignments to the following order types: internal order (Controlling), accrual order (Controlling), CO production order, production cost collector, QM order, PP production order, network header, maintenance order, and process order. For Cost Centers , you can additionally display the profit centers to which no cost center has yet been assigned. For Cost Objects, general cost objects are included as well as the cost objects for process manufacturing. For materials, you can additionally navigate to Fast Assignment of Materials , which lets you assign a large number of materials to a unique profit center. For the overviews of sales order items , the following applies: The system checks the read authorization for order types and sales organizations and only displays objects that have the corresponding read authorization. The system proceeds as follows with the selection criteria company code and sales organization : If you do not specify a company code, the system selects the company codes that are assigned to the set controlling area. If you do not specify a sales organization, the system selects the sales organizations that are assigned to the company codes. For the overviews of real estate objects , the following applies: If you do not specify a company code, the system selects the company codes that are assigned to the set controlling area. By double-clicking an object in the assignment overviews, you can navigate directly to the corresponding change transaction for that object. In this way, you can make any missing assignments or correct any incorrect ones. The assignment monitor provides you with an overview of all the assignments that you have made from various objects to profit centers and supports you when you make or change assignments. Recommendation Incorrect assignments lead to incorrect transaction data in Profit Center Accounting, which can usually only be corrected with significant effort. We therefore recommend that you check the assignments carefully. Divisional Accountant : Defines division-related master data and transfer prices between different divisions. Analyzes costs and margin for division. Prepares the division reporting package. Cost Accountant - Overhead : Defines overhead master data and the period-end allocation cycle. Implements period-end allocation and monitors overhead costs. Reports expenses on the income statement in the period in which they are incurred. Controller : Sets up and edits organizational structures so that all processes and reports are as accurate as possible. Edits master data, reorganizes company structures, and performs period-end functions. General Ledger Accountant : Carries out daily activities in general ledger, for example by recording transactions and making adjustment postings, and prepares financial statements. Profit Center Accounting Divisional Accountant Profit Center Assignment Monitor"
        ],
        [
         "1",
         "AB08",
         "Reverse Journal Entry - Asset Accounting-Specific This app is a SAP GUI for HTML transaction. These classic transactions are available in the SAP Fiori theme to support a seamless user experience across the SAP Fiori launchpad and to provide a harmonized user experience across on-premise and cloud solutions. The single point of entry for SAP Fiori apps and classic applications in SAP S/4HANA Cloud Private Edition and SAP S/4HANA is the SAP Fiori launchpad. Asset Accountant : Capitalizes costs of assets during purchasing and production processes, defines depreciation parameters, and records depreciation. Ensures correctness, completeness, and documentation of the balance sheet for fixed assets. Basic Functions Asset Accountant Asset Accounting-Specific Reverse Journal Entry - Asset Accounting-Specific"
        ],
        [
         "2",
         "ABAAL",
         "Post Depreciation Manually - Unplanned and Planned The Asset Accounting component consists of the following parts: Basic functions:Master data (asset maintenance) Basic valuation functions Depreciation Transactions, such as asset acquisitions and retirements Closing operations And more Special valuations: for example, for investment support Preparations for consolidation for group financial statements Information system The basic functions cover the entire life of the asset from the purchase order or initial acquisition (which can be managed as an asset under construction) all the way to the asset retirement. The system calculates, to a large extent automatically, the values for depreciation, interest and other purposes between these two points in time, and places this information at your disposal in varied form using the Information System. There is a report for depreciation forecasting and simulation of the development of asset values. The system enables you to manage values in parallel currencies using different types of valuation. These features simplify the process of preparing for the consolidation of multi-national group concerns. For parallel valuation, you can flexibly assign the depreciation areas of Asset Accounting to the ledgers of the general ledger. The system posts parallel values with the actual values in real time; separate documents are posted for each valuation (that is, each accounting principle). Note The following functions are covered by other components: The Plant Maintenance (PM) component offers functions for the technical management of assets in the form of functional locations and as equipment. The Treasury and Risk Management (TRM) component offers special functions for managing financial assets. Asset Accounting in the SAP system is used for managing and monitoring fixed assets. In Financial Accounting, it serves as a subsidiary ledger to the general ledger, providing detailed information on transactions involving fixed assets. Asset Accountant : Capitalizes costs of assets during purchasing and production processes, defines depreciation parameters, and records depreciation. Ensures correctness, completeness, and documentation of the balance sheet for fixed assets. Asset Accounting Asset Accountant Unplanned and Planned Post Depreciation Manually - Unplanned and Planned"
        ],
        [
         "3",
         "ABAON",
         "Post Retirement (Non-Integrated) - Without Customer This app is a SAP GUI for HTML transaction. These classic transactions are available in the SAP Fiori theme to support a seamless user experience across the SAP Fiori launchpad and to provide a harmonized user experience across on-premise and cloud solutions. The single point of entry for SAP Fiori apps and classic applications in SAP S/4HANA Cloud Private Edition and SAP S/4HANA is the SAP Fiori launchpad. Asset Accountant : Capitalizes costs of assets during purchasing and production processes, defines depreciation parameters, and records depreciation. Ensures correctness, completeness, and documentation of the balance sheet for fixed assets. Basic Functions Asset Accountant Without Customer Post Retirement (Non-Integrated) - Without Customer"
        ],
        [
         "4",
         "ABAVN",
         "Post Retirement - By Scrapping This app is a SAP GUI for HTML transaction. These classic transactions are available in the SAP Fiori theme to support a seamless user experience across the SAP Fiori launchpad and to provide a harmonized user experience across on-premise and cloud solutions. The single point of entry for SAP Fiori apps and classic applications in SAP S/4HANA Cloud Private Edition and SAP S/4HANA is the SAP Fiori launchpad. Asset Accountant : Capitalizes costs of assets during purchasing and production processes, defines depreciation parameters, and records depreciation. Ensures correctness, completeness, and documentation of the balance sheet for fixed assets. Basic Functions Asset Accountant By Scrapping Post Retirement - By Scrapping"
        ]
       ],
       "shape": {
        "columns": 2,
        "rows": 5
       }
      },
      "text/html": [
       "<div>\n",
       "<style scoped>\n",
       "    .dataframe tbody tr th:only-of-type {\n",
       "        vertical-align: middle;\n",
       "    }\n",
       "\n",
       "    .dataframe tbody tr th {\n",
       "        vertical-align: top;\n",
       "    }\n",
       "\n",
       "    .dataframe thead th {\n",
       "        text-align: right;\n",
       "    }\n",
       "</style>\n",
       "<table border=\"1\" class=\"dataframe\">\n",
       "  <thead>\n",
       "    <tr style=\"text-align: right;\">\n",
       "      <th></th>\n",
       "      <th>fioriId</th>\n",
       "      <th>all_text</th>\n",
       "    </tr>\n",
       "  </thead>\n",
       "  <tbody>\n",
       "    <tr>\n",
       "      <th>0</th>\n",
       "      <td>1KE4</td>\n",
       "      <td>Profit Center Assignment Monitor You can obtai...</td>\n",
       "    </tr>\n",
       "    <tr>\n",
       "      <th>1</th>\n",
       "      <td>AB08</td>\n",
       "      <td>Reverse Journal Entry - Asset Accounting-Speci...</td>\n",
       "    </tr>\n",
       "    <tr>\n",
       "      <th>2</th>\n",
       "      <td>ABAAL</td>\n",
       "      <td>Post Depreciation Manually - Unplanned and Pla...</td>\n",
       "    </tr>\n",
       "    <tr>\n",
       "      <th>3</th>\n",
       "      <td>ABAON</td>\n",
       "      <td>Post Retirement (Non-Integrated) - Without Cus...</td>\n",
       "    </tr>\n",
       "    <tr>\n",
       "      <th>4</th>\n",
       "      <td>ABAVN</td>\n",
       "      <td>Post Retirement - By Scrapping This app is a S...</td>\n",
       "    </tr>\n",
       "  </tbody>\n",
       "</table>\n",
       "</div>"
      ],
      "text/plain": [
       "  fioriId                                           all_text\n",
       "0    1KE4  Profit Center Assignment Monitor You can obtai...\n",
       "1    AB08  Reverse Journal Entry - Asset Accounting-Speci...\n",
       "2   ABAAL  Post Depreciation Manually - Unplanned and Pla...\n",
       "3   ABAON  Post Retirement (Non-Integrated) - Without Cus...\n",
       "4   ABAVN  Post Retirement - By Scrapping This app is a S..."
      ]
     },
     "execution_count": 5,
     "metadata": {},
     "output_type": "execute_result"
    }
   ],
   "source": [
    "# Prepare a single free-text field for annotation\n",
    "text_cols = [\n",
    "    \"CombinedTitle\", \"AppKeyFeatures\", \"GTMAppDescription\",\n",
    "    \"RoleCombinedToolTipDescription\", \"ApplicationComponentText\",\n",
    "    \"BusinessRoleDescription\", \"Subtitle\", \"AppName\"\n",
    "]\n",
    "\n",
    "df_clean[\"all_text\"] = (\n",
    "    df_clean[text_cols]\n",
    "        .agg(\" \".join, axis=1)                # concatenate with space\n",
    "        .str.replace(r\"\\s+\", \" \", regex=True) # collapse multiple spaces\n",
    "        .str.strip()                          # trim leading/trailing\n",
    ")\n",
    "\n",
    "# Ensure 'fioriId' is the index\n",
    "df_clean.index.name = \"fioriId\"\n",
    "df_clean = df_clean.reset_index()  # brings index into columns\n",
    "\n",
    "df_clean[[\"fioriId\", \"all_text\"]].head()"
   ]
  },
  {
   "cell_type": "markdown",
   "id": "08d2218c",
   "metadata": {},
   "source": [
    "By centralizing narrative content in `all_text`, we ensure our keyword filtering and embedding pipelines focus on the richest textual signal while preserving metadata for later models.  "
   ]
  },
  {
   "cell_type": "markdown",
   "id": "359e5573",
   "metadata": {},
   "source": [
    "We export the cleaned dataframe containing the all_text column to a CSV file so it can be reused in the next steps of the pipeline."
   ]
  },
  {
   "cell_type": "code",
   "execution_count": 6,
   "id": "0c643731",
   "metadata": {},
   "outputs": [],
   "source": [
    "df_clean.to_csv(BASE_DIR / \"data/02_df_cleaned_all_text.csv\", index=False, encoding='utf-8')"
   ]
  },
  {
   "cell_type": "markdown",
   "id": "79ed9afc",
   "metadata": {},
   "source": [
    "By centralizing narrative content in `all_text`, we ensure our keyword filtering and embedding pipelines focus on the richest textual signal while preserving metadata for later models.  "
   ]
  },
  {
   "cell_type": "markdown",
   "id": "a5589f09",
   "metadata": {},
   "source": [
    "---\n",
    "\n",
    "## 2.4. Build Annotation Sample\n",
    "\n",
    "* 250 random + 250 keyword hits  \n",
    "\n",
    "We create two equally sized pools:  \n",
    "1. **Random sample** – 250 records drawn uniformly from the full dataset.  \n",
    "2. **Keyword sample** – 250 records whose `all_text` contains at least one Life-Science keyword.  "
   ]
  },
  {
   "cell_type": "code",
   "execution_count": 7,
   "id": "2691ecec",
   "metadata": {},
   "outputs": [
    {
     "name": "stdout",
     "output_type": "stream",
     "text": [
      "(500, 19)\n"
     ]
    },
    {
     "data": {
      "application/vnd.microsoft.datawrangler.viewer.v0+json": {
       "columns": [
        {
         "name": "index",
         "rawType": "int64",
         "type": "integer"
        },
        {
         "name": "fioriId",
         "rawType": "object",
         "type": "string"
        },
        {
         "name": "AppKeyFeatures",
         "rawType": "object",
         "type": "string"
        },
        {
         "name": "AppName",
         "rawType": "object",
         "type": "string"
        },
        {
         "name": "AppType",
         "rawType": "object",
         "type": "string"
        },
        {
         "name": "ApplicationComponentText",
         "rawType": "object",
         "type": "string"
        },
        {
         "name": "BusinessRoleDescription",
         "rawType": "object",
         "type": "string"
        },
        {
         "name": "CombinedTitle",
         "rawType": "object",
         "type": "string"
        },
        {
         "name": "GTMAppDescription",
         "rawType": "object",
         "type": "string"
        },
        {
         "name": "GTMAppName",
         "rawType": "object",
         "type": "string"
        },
        {
         "name": "GTMInnovationName",
         "rawType": "object",
         "type": "string"
        },
        {
         "name": "GTMLoBName",
         "rawType": "object",
         "type": "string"
        },
        {
         "name": "Information",
         "rawType": "object",
         "type": "string"
        },
        {
         "name": "LeadingIndustry",
         "rawType": "object",
         "type": "string"
        },
        {
         "name": "PFDBIndustry",
         "rawType": "object",
         "type": "string"
        },
        {
         "name": "RoleCombinedToolTipDescription",
         "rawType": "object",
         "type": "string"
        },
        {
         "name": "SolutionsCapability",
         "rawType": "object",
         "type": "string"
        },
        {
         "name": "Subtitle",
         "rawType": "object",
         "type": "string"
        },
        {
         "name": "Title",
         "rawType": "object",
         "type": "string"
        },
        {
         "name": "all_text",
         "rawType": "object",
         "type": "string"
        }
       ],
       "ref": "b039aad4-f431-4ca0-bd71-2087042b063a",
       "rows": [
        [
         "0",
         "F4152",
         "Call up a worklist of all repair objects to individually plan their diagnosis or repair (statuses Plan: Diagnosis or Plan: Repair). You can filter, sort, and group a list of repair objects to be planned. You can also filter for repair objects to be planned by a specific employee responsible or by the credit status that has been determined in the repair order. Display the details of the repair objects that are currently in planning. You can access the related product and equipment data to check its details.​ Create a returns order to trigger the logistics process for repair objects that customers send for repair. In this case, you can create an outbound delivery to send the repair object back to the customer. Access the repair order to enter the planning details. Use the worklist to trigger actions (for example, create returns order) for multiple repair objects in the same in-house repair simultaneously or for each repair object individually.",
         "Plan Repairs",
         "Transactional",
         "S4CRM: In-House Repair",
         "Customer Service Representative - In-House Repair| Customer Service Manager - In-House Repair",
         "Plan Repairs",
         "You can use this app to schedule the diagnosis and the repair of the objects, and assign the service employee.",
         "Plan Repairs (SAP S/4HANA OP)",
         "Optimized service delivery through streamlined in-house repair processes",
         "Constituent Omnichannel Services, Customer, Installation and Service, Managed Services, Marketing, Sales, Sales and Marketing, Service",
         "",
         "Cross Industry",
         "Aerospace and Defense; Automotive; Chemicals; Consumer Products; Cross Industry; Higher Education and Research; Industrial Manufacturing; Insurance; Life Sciences; Mill Products; OEM (High Tech); Oil, Gas, and Energy; Professional Services; Public Sector; Retail; Semiconductor (High Tech); Software Providers (High Tech); Sports and Entertainment; Telecommunications; Transportation and Logistics (Travel and Transportation); Travel and Leisure (Travel and Transportation); Utilities; Wholesale Distribution; obsolete - Entertainment",
         "Customer Service Manager - In-House Repair : Manages In-House Repair service processes, including repair planning, monitoring, process optimization and personnel management. Customer Service Representative - In-House Repair : Is responsible for coordinating In-House Repairs and ensuring their correct commercial processing. Manages received devices, quotations, repair orders and billing.",
         "In-House Repair (S/4)",
         "",
         "Plan Repairs",
         "Plan Repairs Call up a worklist of all repair objects to individually plan their diagnosis or repair (statuses Plan: Diagnosis or Plan: Repair). You can filter, sort, and group a list of repair objects to be planned. You can also filter for repair objects to be planned by a specific employee responsible or by the credit status that has been determined in the repair order. Display the details of the repair objects that are currently in planning. You can access the related product and equipment data to check its details.​ Create a returns order to trigger the logistics process for repair objects that customers send for repair. In this case, you can create an outbound delivery to send the repair object back to the customer. Access the repair order to enter the planning details. Use the worklist to trigger actions (for example, create returns order) for multiple repair objects in the same in-house repair simultaneously or for each repair object individually. You can use this app to schedule the diagnosis and the repair of the objects, and assign the service employee. Customer Service Manager - In-House Repair : Manages In-House Repair service processes, including repair planning, monitoring, process optimization and personnel management. Customer Service Representative - In-House Repair : Is responsible for coordinating In-House Repairs and ensuring their correct commercial processing. Manages received devices, quotations, repair orders and billing. S4CRM: In-House Repair Customer Service Representative - In-House Repair| Customer Service Manager - In-House Repair Plan Repairs"
        ],
        [
         "1",
         "O4D4",
         "",
         "Delete Driver",
         "SAP GUI",
         "Transportation and Distribution",
         "Shipping Specialist (IOG)| Transportation Scheduler (IOG)",
         "Delete Driver",
         "This app is a SAP GUI for HTML transaction. These classic transactions are available in the SAP Fiori theme to support a seamless user experience across the SAP Fiori launchpad and to provide a harmonized user experience across on-premise and cloud solutions. The single point of entry for SAP Fiori apps and classic applications in SAP S/4HANA Cloud Private Edition and SAP S/4HANA is the SAP Fiori launchpad.",
         "SAP Fiori theme for SAP GUI for HTML (SAP S/4HANA Cloud Private Edition and SAP S/4HANA)",
         "SAP Fiori visual theme for classic applications in SAP S/4HANA Cloud Private Edition and SAP S/4HANA",
         "",
         "",
         "",
         "",
         "Transportation Scheduler (Oil & Gas) : Schedules movements along the supply chain. Is responsible for multiple terminals and transport systems (marine, rail, truck, pipeline), multiple products (crude, feed stocks, refined products) and stock transfers, purchase orders, and sales orders. Shipping Specialist (Oil & Gas): (is an add-on role to the Shipping Specialist) Processes outbound deliveries. Additionally performs IS-OIL specific Transportation and Distribution (TD) Shipment Processing, Master Data maintenance for shipment, shipment processing and Traders and Schedulers Workbench (TSW) operations.",
         "",
         "",
         "Delete Driver",
         "Delete Driver This app is a SAP GUI for HTML transaction. These classic transactions are available in the SAP Fiori theme to support a seamless user experience across the SAP Fiori launchpad and to provide a harmonized user experience across on-premise and cloud solutions. The single point of entry for SAP Fiori apps and classic applications in SAP S/4HANA Cloud Private Edition and SAP S/4HANA is the SAP Fiori launchpad. Transportation Scheduler (Oil & Gas) : Schedules movements along the supply chain. Is responsible for multiple terminals and transport systems (marine, rail, truck, pipeline), multiple products (crude, feed stocks, refined products) and stock transfers, purchase orders, and sales orders. Shipping Specialist (Oil & Gas): (is an add-on role to the Shipping Specialist) Processes outbound deliveries. Additionally performs IS-OIL specific Transportation and Distribution (TD) Shipment Processing, Master Data maintenance for shipment, shipment processing and Traders and Schedulers Workbench (TSW) operations. Transportation and Distribution Shipping Specialist (IOG)| Transportation Scheduler (IOG) Delete Driver"
        ],
        [
         "2",
         "MD09",
         "For the MRP element selected, you can display: just the pegged requirement(s) on the highest BOM level The system displays the requirements quantity and the input quantity for each requirement. The input quantity is the portion of the MRP element that is required to cover the displayed requirement. The input quantity is displayed in the base unit of measure of the material. the order route ; that means all the requirements and replenishment elements that lie between the pegged requirement and the MRP element If an MRP element contains a quantity that was not caused by a requirement from a higher level, the system displays this quantity separately. Quantities without source arise, if more is produced than is required because of a rounding value for the lot size or a fixed lot size or if procurement proposals have been scheduled manually.",
         "Display Pegged Requirements",
         "SAP GUI",
         "Material Requirements Planning",
         "",
         "Display Pegged Requirements",
         "You can use the Pegged requirements function to retrace from any BOM level which requirements are the source of which procurement proposals which independent requirements (especially sales orders) are affected if a procurement proposal is cancelled or a date or quantity is changed on a lower level.",
         "SAP Fiori theme for SAP GUI for HTML (SAP S/4HANA Cloud Private Edition and SAP S/4HANA)",
         "SAP Fiori visual theme for classic applications in SAP S/4HANA Cloud Private Edition and SAP S/4HANA",
         "",
         "",
         "",
         "",
         "unknown",
         "",
         "",
         "Display Pegged Requirements",
         "Display Pegged Requirements For the MRP element selected, you can display: just the pegged requirement(s) on the highest BOM level The system displays the requirements quantity and the input quantity for each requirement. The input quantity is the portion of the MRP element that is required to cover the displayed requirement. The input quantity is displayed in the base unit of measure of the material. the order route ; that means all the requirements and replenishment elements that lie between the pegged requirement and the MRP element If an MRP element contains a quantity that was not caused by a requirement from a higher level, the system displays this quantity separately. Quantities without source arise, if more is produced than is required because of a rounding value for the lot size or a fixed lot size or if procurement proposals have been scheduled manually. You can use the Pegged requirements function to retrace from any BOM level which requirements are the source of which procurement proposals which independent requirements (especially sales orders) are affected if a procurement proposal is cancelled or a date or quantity is changed on a lower level. unknown Material Requirements Planning Display Pegged Requirements"
        ],
        [
         "3",
         "EPREPAY",
         "",
         "Manage Amount for Prepayment Meter",
         "SAP GUI",
         "Contract Billing",
         "",
         "Manage Amount for Prepayment Meter",
         "This app is a SAP GUI for HTML transaction. These classic transactions are available in the SAP Fiori theme to support a seamless user experience across the SAP Fiori launchpad and to provide a harmonized user experience across on-premise and cloud solutions. The single point of entry for SAP Fiori apps and classic applications in SAP S/4HANA Cloud Private Edition and SAP S/4HANA is the SAP Fiori launchpad.",
         "SAP Fiori theme for SAP GUI for HTML (SAP S/4HANA Cloud Private Edition and SAP S/4HANA)",
         "SAP Fiori visual theme for classic applications in SAP S/4HANA Cloud Private Edition and SAP S/4HANA",
         "",
         "",
         "",
         "",
         "unknown",
         "",
         "",
         "Manage Amount for Prepayment Meter",
         "Manage Amount for Prepayment Meter This app is a SAP GUI for HTML transaction. These classic transactions are available in the SAP Fiori theme to support a seamless user experience across the SAP Fiori launchpad and to provide a harmonized user experience across on-premise and cloud solutions. The single point of entry for SAP Fiori apps and classic applications in SAP S/4HANA Cloud Private Edition and SAP S/4HANA is the SAP Fiori launchpad. unknown Contract Billing Manage Amount for Prepayment Meter"
        ],
        [
         "4",
         "IK11",
         "",
         "Create Measurement Document",
         "SAP GUI",
         "Measuring points and counters",
         "Maintenance Supervisor| Production Operator - Discrete Manufacturing",
         "Create Measurement Document",
         "This app is a SAP GUI for HTML transaction. These classic transactions are available in the SAP Fiori theme to support a seamless user experience across the SAP Fiori launchpad and to provide a harmonized user experience across on-premise and cloud solutions. The single point of entry for SAP Fiori apps and classic applications in SAP S/4HANA Cloud Private Edition and SAP S/4HANA is the SAP Fiori launchpad.",
         "SAP Fiori theme for SAP GUI for HTML (SAP S/4HANA Cloud Private Edition and SAP S/4HANA)",
         "SAP Fiori visual theme for classic applications in SAP S/4HANA Cloud Private Edition and SAP S/4HANA",
         "",
         "",
         "",
         "",
         "Production Operator - Discrete Manufacturing : Operates the machines or does manual assembly activities on the production line or in a shop floor environment, to produce as per the planned production orders of the shift. Reports Yield, Scrap and Rework, Downtimes, etc. into the system. Maintenance Supervisor : Collects, reviews, and prioritizes all maintenance requests from different sources and ensures that they contain all the relevant information required so that the problems can be solved quickly.",
         "",
         "",
         "Create Measurement Document",
         "Create Measurement Document This app is a SAP GUI for HTML transaction. These classic transactions are available in the SAP Fiori theme to support a seamless user experience across the SAP Fiori launchpad and to provide a harmonized user experience across on-premise and cloud solutions. The single point of entry for SAP Fiori apps and classic applications in SAP S/4HANA Cloud Private Edition and SAP S/4HANA is the SAP Fiori launchpad. Production Operator - Discrete Manufacturing : Operates the machines or does manual assembly activities on the production line or in a shop floor environment, to produce as per the planned production orders of the shift. Reports Yield, Scrap and Rework, Downtimes, etc. into the system. Maintenance Supervisor : Collects, reviews, and prioritizes all maintenance requests from different sources and ensures that they contain all the relevant information required so that the problems can be solved quickly. Measuring points and counters Maintenance Supervisor| Production Operator - Discrete Manufacturing Create Measurement Document"
        ]
       ],
       "shape": {
        "columns": 19,
        "rows": 5
       }
      },
      "text/html": [
       "<div>\n",
       "<style scoped>\n",
       "    .dataframe tbody tr th:only-of-type {\n",
       "        vertical-align: middle;\n",
       "    }\n",
       "\n",
       "    .dataframe tbody tr th {\n",
       "        vertical-align: top;\n",
       "    }\n",
       "\n",
       "    .dataframe thead th {\n",
       "        text-align: right;\n",
       "    }\n",
       "</style>\n",
       "<table border=\"1\" class=\"dataframe\">\n",
       "  <thead>\n",
       "    <tr style=\"text-align: right;\">\n",
       "      <th></th>\n",
       "      <th>fioriId</th>\n",
       "      <th>AppKeyFeatures</th>\n",
       "      <th>AppName</th>\n",
       "      <th>AppType</th>\n",
       "      <th>ApplicationComponentText</th>\n",
       "      <th>BusinessRoleDescription</th>\n",
       "      <th>CombinedTitle</th>\n",
       "      <th>GTMAppDescription</th>\n",
       "      <th>GTMAppName</th>\n",
       "      <th>GTMInnovationName</th>\n",
       "      <th>GTMLoBName</th>\n",
       "      <th>Information</th>\n",
       "      <th>LeadingIndustry</th>\n",
       "      <th>PFDBIndustry</th>\n",
       "      <th>RoleCombinedToolTipDescription</th>\n",
       "      <th>SolutionsCapability</th>\n",
       "      <th>Subtitle</th>\n",
       "      <th>Title</th>\n",
       "      <th>all_text</th>\n",
       "    </tr>\n",
       "  </thead>\n",
       "  <tbody>\n",
       "    <tr>\n",
       "      <th>0</th>\n",
       "      <td>F4152</td>\n",
       "      <td>Call up a worklist of all repair objects to in...</td>\n",
       "      <td>Plan Repairs</td>\n",
       "      <td>Transactional</td>\n",
       "      <td>S4CRM: In-House Repair</td>\n",
       "      <td>Customer Service Representative - In-House Rep...</td>\n",
       "      <td>Plan Repairs</td>\n",
       "      <td>You can use this app to schedule the diagnosis...</td>\n",
       "      <td>Plan Repairs (SAP S/4HANA OP)</td>\n",
       "      <td>Optimized service delivery through streamlined...</td>\n",
       "      <td>Constituent Omnichannel Services, Customer, In...</td>\n",
       "      <td></td>\n",
       "      <td>Cross Industry</td>\n",
       "      <td>Aerospace and Defense; Automotive; Chemicals; ...</td>\n",
       "      <td>Customer Service Manager - In-House Repair : M...</td>\n",
       "      <td>In-House Repair (S/4)</td>\n",
       "      <td></td>\n",
       "      <td>Plan Repairs</td>\n",
       "      <td>Plan Repairs Call up a worklist of all repair ...</td>\n",
       "    </tr>\n",
       "    <tr>\n",
       "      <th>1</th>\n",
       "      <td>O4D4</td>\n",
       "      <td></td>\n",
       "      <td>Delete Driver</td>\n",
       "      <td>SAP GUI</td>\n",
       "      <td>Transportation and Distribution</td>\n",
       "      <td>Shipping Specialist (IOG)| Transportation Sche...</td>\n",
       "      <td>Delete Driver</td>\n",
       "      <td>This app is a SAP GUI for HTML transaction. Th...</td>\n",
       "      <td>SAP Fiori theme for SAP GUI for HTML (SAP S/4H...</td>\n",
       "      <td>SAP Fiori visual theme for classic application...</td>\n",
       "      <td></td>\n",
       "      <td></td>\n",
       "      <td></td>\n",
       "      <td></td>\n",
       "      <td>Transportation Scheduler (Oil &amp; Gas) : Schedul...</td>\n",
       "      <td></td>\n",
       "      <td></td>\n",
       "      <td>Delete Driver</td>\n",
       "      <td>Delete Driver This app is a SAP GUI for HTML t...</td>\n",
       "    </tr>\n",
       "    <tr>\n",
       "      <th>2</th>\n",
       "      <td>MD09</td>\n",
       "      <td>For the MRP element selected, you can display:...</td>\n",
       "      <td>Display Pegged Requirements</td>\n",
       "      <td>SAP GUI</td>\n",
       "      <td>Material Requirements Planning</td>\n",
       "      <td></td>\n",
       "      <td>Display Pegged Requirements</td>\n",
       "      <td>You can use the Pegged requirements function t...</td>\n",
       "      <td>SAP Fiori theme for SAP GUI for HTML (SAP S/4H...</td>\n",
       "      <td>SAP Fiori visual theme for classic application...</td>\n",
       "      <td></td>\n",
       "      <td></td>\n",
       "      <td></td>\n",
       "      <td></td>\n",
       "      <td>unknown</td>\n",
       "      <td></td>\n",
       "      <td></td>\n",
       "      <td>Display Pegged Requirements</td>\n",
       "      <td>Display Pegged Requirements For the MRP elemen...</td>\n",
       "    </tr>\n",
       "    <tr>\n",
       "      <th>3</th>\n",
       "      <td>EPREPAY</td>\n",
       "      <td></td>\n",
       "      <td>Manage Amount for Prepayment Meter</td>\n",
       "      <td>SAP GUI</td>\n",
       "      <td>Contract Billing</td>\n",
       "      <td></td>\n",
       "      <td>Manage Amount for Prepayment Meter</td>\n",
       "      <td>This app is a SAP GUI for HTML transaction. Th...</td>\n",
       "      <td>SAP Fiori theme for SAP GUI for HTML (SAP S/4H...</td>\n",
       "      <td>SAP Fiori visual theme for classic application...</td>\n",
       "      <td></td>\n",
       "      <td></td>\n",
       "      <td></td>\n",
       "      <td></td>\n",
       "      <td>unknown</td>\n",
       "      <td></td>\n",
       "      <td></td>\n",
       "      <td>Manage Amount for Prepayment Meter</td>\n",
       "      <td>Manage Amount for Prepayment Meter This app is...</td>\n",
       "    </tr>\n",
       "    <tr>\n",
       "      <th>4</th>\n",
       "      <td>IK11</td>\n",
       "      <td></td>\n",
       "      <td>Create Measurement Document</td>\n",
       "      <td>SAP GUI</td>\n",
       "      <td>Measuring points and counters</td>\n",
       "      <td>Maintenance Supervisor| Production Operator - ...</td>\n",
       "      <td>Create Measurement Document</td>\n",
       "      <td>This app is a SAP GUI for HTML transaction. Th...</td>\n",
       "      <td>SAP Fiori theme for SAP GUI for HTML (SAP S/4H...</td>\n",
       "      <td>SAP Fiori visual theme for classic application...</td>\n",
       "      <td></td>\n",
       "      <td></td>\n",
       "      <td></td>\n",
       "      <td></td>\n",
       "      <td>Production Operator - Discrete Manufacturing :...</td>\n",
       "      <td></td>\n",
       "      <td></td>\n",
       "      <td>Create Measurement Document</td>\n",
       "      <td>Create Measurement Document This app is a SAP ...</td>\n",
       "    </tr>\n",
       "  </tbody>\n",
       "</table>\n",
       "</div>"
      ],
      "text/plain": [
       "   fioriId                                     AppKeyFeatures  \\\n",
       "0    F4152  Call up a worklist of all repair objects to in...   \n",
       "1     O4D4                                                      \n",
       "2     MD09  For the MRP element selected, you can display:...   \n",
       "3  EPREPAY                                                      \n",
       "4     IK11                                                      \n",
       "\n",
       "                              AppName        AppType  \\\n",
       "0                        Plan Repairs  Transactional   \n",
       "1                       Delete Driver        SAP GUI   \n",
       "2         Display Pegged Requirements        SAP GUI   \n",
       "3  Manage Amount for Prepayment Meter        SAP GUI   \n",
       "4         Create Measurement Document        SAP GUI   \n",
       "\n",
       "          ApplicationComponentText  \\\n",
       "0           S4CRM: In-House Repair   \n",
       "1  Transportation and Distribution   \n",
       "2   Material Requirements Planning   \n",
       "3                 Contract Billing   \n",
       "4    Measuring points and counters   \n",
       "\n",
       "                             BusinessRoleDescription  \\\n",
       "0  Customer Service Representative - In-House Rep...   \n",
       "1  Shipping Specialist (IOG)| Transportation Sche...   \n",
       "2                                                      \n",
       "3                                                      \n",
       "4  Maintenance Supervisor| Production Operator - ...   \n",
       "\n",
       "                        CombinedTitle  \\\n",
       "0                        Plan Repairs   \n",
       "1                       Delete Driver   \n",
       "2         Display Pegged Requirements   \n",
       "3  Manage Amount for Prepayment Meter   \n",
       "4         Create Measurement Document   \n",
       "\n",
       "                                   GTMAppDescription  \\\n",
       "0  You can use this app to schedule the diagnosis...   \n",
       "1  This app is a SAP GUI for HTML transaction. Th...   \n",
       "2  You can use the Pegged requirements function t...   \n",
       "3  This app is a SAP GUI for HTML transaction. Th...   \n",
       "4  This app is a SAP GUI for HTML transaction. Th...   \n",
       "\n",
       "                                          GTMAppName  \\\n",
       "0                      Plan Repairs (SAP S/4HANA OP)   \n",
       "1  SAP Fiori theme for SAP GUI for HTML (SAP S/4H...   \n",
       "2  SAP Fiori theme for SAP GUI for HTML (SAP S/4H...   \n",
       "3  SAP Fiori theme for SAP GUI for HTML (SAP S/4H...   \n",
       "4  SAP Fiori theme for SAP GUI for HTML (SAP S/4H...   \n",
       "\n",
       "                                   GTMInnovationName  \\\n",
       "0  Optimized service delivery through streamlined...   \n",
       "1  SAP Fiori visual theme for classic application...   \n",
       "2  SAP Fiori visual theme for classic application...   \n",
       "3  SAP Fiori visual theme for classic application...   \n",
       "4  SAP Fiori visual theme for classic application...   \n",
       "\n",
       "                                          GTMLoBName Information  \\\n",
       "0  Constituent Omnichannel Services, Customer, In...               \n",
       "1                                                                  \n",
       "2                                                                  \n",
       "3                                                                  \n",
       "4                                                                  \n",
       "\n",
       "  LeadingIndustry                                       PFDBIndustry  \\\n",
       "0  Cross Industry  Aerospace and Defense; Automotive; Chemicals; ...   \n",
       "1                                                                      \n",
       "2                                                                      \n",
       "3                                                                      \n",
       "4                                                                      \n",
       "\n",
       "                      RoleCombinedToolTipDescription    SolutionsCapability  \\\n",
       "0  Customer Service Manager - In-House Repair : M...  In-House Repair (S/4)   \n",
       "1  Transportation Scheduler (Oil & Gas) : Schedul...                          \n",
       "2                                            unknown                          \n",
       "3                                            unknown                          \n",
       "4  Production Operator - Discrete Manufacturing :...                          \n",
       "\n",
       "  Subtitle                               Title  \\\n",
       "0                                 Plan Repairs   \n",
       "1                                Delete Driver   \n",
       "2                  Display Pegged Requirements   \n",
       "3           Manage Amount for Prepayment Meter   \n",
       "4                  Create Measurement Document   \n",
       "\n",
       "                                            all_text  \n",
       "0  Plan Repairs Call up a worklist of all repair ...  \n",
       "1  Delete Driver This app is a SAP GUI for HTML t...  \n",
       "2  Display Pegged Requirements For the MRP elemen...  \n",
       "3  Manage Amount for Prepayment Meter This app is...  \n",
       "4  Create Measurement Document This app is a SAP ...  "
      ]
     },
     "execution_count": 7,
     "metadata": {},
     "output_type": "execute_result"
    }
   ],
   "source": [
    "# Keyword filtering for annotation sample\n",
    "keywords = [\"clinical\", \"patient\", \"lab\", \"gxp\", \"regulatory\", \"validation\"]\n",
    "pattern   = \"|\".join(keywords)\n",
    "hits_mask = df_clean[\"all_text\"].str.contains(pattern, case=False, na=False)\n",
    "\n",
    "# Keyword pool (may be smaller than 150 if few hits)\n",
    "kw_pool   = df_clean[hits_mask]\n",
    "rnd_pool  = df_clean[~hits_mask]\n",
    "\n",
    "kw_n  = min(250, len(kw_pool))\n",
    "rnd_n = 250\n",
    "\n",
    "sample_keyword = kw_pool.sample(n=kw_n, random_state=SEED)\n",
    "sample_random  = rnd_pool.sample(n=rnd_n, random_state=SEED)\n",
    "\n",
    "# Combine, deduplicate (in case of overlap), shuffle\n",
    "annotation_df = (\n",
    "    pd.concat([sample_keyword, sample_random])\n",
    "      .drop_duplicates(subset=\"fioriId\")\n",
    "      .sample(frac=1, random_state=SEED)\n",
    "      .reset_index(drop=True)\n",
    ")\n",
    "\n",
    "print(annotation_df.shape) # Should be (300, 19)\n",
    "annotation_df.head()\n"
   ]
  },
  {
   "cell_type": "markdown",
   "id": "ff8d6c13",
   "metadata": {},
   "source": [
    "---\n",
    "\n",
    "## 2.5. Heuristic pre-labeling\n",
    "\n",
    "**Pre-Labeling Strategy**  \n",
    "We automatically assign a **pre-label** to all 500 sampled apps to speed up manual review:\n",
    "\n",
    "- **Label 1 (Potentially Relevant):**  \n",
    "  If the combined text contains **any** of five Life-Science keywords.\n",
    "\n",
    "- **Label 0 (Potentially Not Relevant):**  \n",
    "  If none of those keywords appear.\n",
    "\n",
    "This pre-labeling flags likely relevant cases for prioritized inspection, reducing the manual effort on clearly irrelevant entries.  \n"
   ]
  },
  {
   "cell_type": "code",
   "execution_count": 8,
   "id": "fbbc4ab7",
   "metadata": {},
   "outputs": [
    {
     "data": {
      "application/vnd.microsoft.datawrangler.viewer.v0+json": {
       "columns": [
        {
         "name": "pre_label",
         "rawType": "int64",
         "type": "integer"
        },
        {
         "name": "count",
         "rawType": "int64",
         "type": "integer"
        }
       ],
       "ref": "ba423b6a-8fd3-4195-b10d-64936cb2375c",
       "rows": [
        [
         "0",
         "250"
        ],
        [
         "1",
         "250"
        ]
       ],
       "shape": {
        "columns": 1,
        "rows": 2
       }
      },
      "text/plain": [
       "pre_label\n",
       "0    250\n",
       "1    250\n",
       "Name: count, dtype: int64"
      ]
     },
     "execution_count": 8,
     "metadata": {},
     "output_type": "execute_result"
    }
   ],
   "source": [
    "# Add heuristic pre-label\n",
    "keywords = [\"clinical\", \"patient\", \"lab\", \"gxp\", \"regulatory\", \"validation\"]\n",
    "pattern = \"|\".join(keywords)\n",
    "\n",
    "annotation_df[\"pre_label\"] = (\n",
    "    annotation_df[\"all_text\"]\n",
    "        .str.contains(pattern, case=False, na=False)\n",
    "        .astype(int)          # True→1, False→0\n",
    ")\n",
    "\n",
    "annotation_df[\"pre_label\"].value_counts()\n"
   ]
  },
  {
   "cell_type": "markdown",
   "id": "5958b2ab",
   "metadata": {},
   "source": [
    "---\n",
    "\n",
    "## 2.6. Manual Review & Label Verification\n",
    "\n",
    "* Provide annotators with just the necessary fields (`fioriId`, `all_text`, `pre_label`):  \n",
    "\n"
   ]
  },
  {
   "cell_type": "code",
   "execution_count": 9,
   "id": "0b7611a7",
   "metadata": {},
   "outputs": [],
   "source": [
    " # Export to CSV for Verification of Pre-labels\n",
    "\n",
    "cols_to_export = [\"fioriId\", \"all_text\", \"pre_label\"]\n",
    "annotation_df[cols_to_export].to_csv(BASE_DIR / \"data/02_annotation_sample.csv\", index=False)"
   ]
  },
  {
   "cell_type": "markdown",
   "id": "cdf8ffba",
   "metadata": {},
   "source": [
    "We perform a **manual audit** of the 500 pre-labeled apps to ensure high-quality ground truth:\n",
    "\n",
    "- **Preserve all entries**:  No rows are removed or altered< every app’s original text stays intact.  \n",
    "- **Adjust only the `Label` field**:  We overwrite the pre-labels where necessary based on human judgment.  \n",
    "- **Balance the sample**:  We aim for an even **150 relevant / 150 not relevant** final split.\n",
    "\n",
    "This fully validated, evenly distributed sample now serves as a reliable training set for our subsequent modeling steps.  \n",
    "\n",
    "***Feel free to verify it yourself, or continue with our manually verified version of the annotated dataset.***"
   ]
  },
  {
   "cell_type": "markdown",
   "id": "6b0fbc5e",
   "metadata": {},
   "source": [
    "**Quality Check of Manual Labels**\n",
    "\n",
    "- **Data Integrity**  \n",
    "  We verify that all columns (except `Label`) remain identical to the original CSV—no text or metadata have been altered or lost.\n",
    "\n",
    "- **Label Balance**  \n",
    "  Then we confirm the label distribution:  \n",
    "  ```python"
   ]
  },
  {
   "cell_type": "code",
   "execution_count": 10,
   "id": "ea1c4d80",
   "metadata": {},
   "outputs": [
    {
     "name": "stdout",
     "output_type": "stream",
     "text": [
      "True\n",
      "Label\n",
      "0    250\n",
      "1    250\n",
      "Name: count, dtype: int64\n"
     ]
    }
   ],
   "source": [
    "df_annotation_sample_verified = pd.read_csv(BASE_DIR / \"data/annotation_sample_verified.csv\", encoding='utf-8')\n",
    "\n",
    "df_annotation_sample = pd.read_csv(BASE_DIR / \"data/02_annotation_sample.csv\", encoding='utf-8')\n",
    "\n",
    "print(df_annotation_sample_verified.iloc[:, :2].equals(df_annotation_sample.iloc[:, :2])) # True\n",
    "print(df_annotation_sample_verified[\"Label\"].value_counts()) # Balance check\n"
   ]
  },
  {
   "cell_type": "markdown",
   "id": "4827890a",
   "metadata": {},
   "source": [
    "---\n",
    "\n",
    "## 2.7. Merge Annotations with Full Metadata\n",
    "\n",
    "Once the labels have been manually verified, we merge the annotated sample (`df_annotation_sample_verified`) with the original metadata (`df_clean`) using the common key `fioriId`.\n",
    "\n",
    "This results in a unified dataset (`df_annotated_full`) that includes both the human-verified labels and all original descriptive fields, ready for downstream feature engineering.\n",
    "\n",
    "We ensure that:\n",
    "- All 500 annotated apps are retained (left join).\n",
    "- No metadata is lost or altered during the merge.\n"
   ]
  },
  {
   "cell_type": "code",
   "execution_count": 11,
   "id": "5a273012",
   "metadata": {},
   "outputs": [],
   "source": [
    "# Merge verified labels with full app metadata on fioriId\n",
    "df_annotated_full = df_annotation_sample_verified.set_index(\"fioriId\").join(\n",
    "    df_clean.set_index(\"fioriId\"),\n",
    "    how=\"left\",\n",
    "    lsuffix=\"_label\"  # to preserve original 'Label' column name\n",
    ").reset_index()\n",
    "\n",
    "df_annotated_full.to_csv(BASE_DIR / \"data/02_df_annotated_full.csv\", index=False, encoding='utf-8')\n"
   ]
  },
  {
   "cell_type": "code",
   "execution_count": 12,
   "id": "299a9f01",
   "metadata": {},
   "outputs": [
    {
     "data": {
      "application/vnd.microsoft.datawrangler.viewer.v0+json": {
       "columns": [
        {
         "name": "index",
         "rawType": "int64",
         "type": "integer"
        },
        {
         "name": "fioriId",
         "rawType": "object",
         "type": "string"
        },
        {
         "name": "all_text_label",
         "rawType": "object",
         "type": "string"
        },
        {
         "name": "pre_label",
         "rawType": "int64",
         "type": "integer"
        },
        {
         "name": "Label",
         "rawType": "int64",
         "type": "integer"
        },
        {
         "name": "AppKeyFeatures",
         "rawType": "object",
         "type": "string"
        },
        {
         "name": "AppName",
         "rawType": "object",
         "type": "string"
        },
        {
         "name": "AppType",
         "rawType": "object",
         "type": "string"
        },
        {
         "name": "ApplicationComponentText",
         "rawType": "object",
         "type": "string"
        },
        {
         "name": "BusinessRoleDescription",
         "rawType": "object",
         "type": "string"
        },
        {
         "name": "CombinedTitle",
         "rawType": "object",
         "type": "string"
        },
        {
         "name": "GTMAppDescription",
         "rawType": "object",
         "type": "string"
        },
        {
         "name": "GTMAppName",
         "rawType": "object",
         "type": "string"
        },
        {
         "name": "GTMInnovationName",
         "rawType": "object",
         "type": "string"
        },
        {
         "name": "GTMLoBName",
         "rawType": "object",
         "type": "string"
        },
        {
         "name": "Information",
         "rawType": "object",
         "type": "string"
        },
        {
         "name": "LeadingIndustry",
         "rawType": "object",
         "type": "string"
        },
        {
         "name": "PFDBIndustry",
         "rawType": "object",
         "type": "string"
        },
        {
         "name": "RoleCombinedToolTipDescription",
         "rawType": "object",
         "type": "string"
        },
        {
         "name": "SolutionsCapability",
         "rawType": "object",
         "type": "string"
        },
        {
         "name": "Subtitle",
         "rawType": "object",
         "type": "string"
        },
        {
         "name": "Title",
         "rawType": "object",
         "type": "string"
        },
        {
         "name": "all_text",
         "rawType": "object",
         "type": "string"
        }
       ],
       "ref": "e0a78443-ea90-461d-af1c-ddfc4d50e2e3",
       "rows": [
        [
         "0",
         "F4152",
         "Plan Repairs Call up a worklist of all repair objects to individually plan their diagnosis or repair (statuses Plan: Diagnosis or Plan: Repair). You can filter, sort, and group a list of repair objects to be planned. You can also filter for repair objects to be planned by a specific employee responsible or by the credit status that has been determined in the repair order. Display the details of the repair objects that are currently in planning. You can access the related product and equipment data to check its details.​ Create a returns order to trigger the logistics process for repair objects that customers send for repair. In this case, you can create an outbound delivery to send the repair object back to the customer. Access the repair order to enter the planning details. Use the worklist to trigger actions (for example, create returns order) for multiple repair objects in the same in-house repair simultaneously or for each repair object individually. You can use this app to schedule the diagnosis and the repair of the objects, and assign the service employee. Customer Service Manager - In-House Repair : Manages In-House Repair service processes, including repair planning, monitoring, process optimization and personnel management. Customer Service Representative - In-House Repair : Is responsible for coordinating In-House Repairs and ensuring their correct commercial processing. Manages received devices, quotations, repair orders and billing. S4CRM: In-House Repair Customer Service Representative - In-House Repair| Customer Service Manager - In-House Repair Plan Repairs",
         "0",
         "0",
         "Call up a worklist of all repair objects to individually plan their diagnosis or repair (statuses Plan: Diagnosis or Plan: Repair). You can filter, sort, and group a list of repair objects to be planned. You can also filter for repair objects to be planned by a specific employee responsible or by the credit status that has been determined in the repair order. Display the details of the repair objects that are currently in planning. You can access the related product and equipment data to check its details.​ Create a returns order to trigger the logistics process for repair objects that customers send for repair. In this case, you can create an outbound delivery to send the repair object back to the customer. Access the repair order to enter the planning details. Use the worklist to trigger actions (for example, create returns order) for multiple repair objects in the same in-house repair simultaneously or for each repair object individually.",
         "Plan Repairs",
         "Transactional",
         "S4CRM: In-House Repair",
         "Customer Service Representative - In-House Repair| Customer Service Manager - In-House Repair",
         "Plan Repairs",
         "You can use this app to schedule the diagnosis and the repair of the objects, and assign the service employee.",
         "Plan Repairs (SAP S/4HANA OP)",
         "Optimized service delivery through streamlined in-house repair processes",
         "Constituent Omnichannel Services, Customer, Installation and Service, Managed Services, Marketing, Sales, Sales and Marketing, Service",
         "",
         "Cross Industry",
         "Aerospace and Defense; Automotive; Chemicals; Consumer Products; Cross Industry; Higher Education and Research; Industrial Manufacturing; Insurance; Life Sciences; Mill Products; OEM (High Tech); Oil, Gas, and Energy; Professional Services; Public Sector; Retail; Semiconductor (High Tech); Software Providers (High Tech); Sports and Entertainment; Telecommunications; Transportation and Logistics (Travel and Transportation); Travel and Leisure (Travel and Transportation); Utilities; Wholesale Distribution; obsolete - Entertainment",
         "Customer Service Manager - In-House Repair : Manages In-House Repair service processes, including repair planning, monitoring, process optimization and personnel management. Customer Service Representative - In-House Repair : Is responsible for coordinating In-House Repairs and ensuring their correct commercial processing. Manages received devices, quotations, repair orders and billing.",
         "In-House Repair (S/4)",
         "",
         "Plan Repairs",
         "Plan Repairs Call up a worklist of all repair objects to individually plan their diagnosis or repair (statuses Plan: Diagnosis or Plan: Repair). You can filter, sort, and group a list of repair objects to be planned. You can also filter for repair objects to be planned by a specific employee responsible or by the credit status that has been determined in the repair order. Display the details of the repair objects that are currently in planning. You can access the related product and equipment data to check its details.​ Create a returns order to trigger the logistics process for repair objects that customers send for repair. In this case, you can create an outbound delivery to send the repair object back to the customer. Access the repair order to enter the planning details. Use the worklist to trigger actions (for example, create returns order) for multiple repair objects in the same in-house repair simultaneously or for each repair object individually. You can use this app to schedule the diagnosis and the repair of the objects, and assign the service employee. Customer Service Manager - In-House Repair : Manages In-House Repair service processes, including repair planning, monitoring, process optimization and personnel management. Customer Service Representative - In-House Repair : Is responsible for coordinating In-House Repairs and ensuring their correct commercial processing. Manages received devices, quotations, repair orders and billing. S4CRM: In-House Repair Customer Service Representative - In-House Repair| Customer Service Manager - In-House Repair Plan Repairs"
        ],
        [
         "1",
         "O4D4",
         "Delete Driver This app is a SAP GUI for HTML transaction. These classic transactions are available in the SAP Fiori theme to support a seamless user experience across the SAP Fiori launchpad and to provide a harmonized user experience across on-premise and cloud solutions. The single point of entry for SAP Fiori apps and classic applications in SAP S/4HANA Cloud Private Edition and SAP S/4HANA is the SAP Fiori launchpad. Transportation Scheduler (Oil & Gas) : Schedules movements along the supply chain. Is responsible for multiple terminals and transport systems (marine, rail, truck, pipeline), multiple products (crude, feed stocks, refined products) and stock transfers, purchase orders, and sales orders. Shipping Specialist (Oil & Gas): (is an add-on role to the Shipping Specialist) Processes outbound deliveries. Additionally performs IS-OIL specific Transportation and Distribution (TD) Shipment Processing, Master Data maintenance for shipment, shipment processing and Traders and Schedulers Workbench (TSW) operations. Transportation and Distribution Shipping Specialist (IOG)| Transportation Scheduler (IOG) Delete Driver",
         "1",
         "1",
         "",
         "Delete Driver",
         "SAP GUI",
         "Transportation and Distribution",
         "Shipping Specialist (IOG)| Transportation Scheduler (IOG)",
         "Delete Driver",
         "This app is a SAP GUI for HTML transaction. These classic transactions are available in the SAP Fiori theme to support a seamless user experience across the SAP Fiori launchpad and to provide a harmonized user experience across on-premise and cloud solutions. The single point of entry for SAP Fiori apps and classic applications in SAP S/4HANA Cloud Private Edition and SAP S/4HANA is the SAP Fiori launchpad.",
         "SAP Fiori theme for SAP GUI for HTML (SAP S/4HANA Cloud Private Edition and SAP S/4HANA)",
         "SAP Fiori visual theme for classic applications in SAP S/4HANA Cloud Private Edition and SAP S/4HANA",
         "",
         "",
         "",
         "",
         "Transportation Scheduler (Oil & Gas) : Schedules movements along the supply chain. Is responsible for multiple terminals and transport systems (marine, rail, truck, pipeline), multiple products (crude, feed stocks, refined products) and stock transfers, purchase orders, and sales orders. Shipping Specialist (Oil & Gas): (is an add-on role to the Shipping Specialist) Processes outbound deliveries. Additionally performs IS-OIL specific Transportation and Distribution (TD) Shipment Processing, Master Data maintenance for shipment, shipment processing and Traders and Schedulers Workbench (TSW) operations.",
         "",
         "",
         "Delete Driver",
         "Delete Driver This app is a SAP GUI for HTML transaction. These classic transactions are available in the SAP Fiori theme to support a seamless user experience across the SAP Fiori launchpad and to provide a harmonized user experience across on-premise and cloud solutions. The single point of entry for SAP Fiori apps and classic applications in SAP S/4HANA Cloud Private Edition and SAP S/4HANA is the SAP Fiori launchpad. Transportation Scheduler (Oil & Gas) : Schedules movements along the supply chain. Is responsible for multiple terminals and transport systems (marine, rail, truck, pipeline), multiple products (crude, feed stocks, refined products) and stock transfers, purchase orders, and sales orders. Shipping Specialist (Oil & Gas): (is an add-on role to the Shipping Specialist) Processes outbound deliveries. Additionally performs IS-OIL specific Transportation and Distribution (TD) Shipment Processing, Master Data maintenance for shipment, shipment processing and Traders and Schedulers Workbench (TSW) operations. Transportation and Distribution Shipping Specialist (IOG)| Transportation Scheduler (IOG) Delete Driver"
        ],
        [
         "2",
         "MD09",
         "Display Pegged Requirements For the MRP element selected, you can display: just the pegged requirement(s) on the highest BOM level The system displays the requirements quantity and the input quantity for each requirement. The input quantity is the portion of the MRP element that is required to cover the displayed requirement. The input quantity is displayed in the base unit of measure of the material. the order route ; that means all the requirements and replenishment elements that lie between the pegged requirement and the MRP element If an MRP element contains a quantity that was not caused by a requirement from a higher level, the system displays this quantity separately. Quantities without source arise, if more is produced than is required because of a rounding value for the lot size or a fixed lot size or if procurement proposals have been scheduled manually. You can use the Pegged requirements function to retrace from any BOM level which requirements are the source of which procurement proposals which independent requirements (especially sales orders) are affected if a procurement proposal is cancelled or a date or quantity is changed on a lower level. unknown Material Requirements Planning Display Pegged Requirements",
         "0",
         "0",
         "For the MRP element selected, you can display: just the pegged requirement(s) on the highest BOM level The system displays the requirements quantity and the input quantity for each requirement. The input quantity is the portion of the MRP element that is required to cover the displayed requirement. The input quantity is displayed in the base unit of measure of the material. the order route ; that means all the requirements and replenishment elements that lie between the pegged requirement and the MRP element If an MRP element contains a quantity that was not caused by a requirement from a higher level, the system displays this quantity separately. Quantities without source arise, if more is produced than is required because of a rounding value for the lot size or a fixed lot size or if procurement proposals have been scheduled manually.",
         "Display Pegged Requirements",
         "SAP GUI",
         "Material Requirements Planning",
         "",
         "Display Pegged Requirements",
         "You can use the Pegged requirements function to retrace from any BOM level which requirements are the source of which procurement proposals which independent requirements (especially sales orders) are affected if a procurement proposal is cancelled or a date or quantity is changed on a lower level.",
         "SAP Fiori theme for SAP GUI for HTML (SAP S/4HANA Cloud Private Edition and SAP S/4HANA)",
         "SAP Fiori visual theme for classic applications in SAP S/4HANA Cloud Private Edition and SAP S/4HANA",
         "",
         "",
         "",
         "",
         "unknown",
         "",
         "",
         "Display Pegged Requirements",
         "Display Pegged Requirements For the MRP element selected, you can display: just the pegged requirement(s) on the highest BOM level The system displays the requirements quantity and the input quantity for each requirement. The input quantity is the portion of the MRP element that is required to cover the displayed requirement. The input quantity is displayed in the base unit of measure of the material. the order route ; that means all the requirements and replenishment elements that lie between the pegged requirement and the MRP element If an MRP element contains a quantity that was not caused by a requirement from a higher level, the system displays this quantity separately. Quantities without source arise, if more is produced than is required because of a rounding value for the lot size or a fixed lot size or if procurement proposals have been scheduled manually. You can use the Pegged requirements function to retrace from any BOM level which requirements are the source of which procurement proposals which independent requirements (especially sales orders) are affected if a procurement proposal is cancelled or a date or quantity is changed on a lower level. unknown Material Requirements Planning Display Pegged Requirements"
        ],
        [
         "3",
         "EPREPAY",
         "Manage Amount for Prepayment Meter This app is a SAP GUI for HTML transaction. These classic transactions are available in the SAP Fiori theme to support a seamless user experience across the SAP Fiori launchpad and to provide a harmonized user experience across on-premise and cloud solutions. The single point of entry for SAP Fiori apps and classic applications in SAP S/4HANA Cloud Private Edition and SAP S/4HANA is the SAP Fiori launchpad. unknown Contract Billing Manage Amount for Prepayment Meter",
         "1",
         "1",
         "",
         "Manage Amount for Prepayment Meter",
         "SAP GUI",
         "Contract Billing",
         "",
         "Manage Amount for Prepayment Meter",
         "This app is a SAP GUI for HTML transaction. These classic transactions are available in the SAP Fiori theme to support a seamless user experience across the SAP Fiori launchpad and to provide a harmonized user experience across on-premise and cloud solutions. The single point of entry for SAP Fiori apps and classic applications in SAP S/4HANA Cloud Private Edition and SAP S/4HANA is the SAP Fiori launchpad.",
         "SAP Fiori theme for SAP GUI for HTML (SAP S/4HANA Cloud Private Edition and SAP S/4HANA)",
         "SAP Fiori visual theme for classic applications in SAP S/4HANA Cloud Private Edition and SAP S/4HANA",
         "",
         "",
         "",
         "",
         "unknown",
         "",
         "",
         "Manage Amount for Prepayment Meter",
         "Manage Amount for Prepayment Meter This app is a SAP GUI for HTML transaction. These classic transactions are available in the SAP Fiori theme to support a seamless user experience across the SAP Fiori launchpad and to provide a harmonized user experience across on-premise and cloud solutions. The single point of entry for SAP Fiori apps and classic applications in SAP S/4HANA Cloud Private Edition and SAP S/4HANA is the SAP Fiori launchpad. unknown Contract Billing Manage Amount for Prepayment Meter"
        ],
        [
         "4",
         "IK11",
         "Create Measurement Document This app is a SAP GUI for HTML transaction. These classic transactions are available in the SAP Fiori theme to support a seamless user experience across the SAP Fiori launchpad and to provide a harmonized user experience across on-premise and cloud solutions. The single point of entry for SAP Fiori apps and classic applications in SAP S/4HANA Cloud Private Edition and SAP S/4HANA is the SAP Fiori launchpad. Production Operator - Discrete Manufacturing : Operates the machines or does manual assembly activities on the production line or in a shop floor environment, to produce as per the planned production orders of the shift. Reports Yield, Scrap and Rework, Downtimes, etc. into the system. Maintenance Supervisor : Collects, reviews, and prioritizes all maintenance requests from different sources and ensures that they contain all the relevant information required so that the problems can be solved quickly. Measuring points and counters Maintenance Supervisor| Production Operator - Discrete Manufacturing Create Measurement Document",
         "1",
         "1",
         "",
         "Create Measurement Document",
         "SAP GUI",
         "Measuring points and counters",
         "Maintenance Supervisor| Production Operator - Discrete Manufacturing",
         "Create Measurement Document",
         "This app is a SAP GUI for HTML transaction. These classic transactions are available in the SAP Fiori theme to support a seamless user experience across the SAP Fiori launchpad and to provide a harmonized user experience across on-premise and cloud solutions. The single point of entry for SAP Fiori apps and classic applications in SAP S/4HANA Cloud Private Edition and SAP S/4HANA is the SAP Fiori launchpad.",
         "SAP Fiori theme for SAP GUI for HTML (SAP S/4HANA Cloud Private Edition and SAP S/4HANA)",
         "SAP Fiori visual theme for classic applications in SAP S/4HANA Cloud Private Edition and SAP S/4HANA",
         "",
         "",
         "",
         "",
         "Production Operator - Discrete Manufacturing : Operates the machines or does manual assembly activities on the production line or in a shop floor environment, to produce as per the planned production orders of the shift. Reports Yield, Scrap and Rework, Downtimes, etc. into the system. Maintenance Supervisor : Collects, reviews, and prioritizes all maintenance requests from different sources and ensures that they contain all the relevant information required so that the problems can be solved quickly.",
         "",
         "",
         "Create Measurement Document",
         "Create Measurement Document This app is a SAP GUI for HTML transaction. These classic transactions are available in the SAP Fiori theme to support a seamless user experience across the SAP Fiori launchpad and to provide a harmonized user experience across on-premise and cloud solutions. The single point of entry for SAP Fiori apps and classic applications in SAP S/4HANA Cloud Private Edition and SAP S/4HANA is the SAP Fiori launchpad. Production Operator - Discrete Manufacturing : Operates the machines or does manual assembly activities on the production line or in a shop floor environment, to produce as per the planned production orders of the shift. Reports Yield, Scrap and Rework, Downtimes, etc. into the system. Maintenance Supervisor : Collects, reviews, and prioritizes all maintenance requests from different sources and ensures that they contain all the relevant information required so that the problems can be solved quickly. Measuring points and counters Maintenance Supervisor| Production Operator - Discrete Manufacturing Create Measurement Document"
        ]
       ],
       "shape": {
        "columns": 22,
        "rows": 5
       }
      },
      "text/html": [
       "<div>\n",
       "<style scoped>\n",
       "    .dataframe tbody tr th:only-of-type {\n",
       "        vertical-align: middle;\n",
       "    }\n",
       "\n",
       "    .dataframe tbody tr th {\n",
       "        vertical-align: top;\n",
       "    }\n",
       "\n",
       "    .dataframe thead th {\n",
       "        text-align: right;\n",
       "    }\n",
       "</style>\n",
       "<table border=\"1\" class=\"dataframe\">\n",
       "  <thead>\n",
       "    <tr style=\"text-align: right;\">\n",
       "      <th></th>\n",
       "      <th>fioriId</th>\n",
       "      <th>all_text_label</th>\n",
       "      <th>pre_label</th>\n",
       "      <th>Label</th>\n",
       "      <th>AppKeyFeatures</th>\n",
       "      <th>AppName</th>\n",
       "      <th>AppType</th>\n",
       "      <th>ApplicationComponentText</th>\n",
       "      <th>BusinessRoleDescription</th>\n",
       "      <th>CombinedTitle</th>\n",
       "      <th>...</th>\n",
       "      <th>GTMInnovationName</th>\n",
       "      <th>GTMLoBName</th>\n",
       "      <th>Information</th>\n",
       "      <th>LeadingIndustry</th>\n",
       "      <th>PFDBIndustry</th>\n",
       "      <th>RoleCombinedToolTipDescription</th>\n",
       "      <th>SolutionsCapability</th>\n",
       "      <th>Subtitle</th>\n",
       "      <th>Title</th>\n",
       "      <th>all_text</th>\n",
       "    </tr>\n",
       "  </thead>\n",
       "  <tbody>\n",
       "    <tr>\n",
       "      <th>0</th>\n",
       "      <td>F4152</td>\n",
       "      <td>Plan Repairs Call up a worklist of all repair ...</td>\n",
       "      <td>0</td>\n",
       "      <td>0</td>\n",
       "      <td>Call up a worklist of all repair objects to in...</td>\n",
       "      <td>Plan Repairs</td>\n",
       "      <td>Transactional</td>\n",
       "      <td>S4CRM: In-House Repair</td>\n",
       "      <td>Customer Service Representative - In-House Rep...</td>\n",
       "      <td>Plan Repairs</td>\n",
       "      <td>...</td>\n",
       "      <td>Optimized service delivery through streamlined...</td>\n",
       "      <td>Constituent Omnichannel Services, Customer, In...</td>\n",
       "      <td></td>\n",
       "      <td>Cross Industry</td>\n",
       "      <td>Aerospace and Defense; Automotive; Chemicals; ...</td>\n",
       "      <td>Customer Service Manager - In-House Repair : M...</td>\n",
       "      <td>In-House Repair (S/4)</td>\n",
       "      <td></td>\n",
       "      <td>Plan Repairs</td>\n",
       "      <td>Plan Repairs Call up a worklist of all repair ...</td>\n",
       "    </tr>\n",
       "    <tr>\n",
       "      <th>1</th>\n",
       "      <td>O4D4</td>\n",
       "      <td>Delete Driver This app is a SAP GUI for HTML t...</td>\n",
       "      <td>1</td>\n",
       "      <td>1</td>\n",
       "      <td></td>\n",
       "      <td>Delete Driver</td>\n",
       "      <td>SAP GUI</td>\n",
       "      <td>Transportation and Distribution</td>\n",
       "      <td>Shipping Specialist (IOG)| Transportation Sche...</td>\n",
       "      <td>Delete Driver</td>\n",
       "      <td>...</td>\n",
       "      <td>SAP Fiori visual theme for classic application...</td>\n",
       "      <td></td>\n",
       "      <td></td>\n",
       "      <td></td>\n",
       "      <td></td>\n",
       "      <td>Transportation Scheduler (Oil &amp; Gas) : Schedul...</td>\n",
       "      <td></td>\n",
       "      <td></td>\n",
       "      <td>Delete Driver</td>\n",
       "      <td>Delete Driver This app is a SAP GUI for HTML t...</td>\n",
       "    </tr>\n",
       "    <tr>\n",
       "      <th>2</th>\n",
       "      <td>MD09</td>\n",
       "      <td>Display Pegged Requirements For the MRP elemen...</td>\n",
       "      <td>0</td>\n",
       "      <td>0</td>\n",
       "      <td>For the MRP element selected, you can display:...</td>\n",
       "      <td>Display Pegged Requirements</td>\n",
       "      <td>SAP GUI</td>\n",
       "      <td>Material Requirements Planning</td>\n",
       "      <td></td>\n",
       "      <td>Display Pegged Requirements</td>\n",
       "      <td>...</td>\n",
       "      <td>SAP Fiori visual theme for classic application...</td>\n",
       "      <td></td>\n",
       "      <td></td>\n",
       "      <td></td>\n",
       "      <td></td>\n",
       "      <td>unknown</td>\n",
       "      <td></td>\n",
       "      <td></td>\n",
       "      <td>Display Pegged Requirements</td>\n",
       "      <td>Display Pegged Requirements For the MRP elemen...</td>\n",
       "    </tr>\n",
       "    <tr>\n",
       "      <th>3</th>\n",
       "      <td>EPREPAY</td>\n",
       "      <td>Manage Amount for Prepayment Meter This app is...</td>\n",
       "      <td>1</td>\n",
       "      <td>1</td>\n",
       "      <td></td>\n",
       "      <td>Manage Amount for Prepayment Meter</td>\n",
       "      <td>SAP GUI</td>\n",
       "      <td>Contract Billing</td>\n",
       "      <td></td>\n",
       "      <td>Manage Amount for Prepayment Meter</td>\n",
       "      <td>...</td>\n",
       "      <td>SAP Fiori visual theme for classic application...</td>\n",
       "      <td></td>\n",
       "      <td></td>\n",
       "      <td></td>\n",
       "      <td></td>\n",
       "      <td>unknown</td>\n",
       "      <td></td>\n",
       "      <td></td>\n",
       "      <td>Manage Amount for Prepayment Meter</td>\n",
       "      <td>Manage Amount for Prepayment Meter This app is...</td>\n",
       "    </tr>\n",
       "    <tr>\n",
       "      <th>4</th>\n",
       "      <td>IK11</td>\n",
       "      <td>Create Measurement Document This app is a SAP ...</td>\n",
       "      <td>1</td>\n",
       "      <td>1</td>\n",
       "      <td></td>\n",
       "      <td>Create Measurement Document</td>\n",
       "      <td>SAP GUI</td>\n",
       "      <td>Measuring points and counters</td>\n",
       "      <td>Maintenance Supervisor| Production Operator - ...</td>\n",
       "      <td>Create Measurement Document</td>\n",
       "      <td>...</td>\n",
       "      <td>SAP Fiori visual theme for classic application...</td>\n",
       "      <td></td>\n",
       "      <td></td>\n",
       "      <td></td>\n",
       "      <td></td>\n",
       "      <td>Production Operator - Discrete Manufacturing :...</td>\n",
       "      <td></td>\n",
       "      <td></td>\n",
       "      <td>Create Measurement Document</td>\n",
       "      <td>Create Measurement Document This app is a SAP ...</td>\n",
       "    </tr>\n",
       "  </tbody>\n",
       "</table>\n",
       "<p>5 rows × 22 columns</p>\n",
       "</div>"
      ],
      "text/plain": [
       "   fioriId                                     all_text_label  pre_label  \\\n",
       "0    F4152  Plan Repairs Call up a worklist of all repair ...          0   \n",
       "1     O4D4  Delete Driver This app is a SAP GUI for HTML t...          1   \n",
       "2     MD09  Display Pegged Requirements For the MRP elemen...          0   \n",
       "3  EPREPAY  Manage Amount for Prepayment Meter This app is...          1   \n",
       "4     IK11  Create Measurement Document This app is a SAP ...          1   \n",
       "\n",
       "   Label                                     AppKeyFeatures  \\\n",
       "0      0  Call up a worklist of all repair objects to in...   \n",
       "1      1                                                      \n",
       "2      0  For the MRP element selected, you can display:...   \n",
       "3      1                                                      \n",
       "4      1                                                      \n",
       "\n",
       "                              AppName        AppType  \\\n",
       "0                        Plan Repairs  Transactional   \n",
       "1                       Delete Driver        SAP GUI   \n",
       "2         Display Pegged Requirements        SAP GUI   \n",
       "3  Manage Amount for Prepayment Meter        SAP GUI   \n",
       "4         Create Measurement Document        SAP GUI   \n",
       "\n",
       "          ApplicationComponentText  \\\n",
       "0           S4CRM: In-House Repair   \n",
       "1  Transportation and Distribution   \n",
       "2   Material Requirements Planning   \n",
       "3                 Contract Billing   \n",
       "4    Measuring points and counters   \n",
       "\n",
       "                             BusinessRoleDescription  \\\n",
       "0  Customer Service Representative - In-House Rep...   \n",
       "1  Shipping Specialist (IOG)| Transportation Sche...   \n",
       "2                                                      \n",
       "3                                                      \n",
       "4  Maintenance Supervisor| Production Operator - ...   \n",
       "\n",
       "                        CombinedTitle  ...  \\\n",
       "0                        Plan Repairs  ...   \n",
       "1                       Delete Driver  ...   \n",
       "2         Display Pegged Requirements  ...   \n",
       "3  Manage Amount for Prepayment Meter  ...   \n",
       "4         Create Measurement Document  ...   \n",
       "\n",
       "                                   GTMInnovationName  \\\n",
       "0  Optimized service delivery through streamlined...   \n",
       "1  SAP Fiori visual theme for classic application...   \n",
       "2  SAP Fiori visual theme for classic application...   \n",
       "3  SAP Fiori visual theme for classic application...   \n",
       "4  SAP Fiori visual theme for classic application...   \n",
       "\n",
       "                                          GTMLoBName Information  \\\n",
       "0  Constituent Omnichannel Services, Customer, In...               \n",
       "1                                                                  \n",
       "2                                                                  \n",
       "3                                                                  \n",
       "4                                                                  \n",
       "\n",
       "  LeadingIndustry                                       PFDBIndustry  \\\n",
       "0  Cross Industry  Aerospace and Defense; Automotive; Chemicals; ...   \n",
       "1                                                                      \n",
       "2                                                                      \n",
       "3                                                                      \n",
       "4                                                                      \n",
       "\n",
       "                      RoleCombinedToolTipDescription    SolutionsCapability  \\\n",
       "0  Customer Service Manager - In-House Repair : M...  In-House Repair (S/4)   \n",
       "1  Transportation Scheduler (Oil & Gas) : Schedul...                          \n",
       "2                                            unknown                          \n",
       "3                                            unknown                          \n",
       "4  Production Operator - Discrete Manufacturing :...                          \n",
       "\n",
       "  Subtitle                               Title  \\\n",
       "0                                 Plan Repairs   \n",
       "1                                Delete Driver   \n",
       "2                  Display Pegged Requirements   \n",
       "3           Manage Amount for Prepayment Meter   \n",
       "4                  Create Measurement Document   \n",
       "\n",
       "                                            all_text  \n",
       "0  Plan Repairs Call up a worklist of all repair ...  \n",
       "1  Delete Driver This app is a SAP GUI for HTML t...  \n",
       "2  Display Pegged Requirements For the MRP elemen...  \n",
       "3  Manage Amount for Prepayment Meter This app is...  \n",
       "4  Create Measurement Document This app is a SAP ...  \n",
       "\n",
       "[5 rows x 22 columns]"
      ]
     },
     "execution_count": 12,
     "metadata": {},
     "output_type": "execute_result"
    }
   ],
   "source": [
    "df_annotated_full.head()"
   ]
  },
  {
   "cell_type": "markdown",
   "id": "c7931661",
   "metadata": {},
   "source": [
    "\n",
    "\n",
    "This exported dataframe serves as the foundation for feature engineering in the next notebook: [**3. Feature Engineering**](https://github.com/alikhalajii/text-classification-life-sciences/blob/master/notebooks/03-feature-engineering.ipynb)."
   ]
  }
 ],
 "metadata": {
  "kernelspec": {
   "display_name": ".venv_lf",
   "language": "python",
   "name": "python3"
  },
  "language_info": {
   "codemirror_mode": {
    "name": "ipython",
    "version": 3
   },
   "file_extension": ".py",
   "mimetype": "text/x-python",
   "name": "python",
   "nbconvert_exporter": "python",
   "pygments_lexer": "ipython3",
   "version": "3.12.3"
  }
 },
 "nbformat": 4,
 "nbformat_minor": 5
}
